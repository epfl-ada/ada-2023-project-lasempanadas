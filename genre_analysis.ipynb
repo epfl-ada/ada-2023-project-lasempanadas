{
 "cells": [
  {
   "cell_type": "code",
   "execution_count": 1,
   "metadata": {},
   "outputs": [],
   "source": [
    "import numpy as np\n",
    "import pandas as pd\n",
    "import matplotlib.pyplot as plt\n",
    "import matplotlib.patches as mpatches\n",
    "import seaborn as sns\n",
    "import plotly.graph_objects as go\n",
    "import plotly.express as px\n",
    "\n",
    "from sklearn.neighbors import KNeighborsClassifier\n",
    "from sklearn.model_selection import train_test_split\n",
    "from sklearn.metrics import accuracy_score\n",
    "\n",
    "\n",
    "from scipy import stats\n",
    "from scipy.stats import f_oneway\n",
    "import statsmodels.formula.api as smf\n",
    "import ast\n",
    "from datetime import datetime\n",
    "\n",
    "import dash\n",
    "from dash import dcc, html\n",
    "from dash.dependencies import Input, Output\n",
    "\n",
    "data_path = './data/'\n",
    "cmu_character = pd.read_csv(data_path+'cmu_character.csv')\n",
    "cmu_movies = pd.read_csv(data_path+'cmu_movies.csv')\n",
    "\n",
    "ethnicity_map = pd.read_table(data_path+'ethnicities_data.tsv', sep='\\t', index_col=0).to_dict()['Ethnicities']\n",
    "cmu_character['actor_ethnicity'] = cmu_character['actor_ethnicity'].map(ethnicity_map)\n",
    "ethnicity_map = pd.read_table(data_path+'ethnicity_group_data.tsv', sep='\\t', index_col=0).to_dict()['Ethnic Group']\n",
    "cmu_character['actor_ethnicity'] = cmu_character['actor_ethnicity'].map(ethnicity_map)\n",
    "\n",
    "cmu_movies['genre'] = cmu_movies['genre'].apply(lambda x: eval(x))"
   ]
  },
  {
   "cell_type": "code",
   "execution_count": 2,
   "metadata": {},
   "outputs": [
    {
     "data": {
      "text/html": [
       "<div>\n",
       "<style scoped>\n",
       "    .dataframe tbody tr th:only-of-type {\n",
       "        vertical-align: middle;\n",
       "    }\n",
       "\n",
       "    .dataframe tbody tr th {\n",
       "        vertical-align: top;\n",
       "    }\n",
       "\n",
       "    .dataframe thead th {\n",
       "        text-align: right;\n",
       "    }\n",
       "</style>\n",
       "<table border=\"1\" class=\"dataframe\">\n",
       "  <thead>\n",
       "    <tr style=\"text-align: right;\">\n",
       "      <th></th>\n",
       "      <th>wikiID</th>\n",
       "      <th>freebase_movID</th>\n",
       "      <th>movie_name</th>\n",
       "      <th>release_date</th>\n",
       "      <th>boxoffice</th>\n",
       "      <th>runtime</th>\n",
       "      <th>language</th>\n",
       "      <th>country</th>\n",
       "      <th>genre</th>\n",
       "      <th>tconst</th>\n",
       "      <th>averageRating</th>\n",
       "      <th>numVotes</th>\n",
       "    </tr>\n",
       "  </thead>\n",
       "  <tbody>\n",
       "    <tr>\n",
       "      <th>0</th>\n",
       "      <td>975900</td>\n",
       "      <td>/m/03vyhn</td>\n",
       "      <td>ghosts of mars</td>\n",
       "      <td>2001-08-24</td>\n",
       "      <td>14010832.0</td>\n",
       "      <td>98.0</td>\n",
       "      <td>['English Language']</td>\n",
       "      <td>['United States of America']</td>\n",
       "      <td>[Thriller, Science Fiction, Horror, Adventure,...</td>\n",
       "      <td>tt0228333</td>\n",
       "      <td>4.9</td>\n",
       "      <td>56928</td>\n",
       "    </tr>\n",
       "    <tr>\n",
       "      <th>1</th>\n",
       "      <td>28463795</td>\n",
       "      <td>/m/0crgdbh</td>\n",
       "      <td>brun bitter</td>\n",
       "      <td>1988-01-01</td>\n",
       "      <td>NaN</td>\n",
       "      <td>83.0</td>\n",
       "      <td>['Norwegian Language']</td>\n",
       "      <td>['Norway']</td>\n",
       "      <td>[Crime Fiction, Drama]</td>\n",
       "      <td>tt0094806</td>\n",
       "      <td>5.6</td>\n",
       "      <td>41</td>\n",
       "    </tr>\n",
       "    <tr>\n",
       "      <th>2</th>\n",
       "      <td>9363483</td>\n",
       "      <td>/m/0285_cd</td>\n",
       "      <td>white of the eye</td>\n",
       "      <td>1987-01-01</td>\n",
       "      <td>NaN</td>\n",
       "      <td>110.0</td>\n",
       "      <td>['English Language']</td>\n",
       "      <td>['United Kingdom']</td>\n",
       "      <td>[Thriller, Erotic thriller, Psychological thri...</td>\n",
       "      <td>tt0094320</td>\n",
       "      <td>6.1</td>\n",
       "      <td>2895</td>\n",
       "    </tr>\n",
       "    <tr>\n",
       "      <th>3</th>\n",
       "      <td>261236</td>\n",
       "      <td>/m/01mrr1</td>\n",
       "      <td>a woman in flames</td>\n",
       "      <td>1983-01-01</td>\n",
       "      <td>NaN</td>\n",
       "      <td>106.0</td>\n",
       "      <td>['German Language']</td>\n",
       "      <td>['Germany']</td>\n",
       "      <td>[Drama]</td>\n",
       "      <td>tt0083949</td>\n",
       "      <td>5.9</td>\n",
       "      <td>623</td>\n",
       "    </tr>\n",
       "    <tr>\n",
       "      <th>4</th>\n",
       "      <td>10408933</td>\n",
       "      <td>/m/02qc0j7</td>\n",
       "      <td>alexander's ragtime band</td>\n",
       "      <td>1938-08-16</td>\n",
       "      <td>3600000.0</td>\n",
       "      <td>106.0</td>\n",
       "      <td>['English Language']</td>\n",
       "      <td>['United States of America']</td>\n",
       "      <td>[Musical, Comedy, Black-and-white]</td>\n",
       "      <td>tt0029852</td>\n",
       "      <td>6.8</td>\n",
       "      <td>2268</td>\n",
       "    </tr>\n",
       "    <tr>\n",
       "      <th>...</th>\n",
       "      <td>...</td>\n",
       "      <td>...</td>\n",
       "      <td>...</td>\n",
       "      <td>...</td>\n",
       "      <td>...</td>\n",
       "      <td>...</td>\n",
       "      <td>...</td>\n",
       "      <td>...</td>\n",
       "      <td>...</td>\n",
       "      <td>...</td>\n",
       "      <td>...</td>\n",
       "      <td>...</td>\n",
       "    </tr>\n",
       "    <tr>\n",
       "      <th>49468</th>\n",
       "      <td>15394941</td>\n",
       "      <td>/m/03m6zh4</td>\n",
       "      <td>gopi kishan</td>\n",
       "      <td>1994-12-02</td>\n",
       "      <td>NaN</td>\n",
       "      <td>NaN</td>\n",
       "      <td>['Hindi Language']</td>\n",
       "      <td>['India']</td>\n",
       "      <td>[Drama, Action, Crime, Comedy]</td>\n",
       "      <td>tt0109922</td>\n",
       "      <td>5.8</td>\n",
       "      <td>964</td>\n",
       "    </tr>\n",
       "    <tr>\n",
       "      <th>49469</th>\n",
       "      <td>23851782</td>\n",
       "      <td>/m/06_vb43</td>\n",
       "      <td>the ghost train</td>\n",
       "      <td>1941-05-03</td>\n",
       "      <td>NaN</td>\n",
       "      <td>82.0</td>\n",
       "      <td>['English Language']</td>\n",
       "      <td>['United Kingdom']</td>\n",
       "      <td>[Crime Fiction, Thriller, Comedy, Supernatural]</td>\n",
       "      <td>tt0033660</td>\n",
       "      <td>6.2</td>\n",
       "      <td>1582</td>\n",
       "    </tr>\n",
       "    <tr>\n",
       "      <th>49470</th>\n",
       "      <td>35228177</td>\n",
       "      <td>/m/0j7hxnt</td>\n",
       "      <td>mermaids: the body found</td>\n",
       "      <td>2011-03-19</td>\n",
       "      <td>NaN</td>\n",
       "      <td>120.0</td>\n",
       "      <td>['English Language']</td>\n",
       "      <td>['United States of America']</td>\n",
       "      <td>[Drama]</td>\n",
       "      <td>tt1816585</td>\n",
       "      <td>4.6</td>\n",
       "      <td>1711</td>\n",
       "    </tr>\n",
       "    <tr>\n",
       "      <th>49471</th>\n",
       "      <td>34980460</td>\n",
       "      <td>/m/0g4pl34</td>\n",
       "      <td>knuckle</td>\n",
       "      <td>2011-01-21</td>\n",
       "      <td>NaN</td>\n",
       "      <td>96.0</td>\n",
       "      <td>['English Language']</td>\n",
       "      <td>['Ireland', 'United Kingdom']</td>\n",
       "      <td>[Biographical film, Drama, Documentary]</td>\n",
       "      <td>tt1606259</td>\n",
       "      <td>6.8</td>\n",
       "      <td>3194</td>\n",
       "    </tr>\n",
       "    <tr>\n",
       "      <th>49472</th>\n",
       "      <td>9971909</td>\n",
       "      <td>/m/02pygw1</td>\n",
       "      <td>another nice mess</td>\n",
       "      <td>1972-09-22</td>\n",
       "      <td>NaN</td>\n",
       "      <td>66.0</td>\n",
       "      <td>['English Language']</td>\n",
       "      <td>['United States of America']</td>\n",
       "      <td>[Satire, Comedy]</td>\n",
       "      <td>tt0362411</td>\n",
       "      <td>5.8</td>\n",
       "      <td>112</td>\n",
       "    </tr>\n",
       "  </tbody>\n",
       "</table>\n",
       "<p>49473 rows × 12 columns</p>\n",
       "</div>"
      ],
      "text/plain": [
       "         wikiID freebase_movID                movie_name release_date  \\\n",
       "0        975900      /m/03vyhn            ghosts of mars   2001-08-24   \n",
       "1      28463795     /m/0crgdbh               brun bitter   1988-01-01   \n",
       "2       9363483     /m/0285_cd          white of the eye   1987-01-01   \n",
       "3        261236      /m/01mrr1         a woman in flames   1983-01-01   \n",
       "4      10408933     /m/02qc0j7  alexander's ragtime band   1938-08-16   \n",
       "...         ...            ...                       ...          ...   \n",
       "49468  15394941     /m/03m6zh4               gopi kishan   1994-12-02   \n",
       "49469  23851782     /m/06_vb43           the ghost train   1941-05-03   \n",
       "49470  35228177     /m/0j7hxnt  mermaids: the body found   2011-03-19   \n",
       "49471  34980460     /m/0g4pl34                   knuckle   2011-01-21   \n",
       "49472   9971909     /m/02pygw1         another nice mess   1972-09-22   \n",
       "\n",
       "        boxoffice  runtime                language  \\\n",
       "0      14010832.0     98.0    ['English Language']   \n",
       "1             NaN     83.0  ['Norwegian Language']   \n",
       "2             NaN    110.0    ['English Language']   \n",
       "3             NaN    106.0     ['German Language']   \n",
       "4       3600000.0    106.0    ['English Language']   \n",
       "...           ...      ...                     ...   \n",
       "49468         NaN      NaN      ['Hindi Language']   \n",
       "49469         NaN     82.0    ['English Language']   \n",
       "49470         NaN    120.0    ['English Language']   \n",
       "49471         NaN     96.0    ['English Language']   \n",
       "49472         NaN     66.0    ['English Language']   \n",
       "\n",
       "                             country  \\\n",
       "0       ['United States of America']   \n",
       "1                         ['Norway']   \n",
       "2                 ['United Kingdom']   \n",
       "3                        ['Germany']   \n",
       "4       ['United States of America']   \n",
       "...                              ...   \n",
       "49468                      ['India']   \n",
       "49469             ['United Kingdom']   \n",
       "49470   ['United States of America']   \n",
       "49471  ['Ireland', 'United Kingdom']   \n",
       "49472   ['United States of America']   \n",
       "\n",
       "                                                   genre     tconst  \\\n",
       "0      [Thriller, Science Fiction, Horror, Adventure,...  tt0228333   \n",
       "1                                 [Crime Fiction, Drama]  tt0094806   \n",
       "2      [Thriller, Erotic thriller, Psychological thri...  tt0094320   \n",
       "3                                                [Drama]  tt0083949   \n",
       "4                     [Musical, Comedy, Black-and-white]  tt0029852   \n",
       "...                                                  ...        ...   \n",
       "49468                     [Drama, Action, Crime, Comedy]  tt0109922   \n",
       "49469    [Crime Fiction, Thriller, Comedy, Supernatural]  tt0033660   \n",
       "49470                                            [Drama]  tt1816585   \n",
       "49471            [Biographical film, Drama, Documentary]  tt1606259   \n",
       "49472                                   [Satire, Comedy]  tt0362411   \n",
       "\n",
       "       averageRating  numVotes  \n",
       "0                4.9     56928  \n",
       "1                5.6        41  \n",
       "2                6.1      2895  \n",
       "3                5.9       623  \n",
       "4                6.8      2268  \n",
       "...              ...       ...  \n",
       "49468            5.8       964  \n",
       "49469            6.2      1582  \n",
       "49470            4.6      1711  \n",
       "49471            6.8      3194  \n",
       "49472            5.8       112  \n",
       "\n",
       "[49473 rows x 12 columns]"
      ]
     },
     "execution_count": 2,
     "metadata": {},
     "output_type": "execute_result"
    }
   ],
   "source": [
    "cmu_movies"
   ]
  },
  {
   "cell_type": "code",
   "execution_count": 3,
   "metadata": {},
   "outputs": [
    {
     "data": {
      "text/html": [
       "<div>\n",
       "<style scoped>\n",
       "    .dataframe tbody tr th:only-of-type {\n",
       "        vertical-align: middle;\n",
       "    }\n",
       "\n",
       "    .dataframe tbody tr th {\n",
       "        vertical-align: top;\n",
       "    }\n",
       "\n",
       "    .dataframe thead th {\n",
       "        text-align: right;\n",
       "    }\n",
       "</style>\n",
       "<table border=\"1\" class=\"dataframe\">\n",
       "  <thead>\n",
       "    <tr style=\"text-align: right;\">\n",
       "      <th></th>\n",
       "      <th>wikiID</th>\n",
       "      <th>freebase_movID</th>\n",
       "      <th>character_name</th>\n",
       "      <th>actor_birth</th>\n",
       "      <th>actor_gender</th>\n",
       "      <th>actor_height</th>\n",
       "      <th>actor_ethnicity</th>\n",
       "      <th>actor_name</th>\n",
       "      <th>actor_age_at_release</th>\n",
       "      <th>freebase_char_actor_map</th>\n",
       "      <th>freebase_charID</th>\n",
       "      <th>freebase_actorID</th>\n",
       "      <th>release_date</th>\n",
       "      <th>is_principal</th>\n",
       "      <th>persona</th>\n",
       "      <th>fameScore_before</th>\n",
       "      <th>fameScore</th>\n",
       "      <th>fameScore_diff</th>\n",
       "    </tr>\n",
       "  </thead>\n",
       "  <tbody>\n",
       "    <tr>\n",
       "      <th>0</th>\n",
       "      <td>975900</td>\n",
       "      <td>/m/03vyhn</td>\n",
       "      <td>Akooshay</td>\n",
       "      <td>1958-08-26</td>\n",
       "      <td>F</td>\n",
       "      <td>1.620</td>\n",
       "      <td>NaN</td>\n",
       "      <td>Wanda De Jesus</td>\n",
       "      <td>42.0</td>\n",
       "      <td>/m/0bgchxw</td>\n",
       "      <td>/m/0bgcj3x</td>\n",
       "      <td>/m/03wcfv7</td>\n",
       "      <td>2001-08-24</td>\n",
       "      <td>0.0</td>\n",
       "      <td>NaN</td>\n",
       "      <td>6.372449</td>\n",
       "      <td>8.106199</td>\n",
       "      <td>1.733750</td>\n",
       "    </tr>\n",
       "    <tr>\n",
       "      <th>1</th>\n",
       "      <td>975900</td>\n",
       "      <td>/m/03vyhn</td>\n",
       "      <td>Lieutenant Melanie Ballard</td>\n",
       "      <td>1974-08-15</td>\n",
       "      <td>F</td>\n",
       "      <td>1.780</td>\n",
       "      <td>NaN</td>\n",
       "      <td>Natasha Henstridge</td>\n",
       "      <td>27.0</td>\n",
       "      <td>/m/0jys3m</td>\n",
       "      <td>/m/0bgchn4</td>\n",
       "      <td>/m/0346l4</td>\n",
       "      <td>2001-08-24</td>\n",
       "      <td>0.0</td>\n",
       "      <td>35.0</td>\n",
       "      <td>8.160665</td>\n",
       "      <td>8.539092</td>\n",
       "      <td>0.378426</td>\n",
       "    </tr>\n",
       "    <tr>\n",
       "      <th>2</th>\n",
       "      <td>975900</td>\n",
       "      <td>/m/03vyhn</td>\n",
       "      <td>Desolation Williams</td>\n",
       "      <td>1969-06-15</td>\n",
       "      <td>M</td>\n",
       "      <td>1.727</td>\n",
       "      <td>NaN</td>\n",
       "      <td>Ice Cube</td>\n",
       "      <td>32.0</td>\n",
       "      <td>/m/0jys3g</td>\n",
       "      <td>/m/0bgchn_</td>\n",
       "      <td>/m/01vw26l</td>\n",
       "      <td>2001-08-24</td>\n",
       "      <td>1.0</td>\n",
       "      <td>NaN</td>\n",
       "      <td>12.718112</td>\n",
       "      <td>12.823112</td>\n",
       "      <td>0.105000</td>\n",
       "    </tr>\n",
       "    <tr>\n",
       "      <th>3</th>\n",
       "      <td>975900</td>\n",
       "      <td>/m/03vyhn</td>\n",
       "      <td>Sgt Jericho Butler</td>\n",
       "      <td>1967-09-12</td>\n",
       "      <td>M</td>\n",
       "      <td>1.750</td>\n",
       "      <td>NaN</td>\n",
       "      <td>Jason Statham</td>\n",
       "      <td>33.0</td>\n",
       "      <td>/m/02vchl6</td>\n",
       "      <td>/m/0bgchnq</td>\n",
       "      <td>/m/034hyc</td>\n",
       "      <td>2001-08-24</td>\n",
       "      <td>1.0</td>\n",
       "      <td>NaN</td>\n",
       "      <td>52.188147</td>\n",
       "      <td>42.608382</td>\n",
       "      <td>-9.579765</td>\n",
       "    </tr>\n",
       "    <tr>\n",
       "      <th>4</th>\n",
       "      <td>975900</td>\n",
       "      <td>/m/03vyhn</td>\n",
       "      <td>Bashira Kincaid</td>\n",
       "      <td>1977-09-25</td>\n",
       "      <td>F</td>\n",
       "      <td>1.650</td>\n",
       "      <td>NaN</td>\n",
       "      <td>Clea DuVall</td>\n",
       "      <td>23.0</td>\n",
       "      <td>/m/02vbb3r</td>\n",
       "      <td>/m/0bgchp9</td>\n",
       "      <td>/m/01y9xg</td>\n",
       "      <td>2001-08-24</td>\n",
       "      <td>0.0</td>\n",
       "      <td>NaN</td>\n",
       "      <td>11.283701</td>\n",
       "      <td>11.308818</td>\n",
       "      <td>0.025117</td>\n",
       "    </tr>\n",
       "    <tr>\n",
       "      <th>...</th>\n",
       "      <td>...</td>\n",
       "      <td>...</td>\n",
       "      <td>...</td>\n",
       "      <td>...</td>\n",
       "      <td>...</td>\n",
       "      <td>...</td>\n",
       "      <td>...</td>\n",
       "      <td>...</td>\n",
       "      <td>...</td>\n",
       "      <td>...</td>\n",
       "      <td>...</td>\n",
       "      <td>...</td>\n",
       "      <td>...</td>\n",
       "      <td>...</td>\n",
       "      <td>...</td>\n",
       "      <td>...</td>\n",
       "      <td>...</td>\n",
       "      <td>...</td>\n",
       "    </tr>\n",
       "    <tr>\n",
       "      <th>331131</th>\n",
       "      <td>9971909</td>\n",
       "      <td>/m/02pygw1</td>\n",
       "      <td>NaN</td>\n",
       "      <td>1938-11-26</td>\n",
       "      <td>M</td>\n",
       "      <td>NaN</td>\n",
       "      <td>NaN</td>\n",
       "      <td>Rich Little</td>\n",
       "      <td>33.0</td>\n",
       "      <td>/m/02vbk4r</td>\n",
       "      <td>NaN</td>\n",
       "      <td>/m/03m6t5</td>\n",
       "      <td>1972-09-22</td>\n",
       "      <td>1.0</td>\n",
       "      <td>NaN</td>\n",
       "      <td>1.347431</td>\n",
       "      <td>1.239172</td>\n",
       "      <td>-0.108259</td>\n",
       "    </tr>\n",
       "    <tr>\n",
       "      <th>331132</th>\n",
       "      <td>9971909</td>\n",
       "      <td>/m/02pygw1</td>\n",
       "      <td>NaN</td>\n",
       "      <td>1918-10-02</td>\n",
       "      <td>M</td>\n",
       "      <td>NaN</td>\n",
       "      <td>NaN</td>\n",
       "      <td>Herb Voland</td>\n",
       "      <td>53.0</td>\n",
       "      <td>/m/0ggdv2_</td>\n",
       "      <td>NaN</td>\n",
       "      <td>/m/02qylb9</td>\n",
       "      <td>1972-09-22</td>\n",
       "      <td>1.0</td>\n",
       "      <td>NaN</td>\n",
       "      <td>4.172349</td>\n",
       "      <td>2.597401</td>\n",
       "      <td>-1.574948</td>\n",
       "    </tr>\n",
       "    <tr>\n",
       "      <th>331133</th>\n",
       "      <td>28308153</td>\n",
       "      <td>/m/0cp05t9</td>\n",
       "      <td>NaN</td>\n",
       "      <td>1941-11-18</td>\n",
       "      <td>M</td>\n",
       "      <td>1.730</td>\n",
       "      <td>NaN</td>\n",
       "      <td>David Hemmings</td>\n",
       "      <td>15.0</td>\n",
       "      <td>/m/0g8ngmc</td>\n",
       "      <td>NaN</td>\n",
       "      <td>/m/022g44</td>\n",
       "      <td>1957-01-01</td>\n",
       "      <td>1.0</td>\n",
       "      <td>NaN</td>\n",
       "      <td>0.000000</td>\n",
       "      <td>0.802080</td>\n",
       "      <td>0.802080</td>\n",
       "    </tr>\n",
       "    <tr>\n",
       "      <th>331134</th>\n",
       "      <td>28308153</td>\n",
       "      <td>/m/0cp05t9</td>\n",
       "      <td>NaN</td>\n",
       "      <td>NaN</td>\n",
       "      <td>NaN</td>\n",
       "      <td>NaN</td>\n",
       "      <td>NaN</td>\n",
       "      <td>Roberta Paterson</td>\n",
       "      <td>NaN</td>\n",
       "      <td>/m/0g8ngmj</td>\n",
       "      <td>NaN</td>\n",
       "      <td>/m/0g8ngmm</td>\n",
       "      <td>1957-01-01</td>\n",
       "      <td>0.0</td>\n",
       "      <td>NaN</td>\n",
       "      <td>0.000000</td>\n",
       "      <td>0.668400</td>\n",
       "      <td>0.668400</td>\n",
       "    </tr>\n",
       "    <tr>\n",
       "      <th>331135</th>\n",
       "      <td>28308153</td>\n",
       "      <td>/m/0cp05t9</td>\n",
       "      <td>NaN</td>\n",
       "      <td>NaN</td>\n",
       "      <td>NaN</td>\n",
       "      <td>NaN</td>\n",
       "      <td>NaN</td>\n",
       "      <td>John Rogers</td>\n",
       "      <td>NaN</td>\n",
       "      <td>/m/0g8ngmw</td>\n",
       "      <td>NaN</td>\n",
       "      <td>/m/0btz19d</td>\n",
       "      <td>1957-01-01</td>\n",
       "      <td>1.0</td>\n",
       "      <td>NaN</td>\n",
       "      <td>2.695971</td>\n",
       "      <td>1.748841</td>\n",
       "      <td>-0.947130</td>\n",
       "    </tr>\n",
       "  </tbody>\n",
       "</table>\n",
       "<p>331136 rows × 18 columns</p>\n",
       "</div>"
      ],
      "text/plain": [
       "          wikiID freebase_movID              character_name actor_birth  \\\n",
       "0         975900      /m/03vyhn                    Akooshay  1958-08-26   \n",
       "1         975900      /m/03vyhn  Lieutenant Melanie Ballard  1974-08-15   \n",
       "2         975900      /m/03vyhn         Desolation Williams  1969-06-15   \n",
       "3         975900      /m/03vyhn          Sgt Jericho Butler  1967-09-12   \n",
       "4         975900      /m/03vyhn             Bashira Kincaid  1977-09-25   \n",
       "...          ...            ...                         ...         ...   \n",
       "331131   9971909     /m/02pygw1                         NaN  1938-11-26   \n",
       "331132   9971909     /m/02pygw1                         NaN  1918-10-02   \n",
       "331133  28308153     /m/0cp05t9                         NaN  1941-11-18   \n",
       "331134  28308153     /m/0cp05t9                         NaN         NaN   \n",
       "331135  28308153     /m/0cp05t9                         NaN         NaN   \n",
       "\n",
       "       actor_gender  actor_height actor_ethnicity          actor_name  \\\n",
       "0                 F         1.620             NaN      Wanda De Jesus   \n",
       "1                 F         1.780             NaN  Natasha Henstridge   \n",
       "2                 M         1.727             NaN            Ice Cube   \n",
       "3                 M         1.750             NaN       Jason Statham   \n",
       "4                 F         1.650             NaN         Clea DuVall   \n",
       "...             ...           ...             ...                 ...   \n",
       "331131            M           NaN             NaN         Rich Little   \n",
       "331132            M           NaN             NaN         Herb Voland   \n",
       "331133            M         1.730             NaN      David Hemmings   \n",
       "331134          NaN           NaN             NaN    Roberta Paterson   \n",
       "331135          NaN           NaN             NaN         John Rogers   \n",
       "\n",
       "        actor_age_at_release freebase_char_actor_map freebase_charID  \\\n",
       "0                       42.0              /m/0bgchxw      /m/0bgcj3x   \n",
       "1                       27.0               /m/0jys3m      /m/0bgchn4   \n",
       "2                       32.0               /m/0jys3g      /m/0bgchn_   \n",
       "3                       33.0              /m/02vchl6      /m/0bgchnq   \n",
       "4                       23.0              /m/02vbb3r      /m/0bgchp9   \n",
       "...                      ...                     ...             ...   \n",
       "331131                  33.0              /m/02vbk4r             NaN   \n",
       "331132                  53.0              /m/0ggdv2_             NaN   \n",
       "331133                  15.0              /m/0g8ngmc             NaN   \n",
       "331134                   NaN              /m/0g8ngmj             NaN   \n",
       "331135                   NaN              /m/0g8ngmw             NaN   \n",
       "\n",
       "       freebase_actorID release_date  is_principal  persona  fameScore_before  \\\n",
       "0            /m/03wcfv7   2001-08-24           0.0      NaN          6.372449   \n",
       "1             /m/0346l4   2001-08-24           0.0     35.0          8.160665   \n",
       "2            /m/01vw26l   2001-08-24           1.0      NaN         12.718112   \n",
       "3             /m/034hyc   2001-08-24           1.0      NaN         52.188147   \n",
       "4             /m/01y9xg   2001-08-24           0.0      NaN         11.283701   \n",
       "...                 ...          ...           ...      ...               ...   \n",
       "331131        /m/03m6t5   1972-09-22           1.0      NaN          1.347431   \n",
       "331132       /m/02qylb9   1972-09-22           1.0      NaN          4.172349   \n",
       "331133        /m/022g44   1957-01-01           1.0      NaN          0.000000   \n",
       "331134       /m/0g8ngmm   1957-01-01           0.0      NaN          0.000000   \n",
       "331135       /m/0btz19d   1957-01-01           1.0      NaN          2.695971   \n",
       "\n",
       "        fameScore  fameScore_diff  \n",
       "0        8.106199        1.733750  \n",
       "1        8.539092        0.378426  \n",
       "2       12.823112        0.105000  \n",
       "3       42.608382       -9.579765  \n",
       "4       11.308818        0.025117  \n",
       "...           ...             ...  \n",
       "331131   1.239172       -0.108259  \n",
       "331132   2.597401       -1.574948  \n",
       "331133   0.802080        0.802080  \n",
       "331134   0.668400        0.668400  \n",
       "331135   1.748841       -0.947130  \n",
       "\n",
       "[331136 rows x 18 columns]"
      ]
     },
     "execution_count": 3,
     "metadata": {},
     "output_type": "execute_result"
    }
   ],
   "source": [
    "cmu_character"
   ]
  },
  {
   "cell_type": "code",
   "execution_count": 4,
   "metadata": {},
   "outputs": [
    {
     "data": {
      "text/html": [
       "<div>\n",
       "<style scoped>\n",
       "    .dataframe tbody tr th:only-of-type {\n",
       "        vertical-align: middle;\n",
       "    }\n",
       "\n",
       "    .dataframe tbody tr th {\n",
       "        vertical-align: top;\n",
       "    }\n",
       "\n",
       "    .dataframe thead th {\n",
       "        text-align: right;\n",
       "    }\n",
       "</style>\n",
       "<table border=\"1\" class=\"dataframe\">\n",
       "  <thead>\n",
       "    <tr style=\"text-align: right;\">\n",
       "      <th></th>\n",
       "      <th>wikiID</th>\n",
       "      <th>actor_name</th>\n",
       "      <th>freebase_actorID</th>\n",
       "      <th>fameScore</th>\n",
       "      <th>release_date</th>\n",
       "      <th>genre</th>\n",
       "      <th>genre_diversity</th>\n",
       "      <th>movie_diversity</th>\n",
       "    </tr>\n",
       "  </thead>\n",
       "  <tbody>\n",
       "    <tr>\n",
       "      <th>212534</th>\n",
       "      <td>2987094</td>\n",
       "      <td>Xzibit</td>\n",
       "      <td>/m/01vw917</td>\n",
       "      <td>11.338066</td>\n",
       "      <td>2005-11-11</td>\n",
       "      <td>[Thriller, Crime Thriller, Drama]</td>\n",
       "      <td>11</td>\n",
       "      <td>5</td>\n",
       "    </tr>\n",
       "    <tr>\n",
       "      <th>151785</th>\n",
       "      <td>15290178</td>\n",
       "      <td>Jeffrey Combs</td>\n",
       "      <td>/m/02jm9c</td>\n",
       "      <td>3.984757</td>\n",
       "      <td>2007-01-01</td>\n",
       "      <td>[Horror, Slasher]</td>\n",
       "      <td>23</td>\n",
       "      <td>23</td>\n",
       "    </tr>\n",
       "    <tr>\n",
       "      <th>183147</th>\n",
       "      <td>957792</td>\n",
       "      <td>Sean Hayes</td>\n",
       "      <td>/m/033jj1</td>\n",
       "      <td>6.514769</td>\n",
       "      <td>2001-07-04</td>\n",
       "      <td>[Fantasy Comedy, Fantasy Adventure, Adventure]</td>\n",
       "      <td>11</td>\n",
       "      <td>4</td>\n",
       "    </tr>\n",
       "    <tr>\n",
       "      <th>94277</th>\n",
       "      <td>36030580</td>\n",
       "      <td>Jennifer Rubin</td>\n",
       "      <td>/m/08h_q3</td>\n",
       "      <td>4.875663</td>\n",
       "      <td>1994-05-16</td>\n",
       "      <td>[Thriller, Mystery, Drama]</td>\n",
       "      <td>11</td>\n",
       "      <td>7</td>\n",
       "    </tr>\n",
       "    <tr>\n",
       "      <th>212400</th>\n",
       "      <td>1608670</td>\n",
       "      <td>Bill Paxton</td>\n",
       "      <td>/m/01s7zw</td>\n",
       "      <td>13.018426</td>\n",
       "      <td>2001-11-17</td>\n",
       "      <td>[Thriller, Crime Fiction, Horror]</td>\n",
       "      <td>40</td>\n",
       "      <td>39</td>\n",
       "    </tr>\n",
       "  </tbody>\n",
       "</table>\n",
       "</div>"
      ],
      "text/plain": [
       "          wikiID      actor_name freebase_actorID  fameScore release_date  \\\n",
       "212534   2987094          Xzibit       /m/01vw917  11.338066   2005-11-11   \n",
       "151785  15290178   Jeffrey Combs        /m/02jm9c   3.984757   2007-01-01   \n",
       "183147    957792      Sean Hayes        /m/033jj1   6.514769   2001-07-04   \n",
       "94277   36030580  Jennifer Rubin        /m/08h_q3   4.875663   1994-05-16   \n",
       "212400   1608670     Bill Paxton        /m/01s7zw  13.018426   2001-11-17   \n",
       "\n",
       "                                                 genre  genre_diversity  \\\n",
       "212534               [Thriller, Crime Thriller, Drama]               11   \n",
       "151785                               [Horror, Slasher]               23   \n",
       "183147  [Fantasy Comedy, Fantasy Adventure, Adventure]               11   \n",
       "94277                       [Thriller, Mystery, Drama]               11   \n",
       "212400               [Thriller, Crime Fiction, Horror]               40   \n",
       "\n",
       "        movie_diversity  \n",
       "212534                5  \n",
       "151785               23  \n",
       "183147                4  \n",
       "94277                 7  \n",
       "212400               39  "
      ]
     },
     "execution_count": 4,
     "metadata": {},
     "output_type": "execute_result"
    }
   ],
   "source": [
    "def get_genre_diversity(df):\n",
    "    '''\n",
    "    This function returns the number of different past different genres assigned to movies an actor \n",
    "    played in before.\n",
    "    '''\n",
    "    df = df.sort_values('release_date')\n",
    "    return pd.DataFrame({'wikiID':df['wikiID'].values,\n",
    "                         'genre_diversity':[len(np.unique(np.hstack(df.iloc[:i+1]['genre'].values)))\n",
    "                                            for i in range(df.shape[0])],\n",
    "                         'movie_diversity':[i+1 for i in range(df.shape[0])]})\n",
    "\n",
    "# compute a dataframe with actor informations for each film with fame and number of past genres\n",
    "actor_genres = cmu_character[['wikiID','actor_name','freebase_actorID','fameScore','release_date']] \\\n",
    "                            .merge(cmu_movies[['wikiID','genre']])\n",
    "\n",
    "actor_genres['genre'] = actor_genres['genre'].apply(lambda x : x[:3]) #keep only the 3 main genres\n",
    "\n",
    "actor_genres = actor_genres.merge(actor_genres.groupby('freebase_actorID').apply(get_genre_diversity)\\\n",
    "                                                                          .reset_index(level=0),\n",
    "                                  on=['freebase_actorID','wikiID'])\n",
    "actor_genres.sample(5)\n",
    "                         "
   ]
  },
  {
   "cell_type": "code",
   "execution_count": 5,
   "metadata": {},
   "outputs": [
    {
     "data": {
      "text/html": [
       "<div>\n",
       "<style scoped>\n",
       "    .dataframe tbody tr th:only-of-type {\n",
       "        vertical-align: middle;\n",
       "    }\n",
       "\n",
       "    .dataframe tbody tr th {\n",
       "        vertical-align: top;\n",
       "    }\n",
       "\n",
       "    .dataframe thead th {\n",
       "        text-align: right;\n",
       "    }\n",
       "</style>\n",
       "<table border=\"1\" class=\"dataframe\">\n",
       "  <thead>\n",
       "    <tr style=\"text-align: right;\">\n",
       "      <th></th>\n",
       "      <th>wikiID</th>\n",
       "      <th>actor_name</th>\n",
       "      <th>freebase_actorID</th>\n",
       "      <th>fameScore</th>\n",
       "      <th>release_date</th>\n",
       "      <th>genre</th>\n",
       "      <th>genre_diversity</th>\n",
       "      <th>movie_diversity</th>\n",
       "    </tr>\n",
       "  </thead>\n",
       "  <tbody>\n",
       "    <tr>\n",
       "      <th>22639</th>\n",
       "      <td>14632518</td>\n",
       "      <td>Ramón Novarro</td>\n",
       "      <td>/m/02qhrg</td>\n",
       "      <td>9.930105</td>\n",
       "      <td>1917-08-27</td>\n",
       "      <td>[Silent film, Drama, Indie]</td>\n",
       "      <td>3</td>\n",
       "      <td>1</td>\n",
       "    </tr>\n",
       "    <tr>\n",
       "      <th>72865</th>\n",
       "      <td>16231566</td>\n",
       "      <td>Ramón Novarro</td>\n",
       "      <td>/m/02qhrg</td>\n",
       "      <td>7.409901</td>\n",
       "      <td>1922-09-11</td>\n",
       "      <td>[Swashbuckler films, Silent film, Black-and-wh...</td>\n",
       "      <td>5</td>\n",
       "      <td>2</td>\n",
       "    </tr>\n",
       "    <tr>\n",
       "      <th>269123</th>\n",
       "      <td>25808637</td>\n",
       "      <td>Ramón Novarro</td>\n",
       "      <td>/m/02qhrg</td>\n",
       "      <td>5.484724</td>\n",
       "      <td>1922-10-02</td>\n",
       "      <td>[Romance Film, Silent film]</td>\n",
       "      <td>6</td>\n",
       "      <td>3</td>\n",
       "    </tr>\n",
       "    <tr>\n",
       "      <th>169277</th>\n",
       "      <td>17839626</td>\n",
       "      <td>Ramón Novarro</td>\n",
       "      <td>/m/02qhrg</td>\n",
       "      <td>4.132902</td>\n",
       "      <td>1924-02-04</td>\n",
       "      <td>[Romance Film, Silent film, Comedy]</td>\n",
       "      <td>7</td>\n",
       "      <td>4</td>\n",
       "    </tr>\n",
       "    <tr>\n",
       "      <th>122178</th>\n",
       "      <td>23419399</td>\n",
       "      <td>Ramón Novarro</td>\n",
       "      <td>/m/02qhrg</td>\n",
       "      <td>3.592824</td>\n",
       "      <td>1924-07-21</td>\n",
       "      <td>[Silent film, Drama, Black-and-white]</td>\n",
       "      <td>7</td>\n",
       "      <td>5</td>\n",
       "    </tr>\n",
       "    <tr>\n",
       "      <th>166061</th>\n",
       "      <td>17839776</td>\n",
       "      <td>Ramón Novarro</td>\n",
       "      <td>/m/02qhrg</td>\n",
       "      <td>4.085296</td>\n",
       "      <td>1924-09-08</td>\n",
       "      <td>[Silent film, Drama, Black-and-white]</td>\n",
       "      <td>7</td>\n",
       "      <td>6</td>\n",
       "    </tr>\n",
       "    <tr>\n",
       "      <th>65210</th>\n",
       "      <td>11959704</td>\n",
       "      <td>Ramón Novarro</td>\n",
       "      <td>/m/02qhrg</td>\n",
       "      <td>3.531522</td>\n",
       "      <td>1925-10-04</td>\n",
       "      <td>[Silent film, Drama, Indie]</td>\n",
       "      <td>7</td>\n",
       "      <td>7</td>\n",
       "    </tr>\n",
       "    <tr>\n",
       "      <th>7731</th>\n",
       "      <td>24583584</td>\n",
       "      <td>Ramón Novarro</td>\n",
       "      <td>/m/02qhrg</td>\n",
       "      <td>3.073725</td>\n",
       "      <td>1927-01-01</td>\n",
       "      <td>[Silent film]</td>\n",
       "      <td>7</td>\n",
       "      <td>8</td>\n",
       "    </tr>\n",
       "    <tr>\n",
       "      <th>172590</th>\n",
       "      <td>4525665</td>\n",
       "      <td>Ramón Novarro</td>\n",
       "      <td>/m/02qhrg</td>\n",
       "      <td>3.887329</td>\n",
       "      <td>1927-09-21</td>\n",
       "      <td>[Romantic comedy, Silent film, Melodrama]</td>\n",
       "      <td>9</td>\n",
       "      <td>9</td>\n",
       "    </tr>\n",
       "    <tr>\n",
       "      <th>212876</th>\n",
       "      <td>10946921</td>\n",
       "      <td>Ramón Novarro</td>\n",
       "      <td>/m/02qhrg</td>\n",
       "      <td>4.163530</td>\n",
       "      <td>1928-04-07</td>\n",
       "      <td>[Silent film, Melodrama, Drama]</td>\n",
       "      <td>9</td>\n",
       "      <td>10</td>\n",
       "    </tr>\n",
       "    <tr>\n",
       "      <th>68461</th>\n",
       "      <td>35030671</td>\n",
       "      <td>Ramón Novarro</td>\n",
       "      <td>/m/02qhrg</td>\n",
       "      <td>4.007571</td>\n",
       "      <td>1929-01-19</td>\n",
       "      <td>[Romance Film, Drama, Adventure]</td>\n",
       "      <td>10</td>\n",
       "      <td>11</td>\n",
       "    </tr>\n",
       "    <tr>\n",
       "      <th>393</th>\n",
       "      <td>30002176</td>\n",
       "      <td>Ramón Novarro</td>\n",
       "      <td>/m/02qhrg</td>\n",
       "      <td>4.023164</td>\n",
       "      <td>1929-04-27</td>\n",
       "      <td>[Romance Film, Drama, Silent film]</td>\n",
       "      <td>10</td>\n",
       "      <td>12</td>\n",
       "    </tr>\n",
       "    <tr>\n",
       "      <th>169373</th>\n",
       "      <td>24240252</td>\n",
       "      <td>Ramón Novarro</td>\n",
       "      <td>/m/02qhrg</td>\n",
       "      <td>3.794352</td>\n",
       "      <td>1929-12-27</td>\n",
       "      <td>[Musical]</td>\n",
       "      <td>11</td>\n",
       "      <td>13</td>\n",
       "    </tr>\n",
       "    <tr>\n",
       "      <th>117632</th>\n",
       "      <td>25991689</td>\n",
       "      <td>Ramón Novarro</td>\n",
       "      <td>/m/02qhrg</td>\n",
       "      <td>3.578492</td>\n",
       "      <td>1930-05-17</td>\n",
       "      <td>[Musical, Drama, Romance Film]</td>\n",
       "      <td>11</td>\n",
       "      <td>14</td>\n",
       "    </tr>\n",
       "    <tr>\n",
       "      <th>201176</th>\n",
       "      <td>13064064</td>\n",
       "      <td>Ramón Novarro</td>\n",
       "      <td>/m/02qhrg</td>\n",
       "      <td>3.476507</td>\n",
       "      <td>1930-08-16</td>\n",
       "      <td>[Musical, Drama, Black-and-white]</td>\n",
       "      <td>11</td>\n",
       "      <td>15</td>\n",
       "    </tr>\n",
       "    <tr>\n",
       "      <th>320505</th>\n",
       "      <td>25831476</td>\n",
       "      <td>Ramón Novarro</td>\n",
       "      <td>/m/02qhrg</td>\n",
       "      <td>3.283163</td>\n",
       "      <td>1931-08-01</td>\n",
       "      <td>[Romance Film]</td>\n",
       "      <td>11</td>\n",
       "      <td>16</td>\n",
       "    </tr>\n",
       "    <tr>\n",
       "      <th>210494</th>\n",
       "      <td>6538127</td>\n",
       "      <td>Ramón Novarro</td>\n",
       "      <td>/m/02qhrg</td>\n",
       "      <td>3.808633</td>\n",
       "      <td>1931-12-26</td>\n",
       "      <td>[Thriller, Black-and-white, Drama]</td>\n",
       "      <td>12</td>\n",
       "      <td>17</td>\n",
       "    </tr>\n",
       "    <tr>\n",
       "      <th>166785</th>\n",
       "      <td>16252413</td>\n",
       "      <td>Ramón Novarro</td>\n",
       "      <td>/m/02qhrg</td>\n",
       "      <td>3.608030</td>\n",
       "      <td>1933-05-12</td>\n",
       "      <td>[Romance Film, Drama, Black-and-white]</td>\n",
       "      <td>12</td>\n",
       "      <td>18</td>\n",
       "    </tr>\n",
       "    <tr>\n",
       "      <th>261886</th>\n",
       "      <td>13341623</td>\n",
       "      <td>Ramón Novarro</td>\n",
       "      <td>/m/02qhrg</td>\n",
       "      <td>3.502685</td>\n",
       "      <td>1934-02-16</td>\n",
       "      <td>[Backstage Musical, Black-and-white, Musical c...</td>\n",
       "      <td>14</td>\n",
       "      <td>19</td>\n",
       "    </tr>\n",
       "    <tr>\n",
       "      <th>142842</th>\n",
       "      <td>28650211</td>\n",
       "      <td>Ramón Novarro</td>\n",
       "      <td>/m/02qhrg</td>\n",
       "      <td>3.389276</td>\n",
       "      <td>1934-04-13</td>\n",
       "      <td>[Romance Film, Drama, Western]</td>\n",
       "      <td>15</td>\n",
       "      <td>20</td>\n",
       "    </tr>\n",
       "    <tr>\n",
       "      <th>172501</th>\n",
       "      <td>14442254</td>\n",
       "      <td>Ramón Novarro</td>\n",
       "      <td>/m/02qhrg</td>\n",
       "      <td>1.752159</td>\n",
       "      <td>1949-04-27</td>\n",
       "      <td>[Adventure, Black-and-white, Action/Adventure]</td>\n",
       "      <td>16</td>\n",
       "      <td>21</td>\n",
       "    </tr>\n",
       "    <tr>\n",
       "      <th>141436</th>\n",
       "      <td>1992837</td>\n",
       "      <td>Ramón Novarro</td>\n",
       "      <td>/m/02qhrg</td>\n",
       "      <td>2.119077</td>\n",
       "      <td>1949-07-09</td>\n",
       "      <td>[Thriller, Black-and-white, Film noir]</td>\n",
       "      <td>17</td>\n",
       "      <td>22</td>\n",
       "    </tr>\n",
       "    <tr>\n",
       "      <th>52865</th>\n",
       "      <td>18793770</td>\n",
       "      <td>Ramón Novarro</td>\n",
       "      <td>/m/02qhrg</td>\n",
       "      <td>2.178392</td>\n",
       "      <td>1950-07-07</td>\n",
       "      <td>[Drama, Black-and-white]</td>\n",
       "      <td>17</td>\n",
       "      <td>23</td>\n",
       "    </tr>\n",
       "    <tr>\n",
       "      <th>49382</th>\n",
       "      <td>7376319</td>\n",
       "      <td>Ramón Novarro</td>\n",
       "      <td>/m/02qhrg</td>\n",
       "      <td>1.456597</td>\n",
       "      <td>1960-01-01</td>\n",
       "      <td>[Action/Adventure, Western, Comedy]</td>\n",
       "      <td>17</td>\n",
       "      <td>24</td>\n",
       "    </tr>\n",
       "  </tbody>\n",
       "</table>\n",
       "</div>"
      ],
      "text/plain": [
       "          wikiID     actor_name freebase_actorID  fameScore release_date  \\\n",
       "22639   14632518  Ramón Novarro        /m/02qhrg   9.930105   1917-08-27   \n",
       "72865   16231566  Ramón Novarro        /m/02qhrg   7.409901   1922-09-11   \n",
       "269123  25808637  Ramón Novarro        /m/02qhrg   5.484724   1922-10-02   \n",
       "169277  17839626  Ramón Novarro        /m/02qhrg   4.132902   1924-02-04   \n",
       "122178  23419399  Ramón Novarro        /m/02qhrg   3.592824   1924-07-21   \n",
       "166061  17839776  Ramón Novarro        /m/02qhrg   4.085296   1924-09-08   \n",
       "65210   11959704  Ramón Novarro        /m/02qhrg   3.531522   1925-10-04   \n",
       "7731    24583584  Ramón Novarro        /m/02qhrg   3.073725   1927-01-01   \n",
       "172590   4525665  Ramón Novarro        /m/02qhrg   3.887329   1927-09-21   \n",
       "212876  10946921  Ramón Novarro        /m/02qhrg   4.163530   1928-04-07   \n",
       "68461   35030671  Ramón Novarro        /m/02qhrg   4.007571   1929-01-19   \n",
       "393     30002176  Ramón Novarro        /m/02qhrg   4.023164   1929-04-27   \n",
       "169373  24240252  Ramón Novarro        /m/02qhrg   3.794352   1929-12-27   \n",
       "117632  25991689  Ramón Novarro        /m/02qhrg   3.578492   1930-05-17   \n",
       "201176  13064064  Ramón Novarro        /m/02qhrg   3.476507   1930-08-16   \n",
       "320505  25831476  Ramón Novarro        /m/02qhrg   3.283163   1931-08-01   \n",
       "210494   6538127  Ramón Novarro        /m/02qhrg   3.808633   1931-12-26   \n",
       "166785  16252413  Ramón Novarro        /m/02qhrg   3.608030   1933-05-12   \n",
       "261886  13341623  Ramón Novarro        /m/02qhrg   3.502685   1934-02-16   \n",
       "142842  28650211  Ramón Novarro        /m/02qhrg   3.389276   1934-04-13   \n",
       "172501  14442254  Ramón Novarro        /m/02qhrg   1.752159   1949-04-27   \n",
       "141436   1992837  Ramón Novarro        /m/02qhrg   2.119077   1949-07-09   \n",
       "52865   18793770  Ramón Novarro        /m/02qhrg   2.178392   1950-07-07   \n",
       "49382    7376319  Ramón Novarro        /m/02qhrg   1.456597   1960-01-01   \n",
       "\n",
       "                                                    genre  genre_diversity  \\\n",
       "22639                         [Silent film, Drama, Indie]                3   \n",
       "72865   [Swashbuckler films, Silent film, Black-and-wh...                5   \n",
       "269123                        [Romance Film, Silent film]                6   \n",
       "169277                [Romance Film, Silent film, Comedy]                7   \n",
       "122178              [Silent film, Drama, Black-and-white]                7   \n",
       "166061              [Silent film, Drama, Black-and-white]                7   \n",
       "65210                         [Silent film, Drama, Indie]                7   \n",
       "7731                                        [Silent film]                7   \n",
       "172590          [Romantic comedy, Silent film, Melodrama]                9   \n",
       "212876                    [Silent film, Melodrama, Drama]                9   \n",
       "68461                    [Romance Film, Drama, Adventure]               10   \n",
       "393                    [Romance Film, Drama, Silent film]               10   \n",
       "169373                                          [Musical]               11   \n",
       "117632                     [Musical, Drama, Romance Film]               11   \n",
       "201176                  [Musical, Drama, Black-and-white]               11   \n",
       "320505                                     [Romance Film]               11   \n",
       "210494                 [Thriller, Black-and-white, Drama]               12   \n",
       "166785             [Romance Film, Drama, Black-and-white]               12   \n",
       "261886  [Backstage Musical, Black-and-white, Musical c...               14   \n",
       "142842                     [Romance Film, Drama, Western]               15   \n",
       "172501     [Adventure, Black-and-white, Action/Adventure]               16   \n",
       "141436             [Thriller, Black-and-white, Film noir]               17   \n",
       "52865                            [Drama, Black-and-white]               17   \n",
       "49382                 [Action/Adventure, Western, Comedy]               17   \n",
       "\n",
       "        movie_diversity  \n",
       "22639                 1  \n",
       "72865                 2  \n",
       "269123                3  \n",
       "169277                4  \n",
       "122178                5  \n",
       "166061                6  \n",
       "65210                 7  \n",
       "7731                  8  \n",
       "172590                9  \n",
       "212876               10  \n",
       "68461                11  \n",
       "393                  12  \n",
       "169373               13  \n",
       "117632               14  \n",
       "201176               15  \n",
       "320505               16  \n",
       "210494               17  \n",
       "166785               18  \n",
       "261886               19  \n",
       "142842               20  \n",
       "172501               21  \n",
       "141436               22  \n",
       "52865                23  \n",
       "49382                24  "
      ]
     },
     "execution_count": 5,
     "metadata": {},
     "output_type": "execute_result"
    }
   ],
   "source": [
    "actor_genres[actor_genres['freebase_actorID']=='/m/02qhrg'].sort_values('release_date')"
   ]
  },
  {
   "cell_type": "code",
   "execution_count": 6,
   "metadata": {},
   "outputs": [],
   "source": [
    "mean_genre= actor_genres[['fameScore','genre_diversity']].groupby(by=['genre_diversity'],as_index=False).agg(['median','std','count'])\n",
    "mean_movie= actor_genres[['fameScore','movie_diversity']].groupby(by=['movie_diversity'],as_index=False).agg(['median','std','count'])"
   ]
  },
  {
   "cell_type": "code",
   "execution_count": 7,
   "metadata": {},
   "outputs": [
    {
     "data": {
      "application/vnd.plotly.v1+json": {
       "config": {
        "plotlyServerURL": "https://plot.ly"
       },
       "data": [
        {
         "hovertemplate": "x=%{x}<br>Mean Value=%{y}<extra></extra>",
         "legendgroup": "",
         "marker": {
          "color": "#636efa",
          "symbol": "circle"
         },
         "mode": "markers",
         "name": "",
         "orientation": "v",
         "showlegend": false,
         "type": "scatter",
         "x": [
          0,
          1,
          2,
          3,
          4,
          5,
          6,
          7,
          8,
          9,
          10,
          11,
          12,
          13,
          14,
          15,
          16,
          17,
          18,
          19,
          20,
          21,
          22,
          23,
          24,
          25,
          26,
          27,
          28,
          29,
          30,
          31,
          32,
          33,
          34,
          35,
          36,
          37,
          38,
          39,
          40,
          41,
          42,
          43,
          44,
          45,
          46,
          47,
          48,
          49,
          50,
          51,
          52,
          53,
          54,
          55,
          56,
          57,
          58
         ],
         "xaxis": "x",
         "y": [
          0.6756148782614182,
          1.1068158484201651,
          1.5551949415437674,
          3.6000000000000005,
          2.836621521010229,
          3.769476016352265,
          4.649121731641943,
          3.969850257739136,
          4.653097488220034,
          4.783923104916293,
          4.629811255018215,
          4.668158917031599,
          4.808457866104063,
          4.822253263594034,
          5.042840786555853,
          5.073835136277695,
          5.231676436704815,
          5.476731664277652,
          5.644981033819717,
          5.77456294089294,
          6.270702431303235,
          6.160408368786253,
          6.490149408584359,
          6.430832910462365,
          6.580228652503404,
          6.439956387898859,
          6.823669913139367,
          6.732855399184052,
          6.743284904530986,
          6.737874447652359,
          6.620678815575984,
          6.854553070520096,
          6.999136652479205,
          6.653402188513333,
          6.698534990405751,
          6.756031625283506,
          6.922348429913093,
          7.0578053300983665,
          6.909277760343408,
          7.166991885508184,
          7.134183278758748,
          6.954265719422006,
          7.567789455281913,
          6.988776564448296,
          6.530176307158933,
          6.735923389092134,
          6.046503793036656,
          6.22134904343075,
          6.41604190815958,
          7.2241410923859535,
          6.3497511738906995,
          6.995365216066116,
          6.516859666666529,
          6.566510828845507,
          6.2873686042095285,
          5.381857488595683,
          6.173710638100153,
          6.265560943366205,
          8.715980368836949
         ],
         "yaxis": "y"
        }
       ],
       "layout": {
        "height": 400,
        "legend": {
         "tracegroupgap": 0
        },
        "margin": {
         "b": 50,
         "l": 50,
         "r": 50,
         "t": 50
        },
        "template": {
         "data": {
          "bar": [
           {
            "error_x": {
             "color": "#2a3f5f"
            },
            "error_y": {
             "color": "#2a3f5f"
            },
            "marker": {
             "line": {
              "color": "#E5ECF6",
              "width": 0.5
             },
             "pattern": {
              "fillmode": "overlay",
              "size": 10,
              "solidity": 0.2
             }
            },
            "type": "bar"
           }
          ],
          "barpolar": [
           {
            "marker": {
             "line": {
              "color": "#E5ECF6",
              "width": 0.5
             },
             "pattern": {
              "fillmode": "overlay",
              "size": 10,
              "solidity": 0.2
             }
            },
            "type": "barpolar"
           }
          ],
          "carpet": [
           {
            "aaxis": {
             "endlinecolor": "#2a3f5f",
             "gridcolor": "white",
             "linecolor": "white",
             "minorgridcolor": "white",
             "startlinecolor": "#2a3f5f"
            },
            "baxis": {
             "endlinecolor": "#2a3f5f",
             "gridcolor": "white",
             "linecolor": "white",
             "minorgridcolor": "white",
             "startlinecolor": "#2a3f5f"
            },
            "type": "carpet"
           }
          ],
          "choropleth": [
           {
            "colorbar": {
             "outlinewidth": 0,
             "ticks": ""
            },
            "type": "choropleth"
           }
          ],
          "contour": [
           {
            "colorbar": {
             "outlinewidth": 0,
             "ticks": ""
            },
            "colorscale": [
             [
              0,
              "#0d0887"
             ],
             [
              0.1111111111111111,
              "#46039f"
             ],
             [
              0.2222222222222222,
              "#7201a8"
             ],
             [
              0.3333333333333333,
              "#9c179e"
             ],
             [
              0.4444444444444444,
              "#bd3786"
             ],
             [
              0.5555555555555556,
              "#d8576b"
             ],
             [
              0.6666666666666666,
              "#ed7953"
             ],
             [
              0.7777777777777778,
              "#fb9f3a"
             ],
             [
              0.8888888888888888,
              "#fdca26"
             ],
             [
              1,
              "#f0f921"
             ]
            ],
            "type": "contour"
           }
          ],
          "contourcarpet": [
           {
            "colorbar": {
             "outlinewidth": 0,
             "ticks": ""
            },
            "type": "contourcarpet"
           }
          ],
          "heatmap": [
           {
            "colorbar": {
             "outlinewidth": 0,
             "ticks": ""
            },
            "colorscale": [
             [
              0,
              "#0d0887"
             ],
             [
              0.1111111111111111,
              "#46039f"
             ],
             [
              0.2222222222222222,
              "#7201a8"
             ],
             [
              0.3333333333333333,
              "#9c179e"
             ],
             [
              0.4444444444444444,
              "#bd3786"
             ],
             [
              0.5555555555555556,
              "#d8576b"
             ],
             [
              0.6666666666666666,
              "#ed7953"
             ],
             [
              0.7777777777777778,
              "#fb9f3a"
             ],
             [
              0.8888888888888888,
              "#fdca26"
             ],
             [
              1,
              "#f0f921"
             ]
            ],
            "type": "heatmap"
           }
          ],
          "heatmapgl": [
           {
            "colorbar": {
             "outlinewidth": 0,
             "ticks": ""
            },
            "colorscale": [
             [
              0,
              "#0d0887"
             ],
             [
              0.1111111111111111,
              "#46039f"
             ],
             [
              0.2222222222222222,
              "#7201a8"
             ],
             [
              0.3333333333333333,
              "#9c179e"
             ],
             [
              0.4444444444444444,
              "#bd3786"
             ],
             [
              0.5555555555555556,
              "#d8576b"
             ],
             [
              0.6666666666666666,
              "#ed7953"
             ],
             [
              0.7777777777777778,
              "#fb9f3a"
             ],
             [
              0.8888888888888888,
              "#fdca26"
             ],
             [
              1,
              "#f0f921"
             ]
            ],
            "type": "heatmapgl"
           }
          ],
          "histogram": [
           {
            "marker": {
             "pattern": {
              "fillmode": "overlay",
              "size": 10,
              "solidity": 0.2
             }
            },
            "type": "histogram"
           }
          ],
          "histogram2d": [
           {
            "colorbar": {
             "outlinewidth": 0,
             "ticks": ""
            },
            "colorscale": [
             [
              0,
              "#0d0887"
             ],
             [
              0.1111111111111111,
              "#46039f"
             ],
             [
              0.2222222222222222,
              "#7201a8"
             ],
             [
              0.3333333333333333,
              "#9c179e"
             ],
             [
              0.4444444444444444,
              "#bd3786"
             ],
             [
              0.5555555555555556,
              "#d8576b"
             ],
             [
              0.6666666666666666,
              "#ed7953"
             ],
             [
              0.7777777777777778,
              "#fb9f3a"
             ],
             [
              0.8888888888888888,
              "#fdca26"
             ],
             [
              1,
              "#f0f921"
             ]
            ],
            "type": "histogram2d"
           }
          ],
          "histogram2dcontour": [
           {
            "colorbar": {
             "outlinewidth": 0,
             "ticks": ""
            },
            "colorscale": [
             [
              0,
              "#0d0887"
             ],
             [
              0.1111111111111111,
              "#46039f"
             ],
             [
              0.2222222222222222,
              "#7201a8"
             ],
             [
              0.3333333333333333,
              "#9c179e"
             ],
             [
              0.4444444444444444,
              "#bd3786"
             ],
             [
              0.5555555555555556,
              "#d8576b"
             ],
             [
              0.6666666666666666,
              "#ed7953"
             ],
             [
              0.7777777777777778,
              "#fb9f3a"
             ],
             [
              0.8888888888888888,
              "#fdca26"
             ],
             [
              1,
              "#f0f921"
             ]
            ],
            "type": "histogram2dcontour"
           }
          ],
          "mesh3d": [
           {
            "colorbar": {
             "outlinewidth": 0,
             "ticks": ""
            },
            "type": "mesh3d"
           }
          ],
          "parcoords": [
           {
            "line": {
             "colorbar": {
              "outlinewidth": 0,
              "ticks": ""
             }
            },
            "type": "parcoords"
           }
          ],
          "pie": [
           {
            "automargin": true,
            "type": "pie"
           }
          ],
          "scatter": [
           {
            "fillpattern": {
             "fillmode": "overlay",
             "size": 10,
             "solidity": 0.2
            },
            "type": "scatter"
           }
          ],
          "scatter3d": [
           {
            "line": {
             "colorbar": {
              "outlinewidth": 0,
              "ticks": ""
             }
            },
            "marker": {
             "colorbar": {
              "outlinewidth": 0,
              "ticks": ""
             }
            },
            "type": "scatter3d"
           }
          ],
          "scattercarpet": [
           {
            "marker": {
             "colorbar": {
              "outlinewidth": 0,
              "ticks": ""
             }
            },
            "type": "scattercarpet"
           }
          ],
          "scattergeo": [
           {
            "marker": {
             "colorbar": {
              "outlinewidth": 0,
              "ticks": ""
             }
            },
            "type": "scattergeo"
           }
          ],
          "scattergl": [
           {
            "marker": {
             "colorbar": {
              "outlinewidth": 0,
              "ticks": ""
             }
            },
            "type": "scattergl"
           }
          ],
          "scattermapbox": [
           {
            "marker": {
             "colorbar": {
              "outlinewidth": 0,
              "ticks": ""
             }
            },
            "type": "scattermapbox"
           }
          ],
          "scatterpolar": [
           {
            "marker": {
             "colorbar": {
              "outlinewidth": 0,
              "ticks": ""
             }
            },
            "type": "scatterpolar"
           }
          ],
          "scatterpolargl": [
           {
            "marker": {
             "colorbar": {
              "outlinewidth": 0,
              "ticks": ""
             }
            },
            "type": "scatterpolargl"
           }
          ],
          "scatterternary": [
           {
            "marker": {
             "colorbar": {
              "outlinewidth": 0,
              "ticks": ""
             }
            },
            "type": "scatterternary"
           }
          ],
          "surface": [
           {
            "colorbar": {
             "outlinewidth": 0,
             "ticks": ""
            },
            "colorscale": [
             [
              0,
              "#0d0887"
             ],
             [
              0.1111111111111111,
              "#46039f"
             ],
             [
              0.2222222222222222,
              "#7201a8"
             ],
             [
              0.3333333333333333,
              "#9c179e"
             ],
             [
              0.4444444444444444,
              "#bd3786"
             ],
             [
              0.5555555555555556,
              "#d8576b"
             ],
             [
              0.6666666666666666,
              "#ed7953"
             ],
             [
              0.7777777777777778,
              "#fb9f3a"
             ],
             [
              0.8888888888888888,
              "#fdca26"
             ],
             [
              1,
              "#f0f921"
             ]
            ],
            "type": "surface"
           }
          ],
          "table": [
           {
            "cells": {
             "fill": {
              "color": "#EBF0F8"
             },
             "line": {
              "color": "white"
             }
            },
            "header": {
             "fill": {
              "color": "#C8D4E3"
             },
             "line": {
              "color": "white"
             }
            },
            "type": "table"
           }
          ]
         },
         "layout": {
          "annotationdefaults": {
           "arrowcolor": "#2a3f5f",
           "arrowhead": 0,
           "arrowwidth": 1
          },
          "autotypenumbers": "strict",
          "coloraxis": {
           "colorbar": {
            "outlinewidth": 0,
            "ticks": ""
           }
          },
          "colorscale": {
           "diverging": [
            [
             0,
             "#8e0152"
            ],
            [
             0.1,
             "#c51b7d"
            ],
            [
             0.2,
             "#de77ae"
            ],
            [
             0.3,
             "#f1b6da"
            ],
            [
             0.4,
             "#fde0ef"
            ],
            [
             0.5,
             "#f7f7f7"
            ],
            [
             0.6,
             "#e6f5d0"
            ],
            [
             0.7,
             "#b8e186"
            ],
            [
             0.8,
             "#7fbc41"
            ],
            [
             0.9,
             "#4d9221"
            ],
            [
             1,
             "#276419"
            ]
           ],
           "sequential": [
            [
             0,
             "#0d0887"
            ],
            [
             0.1111111111111111,
             "#46039f"
            ],
            [
             0.2222222222222222,
             "#7201a8"
            ],
            [
             0.3333333333333333,
             "#9c179e"
            ],
            [
             0.4444444444444444,
             "#bd3786"
            ],
            [
             0.5555555555555556,
             "#d8576b"
            ],
            [
             0.6666666666666666,
             "#ed7953"
            ],
            [
             0.7777777777777778,
             "#fb9f3a"
            ],
            [
             0.8888888888888888,
             "#fdca26"
            ],
            [
             1,
             "#f0f921"
            ]
           ],
           "sequentialminus": [
            [
             0,
             "#0d0887"
            ],
            [
             0.1111111111111111,
             "#46039f"
            ],
            [
             0.2222222222222222,
             "#7201a8"
            ],
            [
             0.3333333333333333,
             "#9c179e"
            ],
            [
             0.4444444444444444,
             "#bd3786"
            ],
            [
             0.5555555555555556,
             "#d8576b"
            ],
            [
             0.6666666666666666,
             "#ed7953"
            ],
            [
             0.7777777777777778,
             "#fb9f3a"
            ],
            [
             0.8888888888888888,
             "#fdca26"
            ],
            [
             1,
             "#f0f921"
            ]
           ]
          },
          "colorway": [
           "#636efa",
           "#EF553B",
           "#00cc96",
           "#ab63fa",
           "#FFA15A",
           "#19d3f3",
           "#FF6692",
           "#B6E880",
           "#FF97FF",
           "#FECB52"
          ],
          "font": {
           "color": "#2a3f5f"
          },
          "geo": {
           "bgcolor": "white",
           "lakecolor": "white",
           "landcolor": "#E5ECF6",
           "showlakes": true,
           "showland": true,
           "subunitcolor": "white"
          },
          "hoverlabel": {
           "align": "left"
          },
          "hovermode": "closest",
          "mapbox": {
           "style": "light"
          },
          "paper_bgcolor": "white",
          "plot_bgcolor": "#E5ECF6",
          "polar": {
           "angularaxis": {
            "gridcolor": "white",
            "linecolor": "white",
            "ticks": ""
           },
           "bgcolor": "#E5ECF6",
           "radialaxis": {
            "gridcolor": "white",
            "linecolor": "white",
            "ticks": ""
           }
          },
          "scene": {
           "xaxis": {
            "backgroundcolor": "#E5ECF6",
            "gridcolor": "white",
            "gridwidth": 2,
            "linecolor": "white",
            "showbackground": true,
            "ticks": "",
            "zerolinecolor": "white"
           },
           "yaxis": {
            "backgroundcolor": "#E5ECF6",
            "gridcolor": "white",
            "gridwidth": 2,
            "linecolor": "white",
            "showbackground": true,
            "ticks": "",
            "zerolinecolor": "white"
           },
           "zaxis": {
            "backgroundcolor": "#E5ECF6",
            "gridcolor": "white",
            "gridwidth": 2,
            "linecolor": "white",
            "showbackground": true,
            "ticks": "",
            "zerolinecolor": "white"
           }
          },
          "shapedefaults": {
           "line": {
            "color": "#2a3f5f"
           }
          },
          "ternary": {
           "aaxis": {
            "gridcolor": "white",
            "linecolor": "white",
            "ticks": ""
           },
           "baxis": {
            "gridcolor": "white",
            "linecolor": "white",
            "ticks": ""
           },
           "bgcolor": "#E5ECF6",
           "caxis": {
            "gridcolor": "white",
            "linecolor": "white",
            "ticks": ""
           }
          },
          "title": {
           "x": 0.05
          },
          "xaxis": {
           "automargin": true,
           "gridcolor": "white",
           "linecolor": "white",
           "ticks": "",
           "title": {
            "standoff": 15
           },
           "zerolinecolor": "white",
           "zerolinewidth": 2
          },
          "yaxis": {
           "automargin": true,
           "gridcolor": "white",
           "linecolor": "white",
           "ticks": "",
           "title": {
            "standoff": 15
           },
           "zerolinecolor": "white",
           "zerolinewidth": 2
          }
         }
        },
        "title": {
         "text": ""
        },
        "width": 600,
        "xaxis": {
         "anchor": "y",
         "domain": [
          0,
          1
         ],
         "title": {
          "text": "genre diversity"
         }
        },
        "yaxis": {
         "anchor": "x",
         "domain": [
          0,
          1
         ],
         "title": {
          "text": "median fame score"
         }
        }
       }
      }
     },
     "metadata": {},
     "output_type": "display_data"
    }
   ],
   "source": [
    "fig = px.scatter(x=mean_genre[mean_genre['fameScore']['count']>100].index, \n",
    "             y=mean_genre[mean_genre['fameScore']['count']>100]['fameScore']['median'], \n",
    "            #  error_y=mean_fame_diversity['fameScore']['std'],\n",
    "             labels={'y': 'Mean Value'})\n",
    "\n",
    "# Reshape the figure by updating layout parameters\n",
    "fig.update_layout(\n",
    "    width=600,  # Set the width of the figure\n",
    "    height=400,  # Set the height of the figure\n",
    "    title='',  # Update the title\n",
    "    xaxis_title='genre diversity',  # Update the X-axis label\n",
    "    yaxis_title='median fame score',  # Update the Y-axis label\n",
    "    margin=dict(l=50, r=50, b=50, t=50),  # Adjust margins if needed\n",
    ")\n",
    "\n",
    "\n",
    "fig.show()"
   ]
  },
  {
   "cell_type": "code",
   "execution_count": 8,
   "metadata": {},
   "outputs": [
    {
     "data": {
      "application/vnd.plotly.v1+json": {
       "config": {
        "plotlyServerURL": "https://plot.ly"
       },
       "data": [
        {
         "hovertemplate": "x=%{x}<br>Mean Value=%{y}<extra></extra>",
         "legendgroup": "",
         "marker": {
          "color": "#636efa",
          "symbol": "circle"
         },
         "mode": "markers",
         "name": "",
         "orientation": "v",
         "showlegend": false,
         "type": "scatter",
         "x": [
          1,
          2,
          3,
          4,
          5,
          6,
          7,
          8,
          9,
          10,
          11,
          12,
          13,
          14,
          15,
          16,
          17,
          18,
          19,
          20,
          21,
          22,
          23,
          24,
          25,
          26,
          27,
          28,
          29,
          30,
          31,
          32,
          33,
          34,
          35,
          36,
          37,
          38,
          39,
          40,
          41,
          42,
          43,
          44,
          45,
          46,
          47,
          48,
          49,
          50,
          51,
          52,
          53,
          54,
          55,
          56,
          57,
          58,
          59,
          60,
          61,
          62,
          63,
          64,
          65,
          66,
          67,
          68,
          69,
          70,
          71
         ],
         "xaxis": "x",
         "y": [
          2.6277366686941828,
          4.007298119921035,
          4.613698198608197,
          4.955838734230143,
          5.164135582446609,
          5.291048046922962,
          5.386406685581997,
          5.464254732729357,
          5.501359398040804,
          5.542061569033112,
          5.607572220066256,
          5.608668806726254,
          5.668641315988665,
          5.677088636356146,
          5.680555886611739,
          5.72183835987722,
          5.744350449398261,
          5.790667918703106,
          5.810468208875468,
          5.771142627739909,
          5.79811181037569,
          5.760674775238588,
          5.765744433406863,
          5.707469193815005,
          5.603569454542958,
          5.568595508417733,
          5.538839169139997,
          5.4709683084046485,
          5.485917052278868,
          5.484356522853383,
          5.431373943679126,
          5.406932457320819,
          5.326633458982214,
          5.220448209228445,
          5.072818559275996,
          5.038432407382023,
          4.988527947339657,
          4.877078852108227,
          4.905167867234408,
          4.81412521057271,
          4.689358265781444,
          4.604487649171842,
          4.5464451600745415,
          4.5830294313778985,
          4.416604804383852,
          4.363235155044954,
          4.290492671709352,
          4.338912021118008,
          4.353771549605479,
          4.175980967302878,
          4.139256311065899,
          4.227966714480252,
          4.027937303752138,
          4.033041983009718,
          3.863010068641699,
          3.772540237342516,
          3.900133998097078,
          3.856848890687863,
          3.678582712143193,
          3.7612498229610543,
          3.2076600597418743,
          3.0225652002292467,
          3.0064291771966554,
          3.010423900443,
          2.997622903437921,
          2.8911981465825725,
          2.759167007993551,
          2.7663531831211388,
          2.472188101125697,
          2.3899974344312476,
          2.322256671612688
         ],
         "yaxis": "y"
        }
       ],
       "layout": {
        "height": 400,
        "legend": {
         "tracegroupgap": 0
        },
        "margin": {
         "b": 50,
         "l": 50,
         "r": 50,
         "t": 50
        },
        "template": {
         "data": {
          "bar": [
           {
            "error_x": {
             "color": "#2a3f5f"
            },
            "error_y": {
             "color": "#2a3f5f"
            },
            "marker": {
             "line": {
              "color": "#E5ECF6",
              "width": 0.5
             },
             "pattern": {
              "fillmode": "overlay",
              "size": 10,
              "solidity": 0.2
             }
            },
            "type": "bar"
           }
          ],
          "barpolar": [
           {
            "marker": {
             "line": {
              "color": "#E5ECF6",
              "width": 0.5
             },
             "pattern": {
              "fillmode": "overlay",
              "size": 10,
              "solidity": 0.2
             }
            },
            "type": "barpolar"
           }
          ],
          "carpet": [
           {
            "aaxis": {
             "endlinecolor": "#2a3f5f",
             "gridcolor": "white",
             "linecolor": "white",
             "minorgridcolor": "white",
             "startlinecolor": "#2a3f5f"
            },
            "baxis": {
             "endlinecolor": "#2a3f5f",
             "gridcolor": "white",
             "linecolor": "white",
             "minorgridcolor": "white",
             "startlinecolor": "#2a3f5f"
            },
            "type": "carpet"
           }
          ],
          "choropleth": [
           {
            "colorbar": {
             "outlinewidth": 0,
             "ticks": ""
            },
            "type": "choropleth"
           }
          ],
          "contour": [
           {
            "colorbar": {
             "outlinewidth": 0,
             "ticks": ""
            },
            "colorscale": [
             [
              0,
              "#0d0887"
             ],
             [
              0.1111111111111111,
              "#46039f"
             ],
             [
              0.2222222222222222,
              "#7201a8"
             ],
             [
              0.3333333333333333,
              "#9c179e"
             ],
             [
              0.4444444444444444,
              "#bd3786"
             ],
             [
              0.5555555555555556,
              "#d8576b"
             ],
             [
              0.6666666666666666,
              "#ed7953"
             ],
             [
              0.7777777777777778,
              "#fb9f3a"
             ],
             [
              0.8888888888888888,
              "#fdca26"
             ],
             [
              1,
              "#f0f921"
             ]
            ],
            "type": "contour"
           }
          ],
          "contourcarpet": [
           {
            "colorbar": {
             "outlinewidth": 0,
             "ticks": ""
            },
            "type": "contourcarpet"
           }
          ],
          "heatmap": [
           {
            "colorbar": {
             "outlinewidth": 0,
             "ticks": ""
            },
            "colorscale": [
             [
              0,
              "#0d0887"
             ],
             [
              0.1111111111111111,
              "#46039f"
             ],
             [
              0.2222222222222222,
              "#7201a8"
             ],
             [
              0.3333333333333333,
              "#9c179e"
             ],
             [
              0.4444444444444444,
              "#bd3786"
             ],
             [
              0.5555555555555556,
              "#d8576b"
             ],
             [
              0.6666666666666666,
              "#ed7953"
             ],
             [
              0.7777777777777778,
              "#fb9f3a"
             ],
             [
              0.8888888888888888,
              "#fdca26"
             ],
             [
              1,
              "#f0f921"
             ]
            ],
            "type": "heatmap"
           }
          ],
          "heatmapgl": [
           {
            "colorbar": {
             "outlinewidth": 0,
             "ticks": ""
            },
            "colorscale": [
             [
              0,
              "#0d0887"
             ],
             [
              0.1111111111111111,
              "#46039f"
             ],
             [
              0.2222222222222222,
              "#7201a8"
             ],
             [
              0.3333333333333333,
              "#9c179e"
             ],
             [
              0.4444444444444444,
              "#bd3786"
             ],
             [
              0.5555555555555556,
              "#d8576b"
             ],
             [
              0.6666666666666666,
              "#ed7953"
             ],
             [
              0.7777777777777778,
              "#fb9f3a"
             ],
             [
              0.8888888888888888,
              "#fdca26"
             ],
             [
              1,
              "#f0f921"
             ]
            ],
            "type": "heatmapgl"
           }
          ],
          "histogram": [
           {
            "marker": {
             "pattern": {
              "fillmode": "overlay",
              "size": 10,
              "solidity": 0.2
             }
            },
            "type": "histogram"
           }
          ],
          "histogram2d": [
           {
            "colorbar": {
             "outlinewidth": 0,
             "ticks": ""
            },
            "colorscale": [
             [
              0,
              "#0d0887"
             ],
             [
              0.1111111111111111,
              "#46039f"
             ],
             [
              0.2222222222222222,
              "#7201a8"
             ],
             [
              0.3333333333333333,
              "#9c179e"
             ],
             [
              0.4444444444444444,
              "#bd3786"
             ],
             [
              0.5555555555555556,
              "#d8576b"
             ],
             [
              0.6666666666666666,
              "#ed7953"
             ],
             [
              0.7777777777777778,
              "#fb9f3a"
             ],
             [
              0.8888888888888888,
              "#fdca26"
             ],
             [
              1,
              "#f0f921"
             ]
            ],
            "type": "histogram2d"
           }
          ],
          "histogram2dcontour": [
           {
            "colorbar": {
             "outlinewidth": 0,
             "ticks": ""
            },
            "colorscale": [
             [
              0,
              "#0d0887"
             ],
             [
              0.1111111111111111,
              "#46039f"
             ],
             [
              0.2222222222222222,
              "#7201a8"
             ],
             [
              0.3333333333333333,
              "#9c179e"
             ],
             [
              0.4444444444444444,
              "#bd3786"
             ],
             [
              0.5555555555555556,
              "#d8576b"
             ],
             [
              0.6666666666666666,
              "#ed7953"
             ],
             [
              0.7777777777777778,
              "#fb9f3a"
             ],
             [
              0.8888888888888888,
              "#fdca26"
             ],
             [
              1,
              "#f0f921"
             ]
            ],
            "type": "histogram2dcontour"
           }
          ],
          "mesh3d": [
           {
            "colorbar": {
             "outlinewidth": 0,
             "ticks": ""
            },
            "type": "mesh3d"
           }
          ],
          "parcoords": [
           {
            "line": {
             "colorbar": {
              "outlinewidth": 0,
              "ticks": ""
             }
            },
            "type": "parcoords"
           }
          ],
          "pie": [
           {
            "automargin": true,
            "type": "pie"
           }
          ],
          "scatter": [
           {
            "fillpattern": {
             "fillmode": "overlay",
             "size": 10,
             "solidity": 0.2
            },
            "type": "scatter"
           }
          ],
          "scatter3d": [
           {
            "line": {
             "colorbar": {
              "outlinewidth": 0,
              "ticks": ""
             }
            },
            "marker": {
             "colorbar": {
              "outlinewidth": 0,
              "ticks": ""
             }
            },
            "type": "scatter3d"
           }
          ],
          "scattercarpet": [
           {
            "marker": {
             "colorbar": {
              "outlinewidth": 0,
              "ticks": ""
             }
            },
            "type": "scattercarpet"
           }
          ],
          "scattergeo": [
           {
            "marker": {
             "colorbar": {
              "outlinewidth": 0,
              "ticks": ""
             }
            },
            "type": "scattergeo"
           }
          ],
          "scattergl": [
           {
            "marker": {
             "colorbar": {
              "outlinewidth": 0,
              "ticks": ""
             }
            },
            "type": "scattergl"
           }
          ],
          "scattermapbox": [
           {
            "marker": {
             "colorbar": {
              "outlinewidth": 0,
              "ticks": ""
             }
            },
            "type": "scattermapbox"
           }
          ],
          "scatterpolar": [
           {
            "marker": {
             "colorbar": {
              "outlinewidth": 0,
              "ticks": ""
             }
            },
            "type": "scatterpolar"
           }
          ],
          "scatterpolargl": [
           {
            "marker": {
             "colorbar": {
              "outlinewidth": 0,
              "ticks": ""
             }
            },
            "type": "scatterpolargl"
           }
          ],
          "scatterternary": [
           {
            "marker": {
             "colorbar": {
              "outlinewidth": 0,
              "ticks": ""
             }
            },
            "type": "scatterternary"
           }
          ],
          "surface": [
           {
            "colorbar": {
             "outlinewidth": 0,
             "ticks": ""
            },
            "colorscale": [
             [
              0,
              "#0d0887"
             ],
             [
              0.1111111111111111,
              "#46039f"
             ],
             [
              0.2222222222222222,
              "#7201a8"
             ],
             [
              0.3333333333333333,
              "#9c179e"
             ],
             [
              0.4444444444444444,
              "#bd3786"
             ],
             [
              0.5555555555555556,
              "#d8576b"
             ],
             [
              0.6666666666666666,
              "#ed7953"
             ],
             [
              0.7777777777777778,
              "#fb9f3a"
             ],
             [
              0.8888888888888888,
              "#fdca26"
             ],
             [
              1,
              "#f0f921"
             ]
            ],
            "type": "surface"
           }
          ],
          "table": [
           {
            "cells": {
             "fill": {
              "color": "#EBF0F8"
             },
             "line": {
              "color": "white"
             }
            },
            "header": {
             "fill": {
              "color": "#C8D4E3"
             },
             "line": {
              "color": "white"
             }
            },
            "type": "table"
           }
          ]
         },
         "layout": {
          "annotationdefaults": {
           "arrowcolor": "#2a3f5f",
           "arrowhead": 0,
           "arrowwidth": 1
          },
          "autotypenumbers": "strict",
          "coloraxis": {
           "colorbar": {
            "outlinewidth": 0,
            "ticks": ""
           }
          },
          "colorscale": {
           "diverging": [
            [
             0,
             "#8e0152"
            ],
            [
             0.1,
             "#c51b7d"
            ],
            [
             0.2,
             "#de77ae"
            ],
            [
             0.3,
             "#f1b6da"
            ],
            [
             0.4,
             "#fde0ef"
            ],
            [
             0.5,
             "#f7f7f7"
            ],
            [
             0.6,
             "#e6f5d0"
            ],
            [
             0.7,
             "#b8e186"
            ],
            [
             0.8,
             "#7fbc41"
            ],
            [
             0.9,
             "#4d9221"
            ],
            [
             1,
             "#276419"
            ]
           ],
           "sequential": [
            [
             0,
             "#0d0887"
            ],
            [
             0.1111111111111111,
             "#46039f"
            ],
            [
             0.2222222222222222,
             "#7201a8"
            ],
            [
             0.3333333333333333,
             "#9c179e"
            ],
            [
             0.4444444444444444,
             "#bd3786"
            ],
            [
             0.5555555555555556,
             "#d8576b"
            ],
            [
             0.6666666666666666,
             "#ed7953"
            ],
            [
             0.7777777777777778,
             "#fb9f3a"
            ],
            [
             0.8888888888888888,
             "#fdca26"
            ],
            [
             1,
             "#f0f921"
            ]
           ],
           "sequentialminus": [
            [
             0,
             "#0d0887"
            ],
            [
             0.1111111111111111,
             "#46039f"
            ],
            [
             0.2222222222222222,
             "#7201a8"
            ],
            [
             0.3333333333333333,
             "#9c179e"
            ],
            [
             0.4444444444444444,
             "#bd3786"
            ],
            [
             0.5555555555555556,
             "#d8576b"
            ],
            [
             0.6666666666666666,
             "#ed7953"
            ],
            [
             0.7777777777777778,
             "#fb9f3a"
            ],
            [
             0.8888888888888888,
             "#fdca26"
            ],
            [
             1,
             "#f0f921"
            ]
           ]
          },
          "colorway": [
           "#636efa",
           "#EF553B",
           "#00cc96",
           "#ab63fa",
           "#FFA15A",
           "#19d3f3",
           "#FF6692",
           "#B6E880",
           "#FF97FF",
           "#FECB52"
          ],
          "font": {
           "color": "#2a3f5f"
          },
          "geo": {
           "bgcolor": "white",
           "lakecolor": "white",
           "landcolor": "#E5ECF6",
           "showlakes": true,
           "showland": true,
           "subunitcolor": "white"
          },
          "hoverlabel": {
           "align": "left"
          },
          "hovermode": "closest",
          "mapbox": {
           "style": "light"
          },
          "paper_bgcolor": "white",
          "plot_bgcolor": "#E5ECF6",
          "polar": {
           "angularaxis": {
            "gridcolor": "white",
            "linecolor": "white",
            "ticks": ""
           },
           "bgcolor": "#E5ECF6",
           "radialaxis": {
            "gridcolor": "white",
            "linecolor": "white",
            "ticks": ""
           }
          },
          "scene": {
           "xaxis": {
            "backgroundcolor": "#E5ECF6",
            "gridcolor": "white",
            "gridwidth": 2,
            "linecolor": "white",
            "showbackground": true,
            "ticks": "",
            "zerolinecolor": "white"
           },
           "yaxis": {
            "backgroundcolor": "#E5ECF6",
            "gridcolor": "white",
            "gridwidth": 2,
            "linecolor": "white",
            "showbackground": true,
            "ticks": "",
            "zerolinecolor": "white"
           },
           "zaxis": {
            "backgroundcolor": "#E5ECF6",
            "gridcolor": "white",
            "gridwidth": 2,
            "linecolor": "white",
            "showbackground": true,
            "ticks": "",
            "zerolinecolor": "white"
           }
          },
          "shapedefaults": {
           "line": {
            "color": "#2a3f5f"
           }
          },
          "ternary": {
           "aaxis": {
            "gridcolor": "white",
            "linecolor": "white",
            "ticks": ""
           },
           "baxis": {
            "gridcolor": "white",
            "linecolor": "white",
            "ticks": ""
           },
           "bgcolor": "#E5ECF6",
           "caxis": {
            "gridcolor": "white",
            "linecolor": "white",
            "ticks": ""
           }
          },
          "title": {
           "x": 0.05
          },
          "xaxis": {
           "automargin": true,
           "gridcolor": "white",
           "linecolor": "white",
           "ticks": "",
           "title": {
            "standoff": 15
           },
           "zerolinecolor": "white",
           "zerolinewidth": 2
          },
          "yaxis": {
           "automargin": true,
           "gridcolor": "white",
           "linecolor": "white",
           "ticks": "",
           "title": {
            "standoff": 15
           },
           "zerolinecolor": "white",
           "zerolinewidth": 2
          }
         }
        },
        "title": {
         "text": ""
        },
        "width": 600,
        "xaxis": {
         "anchor": "y",
         "domain": [
          0,
          1
         ],
         "title": {
          "text": "number of movies played"
         }
        },
        "yaxis": {
         "anchor": "x",
         "domain": [
          0,
          1
         ],
         "title": {
          "text": "median fame score"
         }
        }
       }
      }
     },
     "metadata": {},
     "output_type": "display_data"
    }
   ],
   "source": [
    "fig = px.scatter(x=mean_movie[mean_movie['fameScore']['count']>100].index, \n",
    "             y=mean_movie[mean_movie['fameScore']['count']>100]['fameScore']['median'], \n",
    "            #  error_y=mean_movie['fameScore']['std'],\n",
    "             labels={'y': 'Mean Value'})\n",
    "\n",
    "# Reshape the figure by updating layout parameters\n",
    "fig.update_layout(\n",
    "    width=600,  # Set the width of the figure\n",
    "    height=400,  # Set the height of the figure\n",
    "    title='',  # Update the title\n",
    "    xaxis_title='number of movies played',  # Update the X-axis label\n",
    "    yaxis_title='median fame score',  # Update the Y-axis label\n",
    "    margin=dict(l=50, r=50, b=50, t=50),  # Adjust margins if needed\n",
    ")\n",
    "\n",
    "fig.show()"
   ]
  },
  {
   "cell_type": "code",
   "execution_count": 9,
   "metadata": {},
   "outputs": [
    {
     "data": {
      "image/png": "[encoded data removed]",
      "text/plain": [
       "<Figure size 1000x800 with 2 Axes>"
      ]
     },
     "metadata": {},
     "output_type": "display_data"
    }
   ],
   "source": [
    "# Calculate the correlation matrix\n",
    "correlation_matrix = actor_genres[['genre_diversity','movie_diversity','fameScore']]\\\n",
    "                              .corr(method='pearson')\n",
    "\n",
    "# Create a heatmap using Seaborn\n",
    "plt.figure(figsize=(10, 8))\n",
    "sns.heatmap(correlation_matrix, annot=True, cmap='Blues', fmt=\".2f\", linewidths=.5)\n",
    "plt.title('Correlation Heatmap')\n",
    "plt.show()"
   ]
  },
  {
   "cell_type": "code",
   "execution_count": 41,
   "metadata": {},
   "outputs": [
    {
     "data": {
      "text/html": [
       "<div>\n",
       "<style scoped>\n",
       "    .dataframe tbody tr th:only-of-type {\n",
       "        vertical-align: middle;\n",
       "    }\n",
       "\n",
       "    .dataframe tbody tr th {\n",
       "        vertical-align: top;\n",
       "    }\n",
       "\n",
       "    .dataframe thead tr th {\n",
       "        text-align: left;\n",
       "    }\n",
       "</style>\n",
       "<table border=\"1\" class=\"dataframe\">\n",
       "  <thead>\n",
       "    <tr>\n",
       "      <th></th>\n",
       "      <th>movie_diversity</th>\n",
       "      <th>genre_diversity</th>\n",
       "      <th colspan=\"3\" halign=\"left\">fameScore</th>\n",
       "    </tr>\n",
       "    <tr>\n",
       "      <th></th>\n",
       "      <th></th>\n",
       "      <th></th>\n",
       "      <th>median</th>\n",
       "      <th>std</th>\n",
       "      <th>count</th>\n",
       "    </tr>\n",
       "  </thead>\n",
       "  <tbody>\n",
       "    <tr>\n",
       "      <th>0</th>\n",
       "      <td>1</td>\n",
       "      <td>0</td>\n",
       "      <td>0.675615</td>\n",
       "      <td>0.969764</td>\n",
       "      <td>472</td>\n",
       "    </tr>\n",
       "    <tr>\n",
       "      <th>1</th>\n",
       "      <td>1</td>\n",
       "      <td>1</td>\n",
       "      <td>1.120809</td>\n",
       "      <td>4.839601</td>\n",
       "      <td>15408</td>\n",
       "    </tr>\n",
       "    <tr>\n",
       "      <th>2</th>\n",
       "      <td>1</td>\n",
       "      <td>2</td>\n",
       "      <td>1.601447</td>\n",
       "      <td>5.276773</td>\n",
       "      <td>18434</td>\n",
       "    </tr>\n",
       "    <tr>\n",
       "      <th>3</th>\n",
       "      <td>1</td>\n",
       "      <td>3</td>\n",
       "      <td>3.824430</td>\n",
       "      <td>13.557819</td>\n",
       "      <td>73428</td>\n",
       "    </tr>\n",
       "    <tr>\n",
       "      <th>4</th>\n",
       "      <td>2</td>\n",
       "      <td>0</td>\n",
       "      <td>0.724639</td>\n",
       "      <td>0.180389</td>\n",
       "      <td>11</td>\n",
       "    </tr>\n",
       "    <tr>\n",
       "      <th>...</th>\n",
       "      <td>...</td>\n",
       "      <td>...</td>\n",
       "      <td>...</td>\n",
       "      <td>...</td>\n",
       "      <td>...</td>\n",
       "    </tr>\n",
       "    <tr>\n",
       "      <th>3211</th>\n",
       "      <td>79</td>\n",
       "      <td>19</td>\n",
       "      <td>0.911283</td>\n",
       "      <td>0.534906</td>\n",
       "      <td>12</td>\n",
       "    </tr>\n",
       "    <tr>\n",
       "      <th>3238</th>\n",
       "      <td>80</td>\n",
       "      <td>19</td>\n",
       "      <td>0.961628</td>\n",
       "      <td>0.933832</td>\n",
       "      <td>13</td>\n",
       "    </tr>\n",
       "    <tr>\n",
       "      <th>3264</th>\n",
       "      <td>81</td>\n",
       "      <td>19</td>\n",
       "      <td>0.985162</td>\n",
       "      <td>1.185203</td>\n",
       "      <td>12</td>\n",
       "    </tr>\n",
       "    <tr>\n",
       "      <th>3290</th>\n",
       "      <td>82</td>\n",
       "      <td>19</td>\n",
       "      <td>0.986558</td>\n",
       "      <td>1.372824</td>\n",
       "      <td>12</td>\n",
       "    </tr>\n",
       "    <tr>\n",
       "      <th>3314</th>\n",
       "      <td>83</td>\n",
       "      <td>19</td>\n",
       "      <td>0.995867</td>\n",
       "      <td>1.361164</td>\n",
       "      <td>12</td>\n",
       "    </tr>\n",
       "  </tbody>\n",
       "</table>\n",
       "<p>1305 rows × 5 columns</p>\n",
       "</div>"
      ],
      "text/plain": [
       "     movie_diversity genre_diversity fameScore                  \n",
       "                                        median        std  count\n",
       "0                  1               0  0.675615   0.969764    472\n",
       "1                  1               1  1.120809   4.839601  15408\n",
       "2                  1               2  1.601447   5.276773  18434\n",
       "3                  1               3  3.824430  13.557819  73428\n",
       "4                  2               0  0.724639   0.180389     11\n",
       "...              ...             ...       ...        ...    ...\n",
       "3211              79              19  0.911283   0.534906     12\n",
       "3238              80              19  0.961628   0.933832     13\n",
       "3264              81              19  0.985162   1.185203     12\n",
       "3290              82              19  0.986558   1.372824     12\n",
       "3314              83              19  0.995867   1.361164     12\n",
       "\n",
       "[1305 rows x 5 columns]"
      ]
     },
     "execution_count": 41,
     "metadata": {},
     "output_type": "execute_result"
    }
   ],
   "source": [
    "actor_mean_n = actor_genres[['fameScore','movie_diversity','genre_diversity']].groupby(by=['movie_diversity','genre_diversity'],as_index=False).agg(['median','std','count']).reset_index()\n",
    "actor_mean_n = actor_mean_n[actor_mean_n['fameScore']['count']>10]\n",
    "actor_mean_n"
   ]
  },
  {
   "cell_type": "code",
   "execution_count": 42,
   "metadata": {},
   "outputs": [
    {
     "data": {
      "application/vnd.plotly.v1+json": {
       "config": {
        "plotlyServerURL": "https://plot.ly"
       },
       "data": [
        {
         "hovertemplate": "animation_frame=1<br>x=%{x}<br>Mean Value=%{y}<extra></extra>",
         "legendgroup": "",
         "marker": {
          "color": "#636efa",
          "symbol": "circle"
         },
         "mode": "markers",
         "name": "",
         "orientation": "v",
         "showlegend": false,
         "type": "scatter",
         "x": [
          0,
          1,
          2,
          3
         ],
         "xaxis": "x",
         "y": [
          0.6756148782614182,
          1.1208087147909314,
          1.6014474706309416,
          3.824429712553576
         ],
         "yaxis": "y"
        }
       ],
       "frames": [
        {
         "data": [
          {
           "hovertemplate": "animation_frame=1<br>x=%{x}<br>Mean Value=%{y}<extra></extra>",
           "legendgroup": "",
           "marker": {
            "color": "#636efa",
            "symbol": "circle"
           },
           "mode": "markers",
           "name": "",
           "orientation": "v",
           "showlegend": false,
           "type": "scatter",
           "x": [
            0,
            1,
            2,
            3
           ],
           "xaxis": "x",
           "y": [
            0.6756148782614182,
            1.1208087147909314,
            1.6014474706309416,
            3.824429712553576
           ],
           "yaxis": "y"
          }
         ],
         "name": "1"
        },
        {
         "data": [
          {
           "hovertemplate": "animation_frame=2<br>x=%{x}<br>Mean Value=%{y}<extra></extra>",
           "legendgroup": "",
           "marker": {
            "color": "#636efa",
            "symbol": "circle"
           },
           "mode": "markers",
           "name": "",
           "orientation": "v",
           "showlegend": false,
           "type": "scatter",
           "x": [
            0,
            1,
            2,
            3,
            4,
            5,
            6
           ],
           "xaxis": "x",
           "y": [
            0.7246388641010624,
            0.9499256596202945,
            1.297014592036399,
            2.160484865532576,
            3.364865105138005,
            4.683050545851289,
            6.174108154529557
           ],
           "yaxis": "y"
          }
         ],
         "name": "2"
        },
        {
         "data": [
          {
           "hovertemplate": "animation_frame=3<br>x=%{x}<br>Mean Value=%{y}<extra></extra>",
           "legendgroup": "",
           "marker": {
            "color": "#636efa",
            "symbol": "circle"
           },
           "mode": "markers",
           "name": "",
           "orientation": "v",
           "showlegend": false,
           "type": "scatter",
           "x": [
            1,
            2,
            3,
            4,
            5,
            6,
            7,
            8,
            9
           ],
           "xaxis": "x",
           "y": [
            0.7214431718421528,
            1.0588494453682664,
            1.5580831327802447,
            2.288952347606933,
            3.2241201079119324,
            4.268454184225423,
            5.385901500709668,
            6.63871761869079,
            7.57017742062151
           ],
           "yaxis": "y"
          }
         ],
         "name": "3"
        },
        {
         "data": [
          {
           "hovertemplate": "animation_frame=4<br>x=%{x}<br>Mean Value=%{y}<extra></extra>",
           "legendgroup": "",
           "marker": {
            "color": "#636efa",
            "symbol": "circle"
           },
           "mode": "markers",
           "name": "",
           "orientation": "v",
           "showlegend": false,
           "type": "scatter",
           "x": [
            1,
            2,
            3,
            4,
            5,
            6,
            7,
            8,
            9,
            10,
            11,
            12
           ],
           "xaxis": "x",
           "y": [
            0.67413736422068,
            0.7431968634206064,
            1.2416928547436608,
            1.7864645679397568,
            2.307383664805565,
            3.3375705167273697,
            3.9897347557064693,
            4.983395919734377,
            6.119905388814643,
            7.213697650210533,
            7.521810585002436,
            8.389131964054982
           ],
           "yaxis": "y"
          }
         ],
         "name": "4"
        },
        {
         "data": [
          {
           "hovertemplate": "animation_frame=5<br>x=%{x}<br>Mean Value=%{y}<extra></extra>",
           "legendgroup": "",
           "marker": {
            "color": "#636efa",
            "symbol": "circle"
           },
           "mode": "markers",
           "name": "",
           "orientation": "v",
           "showlegend": false,
           "type": "scatter",
           "x": [
            1,
            2,
            3,
            4,
            5,
            6,
            7,
            8,
            9,
            10,
            11,
            12,
            13,
            14,
            15
           ],
           "xaxis": "x",
           "y": [
            0.7100753949316475,
            0.7713568538432609,
            1.14711736894385,
            1.3426604962560822,
            1.9183265029106935,
            2.3987072069371216,
            3.1314776391132595,
            4.033005287205722,
            4.907676991097734,
            5.708702135431687,
            6.54126449965059,
            7.427534783255853,
            8.219514956525071,
            9.13039570373356,
            9.014538111423015
           ],
           "yaxis": "y"
          }
         ],
         "name": "5"
        },
        {
         "data": [
          {
           "hovertemplate": "animation_frame=6<br>x=%{x}<br>Mean Value=%{y}<extra></extra>",
           "legendgroup": "",
           "marker": {
            "color": "#636efa",
            "symbol": "circle"
           },
           "mode": "markers",
           "name": "",
           "orientation": "v",
           "showlegend": false,
           "type": "scatter",
           "x": [
            2,
            3,
            4,
            5,
            6,
            7,
            8,
            9,
            10,
            11,
            12,
            13,
            14,
            15,
            16,
            17,
            18
           ],
           "xaxis": "x",
           "y": [
            0.5380427726073779,
            1.0759230003977232,
            1.0941573983683863,
            1.5036693557018457,
            1.9009313707516309,
            2.613586265206127,
            3.0114841836938204,
            3.8656585569189903,
            4.757661407886668,
            5.490654171503409,
            6.529809461053484,
            7.017537854420664,
            7.724319913665167,
            8.102269645075559,
            8.62801347010293,
            8.381170051514937,
            8.501094372624696
           ],
           "yaxis": "y"
          }
         ],
         "name": "6"
        },
        {
         "data": [
          {
           "hovertemplate": "animation_frame=7<br>x=%{x}<br>Mean Value=%{y}<extra></extra>",
           "legendgroup": "",
           "marker": {
            "color": "#636efa",
            "symbol": "circle"
           },
           "mode": "markers",
           "name": "",
           "orientation": "v",
           "showlegend": false,
           "type": "scatter",
           "x": [
            3,
            4,
            5,
            6,
            7,
            8,
            9,
            10,
            11,
            12,
            13,
            14,
            15,
            16,
            17,
            18,
            19
           ],
           "xaxis": "x",
           "y": [
            0.955170983089014,
            0.887532616467271,
            1.3459028913925355,
            1.6165991955401813,
            2.1305712959136183,
            2.333452638856259,
            2.888690456386316,
            4.002014895578671,
            4.669879359716641,
            5.7166709409928025,
            6.38137855399888,
            6.876042905600913,
            7.678559779747171,
            7.929709463062467,
            8.640668200010742,
            8.1722965110004,
            9.139239729747255
           ],
           "yaxis": "y"
          }
         ],
         "name": "7"
        },
        {
         "data": [
          {
           "hovertemplate": "animation_frame=8<br>x=%{x}<br>Mean Value=%{y}<extra></extra>",
           "legendgroup": "",
           "marker": {
            "color": "#636efa",
            "symbol": "circle"
           },
           "mode": "markers",
           "name": "",
           "orientation": "v",
           "showlegend": false,
           "type": "scatter",
           "x": [
            3,
            4,
            5,
            6,
            7,
            8,
            9,
            10,
            11,
            12,
            13,
            14,
            15,
            16,
            17,
            18,
            19,
            20,
            21,
            22
           ],
           "xaxis": "x",
           "y": [
            1.0627392657689785,
            0.7924779135451973,
            1.1693010510346,
            1.3949107811050978,
            1.749992891019137,
            2.1153066314340263,
            2.427084329328945,
            3.0149707944944404,
            3.9943372935993913,
            4.770074941912457,
            5.559225025127686,
            6.163103244197766,
            7.187652642502849,
            7.454613261767733,
            7.81035409974266,
            8.325755440792353,
            9.10492035208742,
            8.916383513514223,
            7.647521544024139,
            11.737289979274045
           ],
           "yaxis": "y"
          }
         ],
         "name": "8"
        },
        {
         "data": [
          {
           "hovertemplate": "animation_frame=9<br>x=%{x}<br>Mean Value=%{y}<extra></extra>",
           "legendgroup": "",
           "marker": {
            "color": "#636efa",
            "symbol": "circle"
           },
           "mode": "markers",
           "name": "",
           "orientation": "v",
           "showlegend": false,
           "type": "scatter",
           "x": [
            3,
            4,
            5,
            6,
            7,
            8,
            9,
            10,
            11,
            12,
            13,
            14,
            15,
            16,
            17,
            18,
            19,
            20,
            21,
            22,
            23
           ],
           "xaxis": "x",
           "y": [
            1.080226259987597,
            0.6949585927474545,
            1.0201340135495776,
            1.3187463481785298,
            1.373262368726352,
            1.841320558403472,
            2.04788486268297,
            2.411568260482439,
            3.274791701993545,
            4.255210424847002,
            4.647911822523019,
            5.708725958253663,
            5.987720803275574,
            7.208837301963948,
            7.394187765676721,
            8.003740711411549,
            8.392428292289711,
            8.856042438581735,
            9.591584739190889,
            8.01177993226375,
            8.50608031432146
           ],
           "yaxis": "y"
          }
         ],
         "name": "9"
        },
        {
         "data": [
          {
           "hovertemplate": "animation_frame=10<br>x=%{x}<br>Mean Value=%{y}<extra></extra>",
           "legendgroup": "",
           "marker": {
            "color": "#636efa",
            "symbol": "circle"
           },
           "mode": "markers",
           "name": "",
           "orientation": "v",
           "showlegend": false,
           "type": "scatter",
           "x": [
            4,
            5,
            6,
            7,
            8,
            9,
            10,
            11,
            12,
            13,
            14,
            15,
            16,
            17,
            18,
            19,
            20,
            21,
            22,
            23,
            24
           ],
           "xaxis": "x",
           "y": [
            1.2993458704218201,
            0.9565663332558921,
            1.1038829675917896,
            1.506460152233979,
            1.563090136410609,
            1.7047498867482234,
            2.0314439705662144,
            2.9189134534915158,
            3.3616331539036666,
            4.123426689459638,
            5.141372383379688,
            5.832966920197759,
            6.101652074948669,
            6.669876446312808,
            7.752449084405701,
            7.687250920000368,
            8.176073066195439,
            7.7792998695488915,
            9.942119462025829,
            8.050254839649721,
            7.759924744352693
           ],
           "yaxis": "y"
          }
         ],
         "name": "10"
        },
        {
         "data": [
          {
           "hovertemplate": "animation_frame=11<br>x=%{x}<br>Mean Value=%{y}<extra></extra>",
           "legendgroup": "",
           "marker": {
            "color": "#636efa",
            "symbol": "circle"
           },
           "mode": "markers",
           "name": "",
           "orientation": "v",
           "showlegend": false,
           "type": "scatter",
           "x": [
            4,
            5,
            6,
            7,
            8,
            9,
            10,
            11,
            12,
            13,
            14,
            15,
            16,
            17,
            18,
            19,
            20,
            21,
            22,
            23,
            24,
            25,
            26
           ],
           "xaxis": "x",
           "y": [
            1.436704764952922,
            0.9669078336240409,
            1.0874322848316216,
            1.2035034473225732,
            1.506314032029192,
            1.37318111197796,
            1.7716583978242322,
            2.3281120247143936,
            2.858121741280549,
            3.609672054339191,
            4.729493211391432,
            5.293134534460011,
            5.618823677284869,
            6.324078249793633,
            6.7923098963545065,
            7.415904482742619,
            8.023264421280611,
            7.741194152395803,
            7.897651066049096,
            8.499021115155852,
            8.68120941238221,
            8.687974152491304,
            8.169254022343242
           ],
           "yaxis": "y"
          }
         ],
         "name": "11"
        },
        {
         "data": [
          {
           "hovertemplate": "animation_frame=12<br>x=%{x}<br>Mean Value=%{y}<extra></extra>",
           "legendgroup": "",
           "marker": {
            "color": "#636efa",
            "symbol": "circle"
           },
           "mode": "markers",
           "name": "",
           "orientation": "v",
           "showlegend": false,
           "type": "scatter",
           "x": [
            4,
            5,
            6,
            7,
            8,
            9,
            10,
            11,
            12,
            13,
            14,
            15,
            16,
            17,
            18,
            19,
            20,
            21,
            22,
            23,
            24,
            25,
            26,
            27,
            28
           ],
           "xaxis": "x",
           "y": [
            1.258245204916674,
            0.9416978372494902,
            1.3323130281802145,
            1.110765470102375,
            1.220736560385188,
            1.4474718578132255,
            1.5136556394836331,
            2.125015621522458,
            2.5258132250192245,
            3.110622747011582,
            4.009578759046538,
            4.610153328135699,
            5.3387639929246635,
            5.720297162543761,
            6.128363979616296,
            6.902859046115052,
            7.638702495115151,
            7.510046239520543,
            7.919583835874643,
            8.169110664923098,
            8.454955307487309,
            8.66319859485055,
            9.013031237717307,
            6.989542579408809,
            10.368872034217038
           ],
           "yaxis": "y"
          }
         ],
         "name": "12"
        },
        {
         "data": [
          {
           "hovertemplate": "animation_frame=13<br>x=%{x}<br>Mean Value=%{y}<extra></extra>",
           "legendgroup": "",
           "marker": {
            "color": "#636efa",
            "symbol": "circle"
           },
           "mode": "markers",
           "name": "",
           "orientation": "v",
           "showlegend": false,
           "type": "scatter",
           "x": [
            5,
            6,
            7,
            8,
            9,
            10,
            11,
            12,
            13,
            14,
            15,
            16,
            17,
            18,
            19,
            20,
            21,
            22,
            23,
            24,
            25,
            26,
            27,
            28,
            29
           ],
           "xaxis": "x",
           "y": [
            2.0214727840042115,
            1.5563283864078516,
            0.9283659830324945,
            1.0264381039138728,
            1.6435052284635658,
            1.4631177089663825,
            1.799758950272281,
            2.3064298548520448,
            2.5830322416552773,
            3.615094450197374,
            4.322052944818617,
            4.942870203395235,
            5.725075716150824,
            5.608505876428002,
            6.712779178531298,
            7.003881663623948,
            7.526055287347898,
            7.887553683552888,
            8.187079382267125,
            7.582613207630046,
            8.25708789011035,
            8.406824193165024,
            9.833956991719916,
            8.646245726395234,
            8.075717647776308
           ],
           "yaxis": "y"
          }
         ],
         "name": "13"
        },
        {
         "data": [
          {
           "hovertemplate": "animation_frame=14<br>x=%{x}<br>Mean Value=%{y}<extra></extra>",
           "legendgroup": "",
           "marker": {
            "color": "#636efa",
            "symbol": "circle"
           },
           "mode": "markers",
           "name": "",
           "orientation": "v",
           "showlegend": false,
           "type": "scatter",
           "x": [
            5,
            6,
            7,
            8,
            9,
            10,
            11,
            12,
            13,
            14,
            15,
            16,
            17,
            18,
            19,
            20,
            21,
            22,
            23,
            24,
            25,
            26,
            27,
            28,
            29,
            30
           ],
           "xaxis": "x",
           "y": [
            1.9184078082841465,
            1.525179195131395,
            0.9263314050562228,
            1.0192052000583396,
            1.3092716614216775,
            1.3802267954556984,
            1.4850703973507704,
            1.7668925697700244,
            2.574224972258309,
            2.856625480065173,
            3.860006762418581,
            4.75248612154986,
            5.434600342498328,
            5.47529317429732,
            5.523820323242696,
            6.628820290463778,
            7.227617328215272,
            7.249216909273337,
            7.529596856111963,
            8.23474261458946,
            7.778635025277685,
            7.732991129185864,
            8.760495682265049,
            9.63749593092609,
            8.523380997245866,
            7.002329159213636
           ],
           "yaxis": "y"
          }
         ],
         "name": "14"
        },
        {
         "data": [
          {
           "hovertemplate": "animation_frame=15<br>x=%{x}<br>Mean Value=%{y}<extra></extra>",
           "legendgroup": "",
           "marker": {
            "color": "#636efa",
            "symbol": "circle"
           },
           "mode": "markers",
           "name": "",
           "orientation": "v",
           "showlegend": false,
           "type": "scatter",
           "x": [
            5,
            6,
            7,
            8,
            9,
            10,
            11,
            12,
            13,
            14,
            15,
            16,
            17,
            18,
            19,
            20,
            21,
            22,
            23,
            24,
            25,
            26,
            27,
            28,
            29,
            30,
            31
           ],
           "xaxis": "x",
           "y": [
            2.35966282850525,
            1.5479906915955204,
            0.9063796517669838,
            0.8711872477326263,
            1.1984087524403504,
            1.2693547044340174,
            1.3737558460478545,
            2.0702718029275555,
            2.242084584825644,
            2.5178177806498985,
            3.4939341087701123,
            5.130556215276128,
            4.599162533213015,
            5.267362782471535,
            5.374994646150293,
            6.321524225953894,
            6.0468961248382875,
            6.608434826679111,
            7.608987117182913,
            7.712945419542433,
            7.7592761918204065,
            8.160835033961607,
            7.83572989328287,
            8.138388299461257,
            9.543283469635426,
            8.215011403587145,
            7.721951725355726
           ],
           "yaxis": "y"
          }
         ],
         "name": "15"
        },
        {
         "data": [
          {
           "hovertemplate": "animation_frame=16<br>x=%{x}<br>Mean Value=%{y}<extra></extra>",
           "legendgroup": "",
           "marker": {
            "color": "#636efa",
            "symbol": "circle"
           },
           "mode": "markers",
           "name": "",
           "orientation": "v",
           "showlegend": false,
           "type": "scatter",
           "x": [
            5,
            6,
            7,
            8,
            9,
            10,
            11,
            12,
            13,
            14,
            15,
            16,
            17,
            18,
            19,
            20,
            21,
            22,
            23,
            24,
            25,
            26,
            27,
            28,
            29,
            30,
            31,
            32
           ],
           "xaxis": "x",
           "y": [
            2.186081216504962,
            2.433632556492048,
            0.7604634153633094,
            0.8668907786991399,
            1.117465891576828,
            1.2729342403309554,
            1.2643226326708947,
            1.5371703733317623,
            2.326386272630949,
            2.3915566702181477,
            3.082528544311038,
            4.154284576913787,
            4.672005782095065,
            4.673369526713658,
            5.424548490578465,
            5.899225664059548,
            5.879324431208646,
            6.28472001830646,
            6.472378552915357,
            7.534066483259574,
            7.621538325579824,
            8.335673103829773,
            7.944982282535808,
            7.553340176161061,
            8.051375992590877,
            8.486558696699495,
            9.280734310318422,
            8.639647730340027
           ],
           "yaxis": "y"
          }
         ],
         "name": "16"
        },
        {
         "data": [
          {
           "hovertemplate": "animation_frame=17<br>x=%{x}<br>Mean Value=%{y}<extra></extra>",
           "legendgroup": "",
           "marker": {
            "color": "#636efa",
            "symbol": "circle"
           },
           "mode": "markers",
           "name": "",
           "orientation": "v",
           "showlegend": false,
           "type": "scatter",
           "x": [
            6,
            7,
            8,
            9,
            10,
            11,
            12,
            13,
            14,
            15,
            16,
            17,
            18,
            19,
            20,
            21,
            22,
            23,
            24,
            25,
            26,
            27,
            28,
            29,
            30,
            31,
            32,
            33,
            34
           ],
           "xaxis": "x",
           "y": [
            2.6332760545147536,
            1.085259648947459,
            0.8491149608745967,
            1.0718394442040131,
            1.212088821618881,
            1.2754896383097003,
            1.320780795307694,
            1.810446873728157,
            2.4974897092391655,
            2.7317066763916857,
            3.586237350577351,
            4.347917914310181,
            4.6189289677521215,
            5.223723388890262,
            5.932744754975378,
            5.898164057644934,
            5.982421837967339,
            6.514123309754692,
            6.458285674602808,
            7.486618023463879,
            7.704628698906553,
            8.194383468110074,
            7.4307498464212065,
            8.602250937961196,
            8.057126912500241,
            8.124857265261046,
            9.436531197760674,
            6.476439036271972,
            7.88666210488733
           ],
           "yaxis": "y"
          }
         ],
         "name": "17"
        },
        {
         "data": [
          {
           "hovertemplate": "animation_frame=18<br>x=%{x}<br>Mean Value=%{y}<extra></extra>",
           "legendgroup": "",
           "marker": {
            "color": "#636efa",
            "symbol": "circle"
           },
           "mode": "markers",
           "name": "",
           "orientation": "v",
           "showlegend": false,
           "type": "scatter",
           "x": [
            6,
            7,
            8,
            9,
            10,
            11,
            12,
            13,
            14,
            15,
            16,
            17,
            18,
            19,
            20,
            21,
            22,
            23,
            24,
            25,
            26,
            27,
            28,
            29,
            30,
            31,
            32,
            33,
            34,
            35
           ],
           "xaxis": "x",
           "y": [
            2.941597986504839,
            1.0815649171006538,
            1.1509786684248078,
            1.0449509169224696,
            1.1116834967834224,
            1.2352390511732496,
            1.246412885769669,
            1.7570703421943978,
            1.971734181343263,
            2.750427572097262,
            3.602149136405167,
            3.862284316278365,
            4.609096893780048,
            5.082335330848821,
            5.481678882361937,
            5.465815668651404,
            6.344502016318852,
            5.6342381615303765,
            6.4921507302221295,
            6.6845638207516505,
            8.12201450712002,
            7.048655726633112,
            7.76769506853266,
            7.533005958719169,
            7.694829773335885,
            8.586285996642392,
            8.889340141097744,
            9.83428894686659,
            7.405139140968038,
            7.328906527826159
           ],
           "yaxis": "y"
          }
         ],
         "name": "18"
        },
        {
         "data": [
          {
           "hovertemplate": "animation_frame=19<br>x=%{x}<br>Mean Value=%{y}<extra></extra>",
           "legendgroup": "",
           "marker": {
            "color": "#636efa",
            "symbol": "circle"
           },
           "mode": "markers",
           "name": "",
           "orientation": "v",
           "showlegend": false,
           "type": "scatter",
           "x": [
            6,
            7,
            8,
            9,
            10,
            11,
            12,
            13,
            14,
            15,
            16,
            17,
            18,
            19,
            20,
            21,
            22,
            23,
            24,
            25,
            26,
            27,
            28,
            29,
            30,
            31,
            32,
            33,
            34,
            35
           ],
           "xaxis": "x",
           "y": [
            2.871912983914858,
            1.2716663065347784,
            1.344239353214466,
            0.9889629966751325,
            1.101085505370875,
            1.1926332396765214,
            1.115930550195371,
            1.5841245422226597,
            2.0272633551213377,
            1.9950403814450892,
            3.3785715328699006,
            3.753317307571975,
            3.7752173167304335,
            4.291180043329902,
            6.168800892582692,
            5.936382105811318,
            5.090173996795914,
            5.849249566181908,
            6.572674476752094,
            6.347499702441688,
            6.565681503660586,
            7.75777098759289,
            7.959336361960629,
            8.14199124414321,
            7.74189385492159,
            8.023642173778388,
            8.61275386326189,
            8.376103059607887,
            9.023274525609548,
            7.059527757237524
           ],
           "yaxis": "y"
          }
         ],
         "name": "19"
        },
        {
         "data": [
          {
           "hovertemplate": "animation_frame=20<br>x=%{x}<br>Mean Value=%{y}<extra></extra>",
           "legendgroup": "",
           "marker": {
            "color": "#636efa",
            "symbol": "circle"
           },
           "mode": "markers",
           "name": "",
           "orientation": "v",
           "showlegend": false,
           "type": "scatter",
           "x": [
            6,
            8,
            9,
            10,
            11,
            12,
            13,
            14,
            15,
            16,
            17,
            18,
            19,
            20,
            21,
            22,
            23,
            24,
            25,
            26,
            27,
            28,
            29,
            30,
            31,
            32,
            33,
            34,
            35,
            36,
            38
           ],
           "xaxis": "x",
           "y": [
            2.6700232838181543,
            0.9051285445132504,
            1.3191608994962922,
            1.050909448459553,
            1.1135088765983372,
            1.2106398377306686,
            1.437668800573912,
            1.752720082358206,
            2.018354826026342,
            2.8628671802579415,
            3.652930034567004,
            3.6358078068399298,
            4.370653558090391,
            5.368451673187074,
            5.37152798969097,
            5.319973507158355,
            5.863837777391976,
            5.936764322678783,
            6.355004882750375,
            6.820295941800504,
            7.540720215292173,
            7.183263265123541,
            7.257610910985955,
            7.857417226651722,
            8.268251627208532,
            9.204814349141625,
            7.875712101024764,
            8.32078246233385,
            8.054121975272597,
            9.586085480185117,
            7.864767464509171
           ],
           "yaxis": "y"
          }
         ],
         "name": "20"
        },
        {
         "data": [
          {
           "hovertemplate": "animation_frame=21<br>x=%{x}<br>Mean Value=%{y}<extra></extra>",
           "legendgroup": "",
           "marker": {
            "color": "#636efa",
            "symbol": "circle"
           },
           "mode": "markers",
           "name": "",
           "orientation": "v",
           "showlegend": false,
           "type": "scatter",
           "x": [
            6,
            8,
            9,
            10,
            11,
            12,
            13,
            14,
            15,
            16,
            17,
            18,
            19,
            20,
            21,
            22,
            23,
            24,
            25,
            26,
            27,
            28,
            29,
            30,
            31,
            32,
            33,
            34,
            35,
            36,
            37,
            38
           ],
           "xaxis": "x",
           "y": [
            2.6458404949661594,
            1.230380007921143,
            0.9035329180936342,
            0.9947134409031761,
            1.0260049412033174,
            1.1337301403480198,
            1.2608967094120735,
            1.742787635545819,
            1.8648529054408496,
            2.917507969092157,
            3.8865731391227607,
            3.38093144949433,
            4.3710071430748805,
            5.130268689153267,
            5.499808504416702,
            4.714083865454942,
            5.344471491021557,
            6.400327431643952,
            6.028334442207381,
            6.935970342553749,
            6.978986776561049,
            7.222254780661966,
            7.215158221046044,
            6.76448136041478,
            8.06838644360551,
            8.372966562684937,
            9.088388679899042,
            7.885983941155572,
            8.229922221569055,
            8.419696696860008,
            9.166969029142777,
            8.08799031463118
           ],
           "yaxis": "y"
          }
         ],
         "name": "21"
        },
        {
         "data": [
          {
           "hovertemplate": "animation_frame=22<br>x=%{x}<br>Mean Value=%{y}<extra></extra>",
           "legendgroup": "",
           "marker": {
            "color": "#636efa",
            "symbol": "circle"
           },
           "mode": "markers",
           "name": "",
           "orientation": "v",
           "showlegend": false,
           "type": "scatter",
           "x": [
            8,
            9,
            10,
            11,
            12,
            13,
            14,
            15,
            16,
            17,
            18,
            19,
            20,
            21,
            22,
            23,
            24,
            25,
            26,
            27,
            28,
            29,
            30,
            31,
            32,
            33,
            34,
            35,
            36,
            37,
            38
           ],
           "xaxis": "x",
           "y": [
            1.221720397462256,
            0.9041315576616878,
            1.0301504953561795,
            0.966028750444846,
            1.1431705957011276,
            1.1953778054358393,
            1.2487678572376524,
            1.7491412970936389,
            3.2191929068288454,
            3.470117855587651,
            3.3100841645858137,
            3.960566821546767,
            5.3598610109107465,
            5.343848176003451,
            4.548115422172204,
            5.047401286425207,
            5.460839711297356,
            6.471820732217608,
            6.336477020997367,
            6.699633563972639,
            6.901942793931352,
            6.80886971217735,
            7.369510132722326,
            7.056848410898298,
            8.06825600604663,
            7.841395423787594,
            8.624778584495093,
            8.728412577294929,
            8.959593236635719,
            7.7061857112812415,
            9.959894778049636
           ],
           "yaxis": "y"
          }
         ],
         "name": "22"
        },
        {
         "data": [
          {
           "hovertemplate": "animation_frame=23<br>x=%{x}<br>Mean Value=%{y}<extra></extra>",
           "legendgroup": "",
           "marker": {
            "color": "#636efa",
            "symbol": "circle"
           },
           "mode": "markers",
           "name": "",
           "orientation": "v",
           "showlegend": false,
           "type": "scatter",
           "x": [
            9,
            10,
            11,
            12,
            13,
            14,
            15,
            16,
            17,
            18,
            19,
            20,
            21,
            22,
            23,
            24,
            25,
            26,
            27,
            28,
            29,
            30,
            31,
            32,
            33,
            34,
            35,
            36,
            37,
            38,
            39,
            40
           ],
           "xaxis": "x",
           "y": [
            0.9205616503005052,
            0.8728195925772599,
            1.0520305133751435,
            1.1602119446934602,
            1.1366535874966925,
            1.1622751830515372,
            1.4724939857006891,
            2.745904125380728,
            2.996403687315653,
            3.5205642788299216,
            3.837202345517166,
            4.901526112753163,
            5.589714842122653,
            5.377467019827221,
            4.939765473676439,
            4.946484171568369,
            6.301511532392466,
            6.186775053107544,
            6.193170500923271,
            7.050649774771534,
            6.408598688636053,
            6.962440208877464,
            7.243516882692408,
            7.81328176220007,
            8.08062670669031,
            8.671967833565684,
            7.435565827126752,
            9.184806313098315,
            8.499373968215286,
            7.999154790476135,
            7.127792808682824,
            9.231913319294705
           ],
           "yaxis": "y"
          }
         ],
         "name": "23"
        },
        {
         "data": [
          {
           "hovertemplate": "animation_frame=24<br>x=%{x}<br>Mean Value=%{y}<extra></extra>",
           "legendgroup": "",
           "marker": {
            "color": "#636efa",
            "symbol": "circle"
           },
           "mode": "markers",
           "name": "",
           "orientation": "v",
           "showlegend": false,
           "type": "scatter",
           "x": [
            9,
            10,
            11,
            12,
            13,
            14,
            15,
            16,
            17,
            18,
            19,
            20,
            21,
            22,
            23,
            24,
            25,
            26,
            27,
            28,
            29,
            30,
            31,
            32,
            33,
            34,
            35,
            36,
            37,
            38,
            39,
            40
           ],
           "xaxis": "x",
           "y": [
            1.1702599317904936,
            0.8380557938649248,
            0.979668798749999,
            1.1442111326406657,
            1.1323320875267564,
            1.1829385876074217,
            1.2185321108145768,
            2.1558178435990727,
            2.321778259397851,
            3.622794100623744,
            3.708246598970663,
            5.485871984025865,
            5.196553456702695,
            5.237883049933033,
            3.813645504789103,
            5.297599108743196,
            5.893121913344142,
            5.92860666851826,
            5.902588939048418,
            6.542039752808901,
            6.922535199530319,
            7.280231509921104,
            6.300737394915132,
            7.8775204139701955,
            7.803680971710382,
            8.498360407815639,
            7.481124071959672,
            8.408311937267062,
            8.5839699262371,
            7.905892623017093,
            8.856403340250491,
            7.547220299128509
           ],
           "yaxis": "y"
          }
         ],
         "name": "24"
        },
        {
         "data": [
          {
           "hovertemplate": "animation_frame=25<br>x=%{x}<br>Mean Value=%{y}<extra></extra>",
           "legendgroup": "",
           "marker": {
            "color": "#636efa",
            "symbol": "circle"
           },
           "mode": "markers",
           "name": "",
           "orientation": "v",
           "showlegend": false,
           "type": "scatter",
           "x": [
            9,
            10,
            11,
            12,
            13,
            14,
            15,
            16,
            17,
            18,
            19,
            20,
            21,
            22,
            23,
            24,
            25,
            26,
            27,
            28,
            29,
            30,
            31,
            32,
            33,
            34,
            35,
            36,
            37,
            38,
            39,
            40,
            41
           ],
           "xaxis": "x",
           "y": [
            1.2429267672339892,
            0.809529496326765,
            1.0037592503992887,
            0.9921783080792967,
            1.1340581554356275,
            1.2834977712408433,
            1.2072774708183465,
            1.518650486397059,
            2.4019448861216905,
            3.205040427414856,
            3.939814578411593,
            3.9337884604185973,
            5.225913088768763,
            6.114834910974885,
            4.348323393319891,
            4.600085036411459,
            4.917089380140309,
            6.5358712731894535,
            5.846312149687849,
            6.38939537852777,
            6.273770249212016,
            6.981263269769366,
            7.0940106966564045,
            7.018091334383599,
            7.764722749096678,
            8.099499224403175,
            8.2631717473596,
            7.188903900108638,
            8.315538554628638,
            8.909743681590747,
            8.607820554263222,
            7.946435233565024,
            7.904886207919315
           ],
           "yaxis": "y"
          }
         ],
         "name": "25"
        },
        {
         "data": [
          {
           "hovertemplate": "animation_frame=26<br>x=%{x}<br>Mean Value=%{y}<extra></extra>",
           "legendgroup": "",
           "marker": {
            "color": "#636efa",
            "symbol": "circle"
           },
           "mode": "markers",
           "name": "",
           "orientation": "v",
           "showlegend": false,
           "type": "scatter",
           "x": [
            10,
            11,
            12,
            13,
            14,
            15,
            16,
            17,
            18,
            19,
            20,
            21,
            22,
            23,
            24,
            25,
            26,
            27,
            28,
            29,
            30,
            31,
            32,
            33,
            34,
            35,
            36,
            37,
            38,
            39,
            40,
            41,
            42
           ],
           "xaxis": "x",
           "y": [
            0.8372896919182872,
            1.0504383422068404,
            0.9603222366754272,
            1.124160849025292,
            1.284466947433113,
            1.1501137506610568,
            1.5267128457068881,
            2.04197224469514,
            3.530825789298672,
            3.2392113735498063,
            3.853398318295876,
            4.491767493175758,
            5.802182200700068,
            4.85393161397339,
            4.67551612378435,
            4.813366082563194,
            6.291331121608758,
            4.615740706206262,
            6.66902309714918,
            5.733754893288335,
            6.730509081595849,
            6.562924385097698,
            6.914085370132851,
            7.286291702158383,
            7.1849307082955605,
            8.006632961029158,
            8.143817589229322,
            6.675302122448853,
            8.187278533113913,
            8.53793970334216,
            9.240660328632556,
            7.860214582371076,
            8.747140178592876
           ],
           "yaxis": "y"
          }
         ],
         "name": "26"
        },
        {
         "data": [
          {
           "hovertemplate": "animation_frame=27<br>x=%{x}<br>Mean Value=%{y}<extra></extra>",
           "legendgroup": "",
           "marker": {
            "color": "#636efa",
            "symbol": "circle"
           },
           "mode": "markers",
           "name": "",
           "orientation": "v",
           "showlegend": false,
           "type": "scatter",
           "x": [
            10,
            11,
            12,
            13,
            14,
            15,
            16,
            17,
            18,
            19,
            20,
            21,
            22,
            23,
            24,
            25,
            26,
            27,
            28,
            29,
            30,
            31,
            32,
            33,
            34,
            35,
            36,
            37,
            38,
            39,
            40,
            41,
            42
           ],
           "xaxis": "x",
           "y": [
            0.8451037134580512,
            1.0052110995546664,
            1.007192753032311,
            1.0205386451501282,
            1.2399365369066,
            1.1345381303672848,
            1.4759361596942635,
            1.9721631700733837,
            2.652628439741982,
            3.5548929522126063,
            3.9005703284315896,
            4.44179533865567,
            5.2599115584074685,
            5.644613264538343,
            5.278019646844687,
            4.620351428850752,
            6.122768053766016,
            5.28526225052347,
            6.69328046049852,
            5.583750230918865,
            6.348763242055841,
            6.819387241341017,
            6.9988563260506815,
            6.182617355608707,
            7.18316786296056,
            7.671612972499142,
            7.701648783652617,
            8.78192684786588,
            7.257446872260293,
            8.947439948999923,
            8.799299444125703,
            9.66228266067642,
            7.949663447016569
           ],
           "yaxis": "y"
          }
         ],
         "name": "27"
        },
        {
         "data": [
          {
           "hovertemplate": "animation_frame=28<br>x=%{x}<br>Mean Value=%{y}<extra></extra>",
           "legendgroup": "",
           "marker": {
            "color": "#636efa",
            "symbol": "circle"
           },
           "mode": "markers",
           "name": "",
           "orientation": "v",
           "showlegend": false,
           "type": "scatter",
           "x": [
            10,
            11,
            12,
            13,
            14,
            15,
            16,
            17,
            18,
            19,
            20,
            21,
            22,
            23,
            24,
            25,
            26,
            27,
            28,
            29,
            30,
            31,
            32,
            33,
            34,
            35,
            36,
            37,
            38,
            39,
            40,
            41,
            42,
            43
           ],
           "xaxis": "x",
           "y": [
            0.8760912176823226,
            0.8790512097609947,
            0.9997027226329587,
            1.0799924221163568,
            1.2139227424436545,
            1.099662834118898,
            1.4239478371427021,
            1.7034154044125005,
            2.3939672082540087,
            3.218252983318766,
            3.900641115494236,
            5.247797367681878,
            4.7877592931918,
            4.620087474764615,
            5.439047223707936,
            4.7184660203769075,
            5.216517140216926,
            5.196692982631097,
            6.581345500850805,
            4.8765445643852745,
            6.077918908326077,
            6.889171296411467,
            6.328446989418406,
            6.581957908771371,
            7.083564922415928,
            7.079867505625211,
            7.153353088720731,
            7.79233605059746,
            7.020695765584565,
            8.471315690022449,
            8.576288167236566,
            8.806126792725799,
            9.674212465047152,
            7.766401777610526
           ],
           "yaxis": "y"
          }
         ],
         "name": "28"
        },
        {
         "data": [
          {
           "hovertemplate": "animation_frame=29<br>x=%{x}<br>Mean Value=%{y}<extra></extra>",
           "legendgroup": "",
           "marker": {
            "color": "#636efa",
            "symbol": "circle"
           },
           "mode": "markers",
           "name": "",
           "orientation": "v",
           "showlegend": false,
           "type": "scatter",
           "x": [
            11,
            12,
            13,
            14,
            15,
            16,
            17,
            18,
            19,
            20,
            21,
            22,
            23,
            24,
            25,
            26,
            27,
            28,
            29,
            30,
            31,
            32,
            33,
            34,
            35,
            36,
            37,
            38,
            39,
            40,
            41,
            42,
            43,
            44
           ],
           "xaxis": "x",
           "y": [
            0.9381766097397036,
            0.866973810936788,
            1.1239435590124784,
            1.228344080869305,
            1.080576918274482,
            1.3592672916566522,
            1.4640576613106764,
            2.419726795058491,
            3.21697658956018,
            3.526927794390447,
            3.744586283008108,
            4.550466767048916,
            5.481132828488917,
            5.1057283703681495,
            4.489213581204746,
            5.363952729013773,
            4.964184523442657,
            5.277470347588364,
            5.696194447004494,
            5.809778641798567,
            5.857230716564622,
            6.659433074167094,
            7.65016405669903,
            6.124281325306598,
            7.528213203320041,
            6.82724299477681,
            7.534587658228439,
            7.389507371116951,
            7.826247631622799,
            8.292947744782534,
            8.802263705830002,
            8.220294999038185,
            8.863908375041584,
            7.367296268537501
           ],
           "yaxis": "y"
          }
         ],
         "name": "29"
        },
        {
         "data": [
          {
           "hovertemplate": "animation_frame=30<br>x=%{x}<br>Mean Value=%{y}<extra></extra>",
           "legendgroup": "",
           "marker": {
            "color": "#636efa",
            "symbol": "circle"
           },
           "mode": "markers",
           "name": "",
           "orientation": "v",
           "showlegend": false,
           "type": "scatter",
           "x": [
            11,
            12,
            13,
            14,
            15,
            16,
            17,
            18,
            19,
            20,
            21,
            22,
            23,
            24,
            25,
            26,
            27,
            28,
            29,
            30,
            31,
            32,
            33,
            34,
            35,
            36,
            37,
            38,
            39,
            40,
            41,
            42,
            43,
            44,
            45
           ],
           "xaxis": "x",
           "y": [
            0.9558750156301121,
            0.836369638362259,
            1.14245419112684,
            1.3861996840941617,
            1.0628262106560458,
            1.2392037464667198,
            1.4151454617052104,
            2.507341753978505,
            3.488257235906643,
            2.5733402625862185,
            4.184797408173638,
            3.649815698757472,
            5.611364610225111,
            4.081065180335367,
            5.553067671806518,
            4.611018172143193,
            4.840445428085202,
            5.830745078577578,
            5.708929774839685,
            6.268704268114313,
            4.965352322279292,
            6.435414891607098,
            5.740556726765836,
            6.956998572816715,
            6.818194450565515,
            6.981669484022843,
            6.909318423410705,
            7.315175095205692,
            8.136130075406676,
            8.595406723918726,
            8.013383266729566,
            8.199423150456532,
            8.697430400514499,
            6.528382648877691,
            9.204500344869867
           ],
           "yaxis": "y"
          }
         ],
         "name": "30"
        },
        {
         "data": [
          {
           "hovertemplate": "animation_frame=31<br>x=%{x}<br>Mean Value=%{y}<extra></extra>",
           "legendgroup": "",
           "marker": {
            "color": "#636efa",
            "symbol": "circle"
           },
           "mode": "markers",
           "name": "",
           "orientation": "v",
           "showlegend": false,
           "type": "scatter",
           "x": [
            11,
            12,
            13,
            14,
            15,
            16,
            17,
            18,
            19,
            21,
            23,
            24,
            25,
            26,
            27,
            28,
            29,
            30,
            31,
            32,
            33,
            34,
            35,
            36,
            37,
            38,
            39,
            40,
            41,
            42,
            43,
            44,
            45,
            46
           ],
           "xaxis": "x",
           "y": [
            0.9209414302920216,
            0.8995662637155273,
            1.114156185578098,
            1.3710960596733834,
            1.113665055592659,
            1.1956799384607038,
            1.2336536185511753,
            2.1519800890208947,
            2.954112674849981,
            2.903522063870008,
            5.481127644186872,
            4.74394746105418,
            4.755234348946383,
            5.196537848406912,
            5.48744456511773,
            4.95750253224103,
            5.661945641974119,
            5.229591827452646,
            6.727773817759588,
            5.609547381257472,
            5.933592197722449,
            7.147227929417137,
            6.313578666507183,
            8.219316890362,
            6.774496167161338,
            6.878838927952924,
            7.300594734885877,
            6.897295766596425,
            8.571529962667922,
            8.21481069734823,
            7.998069010934801,
            8.262963354632827,
            6.923798357405296,
            9.540396158375753
           ],
           "yaxis": "y"
          }
         ],
         "name": "31"
        },
        {
         "data": [
          {
           "hovertemplate": "animation_frame=32<br>x=%{x}<br>Mean Value=%{y}<extra></extra>",
           "legendgroup": "",
           "marker": {
            "color": "#636efa",
            "symbol": "circle"
           },
           "mode": "markers",
           "name": "",
           "orientation": "v",
           "showlegend": false,
           "type": "scatter",
           "x": [
            11,
            12,
            13,
            14,
            15,
            16,
            17,
            18,
            19,
            21,
            23,
            24,
            25,
            26,
            27,
            28,
            29,
            30,
            31,
            32,
            33,
            34,
            35,
            36,
            37,
            38,
            39,
            40,
            41,
            42,
            43,
            44,
            45
           ],
           "xaxis": "x",
           "y": [
            0.8916392811573972,
            0.9066756175545583,
            1.0229063335827675,
            1.0937406520731177,
            1.1635165571919084,
            1.1948516828925853,
            1.3996210919874248,
            1.6166350693704152,
            2.4227549471442025,
            3.040459818573996,
            5.192656849529672,
            4.709720922352942,
            5.281477702199311,
            4.967342268005922,
            4.259608310573711,
            6.086709412312874,
            6.265406957360687,
            5.680499726388961,
            5.2507218148064485,
            5.453522058573233,
            6.156702889018815,
            5.838749181990997,
            6.571059697300181,
            6.283127376098112,
            7.57091353227497,
            7.571169439583839,
            6.981813680112902,
            8.281378126655472,
            8.063833359531575,
            8.425725528526002,
            7.775758702263994,
            9.219571743903064,
            6.558329862726772
           ],
           "yaxis": "y"
          }
         ],
         "name": "32"
        },
        {
         "data": [
          {
           "hovertemplate": "animation_frame=33<br>x=%{x}<br>Mean Value=%{y}<extra></extra>",
           "legendgroup": "",
           "marker": {
            "color": "#636efa",
            "symbol": "circle"
           },
           "mode": "markers",
           "name": "",
           "orientation": "v",
           "showlegend": false,
           "type": "scatter",
           "x": [
            11,
            12,
            13,
            14,
            15,
            16,
            17,
            18,
            19,
            20,
            21,
            24,
            25,
            26,
            27,
            28,
            29,
            30,
            31,
            32,
            33,
            34,
            35,
            36,
            37,
            38,
            39,
            40,
            41,
            42,
            43,
            44,
            45,
            46
           ],
           "xaxis": "x",
           "y": [
            0.8640279092661287,
            0.8625803590127354,
            1.1124255365283648,
            0.9562155276774014,
            1.2904629152632037,
            1.1452933135641028,
            1.5729359205978952,
            1.4392448864864962,
            2.443232308030856,
            2.479443238917911,
            4.4873810218601164,
            4.634608474390977,
            4.996971236718582,
            4.8811266735296455,
            5.206530974768002,
            3.8460055489943743,
            6.1791317265479675,
            6.19817226825621,
            5.1428661087886764,
            5.593140581895937,
            5.671237815893132,
            5.79861183924855,
            6.478681479478704,
            6.715775719768668,
            7.924147208687545,
            6.646299265543423,
            6.880091728425263,
            7.286323101406261,
            8.435552537684131,
            7.778146799446807,
            7.223182540847932,
            9.38444544616922,
            8.115966793202496,
            10.149577183355316
           ],
           "yaxis": "y"
          }
         ],
         "name": "33"
        },
        {
         "data": [
          {
           "hovertemplate": "animation_frame=34<br>x=%{x}<br>Mean Value=%{y}<extra></extra>",
           "legendgroup": "",
           "marker": {
            "color": "#636efa",
            "symbol": "circle"
           },
           "mode": "markers",
           "name": "",
           "orientation": "v",
           "showlegend": false,
           "type": "scatter",
           "x": [
            12,
            13,
            14,
            15,
            16,
            17,
            18,
            19,
            21,
            24,
            25,
            26,
            27,
            28,
            29,
            30,
            31,
            32,
            33,
            34,
            35,
            36,
            37,
            38,
            39,
            40,
            41,
            42,
            43,
            44,
            45,
            46,
            48
           ],
           "xaxis": "x",
           "y": [
            0.8573066026677316,
            1.041659780391428,
            0.9435946634725232,
            1.3287203319499898,
            1.1262902876264114,
            1.0885149657875683,
            1.5378060150443469,
            2.154575250792214,
            3.8438192371815156,
            4.713188336002435,
            3.84552520594014,
            5.438699291581412,
            5.158240743075467,
            3.483895041960226,
            4.957229984592722,
            6.385855792753972,
            4.8877415110702245,
            4.905685599359765,
            4.5231466616116816,
            5.4100043801178295,
            6.355722738212037,
            6.488429345781178,
            6.005665876319334,
            7.062047619135031,
            7.211935630735722,
            7.731834291699696,
            6.509552307769082,
            7.639903970822835,
            6.988776564448296,
            7.9884566292766035,
            8.218683766988294,
            9.38158535242352,
            8.67876346465137
           ],
           "yaxis": "y"
          }
         ],
         "name": "34"
        },
        {
         "data": [
          {
           "hovertemplate": "animation_frame=35<br>x=%{x}<br>Mean Value=%{y}<extra></extra>",
           "legendgroup": "",
           "marker": {
            "color": "#636efa",
            "symbol": "circle"
           },
           "mode": "markers",
           "name": "",
           "orientation": "v",
           "showlegend": false,
           "type": "scatter",
           "x": [
            12,
            13,
            14,
            15,
            16,
            17,
            18,
            21,
            22,
            26,
            27,
            28,
            29,
            30,
            31,
            32,
            33,
            34,
            35,
            36,
            37,
            38,
            39,
            40,
            41,
            42,
            43,
            44,
            45,
            46,
            47
           ],
           "xaxis": "x",
           "y": [
            0.8198703454935135,
            1.0289116684379347,
            0.9887293418374277,
            1.2652956421368524,
            1.1765761461325015,
            1.123640536515612,
            1.2805604419588084,
            2.456389246982221,
            4.123363050579667,
            5.02404797553757,
            5.057140918098895,
            4.180678131223667,
            3.1827195791785314,
            5.966231050070707,
            6.990320491219836,
            4.764068927785944,
            4.24020479334408,
            5.764546871775012,
            5.91126831775459,
            6.157660348274547,
            5.634456711317646,
            7.164573866417697,
            6.366114924492156,
            7.376304970824272,
            6.858819011433395,
            6.937280535240145,
            7.375171051330958,
            7.764863755819769,
            8.351396811205902,
            8.245483359920392,
            9.371028919590195
           ],
           "yaxis": "y"
          }
         ],
         "name": "35"
        },
        {
         "data": [
          {
           "hovertemplate": "animation_frame=36<br>x=%{x}<br>Mean Value=%{y}<extra></extra>",
           "legendgroup": "",
           "marker": {
            "color": "#636efa",
            "symbol": "circle"
           },
           "mode": "markers",
           "name": "",
           "orientation": "v",
           "showlegend": false,
           "type": "scatter",
           "x": [
            12,
            13,
            14,
            15,
            16,
            17,
            18,
            19,
            21,
            26,
            28,
            29,
            30,
            31,
            32,
            33,
            34,
            35,
            36,
            37,
            38,
            39,
            40,
            41,
            42,
            43,
            44,
            45,
            46,
            47,
            48
           ],
           "xaxis": "x",
           "y": [
            0.8238505465360941,
            1.1643055367625137,
            0.9886681490908449,
            1.161551154314569,
            1.241286342633397,
            1.3257104694646764,
            1.275057969155154,
            1.691292443352684,
            2.010724968773507,
            4.809484587472829,
            4.500745563792782,
            3.7301433570955194,
            5.290129308265675,
            6.831855673091706,
            6.533708477560345,
            4.035078139974598,
            5.087830828954737,
            4.182445216341338,
            5.525173269625709,
            5.750764163877706,
            7.226980242927954,
            7.027230028509072,
            5.463310116929822,
            7.5736047123683665,
            6.707601000611582,
            7.574849887283016,
            6.862234225523807,
            7.921285608224526,
            6.232810182248223,
            10.073962916008972,
            8.587560043772832
           ],
           "yaxis": "y"
          }
         ],
         "name": "36"
        },
        {
         "data": [
          {
           "hovertemplate": "animation_frame=37<br>x=%{x}<br>Mean Value=%{y}<extra></extra>",
           "legendgroup": "",
           "marker": {
            "color": "#636efa",
            "symbol": "circle"
           },
           "mode": "markers",
           "name": "",
           "orientation": "v",
           "showlegend": false,
           "type": "scatter",
           "x": [
            12,
            13,
            14,
            15,
            16,
            17,
            18,
            19,
            21,
            27,
            29,
            31,
            32,
            33,
            34,
            35,
            36,
            37,
            38,
            39,
            40,
            41,
            42,
            43,
            44,
            45,
            46,
            47,
            48
           ],
           "xaxis": "x",
           "y": [
            0.7896547305306292,
            0.9715585575698212,
            0.9624972186994292,
            1.197136176741819,
            1.0833396172593803,
            1.3925177499345665,
            1.170407935784035,
            1.929239047313333,
            2.7449614195256946,
            4.811928759395434,
            5.740507327262714,
            6.864473934663929,
            5.397516904466949,
            4.217557190612531,
            5.185294860990148,
            4.650334130033826,
            4.82052931553413,
            3.707258496487913,
            6.396081031297362,
            7.03161044288653,
            6.150824160810121,
            5.767021910275019,
            6.951614471180019,
            6.907508328796737,
            6.611799204661009,
            7.544638806265127,
            6.77314272389373,
            7.782677361405593,
            10.16560984362409
           ],
           "yaxis": "y"
          }
         ],
         "name": "37"
        },
        {
         "data": [
          {
           "hovertemplate": "animation_frame=38<br>x=%{x}<br>Mean Value=%{y}<extra></extra>",
           "legendgroup": "",
           "marker": {
            "color": "#636efa",
            "symbol": "circle"
           },
           "mode": "markers",
           "name": "",
           "orientation": "v",
           "showlegend": false,
           "type": "scatter",
           "x": [
            12,
            13,
            14,
            15,
            16,
            17,
            18,
            19,
            27,
            30,
            31,
            32,
            33,
            34,
            35,
            36,
            37,
            38,
            39,
            40,
            41,
            42,
            43,
            44,
            45,
            46,
            47,
            48,
            49
           ],
           "xaxis": "x",
           "y": [
            0.7483704297925593,
            0.995769689902956,
            1.0309532574049811,
            0.9650599975716394,
            1.2377971784322703,
            1.2140688683817995,
            1.1208641971079447,
            1.8013059486025749,
            4.961923888511265,
            5.1511048769133065,
            6.396911376518706,
            6.477912664072587,
            4.68823089810046,
            5.189452696522839,
            6.310184968907909,
            4.518304758354488,
            4.0968960671452015,
            5.807018037204476,
            6.598391691232669,
            7.381600894054355,
            6.850487057562569,
            6.757460143887348,
            5.686454901942367,
            7.474815379265846,
            5.985802217398224,
            6.415292473718653,
            7.6717339635500625,
            7.6528652735405585,
            10.059681690795564
           ],
           "yaxis": "y"
          }
         ],
         "name": "38"
        },
        {
         "data": [
          {
           "hovertemplate": "animation_frame=39<br>x=%{x}<br>Mean Value=%{y}<extra></extra>",
           "legendgroup": "",
           "marker": {
            "color": "#636efa",
            "symbol": "circle"
           },
           "mode": "markers",
           "name": "",
           "orientation": "v",
           "showlegend": false,
           "type": "scatter",
           "x": [
            13,
            14,
            15,
            16,
            17,
            18,
            19,
            31,
            33,
            34,
            35,
            36,
            37,
            38,
            39,
            40,
            41,
            42,
            43,
            44,
            45,
            46,
            47,
            48,
            49
           ],
           "xaxis": "x",
           "y": [
            1.0614375941382923,
            0.9647470805746662,
            0.92458129066253,
            1.1567371528814998,
            1.225107746885911,
            1.149090679207793,
            1.8613599681382715,
            6.1633247324954485,
            4.811760144779461,
            4.947113251773224,
            7.385258610355876,
            5.444199607883654,
            4.888060473123415,
            5.190080558533955,
            5.763471395263832,
            6.584976550774786,
            7.236857725918242,
            5.8557893185847645,
            7.368624073678245,
            6.355159670213559,
            7.573897105957149,
            5.517038282457704,
            6.148462438253601,
            9.567541691963612,
            7.7268970545850015
           ],
           "yaxis": "y"
          }
         ],
         "name": "39"
        },
        {
         "data": [
          {
           "hovertemplate": "animation_frame=40<br>x=%{x}<br>Mean Value=%{y}<extra></extra>",
           "legendgroup": "",
           "marker": {
            "color": "#636efa",
            "symbol": "circle"
           },
           "mode": "markers",
           "name": "",
           "orientation": "v",
           "showlegend": false,
           "type": "scatter",
           "x": [
            13,
            14,
            15,
            16,
            17,
            18,
            19,
            31,
            34,
            36,
            37,
            38,
            39,
            40,
            41,
            42,
            43,
            44,
            45,
            46,
            47,
            48,
            49,
            50
           ],
           "xaxis": "x",
           "y": [
            0.8708765833817897,
            1.0823286178570524,
            0.9501954629657092,
            1.1326652544396405,
            1.6307079638550548,
            1.127267440488953,
            1.6581191172203844,
            4.404926929716125,
            5.004887302760242,
            5.6173540237839,
            4.891293373526436,
            5.992993870547214,
            4.122974244057955,
            5.916284482235449,
            7.241495471367811,
            5.704093213040409,
            7.30886233774734,
            6.410571038465491,
            5.26989293515122,
            6.092839369099391,
            7.422803063678581,
            6.338279163221122,
            6.378850438255856,
            9.875639131704741
           ],
           "yaxis": "y"
          }
         ],
         "name": "40"
        },
        {
         "data": [
          {
           "hovertemplate": "animation_frame=41<br>x=%{x}<br>Mean Value=%{y}<extra></extra>",
           "legendgroup": "",
           "marker": {
            "color": "#636efa",
            "symbol": "circle"
           },
           "mode": "markers",
           "name": "",
           "orientation": "v",
           "showlegend": false,
           "type": "scatter",
           "x": [
            14,
            15,
            16,
            17,
            18,
            19,
            29,
            31,
            33,
            34,
            35,
            37,
            38,
            39,
            40,
            41,
            42,
            43,
            44,
            45,
            46,
            47,
            48,
            49,
            50,
            51
           ],
           "xaxis": "x",
           "y": [
            0.9725536469852712,
            0.9433562962374562,
            1.0974078914869427,
            1.6625599740666597,
            1.0547405415122793,
            1.427691104074304,
            4.772914709858338,
            5.569800220452985,
            6.273604136698795,
            5.009409471407622,
            5.054295200915902,
            4.594307584920789,
            6.364150472843279,
            5.215493143770926,
            5.426901771212768,
            6.926262591044262,
            8.391820365358,
            5.582473979765714,
            5.436767381550544,
            5.71755254786531,
            7.694035377200145,
            6.699546961498258,
            6.378024108350405,
            8.222106269248103,
            5.793310517556062,
            10.176790899406624
           ],
           "yaxis": "y"
          }
         ],
         "name": "41"
        },
        {
         "data": [
          {
           "hovertemplate": "animation_frame=42<br>x=%{x}<br>Mean Value=%{y}<extra></extra>",
           "legendgroup": "",
           "marker": {
            "color": "#636efa",
            "symbol": "circle"
           },
           "mode": "markers",
           "name": "",
           "orientation": "v",
           "showlegend": false,
           "type": "scatter",
           "x": [
            14,
            15,
            16,
            17,
            18,
            19,
            29,
            34,
            35,
            37,
            38,
            39,
            40,
            41,
            42,
            43,
            44,
            45,
            46,
            47,
            48,
            49,
            50,
            51
           ],
           "xaxis": "x",
           "y": [
            0.936701797495013,
            0.9453134609979462,
            1.0880378182913817,
            1.5522576307755935,
            1.0488781842544355,
            1.56829420648657,
            4.569345167939714,
            5.028086290382942,
            4.918886207331549,
            5.177617319138902,
            6.686119831678122,
            6.751082835050315,
            5.199765277398347,
            4.888697192504422,
            7.2396103613983565,
            5.8499438914110655,
            4.490299605019049,
            5.4495119713738625,
            7.594808698803912,
            5.8709436794786924,
            6.555382478119396,
            9.503332908142944,
            7.021791382381675,
            9.343382771267953
           ],
           "yaxis": "y"
          }
         ],
         "name": "42"
        },
        {
         "data": [
          {
           "hovertemplate": "animation_frame=43<br>x=%{x}<br>Mean Value=%{y}<extra></extra>",
           "legendgroup": "",
           "marker": {
            "color": "#636efa",
            "symbol": "circle"
           },
           "mode": "markers",
           "name": "",
           "orientation": "v",
           "showlegend": false,
           "type": "scatter",
           "x": [
            14,
            15,
            16,
            17,
            18,
            19,
            34,
            35,
            38,
            39,
            40,
            41,
            42,
            43,
            44,
            45,
            46,
            47,
            48,
            49,
            50,
            51,
            52
           ],
           "xaxis": "x",
           "y": [
            0.913731803187818,
            0.9605008685727096,
            1.097265689110273,
            1.412294441018518,
            1.1421215348326343,
            1.1652385003963204,
            5.578456124689735,
            4.772308110891968,
            5.081693493893264,
            7.298130455774224,
            7.71550183731584,
            4.806649039346038,
            7.103852583393032,
            5.33883452177352,
            5.624140499400274,
            4.610902673545095,
            5.867168910928751,
            7.08299333185646,
            8.6241800027422,
            8.092397265971542,
            5.424357100429762,
            7.101285589726882,
            7.225348937680698
           ],
           "yaxis": "y"
          }
         ],
         "name": "43"
        },
        {
         "data": [
          {
           "hovertemplate": "animation_frame=44<br>x=%{x}<br>Mean Value=%{y}<extra></extra>",
           "legendgroup": "",
           "marker": {
            "color": "#636efa",
            "symbol": "circle"
           },
           "mode": "markers",
           "name": "",
           "orientation": "v",
           "showlegend": false,
           "type": "scatter",
           "x": [
            14,
            15,
            16,
            17,
            18,
            19,
            34,
            35,
            38,
            39,
            40,
            42,
            43,
            44,
            45,
            46,
            47,
            48,
            49,
            50,
            51,
            52
           ],
           "xaxis": "x",
           "y": [
            0.7985967738171094,
            1.0337846030780076,
            1.0118289450183289,
            1.3360246684371875,
            1.1653697431465313,
            1.5141629450482226,
            5.022243823438434,
            5.274888357994573,
            4.753525293949106,
            5.393426003562763,
            5.040232802308188,
            7.733339969326446,
            5.930284672323573,
            6.311278383376195,
            4.541841875275381,
            4.798210130327554,
            7.147205686209244,
            7.089944329412028,
            8.577259815154509,
            5.824206507935139,
            7.410411042142264,
            6.832841662418451
           ],
           "yaxis": "y"
          }
         ],
         "name": "44"
        },
        {
         "data": [
          {
           "hovertemplate": "animation_frame=45<br>x=%{x}<br>Mean Value=%{y}<extra></extra>",
           "legendgroup": "",
           "marker": {
            "color": "#636efa",
            "symbol": "circle"
           },
           "mode": "markers",
           "name": "",
           "orientation": "v",
           "showlegend": false,
           "type": "scatter",
           "x": [
            14,
            15,
            16,
            17,
            18,
            19,
            20,
            35,
            39,
            40,
            41,
            42,
            43,
            44,
            45,
            46,
            47,
            48,
            49,
            50,
            51,
            52
           ],
           "xaxis": "x",
           "y": [
            0.776415450699361,
            1.026920403476756,
            1.0263669555923558,
            1.3316368106550072,
            1.2597675828591366,
            1.4287587218906854,
            1.15604527220649,
            5.202745482527344,
            5.219059610544948,
            4.618270556249001,
            9.053934002029347,
            8.228955319069058,
            5.944617977407481,
            6.432850041307535,
            5.004180223441153,
            5.0446337066653175,
            5.898193115482496,
            7.319606276362427,
            5.661493105013349,
            8.466072866757942,
            7.777403830051,
            6.759050953438518
           ],
           "yaxis": "y"
          }
         ],
         "name": "45"
        },
        {
         "data": [
          {
           "hovertemplate": "animation_frame=46<br>x=%{x}<br>Mean Value=%{y}<extra></extra>",
           "legendgroup": "",
           "marker": {
            "color": "#636efa",
            "symbol": "circle"
           },
           "mode": "markers",
           "name": "",
           "orientation": "v",
           "showlegend": false,
           "type": "scatter",
           "x": [
            14,
            15,
            16,
            17,
            18,
            20,
            23,
            35,
            39,
            40,
            41,
            42,
            43,
            44,
            45,
            46,
            47,
            48,
            49,
            50,
            51
           ],
           "xaxis": "x",
           "y": [
            0.8302310648775418,
            0.9348796521560244,
            1.0446947305264236,
            1.2860363280826446,
            1.1547232427786094,
            1.1632451023351016,
            2.752812659616179,
            5.469968416992591,
            5.285374739913127,
            4.783822102835554,
            8.554333350815867,
            8.741236014245688,
            5.951849875787387,
            4.665671906171366,
            7.438531451480821,
            4.268964433506571,
            5.671193288739904,
            6.227236561591796,
            5.588286391478729,
            5.490046326767945,
            7.713338392432945
           ],
           "yaxis": "y"
          }
         ],
         "name": "46"
        },
        {
         "data": [
          {
           "hovertemplate": "animation_frame=47<br>x=%{x}<br>Mean Value=%{y}<extra></extra>",
           "legendgroup": "",
           "marker": {
            "color": "#636efa",
            "symbol": "circle"
           },
           "mode": "markers",
           "name": "",
           "orientation": "v",
           "showlegend": false,
           "type": "scatter",
           "x": [
            15,
            16,
            17,
            18,
            20,
            35,
            40,
            41,
            44,
            45,
            46,
            47,
            48,
            49,
            50,
            51
           ],
           "xaxis": "x",
           "y": [
            0.9380296519164766,
            0.9926526662912856,
            1.291457180427239,
            1.0974999731871202,
            1.1699614032014105,
            5.605842337920777,
            4.453421117151816,
            6.151079798399024,
            6.445191316999644,
            7.3581200457502,
            3.9217381765694213,
            6.238387959338636,
            5.642123121848396,
            5.554151934390263,
            6.106422981076321,
            6.798462027685734
           ],
           "yaxis": "y"
          }
         ],
         "name": "47"
        },
        {
         "data": [
          {
           "hovertemplate": "animation_frame=48<br>x=%{x}<br>Mean Value=%{y}<extra></extra>",
           "legendgroup": "",
           "marker": {
            "color": "#636efa",
            "symbol": "circle"
           },
           "mode": "markers",
           "name": "",
           "orientation": "v",
           "showlegend": false,
           "type": "scatter",
           "x": [
            15,
            16,
            17,
            18,
            20,
            37,
            41,
            44,
            45,
            46,
            47,
            48,
            49,
            50,
            51,
            53
           ],
           "xaxis": "x",
           "y": [
            0.8521830857932986,
            0.9685371566012472,
            1.3343381946402015,
            1.112694800137352,
            1.1577115629543633,
            6.556118877820761,
            4.490798922647052,
            6.840559649337443,
            7.620057247139429,
            4.915333345202201,
            5.8689015047552795,
            4.360961725835502,
            7.754406191609492,
            7.77500118369026,
            4.789743693703439,
            7.889366725498295
           ],
           "yaxis": "y"
          }
         ],
         "name": "48"
        },
        {
         "data": [
          {
           "hovertemplate": "animation_frame=49<br>x=%{x}<br>Mean Value=%{y}<extra></extra>",
           "legendgroup": "",
           "marker": {
            "color": "#636efa",
            "symbol": "circle"
           },
           "mode": "markers",
           "name": "",
           "orientation": "v",
           "showlegend": false,
           "type": "scatter",
           "x": [
            15,
            16,
            17,
            18,
            20,
            41,
            44,
            45,
            46,
            47,
            48,
            49,
            50,
            53
           ],
           "xaxis": "x",
           "y": [
            1.0899008682669828,
            1.0763473949505875,
            1.3086005987755684,
            1.2107630853747067,
            1.1357054685771963,
            4.102201839556695,
            7.602087993582602,
            8.735774237318084,
            3.596363448525807,
            4.552397090925972,
            6.271014800075541,
            7.759660042586964,
            5.648751159365126,
            8.095012116349285
           ],
           "yaxis": "y"
          }
         ],
         "name": "49"
        },
        {
         "data": [
          {
           "hovertemplate": "animation_frame=50<br>x=%{x}<br>Mean Value=%{y}<extra></extra>",
           "legendgroup": "",
           "marker": {
            "color": "#636efa",
            "symbol": "circle"
           },
           "mode": "markers",
           "name": "",
           "orientation": "v",
           "showlegend": false,
           "type": "scatter",
           "x": [
            15,
            16,
            17,
            18,
            41,
            46,
            48,
            49,
            50
           ],
           "xaxis": "x",
           "y": [
            1.0735894936933694,
            1.0784741382196084,
            1.2766716905615152,
            1.2429274591143202,
            4.021098738172803,
            6.200101731799213,
            5.24380317886112,
            6.17449834137998,
            7.069469649452564
           ],
           "yaxis": "y"
          }
         ],
         "name": "50"
        },
        {
         "data": [
          {
           "hovertemplate": "animation_frame=51<br>x=%{x}<br>Mean Value=%{y}<extra></extra>",
           "legendgroup": "",
           "marker": {
            "color": "#636efa",
            "symbol": "circle"
           },
           "mode": "markers",
           "name": "",
           "orientation": "v",
           "showlegend": false,
           "type": "scatter",
           "x": [
            15,
            16,
            17,
            18,
            46,
            48,
            49,
            50,
            51
           ],
           "xaxis": "x",
           "y": [
            1.1239537530047414,
            1.027924846998587,
            1.2670531543824195,
            1.251458384434469,
            10.301259060176887,
            5.442216313583076,
            5.926870910196504,
            6.256556544430234,
            7.222719853297702
           ],
           "yaxis": "y"
          }
         ],
         "name": "51"
        },
        {
         "data": [
          {
           "hovertemplate": "animation_frame=52<br>x=%{x}<br>Mean Value=%{y}<extra></extra>",
           "legendgroup": "",
           "marker": {
            "color": "#636efa",
            "symbol": "circle"
           },
           "mode": "markers",
           "name": "",
           "orientation": "v",
           "showlegend": false,
           "type": "scatter",
           "x": [
            15,
            16,
            17,
            18,
            21,
            49,
            50,
            51
           ],
           "xaxis": "x",
           "y": [
            1.1014102745960452,
            1.0413270009257312,
            1.2202842759001469,
            1.24523214547903,
            0.9905999875601676,
            5.561153317894577,
            6.494655465142401,
            5.643204200791152
           ],
           "yaxis": "y"
          }
         ],
         "name": "52"
        },
        {
         "data": [
          {
           "hovertemplate": "animation_frame=53<br>x=%{x}<br>Mean Value=%{y}<extra></extra>",
           "legendgroup": "",
           "marker": {
            "color": "#636efa",
            "symbol": "circle"
           },
           "mode": "markers",
           "name": "",
           "orientation": "v",
           "showlegend": false,
           "type": "scatter",
           "x": [
            15,
            16,
            17,
            18,
            21,
            39,
            50,
            51
           ],
           "xaxis": "x",
           "y": [
            1.142954476810888,
            1.0512009054370237,
            1.1054812960807472,
            1.2911684120772962,
            1.215166149677934,
            5.214175518073297,
            5.613959901946193,
            5.937770529018748
           ],
           "yaxis": "y"
          }
         ],
         "name": "53"
        },
        {
         "data": [
          {
           "hovertemplate": "animation_frame=54<br>x=%{x}<br>Mean Value=%{y}<extra></extra>",
           "legendgroup": "",
           "marker": {
            "color": "#636efa",
            "symbol": "circle"
           },
           "mode": "markers",
           "name": "",
           "orientation": "v",
           "showlegend": false,
           "type": "scatter",
           "x": [
            15,
            16,
            18,
            49,
            50,
            53
           ],
           "xaxis": "x",
           "y": [
            1.011472834458795,
            1.0964904932696637,
            1.204877482030748,
            5.425719292488266,
            5.236245922774616,
            5.4078895713539605
           ],
           "yaxis": "y"
          }
         ],
         "name": "54"
        },
        {
         "data": [
          {
           "hovertemplate": "animation_frame=55<br>x=%{x}<br>Mean Value=%{y}<extra></extra>",
           "legendgroup": "",
           "marker": {
            "color": "#636efa",
            "symbol": "circle"
           },
           "mode": "markers",
           "name": "",
           "orientation": "v",
           "showlegend": false,
           "type": "scatter",
           "x": [
            16,
            18,
            50
           ],
           "xaxis": "x",
           "y": [
            1.0812433175113665,
            1.2131293734780333,
            5.750629846912442
           ],
           "yaxis": "y"
          }
         ],
         "name": "55"
        },
        {
         "data": [
          {
           "hovertemplate": "animation_frame=56<br>x=%{x}<br>Mean Value=%{y}<extra></extra>",
           "legendgroup": "",
           "marker": {
            "color": "#636efa",
            "symbol": "circle"
           },
           "mode": "markers",
           "name": "",
           "orientation": "v",
           "showlegend": false,
           "type": "scatter",
           "x": [
            16,
            18,
            19,
            53
           ],
           "xaxis": "x",
           "y": [
            1.0698140314690079,
            1.2363688680358658,
            1.3969390452327606,
            7.600838156312842
           ],
           "yaxis": "y"
          }
         ],
         "name": "56"
        },
        {
         "data": [
          {
           "hovertemplate": "animation_frame=57<br>x=%{x}<br>Mean Value=%{y}<extra></extra>",
           "legendgroup": "",
           "marker": {
            "color": "#636efa",
            "symbol": "circle"
           },
           "mode": "markers",
           "name": "",
           "orientation": "v",
           "showlegend": false,
           "type": "scatter",
           "x": [
            16,
            18
           ],
           "xaxis": "x",
           "y": [
            0.9921562666656862,
            1.119463174175658
           ],
           "yaxis": "y"
          }
         ],
         "name": "57"
        },
        {
         "data": [
          {
           "hovertemplate": "animation_frame=58<br>x=%{x}<br>Mean Value=%{y}<extra></extra>",
           "legendgroup": "",
           "marker": {
            "color": "#636efa",
            "symbol": "circle"
           },
           "mode": "markers",
           "name": "",
           "orientation": "v",
           "showlegend": false,
           "type": "scatter",
           "x": [
            16,
            18,
            19
           ],
           "xaxis": "x",
           "y": [
            0.9139764742952208,
            1.1465513774637244,
            1.5539597115906665
           ],
           "yaxis": "y"
          }
         ],
         "name": "58"
        },
        {
         "data": [
          {
           "hovertemplate": "animation_frame=59<br>x=%{x}<br>Mean Value=%{y}<extra></extra>",
           "legendgroup": "",
           "marker": {
            "color": "#636efa",
            "symbol": "circle"
           },
           "mode": "markers",
           "name": "",
           "orientation": "v",
           "showlegend": false,
           "type": "scatter",
           "x": [
            15,
            16,
            19
           ],
           "xaxis": "x",
           "y": [
            0.946988981113942,
            0.92547471480092,
            1.3015892983849635
           ],
           "yaxis": "y"
          }
         ],
         "name": "59"
        },
        {
         "data": [
          {
           "hovertemplate": "animation_frame=60<br>x=%{x}<br>Mean Value=%{y}<extra></extra>",
           "legendgroup": "",
           "marker": {
            "color": "#636efa",
            "symbol": "circle"
           },
           "mode": "markers",
           "name": "",
           "orientation": "v",
           "showlegend": false,
           "type": "scatter",
           "x": [
            16
           ],
           "xaxis": "x",
           "y": [
            0.8896903028844797
           ],
           "yaxis": "y"
          }
         ],
         "name": "60"
        },
        {
         "data": [
          {
           "hovertemplate": "animation_frame=61<br>x=%{x}<br>Mean Value=%{y}<extra></extra>",
           "legendgroup": "",
           "marker": {
            "color": "#636efa",
            "symbol": "circle"
           },
           "mode": "markers",
           "name": "",
           "orientation": "v",
           "showlegend": false,
           "type": "scatter",
           "x": [
            16
           ],
           "xaxis": "x",
           "y": [
            0.8440398988357823
           ],
           "yaxis": "y"
          }
         ],
         "name": "61"
        },
        {
         "data": [
          {
           "hovertemplate": "animation_frame=62<br>x=%{x}<br>Mean Value=%{y}<extra></extra>",
           "legendgroup": "",
           "marker": {
            "color": "#636efa",
            "symbol": "circle"
           },
           "mode": "markers",
           "name": "",
           "orientation": "v",
           "showlegend": false,
           "type": "scatter",
           "x": [
            16
           ],
           "xaxis": "x",
           "y": [
            0.8151554772946927
           ],
           "yaxis": "y"
          }
         ],
         "name": "62"
        },
        {
         "data": [
          {
           "hovertemplate": "animation_frame=63<br>x=%{x}<br>Mean Value=%{y}<extra></extra>",
           "legendgroup": "",
           "marker": {
            "color": "#636efa",
            "symbol": "circle"
           },
           "mode": "markers",
           "name": "",
           "orientation": "v",
           "showlegend": false,
           "type": "scatter",
           "x": [
            16
           ],
           "xaxis": "x",
           "y": [
            0.8195304410662774
           ],
           "yaxis": "y"
          }
         ],
         "name": "63"
        },
        {
         "data": [
          {
           "hovertemplate": "animation_frame=64<br>x=%{x}<br>Mean Value=%{y}<extra></extra>",
           "legendgroup": "",
           "marker": {
            "color": "#636efa",
            "symbol": "circle"
           },
           "mode": "markers",
           "name": "",
           "orientation": "v",
           "showlegend": false,
           "type": "scatter",
           "x": [
            16
           ],
           "xaxis": "x",
           "y": [
            0.8748569053400683
           ],
           "yaxis": "y"
          }
         ],
         "name": "64"
        },
        {
         "data": [
          {
           "hovertemplate": "animation_frame=65<br>x=%{x}<br>Mean Value=%{y}<extra></extra>",
           "legendgroup": "",
           "marker": {
            "color": "#636efa",
            "symbol": "circle"
           },
           "mode": "markers",
           "name": "",
           "orientation": "v",
           "showlegend": false,
           "type": "scatter",
           "x": [
            16
           ],
           "xaxis": "x",
           "y": [
            0.8893866739595282
           ],
           "yaxis": "y"
          }
         ],
         "name": "65"
        },
        {
         "data": [
          {
           "hovertemplate": "animation_frame=67<br>x=%{x}<br>Mean Value=%{y}<extra></extra>",
           "legendgroup": "",
           "marker": {
            "color": "#636efa",
            "symbol": "circle"
           },
           "mode": "markers",
           "name": "",
           "orientation": "v",
           "showlegend": false,
           "type": "scatter",
           "x": [
            16
           ],
           "xaxis": "x",
           "y": [
            0.8396962593931785
           ],
           "yaxis": "y"
          }
         ],
         "name": "67"
        },
        {
         "data": [
          {
           "hovertemplate": "animation_frame=68<br>x=%{x}<br>Mean Value=%{y}<extra></extra>",
           "legendgroup": "",
           "marker": {
            "color": "#636efa",
            "symbol": "circle"
           },
           "mode": "markers",
           "name": "",
           "orientation": "v",
           "showlegend": false,
           "type": "scatter",
           "x": [
            16
           ],
           "xaxis": "x",
           "y": [
            0.8399257006039889
           ],
           "yaxis": "y"
          }
         ],
         "name": "68"
        },
        {
         "data": [
          {
           "hovertemplate": "animation_frame=69<br>x=%{x}<br>Mean Value=%{y}<extra></extra>",
           "legendgroup": "",
           "marker": {
            "color": "#636efa",
            "symbol": "circle"
           },
           "mode": "markers",
           "name": "",
           "orientation": "v",
           "showlegend": false,
           "type": "scatter",
           "x": [
            16
           ],
           "xaxis": "x",
           "y": [
            0.8034664295343807
           ],
           "yaxis": "y"
          }
         ],
         "name": "69"
        },
        {
         "data": [
          {
           "hovertemplate": "animation_frame=75<br>x=%{x}<br>Mean Value=%{y}<extra></extra>",
           "legendgroup": "",
           "marker": {
            "color": "#636efa",
            "symbol": "circle"
           },
           "mode": "markers",
           "name": "",
           "orientation": "v",
           "showlegend": false,
           "type": "scatter",
           "x": [
            18
           ],
           "xaxis": "x",
           "y": [
            0.8581117821917271
           ],
           "yaxis": "y"
          }
         ],
         "name": "75"
        },
        {
         "data": [
          {
           "hovertemplate": "animation_frame=77<br>x=%{x}<br>Mean Value=%{y}<extra></extra>",
           "legendgroup": "",
           "marker": {
            "color": "#636efa",
            "symbol": "circle"
           },
           "mode": "markers",
           "name": "",
           "orientation": "v",
           "showlegend": false,
           "type": "scatter",
           "x": [
            19
           ],
           "xaxis": "x",
           "y": [
            0.9160247938274021
           ],
           "yaxis": "y"
          }
         ],
         "name": "77"
        },
        {
         "data": [
          {
           "hovertemplate": "animation_frame=78<br>x=%{x}<br>Mean Value=%{y}<extra></extra>",
           "legendgroup": "",
           "marker": {
            "color": "#636efa",
            "symbol": "circle"
           },
           "mode": "markers",
           "name": "",
           "orientation": "v",
           "showlegend": false,
           "type": "scatter",
           "x": [
            19
           ],
           "xaxis": "x",
           "y": [
            0.9286604484938201
           ],
           "yaxis": "y"
          }
         ],
         "name": "78"
        },
        {
         "data": [
          {
           "hovertemplate": "animation_frame=79<br>x=%{x}<br>Mean Value=%{y}<extra></extra>",
           "legendgroup": "",
           "marker": {
            "color": "#636efa",
            "symbol": "circle"
           },
           "mode": "markers",
           "name": "",
           "orientation": "v",
           "showlegend": false,
           "type": "scatter",
           "x": [
            19
           ],
           "xaxis": "x",
           "y": [
            0.9112825057685708
           ],
           "yaxis": "y"
          }
         ],
         "name": "79"
        },
        {
         "data": [
          {
           "hovertemplate": "animation_frame=80<br>x=%{x}<br>Mean Value=%{y}<extra></extra>",
           "legendgroup": "",
           "marker": {
            "color": "#636efa",
            "symbol": "circle"
           },
           "mode": "markers",
           "name": "",
           "orientation": "v",
           "showlegend": false,
           "type": "scatter",
           "x": [
            19
           ],
           "xaxis": "x",
           "y": [
            0.9616281292863396
           ],
           "yaxis": "y"
          }
         ],
         "name": "80"
        },
        {
         "data": [
          {
           "hovertemplate": "animation_frame=81<br>x=%{x}<br>Mean Value=%{y}<extra></extra>",
           "legendgroup": "",
           "marker": {
            "color": "#636efa",
            "symbol": "circle"
           },
           "mode": "markers",
           "name": "",
           "orientation": "v",
           "showlegend": false,
           "type": "scatter",
           "x": [
            19
           ],
           "xaxis": "x",
           "y": [
            0.98516184038281
           ],
           "yaxis": "y"
          }
         ],
         "name": "81"
        },
        {
         "data": [
          {
           "hovertemplate": "animation_frame=82<br>x=%{x}<br>Mean Value=%{y}<extra></extra>",
           "legendgroup": "",
           "marker": {
            "color": "#636efa",
            "symbol": "circle"
           },
           "mode": "markers",
           "name": "",
           "orientation": "v",
           "showlegend": false,
           "type": "scatter",
           "x": [
            19
           ],
           "xaxis": "x",
           "y": [
            0.9865581437938429
           ],
           "yaxis": "y"
          }
         ],
         "name": "82"
        },
        {
         "data": [
          {
           "hovertemplate": "animation_frame=83<br>x=%{x}<br>Mean Value=%{y}<extra></extra>",
           "legendgroup": "",
           "marker": {
            "color": "#636efa",
            "symbol": "circle"
           },
           "mode": "markers",
           "name": "",
           "orientation": "v",
           "showlegend": false,
           "type": "scatter",
           "x": [
            19
           ],
           "xaxis": "x",
           "y": [
            0.9958670114945845
           ],
           "yaxis": "y"
          }
         ],
         "name": "83"
        }
       ],
       "layout": {
        "height": 400,
        "legend": {
         "tracegroupgap": 0
        },
        "margin": {
         "b": 50,
         "l": 50,
         "r": 50,
         "t": 50
        },
        "sliders": [
         {
          "active": 0,
          "currentvalue": {
           "prefix": "animation_frame="
          },
          "len": 0.9,
          "pad": {
           "b": 10,
           "t": 60
          },
          "steps": [
           {
            "args": [
             [
              "1"
             ],
             {
              "frame": {
               "duration": 0,
               "redraw": false
              },
              "fromcurrent": true,
              "mode": "immediate",
              "transition": {
               "duration": 0,
               "easing": "linear"
              }
             }
            ],
            "label": "1",
            "method": "animate"
           },
           {
            "args": [
             [
              "2"
             ],
             {
              "frame": {
               "duration": 0,
               "redraw": false
              },
              "fromcurrent": true,
              "mode": "immediate",
              "transition": {
               "duration": 0,
               "easing": "linear"
              }
             }
            ],
            "label": "2",
            "method": "animate"
           },
           {
            "args": [
             [
              "3"
             ],
             {
              "frame": {
               "duration": 0,
               "redraw": false
              },
              "fromcurrent": true,
              "mode": "immediate",
              "transition": {
               "duration": 0,
               "easing": "linear"
              }
             }
            ],
            "label": "3",
            "method": "animate"
           },
           {
            "args": [
             [
              "4"
             ],
             {
              "frame": {
               "duration": 0,
               "redraw": false
              },
              "fromcurrent": true,
              "mode": "immediate",
              "transition": {
               "duration": 0,
               "easing": "linear"
              }
             }
            ],
            "label": "4",
            "method": "animate"
           },
           {
            "args": [
             [
              "5"
             ],
             {
              "frame": {
               "duration": 0,
               "redraw": false
              },
              "fromcurrent": true,
              "mode": "immediate",
              "transition": {
               "duration": 0,
               "easing": "linear"
              }
             }
            ],
            "label": "5",
            "method": "animate"
           },
           {
            "args": [
             [
              "6"
             ],
             {
              "frame": {
               "duration": 0,
               "redraw": false
              },
              "fromcurrent": true,
              "mode": "immediate",
              "transition": {
               "duration": 0,
               "easing": "linear"
              }
             }
            ],
            "label": "6",
            "method": "animate"
           },
           {
            "args": [
             [
              "7"
             ],
             {
              "frame": {
               "duration": 0,
               "redraw": false
              },
              "fromcurrent": true,
              "mode": "immediate",
              "transition": {
               "duration": 0,
               "easing": "linear"
              }
             }
            ],
            "label": "7",
            "method": "animate"
           },
           {
            "args": [
             [
              "8"
             ],
             {
              "frame": {
               "duration": 0,
               "redraw": false
              },
              "fromcurrent": true,
              "mode": "immediate",
              "transition": {
               "duration": 0,
               "easing": "linear"
              }
             }
            ],
            "label": "8",
            "method": "animate"
           },
           {
            "args": [
             [
              "9"
             ],
             {
              "frame": {
               "duration": 0,
               "redraw": false
              },
              "fromcurrent": true,
              "mode": "immediate",
              "transition": {
               "duration": 0,
               "easing": "linear"
              }
             }
            ],
            "label": "9",
            "method": "animate"
           },
           {
            "args": [
             [
              "10"
             ],
             {
              "frame": {
               "duration": 0,
               "redraw": false
              },
              "fromcurrent": true,
              "mode": "immediate",
              "transition": {
               "duration": 0,
               "easing": "linear"
              }
             }
            ],
            "label": "10",
            "method": "animate"
           },
           {
            "args": [
             [
              "11"
             ],
             {
              "frame": {
               "duration": 0,
               "redraw": false
              },
              "fromcurrent": true,
              "mode": "immediate",
              "transition": {
               "duration": 0,
               "easing": "linear"
              }
             }
            ],
            "label": "11",
            "method": "animate"
           },
           {
            "args": [
             [
              "12"
             ],
             {
              "frame": {
               "duration": 0,
               "redraw": false
              },
              "fromcurrent": true,
              "mode": "immediate",
              "transition": {
               "duration": 0,
               "easing": "linear"
              }
             }
            ],
            "label": "12",
            "method": "animate"
           },
           {
            "args": [
             [
              "13"
             ],
             {
              "frame": {
               "duration": 0,
               "redraw": false
              },
              "fromcurrent": true,
              "mode": "immediate",
              "transition": {
               "duration": 0,
               "easing": "linear"
              }
             }
            ],
            "label": "13",
            "method": "animate"
           },
           {
            "args": [
             [
              "14"
             ],
             {
              "frame": {
               "duration": 0,
               "redraw": false
              },
              "fromcurrent": true,
              "mode": "immediate",
              "transition": {
               "duration": 0,
               "easing": "linear"
              }
             }
            ],
            "label": "14",
            "method": "animate"
           },
           {
            "args": [
             [
              "15"
             ],
             {
              "frame": {
               "duration": 0,
               "redraw": false
              },
              "fromcurrent": true,
              "mode": "immediate",
              "transition": {
               "duration": 0,
               "easing": "linear"
              }
             }
            ],
            "label": "15",
            "method": "animate"
           },
           {
            "args": [
             [
              "16"
             ],
             {
              "frame": {
               "duration": 0,
               "redraw": false
              },
              "fromcurrent": true,
              "mode": "immediate",
              "transition": {
               "duration": 0,
               "easing": "linear"
              }
             }
            ],
            "label": "16",
            "method": "animate"
           },
           {
            "args": [
             [
              "17"
             ],
             {
              "frame": {
               "duration": 0,
               "redraw": false
              },
              "fromcurrent": true,
              "mode": "immediate",
              "transition": {
               "duration": 0,
               "easing": "linear"
              }
             }
            ],
            "label": "17",
            "method": "animate"
           },
           {
            "args": [
             [
              "18"
             ],
             {
              "frame": {
               "duration": 0,
               "redraw": false
              },
              "fromcurrent": true,
              "mode": "immediate",
              "transition": {
               "duration": 0,
               "easing": "linear"
              }
             }
            ],
            "label": "18",
            "method": "animate"
           },
           {
            "args": [
             [
              "19"
             ],
             {
              "frame": {
               "duration": 0,
               "redraw": false
              },
              "fromcurrent": true,
              "mode": "immediate",
              "transition": {
               "duration": 0,
               "easing": "linear"
              }
             }
            ],
            "label": "19",
            "method": "animate"
           },
           {
            "args": [
             [
              "20"
             ],
             {
              "frame": {
               "duration": 0,
               "redraw": false
              },
              "fromcurrent": true,
              "mode": "immediate",
              "transition": {
               "duration": 0,
               "easing": "linear"
              }
             }
            ],
            "label": "20",
            "method": "animate"
           },
           {
            "args": [
             [
              "21"
             ],
             {
              "frame": {
               "duration": 0,
               "redraw": false
              },
              "fromcurrent": true,
              "mode": "immediate",
              "transition": {
               "duration": 0,
               "easing": "linear"
              }
             }
            ],
            "label": "21",
            "method": "animate"
           },
           {
            "args": [
             [
              "22"
             ],
             {
              "frame": {
               "duration": 0,
               "redraw": false
              },
              "fromcurrent": true,
              "mode": "immediate",
              "transition": {
               "duration": 0,
               "easing": "linear"
              }
             }
            ],
            "label": "22",
            "method": "animate"
           },
           {
            "args": [
             [
              "23"
             ],
             {
              "frame": {
               "duration": 0,
               "redraw": false
              },
              "fromcurrent": true,
              "mode": "immediate",
              "transition": {
               "duration": 0,
               "easing": "linear"
              }
             }
            ],
            "label": "23",
            "method": "animate"
           },
           {
            "args": [
             [
              "24"
             ],
             {
              "frame": {
               "duration": 0,
               "redraw": false
              },
              "fromcurrent": true,
              "mode": "immediate",
              "transition": {
               "duration": 0,
               "easing": "linear"
              }
             }
            ],
            "label": "24",
            "method": "animate"
           },
           {
            "args": [
             [
              "25"
             ],
             {
              "frame": {
               "duration": 0,
               "redraw": false
              },
              "fromcurrent": true,
              "mode": "immediate",
              "transition": {
               "duration": 0,
               "easing": "linear"
              }
             }
            ],
            "label": "25",
            "method": "animate"
           },
           {
            "args": [
             [
              "26"
             ],
             {
              "frame": {
               "duration": 0,
               "redraw": false
              },
              "fromcurrent": true,
              "mode": "immediate",
              "transition": {
               "duration": 0,
               "easing": "linear"
              }
             }
            ],
            "label": "26",
            "method": "animate"
           },
           {
            "args": [
             [
              "27"
             ],
             {
              "frame": {
               "duration": 0,
               "redraw": false
              },
              "fromcurrent": true,
              "mode": "immediate",
              "transition": {
               "duration": 0,
               "easing": "linear"
              }
             }
            ],
            "label": "27",
            "method": "animate"
           },
           {
            "args": [
             [
              "28"
             ],
             {
              "frame": {
               "duration": 0,
               "redraw": false
              },
              "fromcurrent": true,
              "mode": "immediate",
              "transition": {
               "duration": 0,
               "easing": "linear"
              }
             }
            ],
            "label": "28",
            "method": "animate"
           },
           {
            "args": [
             [
              "29"
             ],
             {
              "frame": {
               "duration": 0,
               "redraw": false
              },
              "fromcurrent": true,
              "mode": "immediate",
              "transition": {
               "duration": 0,
               "easing": "linear"
              }
             }
            ],
            "label": "29",
            "method": "animate"
           },
           {
            "args": [
             [
              "30"
             ],
             {
              "frame": {
               "duration": 0,
               "redraw": false
              },
              "fromcurrent": true,
              "mode": "immediate",
              "transition": {
               "duration": 0,
               "easing": "linear"
              }
             }
            ],
            "label": "30",
            "method": "animate"
           },
           {
            "args": [
             [
              "31"
             ],
             {
              "frame": {
               "duration": 0,
               "redraw": false
              },
              "fromcurrent": true,
              "mode": "immediate",
              "transition": {
               "duration": 0,
               "easing": "linear"
              }
             }
            ],
            "label": "31",
            "method": "animate"
           },
           {
            "args": [
             [
              "32"
             ],
             {
              "frame": {
               "duration": 0,
               "redraw": false
              },
              "fromcurrent": true,
              "mode": "immediate",
              "transition": {
               "duration": 0,
               "easing": "linear"
              }
             }
            ],
            "label": "32",
            "method": "animate"
           },
           {
            "args": [
             [
              "33"
             ],
             {
              "frame": {
               "duration": 0,
               "redraw": false
              },
              "fromcurrent": true,
              "mode": "immediate",
              "transition": {
               "duration": 0,
               "easing": "linear"
              }
             }
            ],
            "label": "33",
            "method": "animate"
           },
           {
            "args": [
             [
              "34"
             ],
             {
              "frame": {
               "duration": 0,
               "redraw": false
              },
              "fromcurrent": true,
              "mode": "immediate",
              "transition": {
               "duration": 0,
               "easing": "linear"
              }
             }
            ],
            "label": "34",
            "method": "animate"
           },
           {
            "args": [
             [
              "35"
             ],
             {
              "frame": {
               "duration": 0,
               "redraw": false
              },
              "fromcurrent": true,
              "mode": "immediate",
              "transition": {
               "duration": 0,
               "easing": "linear"
              }
             }
            ],
            "label": "35",
            "method": "animate"
           },
           {
            "args": [
             [
              "36"
             ],
             {
              "frame": {
               "duration": 0,
               "redraw": false
              },
              "fromcurrent": true,
              "mode": "immediate",
              "transition": {
               "duration": 0,
               "easing": "linear"
              }
             }
            ],
            "label": "36",
            "method": "animate"
           },
           {
            "args": [
             [
              "37"
             ],
             {
              "frame": {
               "duration": 0,
               "redraw": false
              },
              "fromcurrent": true,
              "mode": "immediate",
              "transition": {
               "duration": 0,
               "easing": "linear"
              }
             }
            ],
            "label": "37",
            "method": "animate"
           },
           {
            "args": [
             [
              "38"
             ],
             {
              "frame": {
               "duration": 0,
               "redraw": false
              },
              "fromcurrent": true,
              "mode": "immediate",
              "transition": {
               "duration": 0,
               "easing": "linear"
              }
             }
            ],
            "label": "38",
            "method": "animate"
           },
           {
            "args": [
             [
              "39"
             ],
             {
              "frame": {
               "duration": 0,
               "redraw": false
              },
              "fromcurrent": true,
              "mode": "immediate",
              "transition": {
               "duration": 0,
               "easing": "linear"
              }
             }
            ],
            "label": "39",
            "method": "animate"
           },
           {
            "args": [
             [
              "40"
             ],
             {
              "frame": {
               "duration": 0,
               "redraw": false
              },
              "fromcurrent": true,
              "mode": "immediate",
              "transition": {
               "duration": 0,
               "easing": "linear"
              }
             }
            ],
            "label": "40",
            "method": "animate"
           },
           {
            "args": [
             [
              "41"
             ],
             {
              "frame": {
               "duration": 0,
               "redraw": false
              },
              "fromcurrent": true,
              "mode": "immediate",
              "transition": {
               "duration": 0,
               "easing": "linear"
              }
             }
            ],
            "label": "41",
            "method": "animate"
           },
           {
            "args": [
             [
              "42"
             ],
             {
              "frame": {
               "duration": 0,
               "redraw": false
              },
              "fromcurrent": true,
              "mode": "immediate",
              "transition": {
               "duration": 0,
               "easing": "linear"
              }
             }
            ],
            "label": "42",
            "method": "animate"
           },
           {
            "args": [
             [
              "43"
             ],
             {
              "frame": {
               "duration": 0,
               "redraw": false
              },
              "fromcurrent": true,
              "mode": "immediate",
              "transition": {
               "duration": 0,
               "easing": "linear"
              }
             }
            ],
            "label": "43",
            "method": "animate"
           },
           {
            "args": [
             [
              "44"
             ],
             {
              "frame": {
               "duration": 0,
               "redraw": false
              },
              "fromcurrent": true,
              "mode": "immediate",
              "transition": {
               "duration": 0,
               "easing": "linear"
              }
             }
            ],
            "label": "44",
            "method": "animate"
           },
           {
            "args": [
             [
              "45"
             ],
             {
              "frame": {
               "duration": 0,
               "redraw": false
              },
              "fromcurrent": true,
              "mode": "immediate",
              "transition": {
               "duration": 0,
               "easing": "linear"
              }
             }
            ],
            "label": "45",
            "method": "animate"
           },
           {
            "args": [
             [
              "46"
             ],
             {
              "frame": {
               "duration": 0,
               "redraw": false
              },
              "fromcurrent": true,
              "mode": "immediate",
              "transition": {
               "duration": 0,
               "easing": "linear"
              }
             }
            ],
            "label": "46",
            "method": "animate"
           },
           {
            "args": [
             [
              "47"
             ],
             {
              "frame": {
               "duration": 0,
               "redraw": false
              },
              "fromcurrent": true,
              "mode": "immediate",
              "transition": {
               "duration": 0,
               "easing": "linear"
              }
             }
            ],
            "label": "47",
            "method": "animate"
           },
           {
            "args": [
             [
              "48"
             ],
             {
              "frame": {
               "duration": 0,
               "redraw": false
              },
              "fromcurrent": true,
              "mode": "immediate",
              "transition": {
               "duration": 0,
               "easing": "linear"
              }
             }
            ],
            "label": "48",
            "method": "animate"
           },
           {
            "args": [
             [
              "49"
             ],
             {
              "frame": {
               "duration": 0,
               "redraw": false
              },
              "fromcurrent": true,
              "mode": "immediate",
              "transition": {
               "duration": 0,
               "easing": "linear"
              }
             }
            ],
            "label": "49",
            "method": "animate"
           },
           {
            "args": [
             [
              "50"
             ],
             {
              "frame": {
               "duration": 0,
               "redraw": false
              },
              "fromcurrent": true,
              "mode": "immediate",
              "transition": {
               "duration": 0,
               "easing": "linear"
              }
             }
            ],
            "label": "50",
            "method": "animate"
           },
           {
            "args": [
             [
              "51"
             ],
             {
              "frame": {
               "duration": 0,
               "redraw": false
              },
              "fromcurrent": true,
              "mode": "immediate",
              "transition": {
               "duration": 0,
               "easing": "linear"
              }
             }
            ],
            "label": "51",
            "method": "animate"
           },
           {
            "args": [
             [
              "52"
             ],
             {
              "frame": {
               "duration": 0,
               "redraw": false
              },
              "fromcurrent": true,
              "mode": "immediate",
              "transition": {
               "duration": 0,
               "easing": "linear"
              }
             }
            ],
            "label": "52",
            "method": "animate"
           },
           {
            "args": [
             [
              "53"
             ],
             {
              "frame": {
               "duration": 0,
               "redraw": false
              },
              "fromcurrent": true,
              "mode": "immediate",
              "transition": {
               "duration": 0,
               "easing": "linear"
              }
             }
            ],
            "label": "53",
            "method": "animate"
           },
           {
            "args": [
             [
              "54"
             ],
             {
              "frame": {
               "duration": 0,
               "redraw": false
              },
              "fromcurrent": true,
              "mode": "immediate",
              "transition": {
               "duration": 0,
               "easing": "linear"
              }
             }
            ],
            "label": "54",
            "method": "animate"
           },
           {
            "args": [
             [
              "55"
             ],
             {
              "frame": {
               "duration": 0,
               "redraw": false
              },
              "fromcurrent": true,
              "mode": "immediate",
              "transition": {
               "duration": 0,
               "easing": "linear"
              }
             }
            ],
            "label": "55",
            "method": "animate"
           },
           {
            "args": [
             [
              "56"
             ],
             {
              "frame": {
               "duration": 0,
               "redraw": false
              },
              "fromcurrent": true,
              "mode": "immediate",
              "transition": {
               "duration": 0,
               "easing": "linear"
              }
             }
            ],
            "label": "56",
            "method": "animate"
           },
           {
            "args": [
             [
              "57"
             ],
             {
              "frame": {
               "duration": 0,
               "redraw": false
              },
              "fromcurrent": true,
              "mode": "immediate",
              "transition": {
               "duration": 0,
               "easing": "linear"
              }
             }
            ],
            "label": "57",
            "method": "animate"
           },
           {
            "args": [
             [
              "58"
             ],
             {
              "frame": {
               "duration": 0,
               "redraw": false
              },
              "fromcurrent": true,
              "mode": "immediate",
              "transition": {
               "duration": 0,
               "easing": "linear"
              }
             }
            ],
            "label": "58",
            "method": "animate"
           },
           {
            "args": [
             [
              "59"
             ],
             {
              "frame": {
               "duration": 0,
               "redraw": false
              },
              "fromcurrent": true,
              "mode": "immediate",
              "transition": {
               "duration": 0,
               "easing": "linear"
              }
             }
            ],
            "label": "59",
            "method": "animate"
           },
           {
            "args": [
             [
              "60"
             ],
             {
              "frame": {
               "duration": 0,
               "redraw": false
              },
              "fromcurrent": true,
              "mode": "immediate",
              "transition": {
               "duration": 0,
               "easing": "linear"
              }
             }
            ],
            "label": "60",
            "method": "animate"
           },
           {
            "args": [
             [
              "61"
             ],
             {
              "frame": {
               "duration": 0,
               "redraw": false
              },
              "fromcurrent": true,
              "mode": "immediate",
              "transition": {
               "duration": 0,
               "easing": "linear"
              }
             }
            ],
            "label": "61",
            "method": "animate"
           },
           {
            "args": [
             [
              "62"
             ],
             {
              "frame": {
               "duration": 0,
               "redraw": false
              },
              "fromcurrent": true,
              "mode": "immediate",
              "transition": {
               "duration": 0,
               "easing": "linear"
              }
             }
            ],
            "label": "62",
            "method": "animate"
           },
           {
            "args": [
             [
              "63"
             ],
             {
              "frame": {
               "duration": 0,
               "redraw": false
              },
              "fromcurrent": true,
              "mode": "immediate",
              "transition": {
               "duration": 0,
               "easing": "linear"
              }
             }
            ],
            "label": "63",
            "method": "animate"
           },
           {
            "args": [
             [
              "64"
             ],
             {
              "frame": {
               "duration": 0,
               "redraw": false
              },
              "fromcurrent": true,
              "mode": "immediate",
              "transition": {
               "duration": 0,
               "easing": "linear"
              }
             }
            ],
            "label": "64",
            "method": "animate"
           },
           {
            "args": [
             [
              "65"
             ],
             {
              "frame": {
               "duration": 0,
               "redraw": false
              },
              "fromcurrent": true,
              "mode": "immediate",
              "transition": {
               "duration": 0,
               "easing": "linear"
              }
             }
            ],
            "label": "65",
            "method": "animate"
           },
           {
            "args": [
             [
              "67"
             ],
             {
              "frame": {
               "duration": 0,
               "redraw": false
              },
              "fromcurrent": true,
              "mode": "immediate",
              "transition": {
               "duration": 0,
               "easing": "linear"
              }
             }
            ],
            "label": "67",
            "method": "animate"
           },
           {
            "args": [
             [
              "68"
             ],
             {
              "frame": {
               "duration": 0,
               "redraw": false
              },
              "fromcurrent": true,
              "mode": "immediate",
              "transition": {
               "duration": 0,
               "easing": "linear"
              }
             }
            ],
            "label": "68",
            "method": "animate"
           },
           {
            "args": [
             [
              "69"
             ],
             {
              "frame": {
               "duration": 0,
               "redraw": false
              },
              "fromcurrent": true,
              "mode": "immediate",
              "transition": {
               "duration": 0,
               "easing": "linear"
              }
             }
            ],
            "label": "69",
            "method": "animate"
           },
           {
            "args": [
             [
              "75"
             ],
             {
              "frame": {
               "duration": 0,
               "redraw": false
              },
              "fromcurrent": true,
              "mode": "immediate",
              "transition": {
               "duration": 0,
               "easing": "linear"
              }
             }
            ],
            "label": "75",
            "method": "animate"
           },
           {
            "args": [
             [
              "77"
             ],
             {
              "frame": {
               "duration": 0,
               "redraw": false
              },
              "fromcurrent": true,
              "mode": "immediate",
              "transition": {
               "duration": 0,
               "easing": "linear"
              }
             }
            ],
            "label": "77",
            "method": "animate"
           },
           {
            "args": [
             [
              "78"
             ],
             {
              "frame": {
               "duration": 0,
               "redraw": false
              },
              "fromcurrent": true,
              "mode": "immediate",
              "transition": {
               "duration": 0,
               "easing": "linear"
              }
             }
            ],
            "label": "78",
            "method": "animate"
           },
           {
            "args": [
             [
              "79"
             ],
             {
              "frame": {
               "duration": 0,
               "redraw": false
              },
              "fromcurrent": true,
              "mode": "immediate",
              "transition": {
               "duration": 0,
               "easing": "linear"
              }
             }
            ],
            "label": "79",
            "method": "animate"
           },
           {
            "args": [
             [
              "80"
             ],
             {
              "frame": {
               "duration": 0,
               "redraw": false
              },
              "fromcurrent": true,
              "mode": "immediate",
              "transition": {
               "duration": 0,
               "easing": "linear"
              }
             }
            ],
            "label": "80",
            "method": "animate"
           },
           {
            "args": [
             [
              "81"
             ],
             {
              "frame": {
               "duration": 0,
               "redraw": false
              },
              "fromcurrent": true,
              "mode": "immediate",
              "transition": {
               "duration": 0,
               "easing": "linear"
              }
             }
            ],
            "label": "81",
            "method": "animate"
           },
           {
            "args": [
             [
              "82"
             ],
             {
              "frame": {
               "duration": 0,
               "redraw": false
              },
              "fromcurrent": true,
              "mode": "immediate",
              "transition": {
               "duration": 0,
               "easing": "linear"
              }
             }
            ],
            "label": "82",
            "method": "animate"
           },
           {
            "args": [
             [
              "83"
             ],
             {
              "frame": {
               "duration": 0,
               "redraw": false
              },
              "fromcurrent": true,
              "mode": "immediate",
              "transition": {
               "duration": 0,
               "easing": "linear"
              }
             }
            ],
            "label": "83",
            "method": "animate"
           }
          ],
          "x": 0.1,
          "xanchor": "left",
          "y": 0,
          "yanchor": "top"
         }
        ],
        "template": {
         "data": {
          "bar": [
           {
            "error_x": {
             "color": "#2a3f5f"
            },
            "error_y": {
             "color": "#2a3f5f"
            },
            "marker": {
             "line": {
              "color": "#E5ECF6",
              "width": 0.5
             },
             "pattern": {
              "fillmode": "overlay",
              "size": 10,
              "solidity": 0.2
             }
            },
            "type": "bar"
           }
          ],
          "barpolar": [
           {
            "marker": {
             "line": {
              "color": "#E5ECF6",
              "width": 0.5
             },
             "pattern": {
              "fillmode": "overlay",
              "size": 10,
              "solidity": 0.2
             }
            },
            "type": "barpolar"
           }
          ],
          "carpet": [
           {
            "aaxis": {
             "endlinecolor": "#2a3f5f",
             "gridcolor": "white",
             "linecolor": "white",
             "minorgridcolor": "white",
             "startlinecolor": "#2a3f5f"
            },
            "baxis": {
             "endlinecolor": "#2a3f5f",
             "gridcolor": "white",
             "linecolor": "white",
             "minorgridcolor": "white",
             "startlinecolor": "#2a3f5f"
            },
            "type": "carpet"
           }
          ],
          "choropleth": [
           {
            "colorbar": {
             "outlinewidth": 0,
             "ticks": ""
            },
            "type": "choropleth"
           }
          ],
          "contour": [
           {
            "colorbar": {
             "outlinewidth": 0,
             "ticks": ""
            },
            "colorscale": [
             [
              0,
              "#0d0887"
             ],
             [
              0.1111111111111111,
              "#46039f"
             ],
             [
              0.2222222222222222,
              "#7201a8"
             ],
             [
              0.3333333333333333,
              "#9c179e"
             ],
             [
              0.4444444444444444,
              "#bd3786"
             ],
             [
              0.5555555555555556,
              "#d8576b"
             ],
             [
              0.6666666666666666,
              "#ed7953"
             ],
             [
              0.7777777777777778,
              "#fb9f3a"
             ],
             [
              0.8888888888888888,
              "#fdca26"
             ],
             [
              1,
              "#f0f921"
             ]
            ],
            "type": "contour"
           }
          ],
          "contourcarpet": [
           {
            "colorbar": {
             "outlinewidth": 0,
             "ticks": ""
            },
            "type": "contourcarpet"
           }
          ],
          "heatmap": [
           {
            "colorbar": {
             "outlinewidth": 0,
             "ticks": ""
            },
            "colorscale": [
             [
              0,
              "#0d0887"
             ],
             [
              0.1111111111111111,
              "#46039f"
             ],
             [
              0.2222222222222222,
              "#7201a8"
             ],
             [
              0.3333333333333333,
              "#9c179e"
             ],
             [
              0.4444444444444444,
              "#bd3786"
             ],
             [
              0.5555555555555556,
              "#d8576b"
             ],
             [
              0.6666666666666666,
              "#ed7953"
             ],
             [
              0.7777777777777778,
              "#fb9f3a"
             ],
             [
              0.8888888888888888,
              "#fdca26"
             ],
             [
              1,
              "#f0f921"
             ]
            ],
            "type": "heatmap"
           }
          ],
          "heatmapgl": [
           {
            "colorbar": {
             "outlinewidth": 0,
             "ticks": ""
            },
            "colorscale": [
             [
              0,
              "#0d0887"
             ],
             [
              0.1111111111111111,
              "#46039f"
             ],
             [
              0.2222222222222222,
              "#7201a8"
             ],
             [
              0.3333333333333333,
              "#9c179e"
             ],
             [
              0.4444444444444444,
              "#bd3786"
             ],
             [
              0.5555555555555556,
              "#d8576b"
             ],
             [
              0.6666666666666666,
              "#ed7953"
             ],
             [
              0.7777777777777778,
              "#fb9f3a"
             ],
             [
              0.8888888888888888,
              "#fdca26"
             ],
             [
              1,
              "#f0f921"
             ]
            ],
            "type": "heatmapgl"
           }
          ],
          "histogram": [
           {
            "marker": {
             "pattern": {
              "fillmode": "overlay",
              "size": 10,
              "solidity": 0.2
             }
            },
            "type": "histogram"
           }
          ],
          "histogram2d": [
           {
            "colorbar": {
             "outlinewidth": 0,
             "ticks": ""
            },
            "colorscale": [
             [
              0,
              "#0d0887"
             ],
             [
              0.1111111111111111,
              "#46039f"
             ],
             [
              0.2222222222222222,
              "#7201a8"
             ],
             [
              0.3333333333333333,
              "#9c179e"
             ],
             [
              0.4444444444444444,
              "#bd3786"
             ],
             [
              0.5555555555555556,
              "#d8576b"
             ],
             [
              0.6666666666666666,
              "#ed7953"
             ],
             [
              0.7777777777777778,
              "#fb9f3a"
             ],
             [
              0.8888888888888888,
              "#fdca26"
             ],
             [
              1,
              "#f0f921"
             ]
            ],
            "type": "histogram2d"
           }
          ],
          "histogram2dcontour": [
           {
            "colorbar": {
             "outlinewidth": 0,
             "ticks": ""
            },
            "colorscale": [
             [
              0,
              "#0d0887"
             ],
             [
              0.1111111111111111,
              "#46039f"
             ],
             [
              0.2222222222222222,
              "#7201a8"
             ],
             [
              0.3333333333333333,
              "#9c179e"
             ],
             [
              0.4444444444444444,
              "#bd3786"
             ],
             [
              0.5555555555555556,
              "#d8576b"
             ],
             [
              0.6666666666666666,
              "#ed7953"
             ],
             [
              0.7777777777777778,
              "#fb9f3a"
             ],
             [
              0.8888888888888888,
              "#fdca26"
             ],
             [
              1,
              "#f0f921"
             ]
            ],
            "type": "histogram2dcontour"
           }
          ],
          "mesh3d": [
           {
            "colorbar": {
             "outlinewidth": 0,
             "ticks": ""
            },
            "type": "mesh3d"
           }
          ],
          "parcoords": [
           {
            "line": {
             "colorbar": {
              "outlinewidth": 0,
              "ticks": ""
             }
            },
            "type": "parcoords"
           }
          ],
          "pie": [
           {
            "automargin": true,
            "type": "pie"
           }
          ],
          "scatter": [
           {
            "fillpattern": {
             "fillmode": "overlay",
             "size": 10,
             "solidity": 0.2
            },
            "type": "scatter"
           }
          ],
          "scatter3d": [
           {
            "line": {
             "colorbar": {
              "outlinewidth": 0,
              "ticks": ""
             }
            },
            "marker": {
             "colorbar": {
              "outlinewidth": 0,
              "ticks": ""
             }
            },
            "type": "scatter3d"
           }
          ],
          "scattercarpet": [
           {
            "marker": {
             "colorbar": {
              "outlinewidth": 0,
              "ticks": ""
             }
            },
            "type": "scattercarpet"
           }
          ],
          "scattergeo": [
           {
            "marker": {
             "colorbar": {
              "outlinewidth": 0,
              "ticks": ""
             }
            },
            "type": "scattergeo"
           }
          ],
          "scattergl": [
           {
            "marker": {
             "colorbar": {
              "outlinewidth": 0,
              "ticks": ""
             }
            },
            "type": "scattergl"
           }
          ],
          "scattermapbox": [
           {
            "marker": {
             "colorbar": {
              "outlinewidth": 0,
              "ticks": ""
             }
            },
            "type": "scattermapbox"
           }
          ],
          "scatterpolar": [
           {
            "marker": {
             "colorbar": {
              "outlinewidth": 0,
              "ticks": ""
             }
            },
            "type": "scatterpolar"
           }
          ],
          "scatterpolargl": [
           {
            "marker": {
             "colorbar": {
              "outlinewidth": 0,
              "ticks": ""
             }
            },
            "type": "scatterpolargl"
           }
          ],
          "scatterternary": [
           {
            "marker": {
             "colorbar": {
              "outlinewidth": 0,
              "ticks": ""
             }
            },
            "type": "scatterternary"
           }
          ],
          "surface": [
           {
            "colorbar": {
             "outlinewidth": 0,
             "ticks": ""
            },
            "colorscale": [
             [
              0,
              "#0d0887"
             ],
             [
              0.1111111111111111,
              "#46039f"
             ],
             [
              0.2222222222222222,
              "#7201a8"
             ],
             [
              0.3333333333333333,
              "#9c179e"
             ],
             [
              0.4444444444444444,
              "#bd3786"
             ],
             [
              0.5555555555555556,
              "#d8576b"
             ],
             [
              0.6666666666666666,
              "#ed7953"
             ],
             [
              0.7777777777777778,
              "#fb9f3a"
             ],
             [
              0.8888888888888888,
              "#fdca26"
             ],
             [
              1,
              "#f0f921"
             ]
            ],
            "type": "surface"
           }
          ],
          "table": [
           {
            "cells": {
             "fill": {
              "color": "#EBF0F8"
             },
             "line": {
              "color": "white"
             }
            },
            "header": {
             "fill": {
              "color": "#C8D4E3"
             },
             "line": {
              "color": "white"
             }
            },
            "type": "table"
           }
          ]
         },
         "layout": {
          "annotationdefaults": {
           "arrowcolor": "#2a3f5f",
           "arrowhead": 0,
           "arrowwidth": 1
          },
          "autotypenumbers": "strict",
          "coloraxis": {
           "colorbar": {
            "outlinewidth": 0,
            "ticks": ""
           }
          },
          "colorscale": {
           "diverging": [
            [
             0,
             "#8e0152"
            ],
            [
             0.1,
             "#c51b7d"
            ],
            [
             0.2,
             "#de77ae"
            ],
            [
             0.3,
             "#f1b6da"
            ],
            [
             0.4,
             "#fde0ef"
            ],
            [
             0.5,
             "#f7f7f7"
            ],
            [
             0.6,
             "#e6f5d0"
            ],
            [
             0.7,
             "#b8e186"
            ],
            [
             0.8,
             "#7fbc41"
            ],
            [
             0.9,
             "#4d9221"
            ],
            [
             1,
             "#276419"
            ]
           ],
           "sequential": [
            [
             0,
             "#0d0887"
            ],
            [
             0.1111111111111111,
             "#46039f"
            ],
            [
             0.2222222222222222,
             "#7201a8"
            ],
            [
             0.3333333333333333,
             "#9c179e"
            ],
            [
             0.4444444444444444,
             "#bd3786"
            ],
            [
             0.5555555555555556,
             "#d8576b"
            ],
            [
             0.6666666666666666,
             "#ed7953"
            ],
            [
             0.7777777777777778,
             "#fb9f3a"
            ],
            [
             0.8888888888888888,
             "#fdca26"
            ],
            [
             1,
             "#f0f921"
            ]
           ],
           "sequentialminus": [
            [
             0,
             "#0d0887"
            ],
            [
             0.1111111111111111,
             "#46039f"
            ],
            [
             0.2222222222222222,
             "#7201a8"
            ],
            [
             0.3333333333333333,
             "#9c179e"
            ],
            [
             0.4444444444444444,
             "#bd3786"
            ],
            [
             0.5555555555555556,
             "#d8576b"
            ],
            [
             0.6666666666666666,
             "#ed7953"
            ],
            [
             0.7777777777777778,
             "#fb9f3a"
            ],
            [
             0.8888888888888888,
             "#fdca26"
            ],
            [
             1,
             "#f0f921"
            ]
           ]
          },
          "colorway": [
           "#636efa",
           "#EF553B",
           "#00cc96",
           "#ab63fa",
           "#FFA15A",
           "#19d3f3",
           "#FF6692",
           "#B6E880",
           "#FF97FF",
           "#FECB52"
          ],
          "font": {
           "color": "#2a3f5f"
          },
          "geo": {
           "bgcolor": "white",
           "lakecolor": "white",
           "landcolor": "#E5ECF6",
           "showlakes": true,
           "showland": true,
           "subunitcolor": "white"
          },
          "hoverlabel": {
           "align": "left"
          },
          "hovermode": "closest",
          "mapbox": {
           "style": "light"
          },
          "paper_bgcolor": "white",
          "plot_bgcolor": "#E5ECF6",
          "polar": {
           "angularaxis": {
            "gridcolor": "white",
            "linecolor": "white",
            "ticks": ""
           },
           "bgcolor": "#E5ECF6",
           "radialaxis": {
            "gridcolor": "white",
            "linecolor": "white",
            "ticks": ""
           }
          },
          "scene": {
           "xaxis": {
            "backgroundcolor": "#E5ECF6",
            "gridcolor": "white",
            "gridwidth": 2,
            "linecolor": "white",
            "showbackground": true,
            "ticks": "",
            "zerolinecolor": "white"
           },
           "yaxis": {
            "backgroundcolor": "#E5ECF6",
            "gridcolor": "white",
            "gridwidth": 2,
            "linecolor": "white",
            "showbackground": true,
            "ticks": "",
            "zerolinecolor": "white"
           },
           "zaxis": {
            "backgroundcolor": "#E5ECF6",
            "gridcolor": "white",
            "gridwidth": 2,
            "linecolor": "white",
            "showbackground": true,
            "ticks": "",
            "zerolinecolor": "white"
           }
          },
          "shapedefaults": {
           "line": {
            "color": "#2a3f5f"
           }
          },
          "ternary": {
           "aaxis": {
            "gridcolor": "white",
            "linecolor": "white",
            "ticks": ""
           },
           "baxis": {
            "gridcolor": "white",
            "linecolor": "white",
            "ticks": ""
           },
           "bgcolor": "#E5ECF6",
           "caxis": {
            "gridcolor": "white",
            "linecolor": "white",
            "ticks": ""
           }
          },
          "title": {
           "x": 0.05
          },
          "xaxis": {
           "automargin": true,
           "gridcolor": "white",
           "linecolor": "white",
           "ticks": "",
           "title": {
            "standoff": 15
           },
           "zerolinecolor": "white",
           "zerolinewidth": 2
          },
          "yaxis": {
           "automargin": true,
           "gridcolor": "white",
           "linecolor": "white",
           "ticks": "",
           "title": {
            "standoff": 15
           },
           "zerolinecolor": "white",
           "zerolinewidth": 2
          }
         }
        },
        "title": {
         "text": ""
        },
        "updatemenus": [
         {
          "buttons": [
           {
            "args": [
             null,
             {
              "frame": {
               "duration": 500,
               "redraw": false
              },
              "fromcurrent": true,
              "mode": "immediate",
              "transition": {
               "duration": 500,
               "easing": "linear"
              }
             }
            ],
            "label": "&#9654;",
            "method": "animate"
           },
           {
            "args": [
             [
              null
             ],
             {
              "frame": {
               "duration": 0,
               "redraw": false
              },
              "fromcurrent": true,
              "mode": "immediate",
              "transition": {
               "duration": 0,
               "easing": "linear"
              }
             }
            ],
            "label": "&#9724;",
            "method": "animate"
           }
          ],
          "direction": "left",
          "pad": {
           "r": 10,
           "t": 70
          },
          "showactive": false,
          "type": "buttons",
          "x": 0.1,
          "xanchor": "right",
          "y": 0,
          "yanchor": "top"
         }
        ],
        "width": 600,
        "xaxis": {
         "anchor": "y",
         "domain": [
          0,
          1
         ],
         "range": [
          0,
          50
         ],
         "title": {
          "text": "genre diversity"
         }
        },
        "yaxis": {
         "anchor": "x",
         "domain": [
          0,
          1
         ],
         "range": [
          0,
          12
         ],
         "title": {
          "text": "median fame score"
         }
        }
       }
      }
     },
     "metadata": {},
     "output_type": "display_data"
    }
   ],
   "source": [
    "fig = px.scatter(x=actor_mean_n['genre_diversity'], \n",
    "                 y=actor_mean_n['fameScore']['median'], \n",
    "                 animation_frame=actor_mean_n['movie_diversity'],\n",
    "                 range_x=[0,50], range_y=[0,12],\n",
    "                 #  error_y=mean_fame_diversity['fameScore']['std'],\n",
    "                 labels={'y': 'Mean Value'})\n",
    "\n",
    "\n",
    "# Reshape the figure by updating layout parameters\n",
    "fig.update_layout(\n",
    "    width=600,  # Set the width of the figure\n",
    "    height=400,  # Set the height of the figure\n",
    "    title='',  # Update the title\n",
    "    xaxis_title='genre diversity',  # Update the X-axis label\n",
    "    yaxis_title='median fame score',  # Update the Y-axis label\n",
    "    margin=dict(l=50, r=50, b=50, t=50),  # Adjust margins if needed\n",
    ")\n",
    "\n",
    "fig.show()"
   ]
  },
  {
   "cell_type": "code",
   "execution_count": 43,
   "metadata": {},
   "outputs": [
    {
     "data": {
      "application/vnd.plotly.v1+json": {
       "config": {
        "plotlyServerURL": "https://plot.ly"
       },
       "data": [
        {
         "hovertemplate": "animation_frame=0<br>x=%{x}<br>Mean Value=%{y}<extra></extra>",
         "legendgroup": "",
         "marker": {
          "color": "#636efa",
          "symbol": "circle"
         },
         "mode": "markers",
         "name": "",
         "orientation": "v",
         "showlegend": false,
         "type": "scatter",
         "x": [
          1,
          2
         ],
         "xaxis": "x",
         "y": [
          0.6756148782614182,
          0.7246388641010624
         ],
         "yaxis": "y"
        }
       ],
       "frames": [
        {
         "data": [
          {
           "hovertemplate": "animation_frame=0<br>x=%{x}<br>Mean Value=%{y}<extra></extra>",
           "legendgroup": "",
           "marker": {
            "color": "#636efa",
            "symbol": "circle"
           },
           "mode": "markers",
           "name": "",
           "orientation": "v",
           "showlegend": false,
           "type": "scatter",
           "x": [
            1,
            2
           ],
           "xaxis": "x",
           "y": [
            0.6756148782614182,
            0.7246388641010624
           ],
           "yaxis": "y"
          }
         ],
         "name": "0"
        },
        {
         "data": [
          {
           "hovertemplate": "animation_frame=1<br>x=%{x}<br>Mean Value=%{y}<extra></extra>",
           "legendgroup": "",
           "marker": {
            "color": "#636efa",
            "symbol": "circle"
           },
           "mode": "markers",
           "name": "",
           "orientation": "v",
           "showlegend": false,
           "type": "scatter",
           "x": [
            1,
            2,
            3,
            4,
            5
           ],
           "xaxis": "x",
           "y": [
            1.1208087147909314,
            0.9499256596202945,
            0.7214431718421528,
            0.67413736422068,
            0.7100753949316475
           ],
           "yaxis": "y"
          }
         ],
         "name": "1"
        },
        {
         "data": [
          {
           "hovertemplate": "animation_frame=2<br>x=%{x}<br>Mean Value=%{y}<extra></extra>",
           "legendgroup": "",
           "marker": {
            "color": "#636efa",
            "symbol": "circle"
           },
           "mode": "markers",
           "name": "",
           "orientation": "v",
           "showlegend": false,
           "type": "scatter",
           "x": [
            1,
            2,
            3,
            4,
            5,
            6
           ],
           "xaxis": "x",
           "y": [
            1.6014474706309416,
            1.297014592036399,
            1.0588494453682664,
            0.7431968634206064,
            0.7713568538432609,
            0.5380427726073779
           ],
           "yaxis": "y"
          }
         ],
         "name": "2"
        },
        {
         "data": [
          {
           "hovertemplate": "animation_frame=3<br>x=%{x}<br>Mean Value=%{y}<extra></extra>",
           "legendgroup": "",
           "marker": {
            "color": "#636efa",
            "symbol": "circle"
           },
           "mode": "markers",
           "name": "",
           "orientation": "v",
           "showlegend": false,
           "type": "scatter",
           "x": [
            1,
            2,
            3,
            4,
            5,
            6,
            7,
            8,
            9
           ],
           "xaxis": "x",
           "y": [
            3.824429712553576,
            2.160484865532576,
            1.5580831327802447,
            1.2416928547436608,
            1.14711736894385,
            1.0759230003977232,
            0.955170983089014,
            1.0627392657689785,
            1.080226259987597
           ],
           "yaxis": "y"
          }
         ],
         "name": "3"
        },
        {
         "data": [
          {
           "hovertemplate": "animation_frame=4<br>x=%{x}<br>Mean Value=%{y}<extra></extra>",
           "legendgroup": "",
           "marker": {
            "color": "#636efa",
            "symbol": "circle"
           },
           "mode": "markers",
           "name": "",
           "orientation": "v",
           "showlegend": false,
           "type": "scatter",
           "x": [
            2,
            3,
            4,
            5,
            6,
            7,
            8,
            9,
            10,
            11,
            12
           ],
           "xaxis": "x",
           "y": [
            3.364865105138005,
            2.288952347606933,
            1.7864645679397568,
            1.3426604962560822,
            1.0941573983683863,
            0.887532616467271,
            0.7924779135451973,
            0.6949585927474545,
            1.2993458704218201,
            1.436704764952922,
            1.258245204916674
           ],
           "yaxis": "y"
          }
         ],
         "name": "4"
        },
        {
         "data": [
          {
           "hovertemplate": "animation_frame=5<br>x=%{x}<br>Mean Value=%{y}<extra></extra>",
           "legendgroup": "",
           "marker": {
            "color": "#636efa",
            "symbol": "circle"
           },
           "mode": "markers",
           "name": "",
           "orientation": "v",
           "showlegend": false,
           "type": "scatter",
           "x": [
            2,
            3,
            4,
            5,
            6,
            7,
            8,
            9,
            10,
            11,
            12,
            13,
            14,
            15,
            16
           ],
           "xaxis": "x",
           "y": [
            4.683050545851289,
            3.2241201079119324,
            2.307383664805565,
            1.9183265029106935,
            1.5036693557018457,
            1.3459028913925355,
            1.1693010510346,
            1.0201340135495776,
            0.9565663332558921,
            0.9669078336240409,
            0.9416978372494902,
            2.0214727840042115,
            1.9184078082841465,
            2.35966282850525,
            2.186081216504962
           ],
           "yaxis": "y"
          }
         ],
         "name": "5"
        },
        {
         "data": [
          {
           "hovertemplate": "animation_frame=6<br>x=%{x}<br>Mean Value=%{y}<extra></extra>",
           "legendgroup": "",
           "marker": {
            "color": "#636efa",
            "symbol": "circle"
           },
           "mode": "markers",
           "name": "",
           "orientation": "v",
           "showlegend": false,
           "type": "scatter",
           "x": [
            2,
            3,
            4,
            5,
            6,
            7,
            8,
            9,
            10,
            11,
            12,
            13,
            14,
            15,
            16,
            17,
            18,
            19,
            20,
            21
           ],
           "xaxis": "x",
           "y": [
            6.174108154529557,
            4.268454184225423,
            3.3375705167273697,
            2.3987072069371216,
            1.9009313707516309,
            1.6165991955401813,
            1.3949107811050978,
            1.3187463481785298,
            1.1038829675917896,
            1.0874322848316216,
            1.3323130281802145,
            1.5563283864078516,
            1.525179195131395,
            1.5479906915955204,
            2.433632556492048,
            2.6332760545147536,
            2.941597986504839,
            2.871912983914858,
            2.6700232838181543,
            2.6458404949661594
           ],
           "yaxis": "y"
          }
         ],
         "name": "6"
        },
        {
         "data": [
          {
           "hovertemplate": "animation_frame=7<br>x=%{x}<br>Mean Value=%{y}<extra></extra>",
           "legendgroup": "",
           "marker": {
            "color": "#636efa",
            "symbol": "circle"
           },
           "mode": "markers",
           "name": "",
           "orientation": "v",
           "showlegend": false,
           "type": "scatter",
           "x": [
            3,
            4,
            5,
            6,
            7,
            8,
            9,
            10,
            11,
            12,
            13,
            14,
            15,
            16,
            17,
            18,
            19
           ],
           "xaxis": "x",
           "y": [
            5.385901500709668,
            3.9897347557064693,
            3.1314776391132595,
            2.613586265206127,
            2.1305712959136183,
            1.749992891019137,
            1.373262368726352,
            1.506460152233979,
            1.2035034473225732,
            1.110765470102375,
            0.9283659830324945,
            0.9263314050562228,
            0.9063796517669838,
            0.7604634153633094,
            1.085259648947459,
            1.0815649171006538,
            1.2716663065347784
           ],
           "yaxis": "y"
          }
         ],
         "name": "7"
        },
        {
         "data": [
          {
           "hovertemplate": "animation_frame=8<br>x=%{x}<br>Mean Value=%{y}<extra></extra>",
           "legendgroup": "",
           "marker": {
            "color": "#636efa",
            "symbol": "circle"
           },
           "mode": "markers",
           "name": "",
           "orientation": "v",
           "showlegend": false,
           "type": "scatter",
           "x": [
            3,
            4,
            5,
            6,
            7,
            8,
            9,
            10,
            11,
            12,
            13,
            14,
            15,
            16,
            17,
            18,
            19,
            20,
            21,
            22
           ],
           "xaxis": "x",
           "y": [
            6.63871761869079,
            4.983395919734377,
            4.033005287205722,
            3.0114841836938204,
            2.333452638856259,
            2.1153066314340263,
            1.841320558403472,
            1.563090136410609,
            1.506314032029192,
            1.220736560385188,
            1.0264381039138728,
            1.0192052000583396,
            0.8711872477326263,
            0.8668907786991399,
            0.8491149608745967,
            1.1509786684248078,
            1.344239353214466,
            0.9051285445132504,
            1.230380007921143,
            1.221720397462256
           ],
           "yaxis": "y"
          }
         ],
         "name": "8"
        },
        {
         "data": [
          {
           "hovertemplate": "animation_frame=9<br>x=%{x}<br>Mean Value=%{y}<extra></extra>",
           "legendgroup": "",
           "marker": {
            "color": "#636efa",
            "symbol": "circle"
           },
           "mode": "markers",
           "name": "",
           "orientation": "v",
           "showlegend": false,
           "type": "scatter",
           "x": [
            3,
            4,
            5,
            6,
            7,
            8,
            9,
            10,
            11,
            12,
            13,
            14,
            15,
            16,
            17,
            18,
            19,
            20,
            21,
            22,
            23,
            24,
            25
           ],
           "xaxis": "x",
           "y": [
            7.57017742062151,
            6.119905388814643,
            4.907676991097734,
            3.8656585569189903,
            2.888690456386316,
            2.427084329328945,
            2.04788486268297,
            1.7047498867482234,
            1.37318111197796,
            1.4474718578132255,
            1.6435052284635658,
            1.3092716614216775,
            1.1984087524403504,
            1.117465891576828,
            1.0718394442040131,
            1.0449509169224696,
            0.9889629966751325,
            1.3191608994962922,
            0.9035329180936342,
            0.9041315576616878,
            0.9205616503005052,
            1.1702599317904936,
            1.2429267672339892
           ],
           "yaxis": "y"
          }
         ],
         "name": "9"
        },
        {
         "data": [
          {
           "hovertemplate": "animation_frame=10<br>x=%{x}<br>Mean Value=%{y}<extra></extra>",
           "legendgroup": "",
           "marker": {
            "color": "#636efa",
            "symbol": "circle"
           },
           "mode": "markers",
           "name": "",
           "orientation": "v",
           "showlegend": false,
           "type": "scatter",
           "x": [
            4,
            5,
            6,
            7,
            8,
            9,
            10,
            11,
            12,
            13,
            14,
            15,
            16,
            17,
            18,
            19,
            20,
            21,
            22,
            23,
            24,
            25,
            26,
            27,
            28
           ],
           "xaxis": "x",
           "y": [
            7.213697650210533,
            5.708702135431687,
            4.757661407886668,
            4.002014895578671,
            3.0149707944944404,
            2.411568260482439,
            2.0314439705662144,
            1.7716583978242322,
            1.5136556394836331,
            1.4631177089663825,
            1.3802267954556984,
            1.2693547044340174,
            1.2729342403309554,
            1.212088821618881,
            1.1116834967834224,
            1.101085505370875,
            1.050909448459553,
            0.9947134409031761,
            1.0301504953561795,
            0.8728195925772599,
            0.8380557938649248,
            0.809529496326765,
            0.8372896919182872,
            0.8451037134580512,
            0.8760912176823226
           ],
           "yaxis": "y"
          }
         ],
         "name": "10"
        },
        {
         "data": [
          {
           "hovertemplate": "animation_frame=11<br>x=%{x}<br>Mean Value=%{y}<extra></extra>",
           "legendgroup": "",
           "marker": {
            "color": "#636efa",
            "symbol": "circle"
           },
           "mode": "markers",
           "name": "",
           "orientation": "v",
           "showlegend": false,
           "type": "scatter",
           "x": [
            4,
            5,
            6,
            7,
            8,
            9,
            10,
            11,
            12,
            13,
            14,
            15,
            16,
            17,
            18,
            19,
            20,
            21,
            22,
            23,
            24,
            25,
            26,
            27,
            28,
            29,
            30,
            31,
            32,
            33
           ],
           "xaxis": "x",
           "y": [
            7.521810585002436,
            6.54126449965059,
            5.490654171503409,
            4.669879359716641,
            3.9943372935993913,
            3.274791701993545,
            2.9189134534915158,
            2.3281120247143936,
            2.125015621522458,
            1.799758950272281,
            1.4850703973507704,
            1.3737558460478545,
            1.2643226326708947,
            1.2754896383097003,
            1.2352390511732496,
            1.1926332396765214,
            1.1135088765983372,
            1.0260049412033174,
            0.966028750444846,
            1.0520305133751435,
            0.979668798749999,
            1.0037592503992887,
            1.0504383422068404,
            1.0052110995546664,
            0.8790512097609947,
            0.9381766097397036,
            0.9558750156301121,
            0.9209414302920216,
            0.8916392811573972,
            0.8640279092661287
           ],
           "yaxis": "y"
          }
         ],
         "name": "11"
        },
        {
         "data": [
          {
           "hovertemplate": "animation_frame=12<br>x=%{x}<br>Mean Value=%{y}<extra></extra>",
           "legendgroup": "",
           "marker": {
            "color": "#636efa",
            "symbol": "circle"
           },
           "mode": "markers",
           "name": "",
           "orientation": "v",
           "showlegend": false,
           "type": "scatter",
           "x": [
            4,
            5,
            6,
            7,
            8,
            9,
            10,
            11,
            12,
            13,
            14,
            15,
            16,
            17,
            18,
            19,
            20,
            21,
            22,
            23,
            24,
            25,
            26,
            27,
            28,
            29,
            30,
            31,
            32,
            33,
            34,
            35,
            36,
            37,
            38
           ],
           "xaxis": "x",
           "y": [
            8.389131964054982,
            7.427534783255853,
            6.529809461053484,
            5.7166709409928025,
            4.770074941912457,
            4.255210424847002,
            3.3616331539036666,
            2.858121741280549,
            2.5258132250192245,
            2.3064298548520448,
            1.7668925697700244,
            2.0702718029275555,
            1.5371703733317623,
            1.320780795307694,
            1.246412885769669,
            1.115930550195371,
            1.2106398377306686,
            1.1337301403480198,
            1.1431705957011276,
            1.1602119446934602,
            1.1442111326406657,
            0.9921783080792967,
            0.9603222366754272,
            1.007192753032311,
            0.9997027226329587,
            0.866973810936788,
            0.836369638362259,
            0.8995662637155273,
            0.9066756175545583,
            0.8625803590127354,
            0.8573066026677316,
            0.8198703454935135,
            0.8238505465360941,
            0.7896547305306292,
            0.7483704297925593
           ],
           "yaxis": "y"
          }
         ],
         "name": "12"
        },
        {
         "data": [
          {
           "hovertemplate": "animation_frame=13<br>x=%{x}<br>Mean Value=%{y}<extra></extra>",
           "legendgroup": "",
           "marker": {
            "color": "#636efa",
            "symbol": "circle"
           },
           "mode": "markers",
           "name": "",
           "orientation": "v",
           "showlegend": false,
           "type": "scatter",
           "x": [
            5,
            6,
            7,
            8,
            9,
            10,
            11,
            12,
            13,
            14,
            15,
            16,
            17,
            18,
            19,
            20,
            21,
            22,
            23,
            24,
            25,
            26,
            27,
            28,
            29,
            30,
            31,
            32,
            33,
            34,
            35,
            36,
            37,
            38,
            39,
            40
           ],
           "xaxis": "x",
           "y": [
            8.219514956525071,
            7.017537854420664,
            6.38137855399888,
            5.559225025127686,
            4.647911822523019,
            4.123426689459638,
            3.609672054339191,
            3.110622747011582,
            2.5830322416552773,
            2.574224972258309,
            2.242084584825644,
            2.326386272630949,
            1.810446873728157,
            1.7570703421943978,
            1.5841245422226597,
            1.437668800573912,
            1.2608967094120735,
            1.1953778054358393,
            1.1366535874966925,
            1.1323320875267564,
            1.1340581554356275,
            1.124160849025292,
            1.0205386451501282,
            1.0799924221163568,
            1.1239435590124784,
            1.14245419112684,
            1.114156185578098,
            1.0229063335827675,
            1.1124255365283648,
            1.041659780391428,
            1.0289116684379347,
            1.1643055367625137,
            0.9715585575698212,
            0.995769689902956,
            1.0614375941382923,
            0.8708765833817897
           ],
           "yaxis": "y"
          }
         ],
         "name": "13"
        },
        {
         "data": [
          {
           "hovertemplate": "animation_frame=14<br>x=%{x}<br>Mean Value=%{y}<extra></extra>",
           "legendgroup": "",
           "marker": {
            "color": "#636efa",
            "symbol": "circle"
           },
           "mode": "markers",
           "name": "",
           "orientation": "v",
           "showlegend": false,
           "type": "scatter",
           "x": [
            5,
            6,
            7,
            8,
            9,
            10,
            11,
            12,
            13,
            14,
            15,
            16,
            17,
            18,
            19,
            20,
            21,
            22,
            23,
            24,
            25,
            26,
            27,
            28,
            29,
            30,
            31,
            32,
            33,
            34,
            35,
            36,
            37,
            38,
            39,
            40,
            41,
            42,
            43,
            44,
            45,
            46
           ],
           "xaxis": "x",
           "y": [
            9.13039570373356,
            7.724319913665167,
            6.876042905600913,
            6.163103244197766,
            5.708725958253663,
            5.141372383379688,
            4.729493211391432,
            4.009578759046538,
            3.615094450197374,
            2.856625480065173,
            2.5178177806498985,
            2.3915566702181477,
            2.4974897092391655,
            1.971734181343263,
            2.0272633551213377,
            1.752720082358206,
            1.742787635545819,
            1.2487678572376524,
            1.1622751830515372,
            1.1829385876074217,
            1.2834977712408433,
            1.284466947433113,
            1.2399365369066,
            1.2139227424436545,
            1.228344080869305,
            1.3861996840941617,
            1.3710960596733834,
            1.0937406520731177,
            0.9562155276774014,
            0.9435946634725232,
            0.9887293418374277,
            0.9886681490908449,
            0.9624972186994292,
            1.0309532574049811,
            0.9647470805746662,
            1.0823286178570524,
            0.9725536469852712,
            0.936701797495013,
            0.913731803187818,
            0.7985967738171094,
            0.776415450699361,
            0.8302310648775418
           ],
           "yaxis": "y"
          }
         ],
         "name": "14"
        },
        {
         "data": [
          {
           "hovertemplate": "animation_frame=15<br>x=%{x}<br>Mean Value=%{y}<extra></extra>",
           "legendgroup": "",
           "marker": {
            "color": "#636efa",
            "symbol": "circle"
           },
           "mode": "markers",
           "name": "",
           "orientation": "v",
           "showlegend": false,
           "type": "scatter",
           "x": [
            5,
            6,
            7,
            8,
            9,
            10,
            11,
            12,
            13,
            14,
            15,
            16,
            17,
            18,
            19,
            20,
            21,
            22,
            23,
            24,
            25,
            26,
            27,
            28,
            29,
            30,
            31,
            32,
            33,
            34,
            35,
            36,
            37,
            38,
            39,
            40,
            41,
            42,
            43,
            44,
            45,
            46,
            47,
            48,
            49,
            50,
            51,
            52,
            53,
            54,
            59
           ],
           "xaxis": "x",
           "y": [
            9.014538111423015,
            8.102269645075559,
            7.678559779747171,
            7.187652642502849,
            5.987720803275574,
            5.832966920197759,
            5.293134534460011,
            4.610153328135699,
            4.322052944818617,
            3.860006762418581,
            3.4939341087701123,
            3.082528544311038,
            2.7317066763916857,
            2.750427572097262,
            1.9950403814450892,
            2.018354826026342,
            1.8648529054408496,
            1.7491412970936389,
            1.4724939857006891,
            1.2185321108145768,
            1.2072774708183465,
            1.1501137506610568,
            1.1345381303672848,
            1.099662834118898,
            1.080576918274482,
            1.0628262106560458,
            1.113665055592659,
            1.1635165571919084,
            1.2904629152632037,
            1.3287203319499898,
            1.2652956421368524,
            1.161551154314569,
            1.197136176741819,
            0.9650599975716394,
            0.92458129066253,
            0.9501954629657092,
            0.9433562962374562,
            0.9453134609979462,
            0.9605008685727096,
            1.0337846030780076,
            1.026920403476756,
            0.9348796521560244,
            0.9380296519164766,
            0.8521830857932986,
            1.0899008682669828,
            1.0735894936933694,
            1.1239537530047414,
            1.1014102745960452,
            1.142954476810888,
            1.011472834458795,
            0.946988981113942
           ],
           "yaxis": "y"
          }
         ],
         "name": "15"
        },
        {
         "data": [
          {
           "hovertemplate": "animation_frame=16<br>x=%{x}<br>Mean Value=%{y}<extra></extra>",
           "legendgroup": "",
           "marker": {
            "color": "#636efa",
            "symbol": "circle"
           },
           "mode": "markers",
           "name": "",
           "orientation": "v",
           "showlegend": false,
           "type": "scatter",
           "x": [
            6,
            7,
            8,
            9,
            10,
            11,
            12,
            13,
            14,
            15,
            16,
            17,
            18,
            19,
            20,
            21,
            22,
            23,
            24,
            25,
            26,
            27,
            28,
            29,
            30,
            31,
            32,
            33,
            34,
            35,
            36,
            37,
            38,
            39,
            40,
            41,
            42,
            43,
            44,
            45,
            46,
            47,
            48,
            49,
            50,
            51,
            52,
            53,
            54,
            55,
            56,
            57,
            58,
            59,
            60,
            61,
            62,
            63,
            64,
            65,
            67,
            68,
            69
           ],
           "xaxis": "x",
           "y": [
            8.62801347010293,
            7.929709463062467,
            7.454613261767733,
            7.208837301963948,
            6.101652074948669,
            5.618823677284869,
            5.3387639929246635,
            4.942870203395235,
            4.75248612154986,
            5.130556215276128,
            4.154284576913787,
            3.586237350577351,
            3.602149136405167,
            3.3785715328699006,
            2.8628671802579415,
            2.917507969092157,
            3.2191929068288454,
            2.745904125380728,
            2.1558178435990727,
            1.518650486397059,
            1.5267128457068881,
            1.4759361596942635,
            1.4239478371427021,
            1.3592672916566522,
            1.2392037464667198,
            1.1956799384607038,
            1.1948516828925853,
            1.1452933135641028,
            1.1262902876264114,
            1.1765761461325015,
            1.241286342633397,
            1.0833396172593803,
            1.2377971784322703,
            1.1567371528814998,
            1.1326652544396405,
            1.0974078914869427,
            1.0880378182913817,
            1.097265689110273,
            1.0118289450183289,
            1.0263669555923558,
            1.0446947305264236,
            0.9926526662912856,
            0.9685371566012472,
            1.0763473949505875,
            1.0784741382196084,
            1.027924846998587,
            1.0413270009257312,
            1.0512009054370237,
            1.0964904932696637,
            1.0812433175113665,
            1.0698140314690079,
            0.9921562666656862,
            0.9139764742952208,
            0.92547471480092,
            0.8896903028844797,
            0.8440398988357823,
            0.8151554772946927,
            0.8195304410662774,
            0.8748569053400683,
            0.8893866739595282,
            0.8396962593931785,
            0.8399257006039889,
            0.8034664295343807
           ],
           "yaxis": "y"
          }
         ],
         "name": "16"
        },
        {
         "data": [
          {
           "hovertemplate": "animation_frame=17<br>x=%{x}<br>Mean Value=%{y}<extra></extra>",
           "legendgroup": "",
           "marker": {
            "color": "#636efa",
            "symbol": "circle"
           },
           "mode": "markers",
           "name": "",
           "orientation": "v",
           "showlegend": false,
           "type": "scatter",
           "x": [
            6,
            7,
            8,
            9,
            10,
            11,
            12,
            13,
            14,
            15,
            16,
            17,
            18,
            19,
            20,
            21,
            22,
            23,
            24,
            25,
            26,
            27,
            28,
            29,
            30,
            31,
            32,
            33,
            34,
            35,
            36,
            37,
            38,
            39,
            40,
            41,
            42,
            43,
            44,
            45,
            46,
            47,
            48,
            49,
            50,
            51,
            52,
            53
           ],
           "xaxis": "x",
           "y": [
            8.381170051514937,
            8.640668200010742,
            7.81035409974266,
            7.394187765676721,
            6.669876446312808,
            6.324078249793633,
            5.720297162543761,
            5.725075716150824,
            5.434600342498328,
            4.599162533213015,
            4.672005782095065,
            4.347917914310181,
            3.862284316278365,
            3.753317307571975,
            3.652930034567004,
            3.8865731391227607,
            3.470117855587651,
            2.996403687315653,
            2.321778259397851,
            2.4019448861216905,
            2.04197224469514,
            1.9721631700733837,
            1.7034154044125005,
            1.4640576613106764,
            1.4151454617052104,
            1.2336536185511753,
            1.3996210919874248,
            1.5729359205978952,
            1.0885149657875683,
            1.123640536515612,
            1.3257104694646764,
            1.3925177499345665,
            1.2140688683817995,
            1.225107746885911,
            1.6307079638550548,
            1.6625599740666597,
            1.5522576307755935,
            1.412294441018518,
            1.3360246684371875,
            1.3316368106550072,
            1.2860363280826446,
            1.291457180427239,
            1.3343381946402015,
            1.3086005987755684,
            1.2766716905615152,
            1.2670531543824195,
            1.2202842759001469,
            1.1054812960807472
           ],
           "yaxis": "y"
          }
         ],
         "name": "17"
        },
        {
         "data": [
          {
           "hovertemplate": "animation_frame=18<br>x=%{x}<br>Mean Value=%{y}<extra></extra>",
           "legendgroup": "",
           "marker": {
            "color": "#636efa",
            "symbol": "circle"
           },
           "mode": "markers",
           "name": "",
           "orientation": "v",
           "showlegend": false,
           "type": "scatter",
           "x": [
            6,
            7,
            8,
            9,
            10,
            11,
            12,
            13,
            14,
            15,
            16,
            17,
            18,
            19,
            20,
            21,
            22,
            23,
            24,
            25,
            26,
            27,
            28,
            29,
            30,
            31,
            32,
            33,
            34,
            35,
            36,
            37,
            38,
            39,
            40,
            41,
            42,
            43,
            44,
            45,
            46,
            47,
            48,
            49,
            50,
            51,
            52,
            53,
            54,
            55,
            56,
            57,
            58,
            75
           ],
           "xaxis": "x",
           "y": [
            8.501094372624696,
            8.1722965110004,
            8.325755440792353,
            8.003740711411549,
            7.752449084405701,
            6.7923098963545065,
            6.128363979616296,
            5.608505876428002,
            5.47529317429732,
            5.267362782471535,
            4.673369526713658,
            4.6189289677521215,
            4.609096893780048,
            3.7752173167304335,
            3.6358078068399298,
            3.38093144949433,
            3.3100841645858137,
            3.5205642788299216,
            3.622794100623744,
            3.205040427414856,
            3.530825789298672,
            2.652628439741982,
            2.3939672082540087,
            2.419726795058491,
            2.507341753978505,
            2.1519800890208947,
            1.6166350693704152,
            1.4392448864864962,
            1.5378060150443469,
            1.2805604419588084,
            1.275057969155154,
            1.170407935784035,
            1.1208641971079447,
            1.149090679207793,
            1.127267440488953,
            1.0547405415122793,
            1.0488781842544355,
            1.1421215348326343,
            1.1653697431465313,
            1.2597675828591366,
            1.1547232427786094,
            1.0974999731871202,
            1.112694800137352,
            1.2107630853747067,
            1.2429274591143202,
            1.251458384434469,
            1.24523214547903,
            1.2911684120772962,
            1.204877482030748,
            1.2131293734780333,
            1.2363688680358658,
            1.119463174175658,
            1.1465513774637244,
            0.8581117821917271
           ],
           "yaxis": "y"
          }
         ],
         "name": "18"
        },
        {
         "data": [
          {
           "hovertemplate": "animation_frame=19<br>x=%{x}<br>Mean Value=%{y}<extra></extra>",
           "legendgroup": "",
           "marker": {
            "color": "#636efa",
            "symbol": "circle"
           },
           "mode": "markers",
           "name": "",
           "orientation": "v",
           "showlegend": false,
           "type": "scatter",
           "x": [
            7,
            8,
            9,
            10,
            11,
            12,
            13,
            14,
            15,
            16,
            17,
            18,
            19,
            20,
            21,
            22,
            23,
            24,
            25,
            26,
            27,
            28,
            29,
            30,
            31,
            32,
            33,
            34,
            36,
            37,
            38,
            39,
            40,
            41,
            42,
            43,
            44,
            45,
            56,
            58,
            59,
            77,
            78,
            79,
            80,
            81,
            82,
            83
           ],
           "xaxis": "x",
           "y": [
            9.139239729747255,
            9.10492035208742,
            8.392428292289711,
            7.687250920000368,
            7.415904482742619,
            6.902859046115052,
            6.712779178531298,
            5.523820323242696,
            5.374994646150293,
            5.424548490578465,
            5.223723388890262,
            5.082335330848821,
            4.291180043329902,
            4.370653558090391,
            4.3710071430748805,
            3.960566821546767,
            3.837202345517166,
            3.708246598970663,
            3.939814578411593,
            3.2392113735498063,
            3.5548929522126063,
            3.218252983318766,
            3.21697658956018,
            3.488257235906643,
            2.954112674849981,
            2.4227549471442025,
            2.443232308030856,
            2.154575250792214,
            1.691292443352684,
            1.929239047313333,
            1.8013059486025749,
            1.8613599681382715,
            1.6581191172203844,
            1.427691104074304,
            1.56829420648657,
            1.1652385003963204,
            1.5141629450482226,
            1.4287587218906854,
            1.3969390452327606,
            1.5539597115906665,
            1.3015892983849635,
            0.9160247938274021,
            0.9286604484938201,
            0.9112825057685708,
            0.9616281292863396,
            0.98516184038281,
            0.9865581437938429,
            0.9958670114945845
           ],
           "yaxis": "y"
          }
         ],
         "name": "19"
        },
        {
         "data": [
          {
           "hovertemplate": "animation_frame=20<br>x=%{x}<br>Mean Value=%{y}<extra></extra>",
           "legendgroup": "",
           "marker": {
            "color": "#636efa",
            "symbol": "circle"
           },
           "mode": "markers",
           "name": "",
           "orientation": "v",
           "showlegend": false,
           "type": "scatter",
           "x": [
            8,
            9,
            10,
            11,
            12,
            13,
            14,
            15,
            16,
            17,
            18,
            19,
            20,
            21,
            22,
            23,
            24,
            25,
            26,
            27,
            28,
            29,
            30,
            33,
            45,
            46,
            47,
            48,
            49
           ],
           "xaxis": "x",
           "y": [
            8.916383513514223,
            8.856042438581735,
            8.176073066195439,
            8.023264421280611,
            7.638702495115151,
            7.003881663623948,
            6.628820290463778,
            6.321524225953894,
            5.899225664059548,
            5.932744754975378,
            5.481678882361937,
            6.168800892582692,
            5.368451673187074,
            5.130268689153267,
            5.3598610109107465,
            4.901526112753163,
            5.485871984025865,
            3.9337884604185973,
            3.853398318295876,
            3.9005703284315896,
            3.900641115494236,
            3.526927794390447,
            2.5733402625862185,
            2.479443238917911,
            1.15604527220649,
            1.1632451023351016,
            1.1699614032014105,
            1.1577115629543633,
            1.1357054685771963
           ],
           "yaxis": "y"
          }
         ],
         "name": "20"
        },
        {
         "data": [
          {
           "hovertemplate": "animation_frame=21<br>x=%{x}<br>Mean Value=%{y}<extra></extra>",
           "legendgroup": "",
           "marker": {
            "color": "#636efa",
            "symbol": "circle"
           },
           "mode": "markers",
           "name": "",
           "orientation": "v",
           "showlegend": false,
           "type": "scatter",
           "x": [
            8,
            9,
            10,
            11,
            12,
            13,
            14,
            15,
            16,
            17,
            18,
            19,
            20,
            21,
            22,
            23,
            24,
            25,
            26,
            27,
            28,
            29,
            30,
            31,
            32,
            33,
            34,
            35,
            36,
            37,
            52,
            53
           ],
           "xaxis": "x",
           "y": [
            7.647521544024139,
            9.591584739190889,
            7.7792998695488915,
            7.741194152395803,
            7.510046239520543,
            7.526055287347898,
            7.227617328215272,
            6.0468961248382875,
            5.879324431208646,
            5.898164057644934,
            5.465815668651404,
            5.936382105811318,
            5.37152798969097,
            5.499808504416702,
            5.343848176003451,
            5.589714842122653,
            5.196553456702695,
            5.225913088768763,
            4.491767493175758,
            4.44179533865567,
            5.247797367681878,
            3.744586283008108,
            4.184797408173638,
            2.903522063870008,
            3.040459818573996,
            4.4873810218601164,
            3.8438192371815156,
            2.456389246982221,
            2.010724968773507,
            2.7449614195256946,
            0.9905999875601676,
            1.215166149677934
           ],
           "yaxis": "y"
          }
         ],
         "name": "21"
        },
        {
         "data": [
          {
           "hovertemplate": "animation_frame=22<br>x=%{x}<br>Mean Value=%{y}<extra></extra>",
           "legendgroup": "",
           "marker": {
            "color": "#636efa",
            "symbol": "circle"
           },
           "mode": "markers",
           "name": "",
           "orientation": "v",
           "showlegend": false,
           "type": "scatter",
           "x": [
            8,
            9,
            10,
            11,
            12,
            13,
            14,
            15,
            16,
            17,
            18,
            19,
            20,
            21,
            22,
            23,
            24,
            25,
            26,
            27,
            28,
            29,
            30,
            35
           ],
           "xaxis": "x",
           "y": [
            11.737289979274045,
            8.01177993226375,
            9.942119462025829,
            7.897651066049096,
            7.919583835874643,
            7.887553683552888,
            7.249216909273337,
            6.608434826679111,
            6.28472001830646,
            5.982421837967339,
            6.344502016318852,
            5.090173996795914,
            5.319973507158355,
            4.714083865454942,
            4.548115422172204,
            5.377467019827221,
            5.237883049933033,
            6.114834910974885,
            5.802182200700068,
            5.2599115584074685,
            4.7877592931918,
            4.550466767048916,
            3.649815698757472,
            4.123363050579667
           ],
           "yaxis": "y"
          }
         ],
         "name": "22"
        },
        {
         "data": [
          {
           "hovertemplate": "animation_frame=23<br>x=%{x}<br>Mean Value=%{y}<extra></extra>",
           "legendgroup": "",
           "marker": {
            "color": "#636efa",
            "symbol": "circle"
           },
           "mode": "markers",
           "name": "",
           "orientation": "v",
           "showlegend": false,
           "type": "scatter",
           "x": [
            9,
            10,
            11,
            12,
            13,
            14,
            15,
            16,
            17,
            18,
            19,
            20,
            21,
            22,
            23,
            24,
            25,
            26,
            27,
            28,
            29,
            30,
            31,
            32,
            46
           ],
           "xaxis": "x",
           "y": [
            8.50608031432146,
            8.050254839649721,
            8.499021115155852,
            8.169110664923098,
            8.187079382267125,
            7.529596856111963,
            7.608987117182913,
            6.472378552915357,
            6.514123309754692,
            5.6342381615303765,
            5.849249566181908,
            5.863837777391976,
            5.344471491021557,
            5.047401286425207,
            4.939765473676439,
            3.813645504789103,
            4.348323393319891,
            4.85393161397339,
            5.644613264538343,
            4.620087474764615,
            5.481132828488917,
            5.611364610225111,
            5.481127644186872,
            5.192656849529672,
            2.752812659616179
           ],
           "yaxis": "y"
          }
         ],
         "name": "23"
        },
        {
         "data": [
          {
           "hovertemplate": "animation_frame=24<br>x=%{x}<br>Mean Value=%{y}<extra></extra>",
           "legendgroup": "",
           "marker": {
            "color": "#636efa",
            "symbol": "circle"
           },
           "mode": "markers",
           "name": "",
           "orientation": "v",
           "showlegend": false,
           "type": "scatter",
           "x": [
            10,
            11,
            12,
            13,
            14,
            15,
            16,
            17,
            18,
            19,
            20,
            21,
            22,
            23,
            24,
            25,
            26,
            27,
            28,
            29,
            30,
            31,
            32,
            33,
            34
           ],
           "xaxis": "x",
           "y": [
            7.759924744352693,
            8.68120941238221,
            8.454955307487309,
            7.582613207630046,
            8.23474261458946,
            7.712945419542433,
            7.534066483259574,
            6.458285674602808,
            6.4921507302221295,
            6.572674476752094,
            5.936764322678783,
            6.400327431643952,
            5.460839711297356,
            4.946484171568369,
            5.297599108743196,
            4.600085036411459,
            4.67551612378435,
            5.278019646844687,
            5.439047223707936,
            5.1057283703681495,
            4.081065180335367,
            4.74394746105418,
            4.709720922352942,
            4.634608474390977,
            4.713188336002435
           ],
           "yaxis": "y"
          }
         ],
         "name": "24"
        },
        {
         "data": [
          {
           "hovertemplate": "animation_frame=25<br>x=%{x}<br>Mean Value=%{y}<extra></extra>",
           "legendgroup": "",
           "marker": {
            "color": "#636efa",
            "symbol": "circle"
           },
           "mode": "markers",
           "name": "",
           "orientation": "v",
           "showlegend": false,
           "type": "scatter",
           "x": [
            11,
            12,
            13,
            14,
            15,
            16,
            17,
            18,
            19,
            20,
            21,
            22,
            23,
            24,
            25,
            26,
            27,
            28,
            29,
            30,
            31,
            32,
            33,
            34
           ],
           "xaxis": "x",
           "y": [
            8.687974152491304,
            8.66319859485055,
            8.25708789011035,
            7.778635025277685,
            7.7592761918204065,
            7.621538325579824,
            7.486618023463879,
            6.6845638207516505,
            6.347499702441688,
            6.355004882750375,
            6.028334442207381,
            6.471820732217608,
            6.301511532392466,
            5.893121913344142,
            4.917089380140309,
            4.813366082563194,
            4.620351428850752,
            4.7184660203769075,
            4.489213581204746,
            5.553067671806518,
            4.755234348946383,
            5.281477702199311,
            4.996971236718582,
            3.84552520594014
           ],
           "yaxis": "y"
          }
         ],
         "name": "25"
        },
        {
         "data": [
          {
           "hovertemplate": "animation_frame=26<br>x=%{x}<br>Mean Value=%{y}<extra></extra>",
           "legendgroup": "",
           "marker": {
            "color": "#636efa",
            "symbol": "circle"
           },
           "mode": "markers",
           "name": "",
           "orientation": "v",
           "showlegend": false,
           "type": "scatter",
           "x": [
            11,
            12,
            13,
            14,
            15,
            16,
            17,
            18,
            19,
            20,
            21,
            22,
            23,
            24,
            25,
            26,
            27,
            28,
            29,
            30,
            31,
            32,
            33,
            34,
            35,
            36
           ],
           "xaxis": "x",
           "y": [
            8.169254022343242,
            9.013031237717307,
            8.406824193165024,
            7.732991129185864,
            8.160835033961607,
            8.335673103829773,
            7.704628698906553,
            8.12201450712002,
            6.565681503660586,
            6.820295941800504,
            6.935970342553749,
            6.336477020997367,
            6.186775053107544,
            5.92860666851826,
            6.5358712731894535,
            6.291331121608758,
            6.122768053766016,
            5.216517140216926,
            5.363952729013773,
            4.611018172143193,
            5.196537848406912,
            4.967342268005922,
            4.8811266735296455,
            5.438699291581412,
            5.02404797553757,
            4.809484587472829
           ],
           "yaxis": "y"
          }
         ],
         "name": "26"
        },
        {
         "data": [
          {
           "hovertemplate": "animation_frame=27<br>x=%{x}<br>Mean Value=%{y}<extra></extra>",
           "legendgroup": "",
           "marker": {
            "color": "#636efa",
            "symbol": "circle"
           },
           "mode": "markers",
           "name": "",
           "orientation": "v",
           "showlegend": false,
           "type": "scatter",
           "x": [
            12,
            13,
            14,
            15,
            16,
            17,
            18,
            19,
            20,
            21,
            22,
            23,
            24,
            25,
            26,
            27,
            28,
            29,
            30,
            31,
            32,
            33,
            34,
            35,
            37,
            38
           ],
           "xaxis": "x",
           "y": [
            6.989542579408809,
            9.833956991719916,
            8.760495682265049,
            7.83572989328287,
            7.944982282535808,
            8.194383468110074,
            7.048655726633112,
            7.75777098759289,
            7.540720215292173,
            6.978986776561049,
            6.699633563972639,
            6.193170500923271,
            5.902588939048418,
            5.846312149687849,
            4.615740706206262,
            5.28526225052347,
            5.196692982631097,
            4.964184523442657,
            4.840445428085202,
            5.48744456511773,
            4.259608310573711,
            5.206530974768002,
            5.158240743075467,
            5.057140918098895,
            4.811928759395434,
            4.961923888511265
           ],
           "yaxis": "y"
          }
         ],
         "name": "27"
        },
        {
         "data": [
          {
           "hovertemplate": "animation_frame=28<br>x=%{x}<br>Mean Value=%{y}<extra></extra>",
           "legendgroup": "",
           "marker": {
            "color": "#636efa",
            "symbol": "circle"
           },
           "mode": "markers",
           "name": "",
           "orientation": "v",
           "showlegend": false,
           "type": "scatter",
           "x": [
            12,
            13,
            14,
            15,
            16,
            17,
            18,
            19,
            20,
            21,
            22,
            23,
            24,
            25,
            26,
            27,
            28,
            29,
            30,
            31,
            32,
            33,
            34,
            35,
            36
           ],
           "xaxis": "x",
           "y": [
            10.368872034217038,
            8.646245726395234,
            9.63749593092609,
            8.138388299461257,
            7.553340176161061,
            7.4307498464212065,
            7.76769506853266,
            7.959336361960629,
            7.183263265123541,
            7.222254780661966,
            6.901942793931352,
            7.050649774771534,
            6.542039752808901,
            6.38939537852777,
            6.66902309714918,
            6.69328046049852,
            6.581345500850805,
            5.277470347588364,
            5.830745078577578,
            4.95750253224103,
            6.086709412312874,
            3.8460055489943743,
            3.483895041960226,
            4.180678131223667,
            4.500745563792782
           ],
           "yaxis": "y"
          }
         ],
         "name": "28"
        },
        {
         "data": [
          {
           "hovertemplate": "animation_frame=29<br>x=%{x}<br>Mean Value=%{y}<extra></extra>",
           "legendgroup": "",
           "marker": {
            "color": "#636efa",
            "symbol": "circle"
           },
           "mode": "markers",
           "name": "",
           "orientation": "v",
           "showlegend": false,
           "type": "scatter",
           "x": [
            13,
            14,
            15,
            16,
            17,
            18,
            19,
            20,
            21,
            22,
            23,
            24,
            25,
            26,
            27,
            28,
            29,
            30,
            31,
            32,
            33,
            34,
            35,
            36,
            37,
            41,
            42
           ],
           "xaxis": "x",
           "y": [
            8.075717647776308,
            8.523380997245866,
            9.543283469635426,
            8.051375992590877,
            8.602250937961196,
            7.533005958719169,
            8.14199124414321,
            7.257610910985955,
            7.215158221046044,
            6.80886971217735,
            6.408598688636053,
            6.922535199530319,
            6.273770249212016,
            5.733754893288335,
            5.583750230918865,
            4.8765445643852745,
            5.696194447004494,
            5.708929774839685,
            5.661945641974119,
            6.265406957360687,
            6.1791317265479675,
            4.957229984592722,
            3.1827195791785314,
            3.7301433570955194,
            5.740507327262714,
            4.772914709858338,
            4.569345167939714
           ],
           "yaxis": "y"
          }
         ],
         "name": "29"
        },
        {
         "data": [
          {
           "hovertemplate": "animation_frame=30<br>x=%{x}<br>Mean Value=%{y}<extra></extra>",
           "legendgroup": "",
           "marker": {
            "color": "#636efa",
            "symbol": "circle"
           },
           "mode": "markers",
           "name": "",
           "orientation": "v",
           "showlegend": false,
           "type": "scatter",
           "x": [
            14,
            15,
            16,
            17,
            18,
            19,
            20,
            21,
            22,
            23,
            24,
            25,
            26,
            27,
            28,
            29,
            30,
            31,
            32,
            33,
            34,
            35,
            36,
            38
           ],
           "xaxis": "x",
           "y": [
            7.002329159213636,
            8.215011403587145,
            8.486558696699495,
            8.057126912500241,
            7.694829773335885,
            7.74189385492159,
            7.857417226651722,
            6.76448136041478,
            7.369510132722326,
            6.962440208877464,
            7.280231509921104,
            6.981263269769366,
            6.730509081595849,
            6.348763242055841,
            6.077918908326077,
            5.809778641798567,
            6.268704268114313,
            5.229591827452646,
            5.680499726388961,
            6.19817226825621,
            6.385855792753972,
            5.966231050070707,
            5.290129308265675,
            5.1511048769133065
           ],
           "yaxis": "y"
          }
         ],
         "name": "30"
        },
        {
         "data": [
          {
           "hovertemplate": "animation_frame=31<br>x=%{x}<br>Mean Value=%{y}<extra></extra>",
           "legendgroup": "",
           "marker": {
            "color": "#636efa",
            "symbol": "circle"
           },
           "mode": "markers",
           "name": "",
           "orientation": "v",
           "showlegend": false,
           "type": "scatter",
           "x": [
            15,
            16,
            17,
            18,
            19,
            20,
            21,
            22,
            23,
            24,
            25,
            26,
            27,
            28,
            29,
            30,
            31,
            32,
            33,
            34,
            35,
            36,
            37,
            38,
            39,
            40,
            41
           ],
           "xaxis": "x",
           "y": [
            7.721951725355726,
            9.280734310318422,
            8.124857265261046,
            8.586285996642392,
            8.023642173778388,
            8.268251627208532,
            8.06838644360551,
            7.056848410898298,
            7.243516882692408,
            6.300737394915132,
            7.0940106966564045,
            6.562924385097698,
            6.819387241341017,
            6.889171296411467,
            5.857230716564622,
            4.965352322279292,
            6.727773817759588,
            5.2507218148064485,
            5.1428661087886764,
            4.8877415110702245,
            6.990320491219836,
            6.831855673091706,
            6.864473934663929,
            6.396911376518706,
            6.1633247324954485,
            4.404926929716125,
            5.569800220452985
           ],
           "yaxis": "y"
          }
         ],
         "name": "31"
        },
        {
         "data": [
          {
           "hovertemplate": "animation_frame=32<br>x=%{x}<br>Mean Value=%{y}<extra></extra>",
           "legendgroup": "",
           "marker": {
            "color": "#636efa",
            "symbol": "circle"
           },
           "mode": "markers",
           "name": "",
           "orientation": "v",
           "showlegend": false,
           "type": "scatter",
           "x": [
            16,
            17,
            18,
            19,
            20,
            21,
            22,
            23,
            24,
            25,
            26,
            27,
            28,
            29,
            30,
            31,
            32,
            33,
            34,
            35,
            36,
            37,
            38
           ],
           "xaxis": "x",
           "y": [
            8.639647730340027,
            9.436531197760674,
            8.889340141097744,
            8.61275386326189,
            9.204814349141625,
            8.372966562684937,
            8.06825600604663,
            7.81328176220007,
            7.8775204139701955,
            7.018091334383599,
            6.914085370132851,
            6.9988563260506815,
            6.328446989418406,
            6.659433074167094,
            6.435414891607098,
            5.609547381257472,
            5.453522058573233,
            5.593140581895937,
            4.905685599359765,
            4.764068927785944,
            6.533708477560345,
            5.397516904466949,
            6.477912664072587
           ],
           "yaxis": "y"
          }
         ],
         "name": "32"
        },
        {
         "data": [
          {
           "hovertemplate": "animation_frame=33<br>x=%{x}<br>Mean Value=%{y}<extra></extra>",
           "legendgroup": "",
           "marker": {
            "color": "#636efa",
            "symbol": "circle"
           },
           "mode": "markers",
           "name": "",
           "orientation": "v",
           "showlegend": false,
           "type": "scatter",
           "x": [
            17,
            18,
            19,
            20,
            21,
            22,
            23,
            24,
            25,
            26,
            27,
            28,
            29,
            30,
            31,
            32,
            33,
            34,
            35,
            36,
            37,
            38,
            39,
            41
           ],
           "xaxis": "x",
           "y": [
            6.476439036271972,
            9.83428894686659,
            8.376103059607887,
            7.875712101024764,
            9.088388679899042,
            7.841395423787594,
            8.08062670669031,
            7.803680971710382,
            7.764722749096678,
            7.286291702158383,
            6.182617355608707,
            6.581957908771371,
            7.65016405669903,
            5.740556726765836,
            5.933592197722449,
            6.156702889018815,
            5.671237815893132,
            4.5231466616116816,
            4.24020479334408,
            4.035078139974598,
            4.217557190612531,
            4.68823089810046,
            4.811760144779461,
            6.273604136698795
           ],
           "yaxis": "y"
          }
         ],
         "name": "33"
        },
        {
         "data": [
          {
           "hovertemplate": "animation_frame=34<br>x=%{x}<br>Mean Value=%{y}<extra></extra>",
           "legendgroup": "",
           "marker": {
            "color": "#636efa",
            "symbol": "circle"
           },
           "mode": "markers",
           "name": "",
           "orientation": "v",
           "showlegend": false,
           "type": "scatter",
           "x": [
            17,
            18,
            19,
            20,
            21,
            22,
            23,
            24,
            25,
            26,
            27,
            28,
            29,
            30,
            31,
            32,
            33,
            34,
            35,
            36,
            37,
            38,
            39,
            40,
            41,
            42,
            43,
            44
           ],
           "xaxis": "x",
           "y": [
            7.88666210488733,
            7.405139140968038,
            9.023274525609548,
            8.32078246233385,
            7.885983941155572,
            8.624778584495093,
            8.671967833565684,
            8.498360407815639,
            8.099499224403175,
            7.1849307082955605,
            7.18316786296056,
            7.083564922415928,
            6.124281325306598,
            6.956998572816715,
            7.147227929417137,
            5.838749181990997,
            5.79861183924855,
            5.4100043801178295,
            5.764546871775012,
            5.087830828954737,
            5.185294860990148,
            5.189452696522839,
            4.947113251773224,
            5.004887302760242,
            5.009409471407622,
            5.028086290382942,
            5.578456124689735,
            5.022243823438434
           ],
           "yaxis": "y"
          }
         ],
         "name": "34"
        },
        {
         "data": [
          {
           "hovertemplate": "animation_frame=35<br>x=%{x}<br>Mean Value=%{y}<extra></extra>",
           "legendgroup": "",
           "marker": {
            "color": "#636efa",
            "symbol": "circle"
           },
           "mode": "markers",
           "name": "",
           "orientation": "v",
           "showlegend": false,
           "type": "scatter",
           "x": [
            18,
            19,
            20,
            21,
            22,
            23,
            24,
            25,
            26,
            27,
            28,
            29,
            30,
            31,
            32,
            33,
            34,
            35,
            36,
            37,
            38,
            39,
            41,
            42,
            43,
            44,
            45,
            46,
            47
           ],
           "xaxis": "x",
           "y": [
            7.328906527826159,
            7.059527757237524,
            8.054121975272597,
            8.229922221569055,
            8.728412577294929,
            7.435565827126752,
            7.481124071959672,
            8.2631717473596,
            8.006632961029158,
            7.671612972499142,
            7.079867505625211,
            7.528213203320041,
            6.818194450565515,
            6.313578666507183,
            6.571059697300181,
            6.478681479478704,
            6.355722738212037,
            5.91126831775459,
            4.182445216341338,
            4.650334130033826,
            6.310184968907909,
            7.385258610355876,
            5.054295200915902,
            4.918886207331549,
            4.772308110891968,
            5.274888357994573,
            5.202745482527344,
            5.469968416992591,
            5.605842337920777
           ],
           "yaxis": "y"
          }
         ],
         "name": "35"
        },
        {
         "data": [
          {
           "hovertemplate": "animation_frame=36<br>x=%{x}<br>Mean Value=%{y}<extra></extra>",
           "legendgroup": "",
           "marker": {
            "color": "#636efa",
            "symbol": "circle"
           },
           "mode": "markers",
           "name": "",
           "orientation": "v",
           "showlegend": false,
           "type": "scatter",
           "x": [
            20,
            21,
            22,
            23,
            24,
            25,
            26,
            27,
            28,
            29,
            30,
            31,
            32,
            33,
            34,
            35,
            36,
            37,
            38,
            39,
            40
           ],
           "xaxis": "x",
           "y": [
            9.586085480185117,
            8.419696696860008,
            8.959593236635719,
            9.184806313098315,
            8.408311937267062,
            7.188903900108638,
            8.143817589229322,
            7.701648783652617,
            7.153353088720731,
            6.82724299477681,
            6.981669484022843,
            8.219316890362,
            6.283127376098112,
            6.715775719768668,
            6.488429345781178,
            6.157660348274547,
            5.525173269625709,
            4.82052931553413,
            4.518304758354488,
            5.444199607883654,
            5.6173540237839
           ],
           "yaxis": "y"
          }
         ],
         "name": "36"
        },
        {
         "data": [
          {
           "hovertemplate": "animation_frame=38<br>x=%{x}<br>Mean Value=%{y}<extra></extra>",
           "legendgroup": "",
           "marker": {
            "color": "#636efa",
            "symbol": "circle"
           },
           "mode": "markers",
           "name": "",
           "orientation": "v",
           "showlegend": false,
           "type": "scatter",
           "x": [
            20,
            21,
            22,
            23,
            24,
            25,
            26,
            27,
            28,
            29,
            30,
            31,
            32,
            33,
            34,
            35,
            36,
            37,
            38,
            39,
            40,
            41,
            42,
            43,
            44
           ],
           "xaxis": "x",
           "y": [
            7.864767464509171,
            8.08799031463118,
            9.959894778049636,
            7.999154790476135,
            7.905892623017093,
            8.909743681590747,
            8.187278533113913,
            7.257446872260293,
            7.020695765584565,
            7.389507371116951,
            7.315175095205692,
            6.878838927952924,
            7.571169439583839,
            6.646299265543423,
            7.062047619135031,
            7.164573866417697,
            7.226980242927954,
            6.396081031297362,
            5.807018037204476,
            5.190080558533955,
            5.992993870547214,
            6.364150472843279,
            6.686119831678122,
            5.081693493893264,
            4.753525293949106
           ],
           "yaxis": "y"
          }
         ],
         "name": "38"
        },
        {
         "data": [
          {
           "hovertemplate": "animation_frame=37<br>x=%{x}<br>Mean Value=%{y}<extra></extra>",
           "legendgroup": "",
           "marker": {
            "color": "#636efa",
            "symbol": "circle"
           },
           "mode": "markers",
           "name": "",
           "orientation": "v",
           "showlegend": false,
           "type": "scatter",
           "x": [
            21,
            22,
            23,
            24,
            25,
            26,
            27,
            28,
            29,
            30,
            31,
            32,
            33,
            34,
            35,
            36,
            37,
            38,
            39,
            40,
            41,
            42,
            48
           ],
           "xaxis": "x",
           "y": [
            9.166969029142777,
            7.7061857112812415,
            8.499373968215286,
            8.5839699262371,
            8.315538554628638,
            6.675302122448853,
            8.78192684786588,
            7.79233605059746,
            7.534587658228439,
            6.909318423410705,
            6.774496167161338,
            7.57091353227497,
            7.924147208687545,
            6.005665876319334,
            5.634456711317646,
            5.750764163877706,
            3.707258496487913,
            4.0968960671452015,
            4.888060473123415,
            4.891293373526436,
            4.594307584920789,
            5.177617319138902,
            6.556118877820761
           ],
           "yaxis": "y"
          }
         ],
         "name": "37"
        },
        {
         "data": [
          {
           "hovertemplate": "animation_frame=39<br>x=%{x}<br>Mean Value=%{y}<extra></extra>",
           "legendgroup": "",
           "marker": {
            "color": "#636efa",
            "symbol": "circle"
           },
           "mode": "markers",
           "name": "",
           "orientation": "v",
           "showlegend": false,
           "type": "scatter",
           "x": [
            23,
            24,
            25,
            26,
            27,
            28,
            29,
            30,
            31,
            32,
            33,
            34,
            35,
            36,
            37,
            38,
            39,
            40,
            41,
            42,
            43,
            44,
            45,
            46,
            53
           ],
           "xaxis": "x",
           "y": [
            7.127792808682824,
            8.856403340250491,
            8.607820554263222,
            8.53793970334216,
            8.947439948999923,
            8.471315690022449,
            7.826247631622799,
            8.136130075406676,
            7.300594734885877,
            6.981813680112902,
            6.880091728425263,
            7.211935630735722,
            6.366114924492156,
            7.027230028509072,
            7.03161044288653,
            6.598391691232669,
            5.763471395263832,
            4.122974244057955,
            5.215493143770926,
            6.751082835050315,
            7.298130455774224,
            5.393426003562763,
            5.219059610544948,
            5.285374739913127,
            5.214175518073297
           ],
           "yaxis": "y"
          }
         ],
         "name": "39"
        },
        {
         "data": [
          {
           "hovertemplate": "animation_frame=40<br>x=%{x}<br>Mean Value=%{y}<extra></extra>",
           "legendgroup": "",
           "marker": {
            "color": "#636efa",
            "symbol": "circle"
           },
           "mode": "markers",
           "name": "",
           "orientation": "v",
           "showlegend": false,
           "type": "scatter",
           "x": [
            23,
            24,
            25,
            26,
            27,
            28,
            29,
            30,
            31,
            32,
            33,
            34,
            35,
            36,
            37,
            38,
            39,
            40,
            41,
            42,
            43,
            44,
            45,
            46,
            47
           ],
           "xaxis": "x",
           "y": [
            9.231913319294705,
            7.547220299128509,
            7.946435233565024,
            9.240660328632556,
            8.799299444125703,
            8.576288167236566,
            8.292947744782534,
            8.595406723918726,
            6.897295766596425,
            8.281378126655472,
            7.286323101406261,
            7.731834291699696,
            7.376304970824272,
            5.463310116929822,
            6.150824160810121,
            7.381600894054355,
            6.584976550774786,
            5.916284482235449,
            5.426901771212768,
            5.199765277398347,
            7.71550183731584,
            5.040232802308188,
            4.618270556249001,
            4.783822102835554,
            4.453421117151816
           ],
           "yaxis": "y"
          }
         ],
         "name": "40"
        },
        {
         "data": [
          {
           "hovertemplate": "animation_frame=41<br>x=%{x}<br>Mean Value=%{y}<extra></extra>",
           "legendgroup": "",
           "marker": {
            "color": "#636efa",
            "symbol": "circle"
           },
           "mode": "markers",
           "name": "",
           "orientation": "v",
           "showlegend": false,
           "type": "scatter",
           "x": [
            25,
            26,
            27,
            28,
            29,
            30,
            31,
            32,
            33,
            34,
            35,
            36,
            37,
            38,
            39,
            40,
            41,
            42,
            43,
            45,
            46,
            47,
            48,
            49,
            50
           ],
           "xaxis": "x",
           "y": [
            7.904886207919315,
            7.860214582371076,
            9.66228266067642,
            8.806126792725799,
            8.802263705830002,
            8.013383266729566,
            8.571529962667922,
            8.063833359531575,
            8.435552537684131,
            6.509552307769082,
            6.858819011433395,
            7.5736047123683665,
            5.767021910275019,
            6.850487057562569,
            7.236857725918242,
            7.241495471367811,
            6.926262591044262,
            4.888697192504422,
            4.806649039346038,
            9.053934002029347,
            8.554333350815867,
            6.151079798399024,
            4.490798922647052,
            4.102201839556695,
            4.021098738172803
           ],
           "yaxis": "y"
          }
         ],
         "name": "41"
        },
        {
         "data": [
          {
           "hovertemplate": "animation_frame=42<br>x=%{x}<br>Mean Value=%{y}<extra></extra>",
           "legendgroup": "",
           "marker": {
            "color": "#636efa",
            "symbol": "circle"
           },
           "mode": "markers",
           "name": "",
           "orientation": "v",
           "showlegend": false,
           "type": "scatter",
           "x": [
            26,
            27,
            28,
            29,
            30,
            31,
            32,
            33,
            34,
            35,
            36,
            37,
            38,
            39,
            40,
            41,
            42,
            43,
            44,
            45,
            46
           ],
           "xaxis": "x",
           "y": [
            8.747140178592876,
            7.949663447016569,
            9.674212465047152,
            8.220294999038185,
            8.199423150456532,
            8.21481069734823,
            8.425725528526002,
            7.778146799446807,
            7.639903970822835,
            6.937280535240145,
            6.707601000611582,
            6.951614471180019,
            6.757460143887348,
            5.8557893185847645,
            5.704093213040409,
            8.391820365358,
            7.2396103613983565,
            7.103852583393032,
            7.733339969326446,
            8.228955319069058,
            8.741236014245688
           ],
           "yaxis": "y"
          }
         ],
         "name": "42"
        },
        {
         "data": [
          {
           "hovertemplate": "animation_frame=43<br>x=%{x}<br>Mean Value=%{y}<extra></extra>",
           "legendgroup": "",
           "marker": {
            "color": "#636efa",
            "symbol": "circle"
           },
           "mode": "markers",
           "name": "",
           "orientation": "v",
           "showlegend": false,
           "type": "scatter",
           "x": [
            28,
            29,
            30,
            31,
            32,
            33,
            34,
            35,
            36,
            37,
            38,
            39,
            40,
            41,
            42,
            43,
            44,
            45,
            46
           ],
           "xaxis": "x",
           "y": [
            7.766401777610526,
            8.863908375041584,
            8.697430400514499,
            7.998069010934801,
            7.775758702263994,
            7.223182540847932,
            6.988776564448296,
            7.375171051330958,
            7.574849887283016,
            6.907508328796737,
            5.686454901942367,
            7.368624073678245,
            7.30886233774734,
            5.582473979765714,
            5.8499438914110655,
            5.33883452177352,
            5.930284672323573,
            5.944617977407481,
            5.951849875787387
           ],
           "yaxis": "y"
          }
         ],
         "name": "43"
        },
        {
         "data": [
          {
           "hovertemplate": "animation_frame=44<br>x=%{x}<br>Mean Value=%{y}<extra></extra>",
           "legendgroup": "",
           "marker": {
            "color": "#636efa",
            "symbol": "circle"
           },
           "mode": "markers",
           "name": "",
           "orientation": "v",
           "showlegend": false,
           "type": "scatter",
           "x": [
            29,
            30,
            31,
            32,
            33,
            34,
            35,
            36,
            37,
            38,
            39,
            40,
            41,
            42,
            43,
            44,
            45,
            46,
            47,
            48,
            49
           ],
           "xaxis": "x",
           "y": [
            7.367296268537501,
            6.528382648877691,
            8.262963354632827,
            9.219571743903064,
            9.38444544616922,
            7.9884566292766035,
            7.764863755819769,
            6.862234225523807,
            6.611799204661009,
            7.474815379265846,
            6.355159670213559,
            6.410571038465491,
            5.436767381550544,
            4.490299605019049,
            5.624140499400274,
            6.311278383376195,
            6.432850041307535,
            4.665671906171366,
            6.445191316999644,
            6.840559649337443,
            7.602087993582602
           ],
           "yaxis": "y"
          }
         ],
         "name": "44"
        },
        {
         "data": [
          {
           "hovertemplate": "animation_frame=45<br>x=%{x}<br>Mean Value=%{y}<extra></extra>",
           "legendgroup": "",
           "marker": {
            "color": "#636efa",
            "symbol": "circle"
           },
           "mode": "markers",
           "name": "",
           "orientation": "v",
           "showlegend": false,
           "type": "scatter",
           "x": [
            30,
            31,
            32,
            33,
            34,
            35,
            36,
            37,
            38,
            39,
            40,
            41,
            42,
            43,
            44,
            45,
            46,
            47,
            48,
            49
           ],
           "xaxis": "x",
           "y": [
            9.204500344869867,
            6.923798357405296,
            6.558329862726772,
            8.115966793202496,
            8.218683766988294,
            8.351396811205902,
            7.921285608224526,
            7.544638806265127,
            5.985802217398224,
            7.573897105957149,
            5.26989293515122,
            5.71755254786531,
            5.4495119713738625,
            4.610902673545095,
            4.541841875275381,
            5.004180223441153,
            7.438531451480821,
            7.3581200457502,
            7.620057247139429,
            8.735774237318084
           ],
           "yaxis": "y"
          }
         ],
         "name": "45"
        },
        {
         "data": [
          {
           "hovertemplate": "animation_frame=46<br>x=%{x}<br>Mean Value=%{y}<extra></extra>",
           "legendgroup": "",
           "marker": {
            "color": "#636efa",
            "symbol": "circle"
           },
           "mode": "markers",
           "name": "",
           "orientation": "v",
           "showlegend": false,
           "type": "scatter",
           "x": [
            31,
            33,
            34,
            35,
            36,
            37,
            38,
            39,
            40,
            41,
            42,
            43,
            44,
            45,
            46,
            47,
            48,
            49,
            50,
            51
           ],
           "xaxis": "x",
           "y": [
            9.540396158375753,
            10.149577183355316,
            9.38158535242352,
            8.245483359920392,
            6.232810182248223,
            6.77314272389373,
            6.415292473718653,
            5.517038282457704,
            6.092839369099391,
            7.694035377200145,
            7.594808698803912,
            5.867168910928751,
            4.798210130327554,
            5.0446337066653175,
            4.268964433506571,
            3.9217381765694213,
            4.915333345202201,
            3.596363448525807,
            6.200101731799213,
            10.301259060176887
           ],
           "yaxis": "y"
          }
         ],
         "name": "46"
        },
        {
         "data": [
          {
           "hovertemplate": "animation_frame=48<br>x=%{x}<br>Mean Value=%{y}<extra></extra>",
           "legendgroup": "",
           "marker": {
            "color": "#636efa",
            "symbol": "circle"
           },
           "mode": "markers",
           "name": "",
           "orientation": "v",
           "showlegend": false,
           "type": "scatter",
           "x": [
            34,
            36,
            37,
            38,
            39,
            40,
            41,
            42,
            43,
            44,
            45,
            46,
            47,
            48,
            49,
            50,
            51
           ],
           "xaxis": "x",
           "y": [
            8.67876346465137,
            8.587560043772832,
            10.16560984362409,
            7.6528652735405585,
            9.567541691963612,
            6.338279163221122,
            6.378024108350405,
            6.555382478119396,
            8.6241800027422,
            7.089944329412028,
            7.319606276362427,
            6.227236561591796,
            5.642123121848396,
            4.360961725835502,
            6.271014800075541,
            5.24380317886112,
            5.442216313583076
           ],
           "yaxis": "y"
          }
         ],
         "name": "48"
        },
        {
         "data": [
          {
           "hovertemplate": "animation_frame=47<br>x=%{x}<br>Mean Value=%{y}<extra></extra>",
           "legendgroup": "",
           "marker": {
            "color": "#636efa",
            "symbol": "circle"
           },
           "mode": "markers",
           "name": "",
           "orientation": "v",
           "showlegend": false,
           "type": "scatter",
           "x": [
            35,
            36,
            37,
            38,
            39,
            40,
            41,
            42,
            43,
            44,
            45,
            46,
            47,
            48,
            49
           ],
           "xaxis": "x",
           "y": [
            9.371028919590195,
            10.073962916008972,
            7.782677361405593,
            7.6717339635500625,
            6.148462438253601,
            7.422803063678581,
            6.699546961498258,
            5.8709436794786924,
            7.08299333185646,
            7.147205686209244,
            5.898193115482496,
            5.671193288739904,
            6.238387959338636,
            5.8689015047552795,
            4.552397090925972
           ],
           "yaxis": "y"
          }
         ],
         "name": "47"
        },
        {
         "data": [
          {
           "hovertemplate": "animation_frame=49<br>x=%{x}<br>Mean Value=%{y}<extra></extra>",
           "legendgroup": "",
           "marker": {
            "color": "#636efa",
            "symbol": "circle"
           },
           "mode": "markers",
           "name": "",
           "orientation": "v",
           "showlegend": false,
           "type": "scatter",
           "x": [
            38,
            39,
            40,
            41,
            42,
            43,
            44,
            45,
            46,
            47,
            48,
            49,
            50,
            51,
            52,
            54
           ],
           "xaxis": "x",
           "y": [
            10.059681690795564,
            7.7268970545850015,
            6.378850438255856,
            8.222106269248103,
            9.503332908142944,
            8.092397265971542,
            8.577259815154509,
            5.661493105013349,
            5.588286391478729,
            5.554151934390263,
            7.754406191609492,
            7.759660042586964,
            6.17449834137998,
            5.926870910196504,
            5.561153317894577,
            5.425719292488266
           ],
           "yaxis": "y"
          }
         ],
         "name": "49"
        },
        {
         "data": [
          {
           "hovertemplate": "animation_frame=50<br>x=%{x}<br>Mean Value=%{y}<extra></extra>",
           "legendgroup": "",
           "marker": {
            "color": "#636efa",
            "symbol": "circle"
           },
           "mode": "markers",
           "name": "",
           "orientation": "v",
           "showlegend": false,
           "type": "scatter",
           "x": [
            40,
            41,
            42,
            43,
            44,
            45,
            46,
            47,
            48,
            49,
            50,
            51,
            52,
            53,
            54,
            55
           ],
           "xaxis": "x",
           "y": [
            9.875639131704741,
            5.793310517556062,
            7.021791382381675,
            5.424357100429762,
            5.824206507935139,
            8.466072866757942,
            5.490046326767945,
            6.106422981076321,
            7.77500118369026,
            5.648751159365126,
            7.069469649452564,
            6.256556544430234,
            6.494655465142401,
            5.613959901946193,
            5.236245922774616,
            5.750629846912442
           ],
           "yaxis": "y"
          }
         ],
         "name": "50"
        },
        {
         "data": [
          {
           "hovertemplate": "animation_frame=51<br>x=%{x}<br>Mean Value=%{y}<extra></extra>",
           "legendgroup": "",
           "marker": {
            "color": "#636efa",
            "symbol": "circle"
           },
           "mode": "markers",
           "name": "",
           "orientation": "v",
           "showlegend": false,
           "type": "scatter",
           "x": [
            41,
            42,
            43,
            44,
            45,
            46,
            47,
            48,
            51,
            52,
            53
           ],
           "xaxis": "x",
           "y": [
            10.176790899406624,
            9.343382771267953,
            7.101285589726882,
            7.410411042142264,
            7.777403830051,
            7.713338392432945,
            6.798462027685734,
            4.789743693703439,
            7.222719853297702,
            5.643204200791152,
            5.937770529018748
           ],
           "yaxis": "y"
          }
         ],
         "name": "51"
        },
        {
         "data": [
          {
           "hovertemplate": "animation_frame=52<br>x=%{x}<br>Mean Value=%{y}<extra></extra>",
           "legendgroup": "",
           "marker": {
            "color": "#636efa",
            "symbol": "circle"
           },
           "mode": "markers",
           "name": "",
           "orientation": "v",
           "showlegend": false,
           "type": "scatter",
           "x": [
            43,
            44,
            45
           ],
           "xaxis": "x",
           "y": [
            7.225348937680698,
            6.832841662418451,
            6.759050953438518
           ],
           "yaxis": "y"
          }
         ],
         "name": "52"
        },
        {
         "data": [
          {
           "hovertemplate": "animation_frame=53<br>x=%{x}<br>Mean Value=%{y}<extra></extra>",
           "legendgroup": "",
           "marker": {
            "color": "#636efa",
            "symbol": "circle"
           },
           "mode": "markers",
           "name": "",
           "orientation": "v",
           "showlegend": false,
           "type": "scatter",
           "x": [
            48,
            49,
            54,
            56
           ],
           "xaxis": "x",
           "y": [
            7.889366725498295,
            8.095012116349285,
            5.4078895713539605,
            7.600838156312842
           ],
           "yaxis": "y"
          }
         ],
         "name": "53"
        }
       ],
       "layout": {
        "height": 400,
        "legend": {
         "tracegroupgap": 0
        },
        "margin": {
         "b": 50,
         "l": 50,
         "r": 50,
         "t": 50
        },
        "sliders": [
         {
          "active": 0,
          "currentvalue": {
           "prefix": "animation_frame="
          },
          "len": 0.9,
          "pad": {
           "b": 10,
           "t": 60
          },
          "steps": [
           {
            "args": [
             [
              "0"
             ],
             {
              "frame": {
               "duration": 0,
               "redraw": false
              },
              "fromcurrent": true,
              "mode": "immediate",
              "transition": {
               "duration": 0,
               "easing": "linear"
              }
             }
            ],
            "label": "0",
            "method": "animate"
           },
           {
            "args": [
             [
              "1"
             ],
             {
              "frame": {
               "duration": 0,
               "redraw": false
              },
              "fromcurrent": true,
              "mode": "immediate",
              "transition": {
               "duration": 0,
               "easing": "linear"
              }
             }
            ],
            "label": "1",
            "method": "animate"
           },
           {
            "args": [
             [
              "2"
             ],
             {
              "frame": {
               "duration": 0,
               "redraw": false
              },
              "fromcurrent": true,
              "mode": "immediate",
              "transition": {
               "duration": 0,
               "easing": "linear"
              }
             }
            ],
            "label": "2",
            "method": "animate"
           },
           {
            "args": [
             [
              "3"
             ],
             {
              "frame": {
               "duration": 0,
               "redraw": false
              },
              "fromcurrent": true,
              "mode": "immediate",
              "transition": {
               "duration": 0,
               "easing": "linear"
              }
             }
            ],
            "label": "3",
            "method": "animate"
           },
           {
            "args": [
             [
              "4"
             ],
             {
              "frame": {
               "duration": 0,
               "redraw": false
              },
              "fromcurrent": true,
              "mode": "immediate",
              "transition": {
               "duration": 0,
               "easing": "linear"
              }
             }
            ],
            "label": "4",
            "method": "animate"
           },
           {
            "args": [
             [
              "5"
             ],
             {
              "frame": {
               "duration": 0,
               "redraw": false
              },
              "fromcurrent": true,
              "mode": "immediate",
              "transition": {
               "duration": 0,
               "easing": "linear"
              }
             }
            ],
            "label": "5",
            "method": "animate"
           },
           {
            "args": [
             [
              "6"
             ],
             {
              "frame": {
               "duration": 0,
               "redraw": false
              },
              "fromcurrent": true,
              "mode": "immediate",
              "transition": {
               "duration": 0,
               "easing": "linear"
              }
             }
            ],
            "label": "6",
            "method": "animate"
           },
           {
            "args": [
             [
              "7"
             ],
             {
              "frame": {
               "duration": 0,
               "redraw": false
              },
              "fromcurrent": true,
              "mode": "immediate",
              "transition": {
               "duration": 0,
               "easing": "linear"
              }
             }
            ],
            "label": "7",
            "method": "animate"
           },
           {
            "args": [
             [
              "8"
             ],
             {
              "frame": {
               "duration": 0,
               "redraw": false
              },
              "fromcurrent": true,
              "mode": "immediate",
              "transition": {
               "duration": 0,
               "easing": "linear"
              }
             }
            ],
            "label": "8",
            "method": "animate"
           },
           {
            "args": [
             [
              "9"
             ],
             {
              "frame": {
               "duration": 0,
               "redraw": false
              },
              "fromcurrent": true,
              "mode": "immediate",
              "transition": {
               "duration": 0,
               "easing": "linear"
              }
             }
            ],
            "label": "9",
            "method": "animate"
           },
           {
            "args": [
             [
              "10"
             ],
             {
              "frame": {
               "duration": 0,
               "redraw": false
              },
              "fromcurrent": true,
              "mode": "immediate",
              "transition": {
               "duration": 0,
               "easing": "linear"
              }
             }
            ],
            "label": "10",
            "method": "animate"
           },
           {
            "args": [
             [
              "11"
             ],
             {
              "frame": {
               "duration": 0,
               "redraw": false
              },
              "fromcurrent": true,
              "mode": "immediate",
              "transition": {
               "duration": 0,
               "easing": "linear"
              }
             }
            ],
            "label": "11",
            "method": "animate"
           },
           {
            "args": [
             [
              "12"
             ],
             {
              "frame": {
               "duration": 0,
               "redraw": false
              },
              "fromcurrent": true,
              "mode": "immediate",
              "transition": {
               "duration": 0,
               "easing": "linear"
              }
             }
            ],
            "label": "12",
            "method": "animate"
           },
           {
            "args": [
             [
              "13"
             ],
             {
              "frame": {
               "duration": 0,
               "redraw": false
              },
              "fromcurrent": true,
              "mode": "immediate",
              "transition": {
               "duration": 0,
               "easing": "linear"
              }
             }
            ],
            "label": "13",
            "method": "animate"
           },
           {
            "args": [
             [
              "14"
             ],
             {
              "frame": {
               "duration": 0,
               "redraw": false
              },
              "fromcurrent": true,
              "mode": "immediate",
              "transition": {
               "duration": 0,
               "easing": "linear"
              }
             }
            ],
            "label": "14",
            "method": "animate"
           },
           {
            "args": [
             [
              "15"
             ],
             {
              "frame": {
               "duration": 0,
               "redraw": false
              },
              "fromcurrent": true,
              "mode": "immediate",
              "transition": {
               "duration": 0,
               "easing": "linear"
              }
             }
            ],
            "label": "15",
            "method": "animate"
           },
           {
            "args": [
             [
              "16"
             ],
             {
              "frame": {
               "duration": 0,
               "redraw": false
              },
              "fromcurrent": true,
              "mode": "immediate",
              "transition": {
               "duration": 0,
               "easing": "linear"
              }
             }
            ],
            "label": "16",
            "method": "animate"
           },
           {
            "args": [
             [
              "17"
             ],
             {
              "frame": {
               "duration": 0,
               "redraw": false
              },
              "fromcurrent": true,
              "mode": "immediate",
              "transition": {
               "duration": 0,
               "easing": "linear"
              }
             }
            ],
            "label": "17",
            "method": "animate"
           },
           {
            "args": [
             [
              "18"
             ],
             {
              "frame": {
               "duration": 0,
               "redraw": false
              },
              "fromcurrent": true,
              "mode": "immediate",
              "transition": {
               "duration": 0,
               "easing": "linear"
              }
             }
            ],
            "label": "18",
            "method": "animate"
           },
           {
            "args": [
             [
              "19"
             ],
             {
              "frame": {
               "duration": 0,
               "redraw": false
              },
              "fromcurrent": true,
              "mode": "immediate",
              "transition": {
               "duration": 0,
               "easing": "linear"
              }
             }
            ],
            "label": "19",
            "method": "animate"
           },
           {
            "args": [
             [
              "20"
             ],
             {
              "frame": {
               "duration": 0,
               "redraw": false
              },
              "fromcurrent": true,
              "mode": "immediate",
              "transition": {
               "duration": 0,
               "easing": "linear"
              }
             }
            ],
            "label": "20",
            "method": "animate"
           },
           {
            "args": [
             [
              "21"
             ],
             {
              "frame": {
               "duration": 0,
               "redraw": false
              },
              "fromcurrent": true,
              "mode": "immediate",
              "transition": {
               "duration": 0,
               "easing": "linear"
              }
             }
            ],
            "label": "21",
            "method": "animate"
           },
           {
            "args": [
             [
              "22"
             ],
             {
              "frame": {
               "duration": 0,
               "redraw": false
              },
              "fromcurrent": true,
              "mode": "immediate",
              "transition": {
               "duration": 0,
               "easing": "linear"
              }
             }
            ],
            "label": "22",
            "method": "animate"
           },
           {
            "args": [
             [
              "23"
             ],
             {
              "frame": {
               "duration": 0,
               "redraw": false
              },
              "fromcurrent": true,
              "mode": "immediate",
              "transition": {
               "duration": 0,
               "easing": "linear"
              }
             }
            ],
            "label": "23",
            "method": "animate"
           },
           {
            "args": [
             [
              "24"
             ],
             {
              "frame": {
               "duration": 0,
               "redraw": false
              },
              "fromcurrent": true,
              "mode": "immediate",
              "transition": {
               "duration": 0,
               "easing": "linear"
              }
             }
            ],
            "label": "24",
            "method": "animate"
           },
           {
            "args": [
             [
              "25"
             ],
             {
              "frame": {
               "duration": 0,
               "redraw": false
              },
              "fromcurrent": true,
              "mode": "immediate",
              "transition": {
               "duration": 0,
               "easing": "linear"
              }
             }
            ],
            "label": "25",
            "method": "animate"
           },
           {
            "args": [
             [
              "26"
             ],
             {
              "frame": {
               "duration": 0,
               "redraw": false
              },
              "fromcurrent": true,
              "mode": "immediate",
              "transition": {
               "duration": 0,
               "easing": "linear"
              }
             }
            ],
            "label": "26",
            "method": "animate"
           },
           {
            "args": [
             [
              "27"
             ],
             {
              "frame": {
               "duration": 0,
               "redraw": false
              },
              "fromcurrent": true,
              "mode": "immediate",
              "transition": {
               "duration": 0,
               "easing": "linear"
              }
             }
            ],
            "label": "27",
            "method": "animate"
           },
           {
            "args": [
             [
              "28"
             ],
             {
              "frame": {
               "duration": 0,
               "redraw": false
              },
              "fromcurrent": true,
              "mode": "immediate",
              "transition": {
               "duration": 0,
               "easing": "linear"
              }
             }
            ],
            "label": "28",
            "method": "animate"
           },
           {
            "args": [
             [
              "29"
             ],
             {
              "frame": {
               "duration": 0,
               "redraw": false
              },
              "fromcurrent": true,
              "mode": "immediate",
              "transition": {
               "duration": 0,
               "easing": "linear"
              }
             }
            ],
            "label": "29",
            "method": "animate"
           },
           {
            "args": [
             [
              "30"
             ],
             {
              "frame": {
               "duration": 0,
               "redraw": false
              },
              "fromcurrent": true,
              "mode": "immediate",
              "transition": {
               "duration": 0,
               "easing": "linear"
              }
             }
            ],
            "label": "30",
            "method": "animate"
           },
           {
            "args": [
             [
              "31"
             ],
             {
              "frame": {
               "duration": 0,
               "redraw": false
              },
              "fromcurrent": true,
              "mode": "immediate",
              "transition": {
               "duration": 0,
               "easing": "linear"
              }
             }
            ],
            "label": "31",
            "method": "animate"
           },
           {
            "args": [
             [
              "32"
             ],
             {
              "frame": {
               "duration": 0,
               "redraw": false
              },
              "fromcurrent": true,
              "mode": "immediate",
              "transition": {
               "duration": 0,
               "easing": "linear"
              }
             }
            ],
            "label": "32",
            "method": "animate"
           },
           {
            "args": [
             [
              "33"
             ],
             {
              "frame": {
               "duration": 0,
               "redraw": false
              },
              "fromcurrent": true,
              "mode": "immediate",
              "transition": {
               "duration": 0,
               "easing": "linear"
              }
             }
            ],
            "label": "33",
            "method": "animate"
           },
           {
            "args": [
             [
              "34"
             ],
             {
              "frame": {
               "duration": 0,
               "redraw": false
              },
              "fromcurrent": true,
              "mode": "immediate",
              "transition": {
               "duration": 0,
               "easing": "linear"
              }
             }
            ],
            "label": "34",
            "method": "animate"
           },
           {
            "args": [
             [
              "35"
             ],
             {
              "frame": {
               "duration": 0,
               "redraw": false
              },
              "fromcurrent": true,
              "mode": "immediate",
              "transition": {
               "duration": 0,
               "easing": "linear"
              }
             }
            ],
            "label": "35",
            "method": "animate"
           },
           {
            "args": [
             [
              "36"
             ],
             {
              "frame": {
               "duration": 0,
               "redraw": false
              },
              "fromcurrent": true,
              "mode": "immediate",
              "transition": {
               "duration": 0,
               "easing": "linear"
              }
             }
            ],
            "label": "36",
            "method": "animate"
           },
           {
            "args": [
             [
              "38"
             ],
             {
              "frame": {
               "duration": 0,
               "redraw": false
              },
              "fromcurrent": true,
              "mode": "immediate",
              "transition": {
               "duration": 0,
               "easing": "linear"
              }
             }
            ],
            "label": "38",
            "method": "animate"
           },
           {
            "args": [
             [
              "37"
             ],
             {
              "frame": {
               "duration": 0,
               "redraw": false
              },
              "fromcurrent": true,
              "mode": "immediate",
              "transition": {
               "duration": 0,
               "easing": "linear"
              }
             }
            ],
            "label": "37",
            "method": "animate"
           },
           {
            "args": [
             [
              "39"
             ],
             {
              "frame": {
               "duration": 0,
               "redraw": false
              },
              "fromcurrent": true,
              "mode": "immediate",
              "transition": {
               "duration": 0,
               "easing": "linear"
              }
             }
            ],
            "label": "39",
            "method": "animate"
           },
           {
            "args": [
             [
              "40"
             ],
             {
              "frame": {
               "duration": 0,
               "redraw": false
              },
              "fromcurrent": true,
              "mode": "immediate",
              "transition": {
               "duration": 0,
               "easing": "linear"
              }
             }
            ],
            "label": "40",
            "method": "animate"
           },
           {
            "args": [
             [
              "41"
             ],
             {
              "frame": {
               "duration": 0,
               "redraw": false
              },
              "fromcurrent": true,
              "mode": "immediate",
              "transition": {
               "duration": 0,
               "easing": "linear"
              }
             }
            ],
            "label": "41",
            "method": "animate"
           },
           {
            "args": [
             [
              "42"
             ],
             {
              "frame": {
               "duration": 0,
               "redraw": false
              },
              "fromcurrent": true,
              "mode": "immediate",
              "transition": {
               "duration": 0,
               "easing": "linear"
              }
             }
            ],
            "label": "42",
            "method": "animate"
           },
           {
            "args": [
             [
              "43"
             ],
             {
              "frame": {
               "duration": 0,
               "redraw": false
              },
              "fromcurrent": true,
              "mode": "immediate",
              "transition": {
               "duration": 0,
               "easing": "linear"
              }
             }
            ],
            "label": "43",
            "method": "animate"
           },
           {
            "args": [
             [
              "44"
             ],
             {
              "frame": {
               "duration": 0,
               "redraw": false
              },
              "fromcurrent": true,
              "mode": "immediate",
              "transition": {
               "duration": 0,
               "easing": "linear"
              }
             }
            ],
            "label": "44",
            "method": "animate"
           },
           {
            "args": [
             [
              "45"
             ],
             {
              "frame": {
               "duration": 0,
               "redraw": false
              },
              "fromcurrent": true,
              "mode": "immediate",
              "transition": {
               "duration": 0,
               "easing": "linear"
              }
             }
            ],
            "label": "45",
            "method": "animate"
           },
           {
            "args": [
             [
              "46"
             ],
             {
              "frame": {
               "duration": 0,
               "redraw": false
              },
              "fromcurrent": true,
              "mode": "immediate",
              "transition": {
               "duration": 0,
               "easing": "linear"
              }
             }
            ],
            "label": "46",
            "method": "animate"
           },
           {
            "args": [
             [
              "48"
             ],
             {
              "frame": {
               "duration": 0,
               "redraw": false
              },
              "fromcurrent": true,
              "mode": "immediate",
              "transition": {
               "duration": 0,
               "easing": "linear"
              }
             }
            ],
            "label": "48",
            "method": "animate"
           },
           {
            "args": [
             [
              "47"
             ],
             {
              "frame": {
               "duration": 0,
               "redraw": false
              },
              "fromcurrent": true,
              "mode": "immediate",
              "transition": {
               "duration": 0,
               "easing": "linear"
              }
             }
            ],
            "label": "47",
            "method": "animate"
           },
           {
            "args": [
             [
              "49"
             ],
             {
              "frame": {
               "duration": 0,
               "redraw": false
              },
              "fromcurrent": true,
              "mode": "immediate",
              "transition": {
               "duration": 0,
               "easing": "linear"
              }
             }
            ],
            "label": "49",
            "method": "animate"
           },
           {
            "args": [
             [
              "50"
             ],
             {
              "frame": {
               "duration": 0,
               "redraw": false
              },
              "fromcurrent": true,
              "mode": "immediate",
              "transition": {
               "duration": 0,
               "easing": "linear"
              }
             }
            ],
            "label": "50",
            "method": "animate"
           },
           {
            "args": [
             [
              "51"
             ],
             {
              "frame": {
               "duration": 0,
               "redraw": false
              },
              "fromcurrent": true,
              "mode": "immediate",
              "transition": {
               "duration": 0,
               "easing": "linear"
              }
             }
            ],
            "label": "51",
            "method": "animate"
           },
           {
            "args": [
             [
              "52"
             ],
             {
              "frame": {
               "duration": 0,
               "redraw": false
              },
              "fromcurrent": true,
              "mode": "immediate",
              "transition": {
               "duration": 0,
               "easing": "linear"
              }
             }
            ],
            "label": "52",
            "method": "animate"
           },
           {
            "args": [
             [
              "53"
             ],
             {
              "frame": {
               "duration": 0,
               "redraw": false
              },
              "fromcurrent": true,
              "mode": "immediate",
              "transition": {
               "duration": 0,
               "easing": "linear"
              }
             }
            ],
            "label": "53",
            "method": "animate"
           }
          ],
          "x": 0.1,
          "xanchor": "left",
          "y": 0,
          "yanchor": "top"
         }
        ],
        "template": {
         "data": {
          "bar": [
           {
            "error_x": {
             "color": "#2a3f5f"
            },
            "error_y": {
             "color": "#2a3f5f"
            },
            "marker": {
             "line": {
              "color": "#E5ECF6",
              "width": 0.5
             },
             "pattern": {
              "fillmode": "overlay",
              "size": 10,
              "solidity": 0.2
             }
            },
            "type": "bar"
           }
          ],
          "barpolar": [
           {
            "marker": {
             "line": {
              "color": "#E5ECF6",
              "width": 0.5
             },
             "pattern": {
              "fillmode": "overlay",
              "size": 10,
              "solidity": 0.2
             }
            },
            "type": "barpolar"
           }
          ],
          "carpet": [
           {
            "aaxis": {
             "endlinecolor": "#2a3f5f",
             "gridcolor": "white",
             "linecolor": "white",
             "minorgridcolor": "white",
             "startlinecolor": "#2a3f5f"
            },
            "baxis": {
             "endlinecolor": "#2a3f5f",
             "gridcolor": "white",
             "linecolor": "white",
             "minorgridcolor": "white",
             "startlinecolor": "#2a3f5f"
            },
            "type": "carpet"
           }
          ],
          "choropleth": [
           {
            "colorbar": {
             "outlinewidth": 0,
             "ticks": ""
            },
            "type": "choropleth"
           }
          ],
          "contour": [
           {
            "colorbar": {
             "outlinewidth": 0,
             "ticks": ""
            },
            "colorscale": [
             [
              0,
              "#0d0887"
             ],
             [
              0.1111111111111111,
              "#46039f"
             ],
             [
              0.2222222222222222,
              "#7201a8"
             ],
             [
              0.3333333333333333,
              "#9c179e"
             ],
             [
              0.4444444444444444,
              "#bd3786"
             ],
             [
              0.5555555555555556,
              "#d8576b"
             ],
             [
              0.6666666666666666,
              "#ed7953"
             ],
             [
              0.7777777777777778,
              "#fb9f3a"
             ],
             [
              0.8888888888888888,
              "#fdca26"
             ],
             [
              1,
              "#f0f921"
             ]
            ],
            "type": "contour"
           }
          ],
          "contourcarpet": [
           {
            "colorbar": {
             "outlinewidth": 0,
             "ticks": ""
            },
            "type": "contourcarpet"
           }
          ],
          "heatmap": [
           {
            "colorbar": {
             "outlinewidth": 0,
             "ticks": ""
            },
            "colorscale": [
             [
              0,
              "#0d0887"
             ],
             [
              0.1111111111111111,
              "#46039f"
             ],
             [
              0.2222222222222222,
              "#7201a8"
             ],
             [
              0.3333333333333333,
              "#9c179e"
             ],
             [
              0.4444444444444444,
              "#bd3786"
             ],
             [
              0.5555555555555556,
              "#d8576b"
             ],
             [
              0.6666666666666666,
              "#ed7953"
             ],
             [
              0.7777777777777778,
              "#fb9f3a"
             ],
             [
              0.8888888888888888,
              "#fdca26"
             ],
             [
              1,
              "#f0f921"
             ]
            ],
            "type": "heatmap"
           }
          ],
          "heatmapgl": [
           {
            "colorbar": {
             "outlinewidth": 0,
             "ticks": ""
            },
            "colorscale": [
             [
              0,
              "#0d0887"
             ],
             [
              0.1111111111111111,
              "#46039f"
             ],
             [
              0.2222222222222222,
              "#7201a8"
             ],
             [
              0.3333333333333333,
              "#9c179e"
             ],
             [
              0.4444444444444444,
              "#bd3786"
             ],
             [
              0.5555555555555556,
              "#d8576b"
             ],
             [
              0.6666666666666666,
              "#ed7953"
             ],
             [
              0.7777777777777778,
              "#fb9f3a"
             ],
             [
              0.8888888888888888,
              "#fdca26"
             ],
             [
              1,
              "#f0f921"
             ]
            ],
            "type": "heatmapgl"
           }
          ],
          "histogram": [
           {
            "marker": {
             "pattern": {
              "fillmode": "overlay",
              "size": 10,
              "solidity": 0.2
             }
            },
            "type": "histogram"
           }
          ],
          "histogram2d": [
           {
            "colorbar": {
             "outlinewidth": 0,
             "ticks": ""
            },
            "colorscale": [
             [
              0,
              "#0d0887"
             ],
             [
              0.1111111111111111,
              "#46039f"
             ],
             [
              0.2222222222222222,
              "#7201a8"
             ],
             [
              0.3333333333333333,
              "#9c179e"
             ],
             [
              0.4444444444444444,
              "#bd3786"
             ],
             [
              0.5555555555555556,
              "#d8576b"
             ],
             [
              0.6666666666666666,
              "#ed7953"
             ],
             [
              0.7777777777777778,
              "#fb9f3a"
             ],
             [
              0.8888888888888888,
              "#fdca26"
             ],
             [
              1,
              "#f0f921"
             ]
            ],
            "type": "histogram2d"
           }
          ],
          "histogram2dcontour": [
           {
            "colorbar": {
             "outlinewidth": 0,
             "ticks": ""
            },
            "colorscale": [
             [
              0,
              "#0d0887"
             ],
             [
              0.1111111111111111,
              "#46039f"
             ],
             [
              0.2222222222222222,
              "#7201a8"
             ],
             [
              0.3333333333333333,
              "#9c179e"
             ],
             [
              0.4444444444444444,
              "#bd3786"
             ],
             [
              0.5555555555555556,
              "#d8576b"
             ],
             [
              0.6666666666666666,
              "#ed7953"
             ],
             [
              0.7777777777777778,
              "#fb9f3a"
             ],
             [
              0.8888888888888888,
              "#fdca26"
             ],
             [
              1,
              "#f0f921"
             ]
            ],
            "type": "histogram2dcontour"
           }
          ],
          "mesh3d": [
           {
            "colorbar": {
             "outlinewidth": 0,
             "ticks": ""
            },
            "type": "mesh3d"
           }
          ],
          "parcoords": [
           {
            "line": {
             "colorbar": {
              "outlinewidth": 0,
              "ticks": ""
             }
            },
            "type": "parcoords"
           }
          ],
          "pie": [
           {
            "automargin": true,
            "type": "pie"
           }
          ],
          "scatter": [
           {
            "fillpattern": {
             "fillmode": "overlay",
             "size": 10,
             "solidity": 0.2
            },
            "type": "scatter"
           }
          ],
          "scatter3d": [
           {
            "line": {
             "colorbar": {
              "outlinewidth": 0,
              "ticks": ""
             }
            },
            "marker": {
             "colorbar": {
              "outlinewidth": 0,
              "ticks": ""
             }
            },
            "type": "scatter3d"
           }
          ],
          "scattercarpet": [
           {
            "marker": {
             "colorbar": {
              "outlinewidth": 0,
              "ticks": ""
             }
            },
            "type": "scattercarpet"
           }
          ],
          "scattergeo": [
           {
            "marker": {
             "colorbar": {
              "outlinewidth": 0,
              "ticks": ""
             }
            },
            "type": "scattergeo"
           }
          ],
          "scattergl": [
           {
            "marker": {
             "colorbar": {
              "outlinewidth": 0,
              "ticks": ""
             }
            },
            "type": "scattergl"
           }
          ],
          "scattermapbox": [
           {
            "marker": {
             "colorbar": {
              "outlinewidth": 0,
              "ticks": ""
             }
            },
            "type": "scattermapbox"
           }
          ],
          "scatterpolar": [
           {
            "marker": {
             "colorbar": {
              "outlinewidth": 0,
              "ticks": ""
             }
            },
            "type": "scatterpolar"
           }
          ],
          "scatterpolargl": [
           {
            "marker": {
             "colorbar": {
              "outlinewidth": 0,
              "ticks": ""
             }
            },
            "type": "scatterpolargl"
           }
          ],
          "scatterternary": [
           {
            "marker": {
             "colorbar": {
              "outlinewidth": 0,
              "ticks": ""
             }
            },
            "type": "scatterternary"
           }
          ],
          "surface": [
           {
            "colorbar": {
             "outlinewidth": 0,
             "ticks": ""
            },
            "colorscale": [
             [
              0,
              "#0d0887"
             ],
             [
              0.1111111111111111,
              "#46039f"
             ],
             [
              0.2222222222222222,
              "#7201a8"
             ],
             [
              0.3333333333333333,
              "#9c179e"
             ],
             [
              0.4444444444444444,
              "#bd3786"
             ],
             [
              0.5555555555555556,
              "#d8576b"
             ],
             [
              0.6666666666666666,
              "#ed7953"
             ],
             [
              0.7777777777777778,
              "#fb9f3a"
             ],
             [
              0.8888888888888888,
              "#fdca26"
             ],
             [
              1,
              "#f0f921"
             ]
            ],
            "type": "surface"
           }
          ],
          "table": [
           {
            "cells": {
             "fill": {
              "color": "#EBF0F8"
             },
             "line": {
              "color": "white"
             }
            },
            "header": {
             "fill": {
              "color": "#C8D4E3"
             },
             "line": {
              "color": "white"
             }
            },
            "type": "table"
           }
          ]
         },
         "layout": {
          "annotationdefaults": {
           "arrowcolor": "#2a3f5f",
           "arrowhead": 0,
           "arrowwidth": 1
          },
          "autotypenumbers": "strict",
          "coloraxis": {
           "colorbar": {
            "outlinewidth": 0,
            "ticks": ""
           }
          },
          "colorscale": {
           "diverging": [
            [
             0,
             "#8e0152"
            ],
            [
             0.1,
             "#c51b7d"
            ],
            [
             0.2,
             "#de77ae"
            ],
            [
             0.3,
             "#f1b6da"
            ],
            [
             0.4,
             "#fde0ef"
            ],
            [
             0.5,
             "#f7f7f7"
            ],
            [
             0.6,
             "#e6f5d0"
            ],
            [
             0.7,
             "#b8e186"
            ],
            [
             0.8,
             "#7fbc41"
            ],
            [
             0.9,
             "#4d9221"
            ],
            [
             1,
             "#276419"
            ]
           ],
           "sequential": [
            [
             0,
             "#0d0887"
            ],
            [
             0.1111111111111111,
             "#46039f"
            ],
            [
             0.2222222222222222,
             "#7201a8"
            ],
            [
             0.3333333333333333,
             "#9c179e"
            ],
            [
             0.4444444444444444,
             "#bd3786"
            ],
            [
             0.5555555555555556,
             "#d8576b"
            ],
            [
             0.6666666666666666,
             "#ed7953"
            ],
            [
             0.7777777777777778,
             "#fb9f3a"
            ],
            [
             0.8888888888888888,
             "#fdca26"
            ],
            [
             1,
             "#f0f921"
            ]
           ],
           "sequentialminus": [
            [
             0,
             "#0d0887"
            ],
            [
             0.1111111111111111,
             "#46039f"
            ],
            [
             0.2222222222222222,
             "#7201a8"
            ],
            [
             0.3333333333333333,
             "#9c179e"
            ],
            [
             0.4444444444444444,
             "#bd3786"
            ],
            [
             0.5555555555555556,
             "#d8576b"
            ],
            [
             0.6666666666666666,
             "#ed7953"
            ],
            [
             0.7777777777777778,
             "#fb9f3a"
            ],
            [
             0.8888888888888888,
             "#fdca26"
            ],
            [
             1,
             "#f0f921"
            ]
           ]
          },
          "colorway": [
           "#636efa",
           "#EF553B",
           "#00cc96",
           "#ab63fa",
           "#FFA15A",
           "#19d3f3",
           "#FF6692",
           "#B6E880",
           "#FF97FF",
           "#FECB52"
          ],
          "font": {
           "color": "#2a3f5f"
          },
          "geo": {
           "bgcolor": "white",
           "lakecolor": "white",
           "landcolor": "#E5ECF6",
           "showlakes": true,
           "showland": true,
           "subunitcolor": "white"
          },
          "hoverlabel": {
           "align": "left"
          },
          "hovermode": "closest",
          "mapbox": {
           "style": "light"
          },
          "paper_bgcolor": "white",
          "plot_bgcolor": "#E5ECF6",
          "polar": {
           "angularaxis": {
            "gridcolor": "white",
            "linecolor": "white",
            "ticks": ""
           },
           "bgcolor": "#E5ECF6",
           "radialaxis": {
            "gridcolor": "white",
            "linecolor": "white",
            "ticks": ""
           }
          },
          "scene": {
           "xaxis": {
            "backgroundcolor": "#E5ECF6",
            "gridcolor": "white",
            "gridwidth": 2,
            "linecolor": "white",
            "showbackground": true,
            "ticks": "",
            "zerolinecolor": "white"
           },
           "yaxis": {
            "backgroundcolor": "#E5ECF6",
            "gridcolor": "white",
            "gridwidth": 2,
            "linecolor": "white",
            "showbackground": true,
            "ticks": "",
            "zerolinecolor": "white"
           },
           "zaxis": {
            "backgroundcolor": "#E5ECF6",
            "gridcolor": "white",
            "gridwidth": 2,
            "linecolor": "white",
            "showbackground": true,
            "ticks": "",
            "zerolinecolor": "white"
           }
          },
          "shapedefaults": {
           "line": {
            "color": "#2a3f5f"
           }
          },
          "ternary": {
           "aaxis": {
            "gridcolor": "white",
            "linecolor": "white",
            "ticks": ""
           },
           "baxis": {
            "gridcolor": "white",
            "linecolor": "white",
            "ticks": ""
           },
           "bgcolor": "#E5ECF6",
           "caxis": {
            "gridcolor": "white",
            "linecolor": "white",
            "ticks": ""
           }
          },
          "title": {
           "x": 0.05
          },
          "xaxis": {
           "automargin": true,
           "gridcolor": "white",
           "linecolor": "white",
           "ticks": "",
           "title": {
            "standoff": 15
           },
           "zerolinecolor": "white",
           "zerolinewidth": 2
          },
          "yaxis": {
           "automargin": true,
           "gridcolor": "white",
           "linecolor": "white",
           "ticks": "",
           "title": {
            "standoff": 15
           },
           "zerolinecolor": "white",
           "zerolinewidth": 2
          }
         }
        },
        "title": {
         "text": ""
        },
        "updatemenus": [
         {
          "buttons": [
           {
            "args": [
             null,
             {
              "frame": {
               "duration": 500,
               "redraw": false
              },
              "fromcurrent": true,
              "mode": "immediate",
              "transition": {
               "duration": 500,
               "easing": "linear"
              }
             }
            ],
            "label": "&#9654;",
            "method": "animate"
           },
           {
            "args": [
             [
              null
             ],
             {
              "frame": {
               "duration": 0,
               "redraw": false
              },
              "fromcurrent": true,
              "mode": "immediate",
              "transition": {
               "duration": 0,
               "easing": "linear"
              }
             }
            ],
            "label": "&#9724;",
            "method": "animate"
           }
          ],
          "direction": "left",
          "pad": {
           "r": 10,
           "t": 70
          },
          "showactive": false,
          "type": "buttons",
          "x": 0.1,
          "xanchor": "right",
          "y": 0,
          "yanchor": "top"
         }
        ],
        "width": 600,
        "xaxis": {
         "anchor": "y",
         "domain": [
          0,
          1
         ],
         "range": [
          0,
          50
         ],
         "title": {
          "text": "genre diversity"
         }
        },
        "yaxis": {
         "anchor": "x",
         "domain": [
          0,
          1
         ],
         "range": [
          0,
          12
         ],
         "title": {
          "text": "median fame score"
         }
        }
       }
      }
     },
     "metadata": {},
     "output_type": "display_data"
    }
   ],
   "source": [
    "fig = px.scatter(x=actor_mean_n['movie_diversity'], \n",
    "                 y=actor_mean_n['fameScore']['median'], \n",
    "                 animation_frame=actor_mean_n['genre_diversity'],\n",
    "                 range_x=[0,50], range_y=[0,12],\n",
    "                 #  error_y=mean_fame_diversity['fameScore']['std'],\n",
    "                 labels={'y': 'Mean Value'})\n",
    "\n",
    "\n",
    "# Reshape the figure by updating layout parameters\n",
    "fig.update_layout(\n",
    "    width=600,  # Set the width of the figure\n",
    "    height=400,  # Set the height of the figure\n",
    "    title='',  # Update the title\n",
    "    xaxis_title='genre diversity',  # Update the X-axis label\n",
    "    yaxis_title='median fame score',  # Update the Y-axis label\n",
    "    margin=dict(l=50, r=50, b=50, t=50),  # Adjust margins if needed\n",
    ")\n",
    "\n",
    "fig.show()"
   ]
  },
  {
   "cell_type": "code",
   "execution_count": 44,
   "metadata": {},
   "outputs": [
    {
     "name": "stdout",
     "output_type": "stream",
     "text": [
      "                            OLS Regression Results                            \n",
      "==============================================================================\n",
      "Dep. Variable:              fameScore   R-squared:                       0.017\n",
      "Model:                            OLS   Adj. R-squared:                  0.017\n",
      "Method:                 Least Squares   F-statistic:                     2934.\n",
      "Date:                Wed, 20 Dec 2023   Prob (F-statistic):               0.00\n",
      "Time:                        23:17:31   Log-Likelihood:            -1.1803e+06\n",
      "No. Observations:              331200   AIC:                         2.361e+06\n",
      "Df Residuals:                  331197   BIC:                         2.361e+06\n",
      "Df Model:                           2                                         \n",
      "Covariance Type:            nonrobust                                         \n",
      "===================================================================================\n",
      "                      coef    std err          t      P>|t|      [0.025      0.975]\n",
      "-----------------------------------------------------------------------------------\n",
      "const               6.0775      0.021    285.362      0.000       6.036       6.119\n",
      "genre_diversity     0.1316      0.002     69.557      0.000       0.128       0.135\n",
      "movie_diversity    -0.0849      0.001    -69.838      0.000      -0.087      -0.083\n",
      "==============================================================================\n",
      "Omnibus:                   363308.371   Durbin-Watson:                   0.839\n",
      "Prob(Omnibus):                  0.000   Jarque-Bera (JB):         44586745.998\n",
      "Skew:                           5.521   Prob(JB):                         0.00\n",
      "Kurtosis:                      58.759   Cond. No.                         32.0\n",
      "==============================================================================\n",
      "\n",
      "Notes:\n",
      "[1] Standard Errors assume that the covariance matrix of the errors is correctly specified.\n"
     ]
    }
   ],
   "source": [
    "import statsmodels.api as sm\n",
    "\n",
    "X = actor_genres[['genre_diversity', 'movie_diversity']]\n",
    "X = sm.add_constant(X)  # add a constant term to the independent variables\n",
    "y = actor_genres['fameScore']\n",
    "\n",
    "model = sm.OLS(y, X).fit()\n",
    "print(model.summary())"
   ]
  }
 ],
 "metadata": {
  "kernelspec": {
   "display_name": "ada",
   "language": "python",
   "name": "python3"
  },
  "language_info": {
   "codemirror_mode": {
    "name": "ipython",
    "version": 3
   },
   "file_extension": ".py",
   "mimetype": "text/x-python",
   "name": "python",
   "nbconvert_exporter": "python",
   "pygments_lexer": "ipython3",
   "version": "3.9.18"
  }
 },
 "nbformat": 4,
 "nbformat_minor": 2
}
