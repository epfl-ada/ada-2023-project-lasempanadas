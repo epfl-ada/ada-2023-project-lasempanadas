{
 "cells": [
  {
   "cell_type": "code",
   "execution_count": null,
   "metadata": {},
   "outputs": [],
   "source": [
    "import pandas as pd\n",
    "%matplotlib inline\n",
    "import matplotlib.pyplot as plt\n",
    "import seaborn as sns\n",
    "import ast\n",
    "import numpy as np"
   ]
  },
  {
   "cell_type": "markdown",
   "metadata": {},
   "source": [
    "# Merging IMDb and CMU movies datasets "
   ]
  },
  {
   "cell_type": "code",
   "execution_count": null,
   "metadata": {},
   "outputs": [],
   "source": [
    "## Read the data ##\n",
    "movie_cols = ['wikiID', 'freebasemovID', 'movie_name', 'release_date', 'boxoffice', 'runtime', 'language', 'country', 'genre']\n",
    "\n",
    "#folder\n",
    "data_folder = './data/'\n",
    "imdb_original = pd.read_csv(data_folder+'imdb_movies.tsv', sep='\\t')\n",
    "imdb_ratings_original= pd.read_csv(data_folder+'ratings.tsv', sep='\\t')\n",
    "cmu_original = pd.read_csv(data_folder+'movie.metadata.tsv', sep='\\t', names=movie_cols)\n"
   ]
  },
  {
   "cell_type": "code",
   "execution_count": null,
   "metadata": {},
   "outputs": [],
   "source": [
    "imdb = imdb_original[['tconst','primaryTitle','startYear']]\n",
    "\n",
    "imdb = imdb[imdb['startYear']<='2011']\n",
    "\n",
    "#merge with there ratings\n",
    "imdb = imdb.merge(imdb_ratings_original,how='inner',on='tconst')\n",
    "\n",
    "#lower(title)\n",
    "imdb = imdb[imdb['primaryTitle'].apply(lambda x : type(x))==str]\n",
    "imdb['primaryTitle'] = imdb['primaryTitle'].apply(lambda x : x.lower())\n",
    "\n",
    "imdb = imdb.sort_values(by=['primaryTitle','numVotes'],ascending=[True,False])\n",
    "\n",
    "imdb = imdb.drop_duplicates(subset=['primaryTitle','startYear'])\n",
    "\n",
    "imdb"
   ]
  },
  {
   "cell_type": "code",
   "execution_count": null,
   "metadata": {},
   "outputs": [],
   "source": [
    "cmu = cmu_original[['wikiID','movie_name']]\n",
    "cmu['movie_name'] = cmu['movie_name'].apply(lambda x : x.lower())\n",
    "cmu"
   ]
  },
  {
   "cell_type": "code",
   "execution_count": null,
   "metadata": {},
   "outputs": [],
   "source": [
    "cmu_imdb = cmu.merge(imdb,left_on='movie_name',right_on='primaryTitle')\n",
    "cmu_imdb_fine = cmu_imdb[~cmu_imdb.duplicated(subset=['wikiID'],keep=False)]\n",
    "wiki_rate = cmu_imdb_fine[['wikiID','averageRating']]"
   ]
  },
  {
   "cell_type": "code",
   "execution_count": null,
   "metadata": {},
   "outputs": [],
   "source": [
    "cmu_final = cmu_original.merge(wiki_rate,on='wikiID',how='left')\n",
    "cmu_final"
   ]
  },
  {
   "cell_type": "markdown",
   "metadata": {},
   "source": [
    "# Cleaning the Dataset from the Merging of IMDb and CMU Datasets\n",
    "\n",
    "After merging the IMDb and CMU datasets, we have a dataset with ... rows and ... columns. \n",
    "We will now investigate each column and clean the data as needed."
   ]
  },
  {
   "cell_type": "code",
   "execution_count": 384,
   "metadata": {},
   "outputs": [
    {
     "data": {
      "text/html": [
       "<div>\n",
       "<style scoped>\n",
       "    .dataframe tbody tr th:only-of-type {\n",
       "        vertical-align: middle;\n",
       "    }\n",
       "\n",
       "    .dataframe tbody tr th {\n",
       "        vertical-align: top;\n",
       "    }\n",
       "\n",
       "    .dataframe thead th {\n",
       "        text-align: right;\n",
       "    }\n",
       "</style>\n",
       "<table border=\"1\" class=\"dataframe\">\n",
       "  <thead>\n",
       "    <tr style=\"text-align: right;\">\n",
       "      <th></th>\n",
       "      <th>wikiID</th>\n",
       "      <th>freebasemovID</th>\n",
       "      <th>movie_name</th>\n",
       "      <th>release_date</th>\n",
       "      <th>boxoffice</th>\n",
       "      <th>runtime</th>\n",
       "      <th>language</th>\n",
       "      <th>country</th>\n",
       "      <th>genre</th>\n",
       "      <th>averageRating</th>\n",
       "    </tr>\n",
       "  </thead>\n",
       "  <tbody>\n",
       "    <tr>\n",
       "      <th>0</th>\n",
       "      <td>975900</td>\n",
       "      <td>/m/03vyhn</td>\n",
       "      <td>Ghosts of Mars</td>\n",
       "      <td>2001-08-24</td>\n",
       "      <td>14010832.0</td>\n",
       "      <td>98.0</td>\n",
       "      <td>{\"/m/02h40lc\": \"English Language\"}</td>\n",
       "      <td>{\"/m/09c7w0\": \"United States of America\"}</td>\n",
       "      <td>{\"/m/01jfsb\": \"Thriller\", \"/m/06n90\": \"Science...</td>\n",
       "      <td>4.9</td>\n",
       "    </tr>\n",
       "    <tr>\n",
       "      <th>1</th>\n",
       "      <td>3196793</td>\n",
       "      <td>/m/08yl5d</td>\n",
       "      <td>Getting Away with Murder: The JonBenét Ramsey ...</td>\n",
       "      <td>2000-02-16</td>\n",
       "      <td>NaN</td>\n",
       "      <td>95.0</td>\n",
       "      <td>{\"/m/02h40lc\": \"English Language\"}</td>\n",
       "      <td>{\"/m/09c7w0\": \"United States of America\"}</td>\n",
       "      <td>{\"/m/02n4kr\": \"Mystery\", \"/m/03bxz7\": \"Biograp...</td>\n",
       "      <td>NaN</td>\n",
       "    </tr>\n",
       "    <tr>\n",
       "      <th>2</th>\n",
       "      <td>28463795</td>\n",
       "      <td>/m/0crgdbh</td>\n",
       "      <td>Brun bitter</td>\n",
       "      <td>1988</td>\n",
       "      <td>NaN</td>\n",
       "      <td>83.0</td>\n",
       "      <td>{\"/m/05f_3\": \"Norwegian Language\"}</td>\n",
       "      <td>{\"/m/05b4w\": \"Norway\"}</td>\n",
       "      <td>{\"/m/0lsxr\": \"Crime Fiction\", \"/m/07s9rl0\": \"D...</td>\n",
       "      <td>5.6</td>\n",
       "    </tr>\n",
       "    <tr>\n",
       "      <th>3</th>\n",
       "      <td>9363483</td>\n",
       "      <td>/m/0285_cd</td>\n",
       "      <td>White Of The Eye</td>\n",
       "      <td>1987</td>\n",
       "      <td>NaN</td>\n",
       "      <td>110.0</td>\n",
       "      <td>{\"/m/02h40lc\": \"English Language\"}</td>\n",
       "      <td>{\"/m/07ssc\": \"United Kingdom\"}</td>\n",
       "      <td>{\"/m/01jfsb\": \"Thriller\", \"/m/0glj9q\": \"Erotic...</td>\n",
       "      <td>6.1</td>\n",
       "    </tr>\n",
       "    <tr>\n",
       "      <th>4</th>\n",
       "      <td>261236</td>\n",
       "      <td>/m/01mrr1</td>\n",
       "      <td>A Woman in Flames</td>\n",
       "      <td>1983</td>\n",
       "      <td>NaN</td>\n",
       "      <td>106.0</td>\n",
       "      <td>{\"/m/04306rv\": \"German Language\"}</td>\n",
       "      <td>{\"/m/0345h\": \"Germany\"}</td>\n",
       "      <td>{\"/m/07s9rl0\": \"Drama\"}</td>\n",
       "      <td>5.9</td>\n",
       "    </tr>\n",
       "  </tbody>\n",
       "</table>\n",
       "</div>"
      ],
      "text/plain": [
       "     wikiID freebasemovID                                         movie_name  \\\n",
       "0    975900     /m/03vyhn                                     Ghosts of Mars   \n",
       "1   3196793     /m/08yl5d  Getting Away with Murder: The JonBenét Ramsey ...   \n",
       "2  28463795    /m/0crgdbh                                        Brun bitter   \n",
       "3   9363483    /m/0285_cd                                   White Of The Eye   \n",
       "4    261236     /m/01mrr1                                  A Woman in Flames   \n",
       "\n",
       "  release_date   boxoffice  runtime                            language  \\\n",
       "0   2001-08-24  14010832.0     98.0  {\"/m/02h40lc\": \"English Language\"}   \n",
       "1   2000-02-16         NaN     95.0  {\"/m/02h40lc\": \"English Language\"}   \n",
       "2         1988         NaN     83.0  {\"/m/05f_3\": \"Norwegian Language\"}   \n",
       "3         1987         NaN    110.0  {\"/m/02h40lc\": \"English Language\"}   \n",
       "4         1983         NaN    106.0   {\"/m/04306rv\": \"German Language\"}   \n",
       "\n",
       "                                     country  \\\n",
       "0  {\"/m/09c7w0\": \"United States of America\"}   \n",
       "1  {\"/m/09c7w0\": \"United States of America\"}   \n",
       "2                     {\"/m/05b4w\": \"Norway\"}   \n",
       "3             {\"/m/07ssc\": \"United Kingdom\"}   \n",
       "4                    {\"/m/0345h\": \"Germany\"}   \n",
       "\n",
       "                                               genre  averageRating  \n",
       "0  {\"/m/01jfsb\": \"Thriller\", \"/m/06n90\": \"Science...            4.9  \n",
       "1  {\"/m/02n4kr\": \"Mystery\", \"/m/03bxz7\": \"Biograp...            NaN  \n",
       "2  {\"/m/0lsxr\": \"Crime Fiction\", \"/m/07s9rl0\": \"D...            5.6  \n",
       "3  {\"/m/01jfsb\": \"Thriller\", \"/m/0glj9q\": \"Erotic...            6.1  \n",
       "4                            {\"/m/07s9rl0\": \"Drama\"}            5.9  "
      ]
     },
     "execution_count": 384,
     "metadata": {},
     "output_type": "execute_result"
    }
   ],
   "source": [
    "cmu_final.head()"
   ]
  },
  {
   "cell_type": "code",
   "execution_count": 385,
   "metadata": {},
   "outputs": [
    {
     "name": "stdout",
     "output_type": "stream",
     "text": [
      "<class 'pandas.core.frame.DataFrame'>\n",
      "RangeIndex: 81741 entries, 0 to 81740\n",
      "Data columns (total 10 columns):\n",
      " #   Column         Non-Null Count  Dtype  \n",
      "---  ------         --------------  -----  \n",
      " 0   wikiID         81741 non-null  int64  \n",
      " 1   freebasemovID  81741 non-null  object \n",
      " 2   movie_name     81741 non-null  object \n",
      " 3   release_date   74839 non-null  object \n",
      " 4   boxoffice      8401 non-null   float64\n",
      " 5   runtime        61291 non-null  float64\n",
      " 6   language       81741 non-null  object \n",
      " 7   country        81741 non-null  object \n",
      " 8   genre          81741 non-null  object \n",
      " 9   averageRating  39979 non-null  float64\n",
      "dtypes: float64(3), int64(1), object(6)\n",
      "memory usage: 6.2+ MB\n"
     ]
    }
   ],
   "source": [
    "cmu_final.info()"
   ]
  },
  {
   "cell_type": "code",
   "execution_count": 386,
   "metadata": {},
   "outputs": [
    {
     "data": {
      "text/html": [
       "<div>\n",
       "<style scoped>\n",
       "    .dataframe tbody tr th:only-of-type {\n",
       "        vertical-align: middle;\n",
       "    }\n",
       "\n",
       "    .dataframe tbody tr th {\n",
       "        vertical-align: top;\n",
       "    }\n",
       "\n",
       "    .dataframe thead th {\n",
       "        text-align: right;\n",
       "    }\n",
       "</style>\n",
       "<table border=\"1\" class=\"dataframe\">\n",
       "  <thead>\n",
       "    <tr style=\"text-align: right;\">\n",
       "      <th></th>\n",
       "      <th>wikiID</th>\n",
       "      <th>freebasemovID</th>\n",
       "      <th>movie_name</th>\n",
       "      <th>release_date</th>\n",
       "      <th>boxoffice</th>\n",
       "      <th>runtime</th>\n",
       "      <th>language</th>\n",
       "      <th>country</th>\n",
       "      <th>genre</th>\n",
       "      <th>averageRating</th>\n",
       "    </tr>\n",
       "  </thead>\n",
       "  <tbody>\n",
       "    <tr>\n",
       "      <th>73802</th>\n",
       "      <td>6015667</td>\n",
       "      <td>/m/0fkqcp</td>\n",
       "      <td>Sye</td>\n",
       "      <td>2004-09-23</td>\n",
       "      <td>NaN</td>\n",
       "      <td>NaN</td>\n",
       "      <td>{\"/m/09s02\": \"Telugu language\"}</td>\n",
       "      <td>{\"/m/03rk0\": \"India\"}</td>\n",
       "      <td>{\"/m/02l7c8\": \"Romance Film\"}</td>\n",
       "      <td>7.2</td>\n",
       "    </tr>\n",
       "    <tr>\n",
       "      <th>15485</th>\n",
       "      <td>1303197</td>\n",
       "      <td>/m/04r9kj</td>\n",
       "      <td>Cinderella</td>\n",
       "      <td>1957-03-31</td>\n",
       "      <td>NaN</td>\n",
       "      <td>90.0</td>\n",
       "      <td>{\"/m/02h40lc\": \"English Language\"}</td>\n",
       "      <td>{\"/m/09c7w0\": \"United States of America\"}</td>\n",
       "      <td>{\"/m/068d7h\": \"Romantic drama\", \"/m/04t36\": \"M...</td>\n",
       "      <td>NaN</td>\n",
       "    </tr>\n",
       "    <tr>\n",
       "      <th>9565</th>\n",
       "      <td>3597588</td>\n",
       "      <td>/m/09ny1w</td>\n",
       "      <td>Cement</td>\n",
       "      <td>1999</td>\n",
       "      <td>NaN</td>\n",
       "      <td>100.0</td>\n",
       "      <td>{\"/m/02h40lc\": \"English Language\"}</td>\n",
       "      <td>{\"/m/09c7w0\": \"United States of America\"}</td>\n",
       "      <td>{\"/m/01jfsb\": \"Thriller\", \"/m/0lsxr\": \"Crime F...</td>\n",
       "      <td>5.7</td>\n",
       "    </tr>\n",
       "    <tr>\n",
       "      <th>74014</th>\n",
       "      <td>18353498</td>\n",
       "      <td>/m/04f516w</td>\n",
       "      <td>Antares</td>\n",
       "      <td>2004</td>\n",
       "      <td>NaN</td>\n",
       "      <td>105.0</td>\n",
       "      <td>{\"/m/04306rv\": \"German Language\"}</td>\n",
       "      <td>{\"/m/0h7x\": \"Austria\", \"/m/0345h\": \"Germany\"}</td>\n",
       "      <td>{\"/m/0hj3n0w\": \"Ensemble Film\", \"/m/0hj3n16\": ...</td>\n",
       "      <td>6.1</td>\n",
       "    </tr>\n",
       "    <tr>\n",
       "      <th>13538</th>\n",
       "      <td>14570884</td>\n",
       "      <td>/m/03d87p3</td>\n",
       "      <td>Fatal Deviation</td>\n",
       "      <td>1998</td>\n",
       "      <td>NaN</td>\n",
       "      <td>90.0</td>\n",
       "      <td>{\"/m/02h40lc\": \"English Language\"}</td>\n",
       "      <td>{\"/m/03rt9\": \"Ireland\"}</td>\n",
       "      <td>{\"/m/02kdv5l\": \"Action\"}</td>\n",
       "      <td>4.7</td>\n",
       "    </tr>\n",
       "  </tbody>\n",
       "</table>\n",
       "</div>"
      ],
      "text/plain": [
       "         wikiID freebasemovID       movie_name release_date  boxoffice  \\\n",
       "73802   6015667     /m/0fkqcp              Sye   2004-09-23        NaN   \n",
       "15485   1303197     /m/04r9kj       Cinderella   1957-03-31        NaN   \n",
       "9565    3597588     /m/09ny1w           Cement         1999        NaN   \n",
       "74014  18353498    /m/04f516w          Antares         2004        NaN   \n",
       "13538  14570884    /m/03d87p3  Fatal Deviation         1998        NaN   \n",
       "\n",
       "       runtime                            language  \\\n",
       "73802      NaN     {\"/m/09s02\": \"Telugu language\"}   \n",
       "15485     90.0  {\"/m/02h40lc\": \"English Language\"}   \n",
       "9565     100.0  {\"/m/02h40lc\": \"English Language\"}   \n",
       "74014    105.0   {\"/m/04306rv\": \"German Language\"}   \n",
       "13538     90.0  {\"/m/02h40lc\": \"English Language\"}   \n",
       "\n",
       "                                             country  \\\n",
       "73802                          {\"/m/03rk0\": \"India\"}   \n",
       "15485      {\"/m/09c7w0\": \"United States of America\"}   \n",
       "9565       {\"/m/09c7w0\": \"United States of America\"}   \n",
       "74014  {\"/m/0h7x\": \"Austria\", \"/m/0345h\": \"Germany\"}   \n",
       "13538                        {\"/m/03rt9\": \"Ireland\"}   \n",
       "\n",
       "                                                   genre  averageRating  \n",
       "73802                      {\"/m/02l7c8\": \"Romance Film\"}            7.2  \n",
       "15485  {\"/m/068d7h\": \"Romantic drama\", \"/m/04t36\": \"M...            NaN  \n",
       "9565   {\"/m/01jfsb\": \"Thriller\", \"/m/0lsxr\": \"Crime F...            5.7  \n",
       "74014  {\"/m/0hj3n0w\": \"Ensemble Film\", \"/m/0hj3n16\": ...            6.1  \n",
       "13538                           {\"/m/02kdv5l\": \"Action\"}            4.7  "
      ]
     },
     "execution_count": 386,
     "metadata": {},
     "output_type": "execute_result"
    }
   ],
   "source": [
    "cmu_final.sample(5)"
   ]
  },
  {
   "cell_type": "markdown",
   "metadata": {},
   "source": [
    "## Let's put data in a more convenient format"
   ]
  },
  {
   "cell_type": "markdown",
   "metadata": {},
   "source": [
    "### Release Dates"
   ]
  },
  {
   "cell_type": "code",
   "execution_count": 387,
   "metadata": {},
   "outputs": [],
   "source": [
    "#Change the date format to make it the same in each rows\n",
    "# Assuming 'release_date' contains different format (based on the samples printed above: only the year or the full date)\n",
    "def parse_date(date_string):\n",
    "    try:\n",
    "        return pd.to_datetime(date_string, format='%Y')\n",
    "    except ValueError:\n",
    "        try:\n",
    "            return pd.to_datetime(date_string, format='%Y-%m-%d')\n",
    "        except ValueError:\n",
    "            return pd.NaT\n",
    "\n",
    "cmu_final['date'] = cmu_final['release_date'].apply(lambda x: parse_date(str(x)))"
   ]
  },
  {
   "cell_type": "code",
   "execution_count": 388,
   "metadata": {},
   "outputs": [
    {
     "data": {
      "text/html": [
       "<div>\n",
       "<style scoped>\n",
       "    .dataframe tbody tr th:only-of-type {\n",
       "        vertical-align: middle;\n",
       "    }\n",
       "\n",
       "    .dataframe tbody tr th {\n",
       "        vertical-align: top;\n",
       "    }\n",
       "\n",
       "    .dataframe thead th {\n",
       "        text-align: right;\n",
       "    }\n",
       "</style>\n",
       "<table border=\"1\" class=\"dataframe\">\n",
       "  <thead>\n",
       "    <tr style=\"text-align: right;\">\n",
       "      <th></th>\n",
       "      <th>wikiID</th>\n",
       "      <th>freebasemovID</th>\n",
       "      <th>movie_name</th>\n",
       "      <th>release_date</th>\n",
       "      <th>boxoffice</th>\n",
       "      <th>runtime</th>\n",
       "      <th>language</th>\n",
       "      <th>country</th>\n",
       "      <th>genre</th>\n",
       "      <th>averageRating</th>\n",
       "      <th>date</th>\n",
       "    </tr>\n",
       "  </thead>\n",
       "  <tbody>\n",
       "    <tr>\n",
       "      <th>71487</th>\n",
       "      <td>6451274</td>\n",
       "      <td>/m/0g5w9_</td>\n",
       "      <td>National Lampoon's Dorm Daze 2</td>\n",
       "      <td>2006-09-05</td>\n",
       "      <td>NaN</td>\n",
       "      <td>100.0</td>\n",
       "      <td>{\"/m/02h40lc\": \"English Language\"}</td>\n",
       "      <td>{\"/m/09c7w0\": \"United States of America\"}</td>\n",
       "      <td>{\"/m/0gsy3b\": \"Sex comedy\", \"/m/01z4y\": \"Comed...</td>\n",
       "      <td>NaN</td>\n",
       "      <td>2006-09-05</td>\n",
       "    </tr>\n",
       "    <tr>\n",
       "      <th>36742</th>\n",
       "      <td>26245382</td>\n",
       "      <td>/m/0b748w8</td>\n",
       "      <td>Vasantha Maligai</td>\n",
       "      <td>1972</td>\n",
       "      <td>NaN</td>\n",
       "      <td>162.0</td>\n",
       "      <td>{\"/m/07c9s\": \"Tamil Language\"}</td>\n",
       "      <td>{\"/m/03rk0\": \"India\"}</td>\n",
       "      <td>{\"/m/068d7h\": \"Romantic drama\", \"/m/02l7c8\": \"...</td>\n",
       "      <td>6.7</td>\n",
       "      <td>1972-01-01</td>\n",
       "    </tr>\n",
       "    <tr>\n",
       "      <th>61424</th>\n",
       "      <td>6980481</td>\n",
       "      <td>/m/0gzr0_</td>\n",
       "      <td>Carnosaur 2</td>\n",
       "      <td>1993</td>\n",
       "      <td>NaN</td>\n",
       "      <td>83.0</td>\n",
       "      <td>{\"/m/02h40lc\": \"English Language\"}</td>\n",
       "      <td>{\"/m/09c7w0\": \"United States of America\"}</td>\n",
       "      <td>{\"/m/0cq22z7\": \"Sci-Fi Horror\", \"/m/0qdzd\": \"B...</td>\n",
       "      <td>3.7</td>\n",
       "      <td>1993-01-01</td>\n",
       "    </tr>\n",
       "    <tr>\n",
       "      <th>11282</th>\n",
       "      <td>21086727</td>\n",
       "      <td>/m/05c4z00</td>\n",
       "      <td>Stournara 288</td>\n",
       "      <td>NaN</td>\n",
       "      <td>NaN</td>\n",
       "      <td>NaN</td>\n",
       "      <td>{}</td>\n",
       "      <td>{\"/m/035qy\": \"Greece\"}</td>\n",
       "      <td>{\"/m/01z4y\": \"Comedy\"}</td>\n",
       "      <td>6.9</td>\n",
       "      <td>NaT</td>\n",
       "    </tr>\n",
       "    <tr>\n",
       "      <th>66489</th>\n",
       "      <td>10628870</td>\n",
       "      <td>/m/02qkn9s</td>\n",
       "      <td>Valli</td>\n",
       "      <td>1993</td>\n",
       "      <td>NaN</td>\n",
       "      <td>NaN</td>\n",
       "      <td>{\"/m/07c9s\": \"Tamil Language\"}</td>\n",
       "      <td>{\"/m/03rk0\": \"India\"}</td>\n",
       "      <td>{}</td>\n",
       "      <td>3.9</td>\n",
       "      <td>1993-01-01</td>\n",
       "    </tr>\n",
       "  </tbody>\n",
       "</table>\n",
       "</div>"
      ],
      "text/plain": [
       "         wikiID freebasemovID                      movie_name release_date  \\\n",
       "71487   6451274     /m/0g5w9_  National Lampoon's Dorm Daze 2   2006-09-05   \n",
       "36742  26245382    /m/0b748w8                Vasantha Maligai         1972   \n",
       "61424   6980481     /m/0gzr0_                     Carnosaur 2         1993   \n",
       "11282  21086727    /m/05c4z00                   Stournara 288          NaN   \n",
       "66489  10628870    /m/02qkn9s                           Valli         1993   \n",
       "\n",
       "       boxoffice  runtime                            language  \\\n",
       "71487        NaN    100.0  {\"/m/02h40lc\": \"English Language\"}   \n",
       "36742        NaN    162.0      {\"/m/07c9s\": \"Tamil Language\"}   \n",
       "61424        NaN     83.0  {\"/m/02h40lc\": \"English Language\"}   \n",
       "11282        NaN      NaN                                  {}   \n",
       "66489        NaN      NaN      {\"/m/07c9s\": \"Tamil Language\"}   \n",
       "\n",
       "                                         country  \\\n",
       "71487  {\"/m/09c7w0\": \"United States of America\"}   \n",
       "36742                      {\"/m/03rk0\": \"India\"}   \n",
       "61424  {\"/m/09c7w0\": \"United States of America\"}   \n",
       "11282                     {\"/m/035qy\": \"Greece\"}   \n",
       "66489                      {\"/m/03rk0\": \"India\"}   \n",
       "\n",
       "                                                   genre  averageRating  \\\n",
       "71487  {\"/m/0gsy3b\": \"Sex comedy\", \"/m/01z4y\": \"Comed...            NaN   \n",
       "36742  {\"/m/068d7h\": \"Romantic drama\", \"/m/02l7c8\": \"...            6.7   \n",
       "61424  {\"/m/0cq22z7\": \"Sci-Fi Horror\", \"/m/0qdzd\": \"B...            3.7   \n",
       "11282                             {\"/m/01z4y\": \"Comedy\"}            6.9   \n",
       "66489                                                 {}            3.9   \n",
       "\n",
       "            date  \n",
       "71487 2006-09-05  \n",
       "36742 1972-01-01  \n",
       "61424 1993-01-01  \n",
       "11282        NaT  \n",
       "66489 1993-01-01  "
      ]
     },
     "execution_count": 388,
     "metadata": {},
     "output_type": "execute_result"
    }
   ],
   "source": [
    "cmu_final.sample(5)"
   ]
  },
  {
   "cell_type": "markdown",
   "metadata": {},
   "source": [
    "We can see when only the year was present in the original dataset, the formated date added the first day of the year to make it a valid format. This is not an issue since we will only use the years for our analysis.\n",
    "We will now drop the original date column, only keep years and rename the new one to release_year."
   ]
  },
  {
   "cell_type": "code",
   "execution_count": 389,
   "metadata": {},
   "outputs": [],
   "source": [
    "#Drop release_date column \n",
    "cmu_final.drop(columns=['release_date'], inplace=True)\n",
    "\n",
    "#Only keep year in date column and rename it to release_year\n",
    "cmu_final['release_year'] = cmu_final['date'].dt.year\n"
   ]
  },
  {
   "cell_type": "code",
   "execution_count": 390,
   "metadata": {},
   "outputs": [
    {
     "name": "stdout",
     "output_type": "stream",
     "text": [
      "The percentage of NaT values is:  12.474767864352039 %\n"
     ]
    }
   ],
   "source": [
    "#Check if too many NaT values appears (in that case, we will have to either drop the rows or try to fix the date manually)\n",
    "cmu_final['date'].isna().sum()\n",
    "print('The percentage of NaT values is: ', cmu_final['date'].isna().sum()/len(cmu_final)*100, '%')"
   ]
  },
  {
   "cell_type": "markdown",
   "metadata": {},
   "source": [
    "We will accept this amount of NaT (we still have close to 70k movies with a release year).\n",
    "\n",
    "We still keep the movies NaT in case other variables are still useful."
   ]
  },
  {
   "cell_type": "code",
   "execution_count": 391,
   "metadata": {},
   "outputs": [
    {
     "data": {
      "text/plain": [
       "count    71544.00000\n",
       "mean      1977.84260\n",
       "std         28.77973\n",
       "min       1888.00000\n",
       "25%       1956.00000\n",
       "50%       1986.00000\n",
       "75%       2004.00000\n",
       "max       2016.00000\n",
       "Name: release_year, dtype: float64"
      ]
     },
     "execution_count": 391,
     "metadata": {},
     "output_type": "execute_result"
    }
   ],
   "source": [
    "#Checking if years are consistent (not a future or too old year)\n",
    "cmu_final['release_year'].describe()"
   ]
  },
  {
   "cell_type": "markdown",
   "metadata": {},
   "source": [
    "The min (1888) and max (2016) values are reasonable. we may drop some of the years based on the number of movies that specific year."
   ]
  },
  {
   "cell_type": "code",
   "execution_count": 392,
   "metadata": {},
   "outputs": [
    {
     "data": {
      "image/png": "[encoded data removed]",
      "text/plain": [
       "<Figure size 1500x600 with 1 Axes>"
      ]
     },
     "metadata": {},
     "output_type": "display_data"
    }
   ],
   "source": [
    "# Plotting the bar plot\n",
    "grouped_year = cmu_final[['release_year', 'movie_name']].groupby('release_year').count().reset_index()\n",
    "\n",
    "# Assuming that the relevant columns are 'release_year' and 'movie_name'\n",
    "grouped_year.columns = ['release_year', 'number_films']\n",
    "\n",
    "plt.figure(figsize=(15, 6))\n",
    "plt.bar(grouped_year['release_year'], grouped_year['number_films'], color='skyblue', edgecolor='black')\n",
    "plt.title('Number of Films per Year')\n",
    "plt.xlabel('Year')\n",
    "plt.ylabel('Number of Films')\n",
    "plt.grid(axis='y', linestyle='--', alpha=0.7)\n",
    "plt.show()"
   ]
  },
  {
   "cell_type": "markdown",
   "metadata": {},
   "source": [
    "It seems the number of movies per year increases with years. Let's see a bit more in details how many years have less than 100, 500, 1000 movies."
   ]
  },
  {
   "cell_type": "code",
   "execution_count": 393,
   "metadata": {},
   "outputs": [
    {
     "name": "stdout",
     "output_type": "stream",
     "text": [
      "Number of years with less than 100 films: 26\n",
      "Number of years with less than 500 films: 69\n",
      "Number of years with less than 1000 films: 114\n",
      "The year with the max number of films is: 2008.0 with 2388 films\n"
     ]
    }
   ],
   "source": [
    "# Print the years with less than 100, 500, and 1000 films\n",
    "years_less_than_100 = grouped_year[grouped_year['number_films'] < 100]['release_year']\n",
    "years_less_than_500 = grouped_year[grouped_year['number_films'] < 500]['release_year']\n",
    "years_less_than_1000 = grouped_year[grouped_year['number_films'] < 1000]['release_year']\n",
    "\n",
    "print(f'Number of years with less than 100 films: {len(years_less_than_100)}')\n",
    "print(f'Number of years with less than 500 films: {len(years_less_than_500)}')\n",
    "print(f'Number of years with less than 1000 films: {len(years_less_than_1000)}')\n",
    "\n",
    "# Print the number of films for year 2010\n",
    "max_films_year = grouped_year.loc[grouped_year['number_films'].idxmax(), 'release_year']\n",
    "max_films_count = grouped_year['number_films'].max()\n",
    "print(f'The year with the max number of films is: {max_films_year} with {max_films_count} films')\n"
   ]
  },
  {
   "cell_type": "markdown",
   "metadata": {},
   "source": [
    "There are not a lot of films with less than 100 movies per year. We will remove these years from the dataset without losing too much information."
   ]
  },
  {
   "cell_type": "code",
   "execution_count": 394,
   "metadata": {},
   "outputs": [
    {
     "name": "stdout",
     "output_type": "stream",
     "text": [
      "The minimum number of film in a year is 135 in year 1911.0\n"
     ]
    }
   ],
   "source": [
    "#In the original CMU dataset remove the rows with release year with less than 100 films\n",
    "\n",
    "years_to_remove = years_less_than_100 = grouped_year[grouped_year['number_films'] < 100]['release_year'].tolist()\n",
    "cmu_final = cmu_final[~cmu_final['release_year'].isin(years_to_remove)]\n",
    "\n",
    "\n",
    "#test if the rows have been removed\n",
    "print(f'The minimum number of film in a year is {cmu_final[\"release_year\"].value_counts().min()} in year {cmu_final[\"release_year\"].value_counts().idxmin()}')\n"
   ]
  },
  {
   "cell_type": "markdown",
   "metadata": {},
   "source": [
    "### Dictionnaries"
   ]
  },
  {
   "cell_type": "markdown",
   "metadata": {},
   "source": [
    "We can notice 3 columns contains dictionnaries: langage, country and genre. We will now extract the information from these columns and create new columns for each of the values."
   ]
  },
  {
   "cell_type": "code",
   "execution_count": 395,
   "metadata": {},
   "outputs": [
    {
     "name": "stdout",
     "output_type": "stream",
     "text": [
      "The max number of values in a single dictionnary for language is 494\n",
      "The max number of values in a single dictionnary for country is 352\n"
     ]
    },
    {
     "name": "stdout",
     "output_type": "stream",
     "text": [
      "The max number of values in a single dictionnary for genre is 461\n",
      "The min number of values in a single dictionnary for language is 2\n",
      "The min number of values in a single dictionnary for country is 2\n",
      "The min number of values in a single dictionnary for genre is 2\n"
     ]
    }
   ],
   "source": [
    "#check the max number of values in a single dictionnary for each of the three columns\n",
    "\n",
    "print(f'The max number of values in a single dictionnary for language is {cmu_final[\"language\"].apply(lambda x: len(x)).max()}')\n",
    "print(f'The max number of values in a single dictionnary for country is {cmu_final[\"country\"].apply(lambda x: len(x)).max()}')\n",
    "print(f'The max number of values in a single dictionnary for genre is {cmu_final[\"genre\"].apply(lambda x: len(x)).max()}')\n",
    "\n",
    "#check the min number of values in a single dictionnary for each of the three columns\n",
    "print(f'The min number of values in a single dictionnary for language is {cmu_final[\"language\"].apply(lambda x: len(x)).min()}')\n",
    "print(f'The min number of values in a single dictionnary for country is {cmu_final[\"country\"].apply(lambda x: len(x)).min()}')\n",
    "print(f'The min number of values in a single dictionnary for genre is {cmu_final[\"genre\"].apply(lambda x: len(x)).min()}')"
   ]
  },
  {
   "cell_type": "code",
   "execution_count": 396,
   "metadata": {},
   "outputs": [
    {
     "name": "stdout",
     "output_type": "stream",
     "text": [
      "The max number of values in a single list for language is 15\n",
      "The max number of values in a single list for country is 14\n",
      "The max number of values in a single list for genre is 17\n"
     ]
    }
   ],
   "source": [
    "#Split the dictionnary values into list:\n",
    "\n",
    "cmu_final['language'] = cmu_final['language'].apply(lambda x: list(ast.literal_eval(x).values())) #we use ast.literal_eval to convert the string into a dictionnary since if we directly use x.values() it return empty list\n",
    "cmu_final['country'] = cmu_final['country'].apply(lambda x: list(ast.literal_eval(x).values()))\n",
    "cmu_final['genre'] = cmu_final['genre'].apply(lambda x: list(ast.literal_eval(x).values()))\n",
    "\n",
    "#Check the max number of values in each list (i.e. the max number of languages, countries and genres for a movie)\n",
    "print(f'The max number of values in a single list for language is {cmu_final[\"language\"].apply(len).max()}')\n",
    "print(f'The max number of values in a single list for country is {cmu_final[\"country\"].apply(len).max()}')\n",
    "print(f'The max number of values in a single list for genre is {cmu_final[\"genre\"].apply(len).max()}')"
   ]
  },
  {
   "cell_type": "code",
   "execution_count": 403,
   "metadata": {},
   "outputs": [
    {
     "data": {
      "text/plain": [
       "array(['Afghanistan', 'Albania', 'Algeria', 'Argentina', 'Armenia',\n",
       "       'Aruba', 'Australia', 'Austria', 'Azerbaijan', 'Bahamas',\n",
       "       'Bahrain', 'Bangladesh', 'Belgium', 'Bhutan', 'Bolivia',\n",
       "       'Bosnia and Herzegovina', 'Brazil', 'Bulgaria', 'Burkina Faso',\n",
       "       'Burma', 'Cambodia', 'Cameroon', 'Canada', 'Chile', 'China',\n",
       "       'Colombia', 'Congo', 'Costa Rica', 'Crime', 'Croatia', 'Cuba',\n",
       "       'Cyprus', 'Czech Republic', 'Czechoslovakia',\n",
       "       'Democratic Republic of the Congo', 'Denmark', 'Egypt', 'England',\n",
       "       'Estonia', 'Ethiopia', 'Federal Republic of Yugoslavia', 'Finland',\n",
       "       'France', 'Georgia', 'Georgian SSR', 'German Democratic Republic',\n",
       "       'German Language', 'Germany', 'Greece', 'Guinea', 'Guinea-Bissau',\n",
       "       'Haiti', 'Hong Kong', 'Hungary', 'Iceland', 'India', 'Indonesia',\n",
       "       'Iran', 'Iraq', 'Iraqi Kurdistan', 'Ireland', 'Isle of Man',\n",
       "       'Israel', 'Italy', 'Jamaica', 'Japan', 'Jordan', 'Kenya',\n",
       "       'Kingdom of Great Britain', 'Kingdom of Italy', 'Korea', 'Kuwait',\n",
       "       'Lebanon', 'Libya', 'Lithuania', 'Luxembourg', 'Macau',\n",
       "       'Malayalam Language', 'Malaysia', 'Mali', 'Malta',\n",
       "       'Mandatory Palestine', 'Mexico', 'Monaco', 'Mongolia',\n",
       "       'Montenegro', 'Morocco', 'Nazi Germany', 'Nepal', 'Netherlands',\n",
       "       'New Zealand', 'Nigeria', 'Northern Ireland', 'Norway', 'Pakistan',\n",
       "       'Palestinian Territories', 'Palestinian territories', 'Panama',\n",
       "       'Peru', 'Philippines', 'Poland', 'Portugal', 'Puerto Rico',\n",
       "       'Qatar', 'Republic of China', 'Republic of Macedonia', 'Romania',\n",
       "       'Russia', 'Scotland', 'Senegal', 'Serbia', 'Serbia and Montenegro',\n",
       "       'Singapore', 'Slovak Republic', 'Slovakia', 'Slovenia',\n",
       "       'Socialist Federal Republic of Yugoslavia', 'South Africa',\n",
       "       'South Korea', 'Soviet Union', 'Soviet occupation zone', 'Spain',\n",
       "       'Sri Lanka', 'Sweden', 'Switzerland', 'Taiwan', 'Thailand',\n",
       "       'Tunisia', 'Turkey', 'Turkmenistan', 'Ukraine', 'Ukrainian SSR',\n",
       "       'Ukranian SSR', 'United Arab Emirates', 'United Kingdom',\n",
       "       'United States of America', 'Uruguay', 'Uzbek SSR', 'Uzbekistan',\n",
       "       'Venezuela', 'Vietnam', 'Wales', 'Weimar Republic', 'West Germany',\n",
       "       'Yugoslavia', 'Zambia', 'Zimbabwe'], dtype='<U40')"
      ]
     },
     "execution_count": 403,
     "metadata": {},
     "output_type": "execute_result"
    }
   ],
   "source": [
    "np.unique(np.hstack(cmu_final['country'].values))\n",
    "\n",
    "\n"
   ]
  },
  {
   "cell_type": "code",
   "execution_count": null,
   "metadata": {},
   "outputs": [],
   "source": []
  },
  {
   "cell_type": "markdown",
   "metadata": {},
   "source": [
    "Clearly we can't split each value in a new column. But we don't need to keep the keys from the dictionnaries so we will keep these lists of values "
   ]
  },
  {
   "cell_type": "markdown",
   "metadata": {},
   "source": [
    "## Let's clean the remaining columns and remove/correct the inconsistent rows"
   ]
  },
  {
   "cell_type": "markdown",
   "metadata": {},
   "source": [
    "### Movie Name and FreebasemovieID"
   ]
  },
  {
   "cell_type": "markdown",
   "metadata": {},
   "source": [
    "We need to check if there is any ducplicate movie names and if the FreebaseID is unique for each movie."
   ]
  },
  {
   "cell_type": "code",
   "execution_count": 340,
   "metadata": {},
   "outputs": [
    {
     "name": "stdout",
     "output_type": "stream",
     "text": [
      "The number of duplicates in the movie_name column is 6211\n",
      "The number of duplicates in the freebasemovID column is 0\n"
     ]
    }
   ],
   "source": [
    "#Check if there are duplicates in the movie_name and freebasemovID column\n",
    "\n",
    "print(f'The number of duplicates in the movie_name column is {cmu_final[\"movie_name\"].duplicated().sum()}')\n",
    "print(f'The number of duplicates in the freebasemovID column is {cmu_final[\"freebasemovID\"].duplicated().sum()}')"
   ]
  },
  {
   "cell_type": "markdown",
   "metadata": {},
   "source": [
    "It appears we have film with the same name but different FreebaseID. \n",
    "Let's print some sample to see what make them different."
   ]
  },
  {
   "cell_type": "code",
   "execution_count": 343,
   "metadata": {},
   "outputs": [
    {
     "data": {
      "text/html": [
       "<div>\n",
       "<style scoped>\n",
       "    .dataframe tbody tr th:only-of-type {\n",
       "        vertical-align: middle;\n",
       "    }\n",
       "\n",
       "    .dataframe tbody tr th {\n",
       "        vertical-align: top;\n",
       "    }\n",
       "\n",
       "    .dataframe thead th {\n",
       "        text-align: right;\n",
       "    }\n",
       "</style>\n",
       "<table border=\"1\" class=\"dataframe\">\n",
       "  <thead>\n",
       "    <tr style=\"text-align: right;\">\n",
       "      <th></th>\n",
       "      <th>wikiID</th>\n",
       "      <th>freebasemovID</th>\n",
       "      <th>movie_name</th>\n",
       "      <th>boxoffice</th>\n",
       "      <th>runtime</th>\n",
       "      <th>language</th>\n",
       "      <th>country</th>\n",
       "      <th>genre</th>\n",
       "      <th>averageRating</th>\n",
       "      <th>date</th>\n",
       "      <th>release_year</th>\n",
       "    </tr>\n",
       "  </thead>\n",
       "  <tbody>\n",
       "    <tr>\n",
       "      <th>77290</th>\n",
       "      <td>8422241</td>\n",
       "      <td>/m/0272wbj</td>\n",
       "      <td>100 Days</td>\n",
       "      <td>NaN</td>\n",
       "      <td>161.0</td>\n",
       "      <td>[Hindi Language]</td>\n",
       "      <td>[India]</td>\n",
       "      <td>[Horror, Suspense, World cinema]</td>\n",
       "      <td>NaN</td>\n",
       "      <td>1991-01-01</td>\n",
       "      <td>1991.0</td>\n",
       "    </tr>\n",
       "    <tr>\n",
       "      <th>18992</th>\n",
       "      <td>15498803</td>\n",
       "      <td>/m/03mc7x8</td>\n",
       "      <td>100 Days</td>\n",
       "      <td>NaN</td>\n",
       "      <td>100.0</td>\n",
       "      <td>[English Language]</td>\n",
       "      <td>[United Kingdom]</td>\n",
       "      <td>[Drama]</td>\n",
       "      <td>NaN</td>\n",
       "      <td>2001-02-01</td>\n",
       "      <td>2001.0</td>\n",
       "    </tr>\n",
       "    <tr>\n",
       "      <th>12205</th>\n",
       "      <td>31239628</td>\n",
       "      <td>/m/0gj9wpb</td>\n",
       "      <td>100% Love</td>\n",
       "      <td>NaN</td>\n",
       "      <td>140.0</td>\n",
       "      <td>[Telugu language]</td>\n",
       "      <td>[]</td>\n",
       "      <td>[Romantic comedy]</td>\n",
       "      <td>7.0</td>\n",
       "      <td>NaT</td>\n",
       "      <td>NaN</td>\n",
       "    </tr>\n",
       "    <tr>\n",
       "      <th>69188</th>\n",
       "      <td>34757217</td>\n",
       "      <td>/m/0j3df_d</td>\n",
       "      <td>100% Love</td>\n",
       "      <td>NaN</td>\n",
       "      <td>NaN</td>\n",
       "      <td>[Bengali Language]</td>\n",
       "      <td>[India]</td>\n",
       "      <td>[Romance Film, Comedy film]</td>\n",
       "      <td>7.0</td>\n",
       "      <td>2012-01-20</td>\n",
       "      <td>2012.0</td>\n",
       "    </tr>\n",
       "    <tr>\n",
       "      <th>17891</th>\n",
       "      <td>33940717</td>\n",
       "      <td>/m/0j626hk</td>\n",
       "      <td>12</td>\n",
       "      <td>NaN</td>\n",
       "      <td>124.0</td>\n",
       "      <td>[English Language]</td>\n",
       "      <td>[United States of America]</td>\n",
       "      <td>[Comedy film, Musical, Indie]</td>\n",
       "      <td>NaN</td>\n",
       "      <td>2003-06-27</td>\n",
       "      <td>2003.0</td>\n",
       "    </tr>\n",
       "    <tr>\n",
       "      <th>...</th>\n",
       "      <td>...</td>\n",
       "      <td>...</td>\n",
       "      <td>...</td>\n",
       "      <td>...</td>\n",
       "      <td>...</td>\n",
       "      <td>...</td>\n",
       "      <td>...</td>\n",
       "      <td>...</td>\n",
       "      <td>...</td>\n",
       "      <td>...</td>\n",
       "      <td>...</td>\n",
       "    </tr>\n",
       "    <tr>\n",
       "      <th>79</th>\n",
       "      <td>11353896</td>\n",
       "      <td>/m/02r8pmz</td>\n",
       "      <td>Zindagi</td>\n",
       "      <td>NaN</td>\n",
       "      <td>NaN</td>\n",
       "      <td>[Hindi Language]</td>\n",
       "      <td>[India]</td>\n",
       "      <td>[Bollywood]</td>\n",
       "      <td>NaN</td>\n",
       "      <td>1976-01-01</td>\n",
       "      <td>1976.0</td>\n",
       "    </tr>\n",
       "    <tr>\n",
       "      <th>40871</th>\n",
       "      <td>11353680</td>\n",
       "      <td>/m/02r8p2s</td>\n",
       "      <td>Zindagi</td>\n",
       "      <td>NaN</td>\n",
       "      <td>NaN</td>\n",
       "      <td>[Hindi Language]</td>\n",
       "      <td>[India]</td>\n",
       "      <td>[Family Film, Drama, Musical]</td>\n",
       "      <td>NaN</td>\n",
       "      <td>1964-01-01</td>\n",
       "      <td>1964.0</td>\n",
       "    </tr>\n",
       "    <tr>\n",
       "      <th>75600</th>\n",
       "      <td>33215343</td>\n",
       "      <td>/m/0h67l5w</td>\n",
       "      <td>Zindagi</td>\n",
       "      <td>NaN</td>\n",
       "      <td>120.0</td>\n",
       "      <td>[Hindi Language]</td>\n",
       "      <td>[India]</td>\n",
       "      <td>[Family Film, Drama]</td>\n",
       "      <td>NaN</td>\n",
       "      <td>1940-01-01</td>\n",
       "      <td>1940.0</td>\n",
       "    </tr>\n",
       "    <tr>\n",
       "      <th>3321</th>\n",
       "      <td>7714332</td>\n",
       "      <td>/m/0269q28</td>\n",
       "      <td>Zoetrope</td>\n",
       "      <td>NaN</td>\n",
       "      <td>18.0</td>\n",
       "      <td>[English Language]</td>\n",
       "      <td>[United States of America]</td>\n",
       "      <td>[Short Film]</td>\n",
       "      <td>6.8</td>\n",
       "      <td>1999-01-01</td>\n",
       "      <td>1999.0</td>\n",
       "    </tr>\n",
       "    <tr>\n",
       "      <th>74801</th>\n",
       "      <td>31543513</td>\n",
       "      <td>/m/0glpvqt</td>\n",
       "      <td>Zoetrope</td>\n",
       "      <td>NaN</td>\n",
       "      <td>73.0</td>\n",
       "      <td>[]</td>\n",
       "      <td>[]</td>\n",
       "      <td>[Mystery, Fantasy]</td>\n",
       "      <td>6.8</td>\n",
       "      <td>NaT</td>\n",
       "      <td>NaN</td>\n",
       "    </tr>\n",
       "  </tbody>\n",
       "</table>\n",
       "<p>10580 rows × 11 columns</p>\n",
       "</div>"
      ],
      "text/plain": [
       "         wikiID freebasemovID movie_name  boxoffice  runtime  \\\n",
       "77290   8422241    /m/0272wbj   100 Days        NaN    161.0   \n",
       "18992  15498803    /m/03mc7x8   100 Days        NaN    100.0   \n",
       "12205  31239628    /m/0gj9wpb  100% Love        NaN    140.0   \n",
       "69188  34757217    /m/0j3df_d  100% Love        NaN      NaN   \n",
       "17891  33940717    /m/0j626hk         12        NaN    124.0   \n",
       "...         ...           ...        ...        ...      ...   \n",
       "79     11353896    /m/02r8pmz    Zindagi        NaN      NaN   \n",
       "40871  11353680    /m/02r8p2s    Zindagi        NaN      NaN   \n",
       "75600  33215343    /m/0h67l5w    Zindagi        NaN    120.0   \n",
       "3321    7714332    /m/0269q28   Zoetrope        NaN     18.0   \n",
       "74801  31543513    /m/0glpvqt   Zoetrope        NaN     73.0   \n",
       "\n",
       "                 language                     country  \\\n",
       "77290    [Hindi Language]                     [India]   \n",
       "18992  [English Language]            [United Kingdom]   \n",
       "12205   [Telugu language]                          []   \n",
       "69188  [Bengali Language]                     [India]   \n",
       "17891  [English Language]  [United States of America]   \n",
       "...                   ...                         ...   \n",
       "79       [Hindi Language]                     [India]   \n",
       "40871    [Hindi Language]                     [India]   \n",
       "75600    [Hindi Language]                     [India]   \n",
       "3321   [English Language]  [United States of America]   \n",
       "74801                  []                          []   \n",
       "\n",
       "                                  genre  averageRating       date  \\\n",
       "77290  [Horror, Suspense, World cinema]            NaN 1991-01-01   \n",
       "18992                           [Drama]            NaN 2001-02-01   \n",
       "12205                 [Romantic comedy]            7.0        NaT   \n",
       "69188       [Romance Film, Comedy film]            7.0 2012-01-20   \n",
       "17891     [Comedy film, Musical, Indie]            NaN 2003-06-27   \n",
       "...                                 ...            ...        ...   \n",
       "79                          [Bollywood]            NaN 1976-01-01   \n",
       "40871     [Family Film, Drama, Musical]            NaN 1964-01-01   \n",
       "75600              [Family Film, Drama]            NaN 1940-01-01   \n",
       "3321                       [Short Film]            6.8 1999-01-01   \n",
       "74801                [Mystery, Fantasy]            6.8        NaT   \n",
       "\n",
       "       release_year  \n",
       "77290        1991.0  \n",
       "18992        2001.0  \n",
       "12205           NaN  \n",
       "69188        2012.0  \n",
       "17891        2003.0  \n",
       "...             ...  \n",
       "79           1976.0  \n",
       "40871        1964.0  \n",
       "75600        1940.0  \n",
       "3321         1999.0  \n",
       "74801           NaN  \n",
       "\n",
       "[10580 rows x 11 columns]"
      ]
     },
     "execution_count": 343,
     "metadata": {},
     "output_type": "execute_result"
    }
   ],
   "source": [
    "#print some duplicates in the movie_name column\n",
    "cmu_final[cmu_final['movie_name'].duplicated(keep=False)].sort_values(by='movie_name')\n"
   ]
  },
  {
   "cell_type": "markdown",
   "metadata": {},
   "source": [
    "The use of same names for different movies seem to have different reasons:\n",
    "- The same movie name is used for different movies (e.g. \"100 Days\", produced in India in 1991 and in UK in 2001, with different genres and runtime)\n",
    "- The same movie name is used for different versions of the same movie (e.g. \"100% Love\", produced in Telugu in Bengali but with similar properties: just a different language)"
   ]
  },
  {
   "cell_type": "markdown",
   "metadata": {},
   "source": [
    "### Run Time"
   ]
  },
  {
   "cell_type": "code",
   "execution_count": 344,
   "metadata": {},
   "outputs": [
    {
     "data": {
      "text/plain": [
       "count    6.108700e+04\n",
       "mean     1.121635e+02\n",
       "std      4.367340e+03\n",
       "min      5.000000e-02\n",
       "25%      8.100000e+01\n",
       "50%      9.300000e+01\n",
       "75%      1.070000e+02\n",
       "max      1.079281e+06\n",
       "Name: runtime, dtype: float64"
      ]
     },
     "execution_count": 344,
     "metadata": {},
     "output_type": "execute_result"
    }
   ],
   "source": [
    "cmu_final['runtime'].describe()"
   ]
  },
  {
   "cell_type": "markdown",
   "metadata": {},
   "source": [
    "Min and max run times can't be true. A few seconds and a couples of years are not possible. We will plot the distribution of run times to see if we can find any other outliers."
   ]
  },
  {
   "cell_type": "code",
   "execution_count": 361,
   "metadata": {},
   "outputs": [
    {
     "data": {
      "image/png": "[encoded data removed]",
      "text/plain": [
       "<Figure size 1500x600 with 1 Axes>"
      ]
     },
     "metadata": {},
     "output_type": "display_data"
    },
    {
     "name": "stdout",
     "output_type": "stream",
     "text": [
      "The proportion of films with runtime more than 180 minutes is 0.960639606396064%\n",
      "The proportion of films with runtime less than 10 minutes is 1.2632226322263223%\n"
     ]
    }
   ],
   "source": [
    "#Drop the outliers in runtime column\n",
    "cmu_final = cmu_final.drop(cmu_final[cmu_final['runtime'] > 600].index) #remove movies longer than 600 minutes (10hrs)\n",
    "cmu_final = cmu_final.drop(cmu_final[cmu_final['runtime'] < 1].index) #remove movies shorter than 1 minute\n",
    "\n",
    "#Plot the distribution of the runtime\n",
    "plt.figure(figsize=(15, 6))\n",
    "plt.hist(cmu_final['runtime'], bins=1000, color='skyblue', edgecolor='black')\n",
    "plt.title('Distribution of Runtime')\n",
    "plt.xlabel('Runtime')\n",
    "plt.ylabel('Number of Films')\n",
    "plt.grid(axis='y', linestyle='--', alpha=0.7)\n",
    "plt.show()\n",
    "\n",
    "print(f'The proportion of films with runtime more than 180 minutes is {len(cmu_final[cmu_final[\"runtime\"] > 180])/len(cmu_final)*100}%')\n",
    "print(f'The proportion of films with runtime less than 10 minutes is {len(cmu_final[cmu_final[\"runtime\"] < 10])/len(cmu_final)*100}%')\n"
   ]
  },
  {
   "cell_type": "markdown",
   "metadata": {},
   "source": [
    "Now the distribution is way better. We will keep the movies with a run time between 10 and 180 minutes."
   ]
  },
  {
   "cell_type": "code",
   "execution_count": 362,
   "metadata": {},
   "outputs": [],
   "source": [
    "#Only keep the movies with runtime between 10 and 180 minutes\n",
    "cmu_final = cmu_final[cmu_final['runtime'] <= 180]\n",
    "cmu_final = cmu_final[cmu_final['runtime'] >= 10]"
   ]
  },
  {
   "cell_type": "markdown",
   "metadata": {},
   "source": [
    "### Box Office and Ratings"
   ]
  },
  {
   "cell_type": "markdown",
   "metadata": {},
   "source": [
    "We plan to rely a lot on box office. Let's then first check the percentage of missing boxoffice to see if it makes sense to use such metric."
   ]
  },
  {
   "cell_type": "code",
   "execution_count": 364,
   "metadata": {},
   "outputs": [
    {
     "name": "stdout",
     "output_type": "stream",
     "text": [
      "The percentage of missing values in Box Office column is 86.09877585479106%\n",
      "The percentage of missing values in Ratings column is 49.11777121148164%\n"
     ]
    }
   ],
   "source": [
    "print(f'The percentage of missing values in Box Office column is {cmu_final[\"boxoffice\"].isna().sum()/len(cmu_final)*100}%')\n",
    "print(f'The percentage of missing values in Ratings column is {cmu_final[\"averageRating\"].isna().sum()/len(cmu_final)*100}%')"
   ]
  },
  {
   "cell_type": "markdown",
   "metadata": {},
   "source": [
    "Thankfully we merge the datasets. Ratings will enable a more consistent and reliable analysis.\n",
    "\n",
    "Let's check if we can remove Box Office NaN values because there are for old movies"
   ]
  },
  {
   "cell_type": "code",
   "execution_count": 377,
   "metadata": {},
   "outputs": [
    {
     "data": {
      "image/png": "[encoded data removed]",
      "text/plain": [
       "<Figure size 1500x600 with 1 Axes>"
      ]
     },
     "metadata": {},
     "output_type": "display_data"
    }
   ],
   "source": [
    "#Plot the percentage of NaN values in the boxoffice column for each year\n",
    "import matplotlib.pyplot as plt\n",
    "\n",
    "# Calculate the percentage of NaN values for each year\n",
    "bo_nan_percentage_by_year = cmu_final.groupby('release_year')['boxoffice'].apply(lambda x: (x.isna().mean() * 100) * 100)\n",
    "rat_nan_percentage_by_year = cmu_final.groupby('release_year')['averageRating'].apply(lambda x: (x.isna().mean() * 100) * 100)\n",
    "\n",
    "# Plot the percentage of NaN values for each year\n",
    "plt.figure(figsize=(15, 6))\n",
    "bo_nan_percentage_by_year.plot(kind='bar', color='skyblue', edgecolor='black')\n",
    "rat_nan_percentage_by_year.plot(kind='bar', color='orange', edgecolor='black')\n",
    "plt.title('Percentage of NaN Values in Box Office Column for Each Year')\n",
    "plt.xlabel('Release Year')\n",
    "plt.ylabel('Percentage of NaN Values')\n",
    "plt.legend(['Box Office', 'Ratings'])\n",
    "plt.grid(axis='y', linestyle='--', alpha=0.7)\n",
    "plt.show()\n"
   ]
  },
  {
   "cell_type": "markdown",
   "metadata": {},
   "source": [
    "Each Year Ratings are less likely to be NaN. We will more likely use these values for now."
   ]
  },
  {
   "cell_type": "markdown",
   "metadata": {},
   "source": [
    "# Cleaning the Character dataset"
   ]
  }
 ],
 "metadata": {
  "kernelspec": {
   "display_name": "ada",
   "language": "python",
   "name": "python3"
  },
  "language_info": {
   "codemirror_mode": {
    "name": "ipython",
    "version": 3
   },
   "file_extension": ".py",
   "mimetype": "text/x-python",
   "name": "python",
   "nbconvert_exporter": "python",
   "pygments_lexer": "ipython3",
   "version": "3.9.18"
  }
 },
 "nbformat": 4,
 "nbformat_minor": 2
}
