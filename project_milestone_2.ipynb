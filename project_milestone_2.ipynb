{
 "cells": [
  {
   "cell_type": "code",
   "execution_count": 1,
   "metadata": {},
   "outputs": [],
   "source": [
    "import pandas as pd\n",
    "%matplotlib inline\n",
    "import matplotlib.pyplot as plt\n",
    "import seaborn as sns\n",
    "import ast\n",
    "import numpy as np"
   ]
  },
  {
   "cell_type": "markdown",
   "metadata": {},
   "source": [
    "# Loading datasets "
   ]
  },
  {
   "cell_type": "code",
   "execution_count": 2,
   "metadata": {},
   "outputs": [
    {
     "name": "stderr",
     "output_type": "stream",
     "text": [
      "/tmp/ipykernel_8973/1405530613.py:37: DtypeWarning: Columns (4) have mixed types. Specify dtype option on import or set low_memory=False.\n",
      "  imdb_movies = pd.read_csv(data_path+'title_basics.tsv', sep='\\t')\n"
     ]
    }
   ],
   "source": [
    "cmu_movie_cols = ['wikiID',\n",
    "                  'freebase_movID',\n",
    "                  'movie_name',\n",
    "                  'release_date',\n",
    "                  'boxoffice',\n",
    "                  'runtime',\n",
    "                  'language',\n",
    "                  'country',\n",
    "                  'genre']\n",
    "\n",
    "cmu_character_cols = ['wikiID',\n",
    "                      'freebase_movID',\n",
    "                      'release_date',\n",
    "                      'character_name',\n",
    "                      'actor_birth',\n",
    "                      'actor_gender',\n",
    "                      'actor_height',\n",
    "                      'actor_ethnicity',\n",
    "                      'actor_name',\n",
    "                      'actor_age_at_release',\n",
    "                      'freebase_char_actor_map',\n",
    "                      'freebase_charID',\n",
    "                      'freebase_actorID']\n",
    "\n",
    "acl_persona_cols = ['entity_id',\n",
    "                    'wikiID',\n",
    "                    'movie_name',\n",
    "                    'entity_name',\n",
    "                    'full_entity_name',\n",
    "                    'entity_num_event',\n",
    "                    'persona',\n",
    "                    'final_posterior']\n",
    "\n",
    "data_path = './data/'\n",
    "acl_persona_path = data_path+'ACL_personas_dump/personas/'\n",
    "\n",
    "imdb_movies = pd.read_csv(data_path+'title_basics.tsv', sep='\\t')\n",
    "imdb_ratings= pd.read_csv(data_path+'title_ratings.tsv', sep='\\t')\n",
    "cmu_movies = pd.read_csv(data_path+'movie.metadata.tsv', sep='\\t', names=cmu_movie_cols)\n",
    "cmu_character = pd.read_table(data_path+'character.metadata.tsv', names=cmu_character_cols)\n",
    "acl_persona = pd.read_table(acl_persona_path+'25.100.lda.log.txt', header=None, names=acl_persona_cols)"
   ]
  },
  {
   "cell_type": "code",
   "execution_count": 3,
   "metadata": {},
   "outputs": [],
   "source": [
    "#merge with their ratings\n",
    "imdb_movies = imdb_movies[['tconst','primaryTitle','startYear']].merge(imdb_ratings,how='inner',on='tconst')\n",
    "\n",
    "#lower(title)\n",
    "imdb_movies = imdb_movies[imdb_movies['primaryTitle'].apply(lambda x : type(x))==str]\n",
    "imdb_movies['primaryTitle'] = imdb_movies['primaryTitle'].apply(lambda x : x.lower())\n",
    "\n",
    "imdb_movies = imdb_movies.sort_values(by=['primaryTitle','numVotes'],ascending=[True,False])\n",
    "\n",
    "imdb_movies = imdb_movies.drop_duplicates(subset=['primaryTitle','startYear'])"
   ]
  },
  {
   "cell_type": "code",
   "execution_count": 4,
   "metadata": {},
   "outputs": [],
   "source": [
    "cmu_movies['movie_name'] = cmu_movies['movie_name'].apply(lambda x : x.lower())"
   ]
  },
  {
   "cell_type": "code",
   "execution_count": 5,
   "metadata": {},
   "outputs": [],
   "source": [
    "cmu_imdb_movies = cmu_movies.merge(imdb_movies,left_on='movie_name',right_on='primaryTitle')\n",
    "cmu_imdb_movies = cmu_imdb_movies[~cmu_imdb_movies.duplicated(subset=['wikiID'],keep=False)]"
   ]
  },
  {
   "cell_type": "code",
   "execution_count": 6,
   "metadata": {},
   "outputs": [],
   "source": [
    "# As IMDB has no missing values for the movie's year of release, for missing values in CMU we take the one from IMDB but keep information of months and days when available\n",
    "cmu_imdb_movies.loc[cmu_imdb_movies['release_date'].isna(), 'release_date']=cmu_imdb_movies.loc[cmu_imdb_movies['release_date'].isna(), 'startYear']"
   ]
  },
  {
   "cell_type": "code",
   "execution_count": 7,
   "metadata": {},
   "outputs": [],
   "source": [
    "cmu_movies = cmu_movies.drop('release_date',axis=1).merge(cmu_imdb_movies[['wikiID','averageRating','numVotes','release_date']],on='wikiID',how='inner')"
   ]
  },
  {
   "cell_type": "markdown",
   "metadata": {},
   "source": [
    "## Let's put data in a more convenient format"
   ]
  },
  {
   "cell_type": "markdown",
   "metadata": {},
   "source": [
    "### Release Dates"
   ]
  },
  {
   "cell_type": "code",
   "execution_count": 8,
   "metadata": {},
   "outputs": [],
   "source": [
    "cmu_movies['release_date'] = cmu_movies['release_date'].apply(pd.to_datetime)"
   ]
  },
  {
   "cell_type": "markdown",
   "metadata": {},
   "source": [
    "We can see when only the year was present in the original dataset, the formated date added the first day of the year to make it a valid format. This is not an issue since we will only use the years for our analysis.\n",
    "We will now drop the original date column, only keep years and rename the new one to release_year.   TO BE CHECKEEEEEEEEEEEEEEEEEEEEEEEEED"
   ]
  },
  {
   "cell_type": "code",
   "execution_count": 9,
   "metadata": {},
   "outputs": [
    {
     "name": "stdout",
     "output_type": "stream",
     "text": [
      "The percentage of NaT values is:  0.0 %\n"
     ]
    }
   ],
   "source": [
    "#Check if too many NaT values appears (in that case, we will have to either drop the rows or try to fix the date manually)\n",
    "print('The percentage of NaT values is: ', cmu_movies['release_date'].isna().mean()*100, '%')"
   ]
  },
  {
   "cell_type": "markdown",
   "metadata": {},
   "source": [
    "We will accept this amount of NaT (we still have close to 70k movies with a release year).  TO BE CHECKEEEEEEEEEEEEEEEEEEEEEEEEED\n",
    "\n",
    "We still keep the movies NaT in case other variables are still useful."
   ]
  },
  {
   "cell_type": "code",
   "execution_count": 10,
   "metadata": {},
   "outputs": [
    {
     "data": {
      "text/plain": [
       "count                            37525\n",
       "mean     1979-07-03 09:09:01.367088576\n",
       "min                1878-01-01 00:00:00\n",
       "25%                1958-01-01 00:00:00\n",
       "50%                1987-01-01 00:00:00\n",
       "75%                2004-03-31 00:00:00\n",
       "max                2023-01-01 00:00:00\n",
       "Name: release_date, dtype: object"
      ]
     },
     "execution_count": 10,
     "metadata": {},
     "output_type": "execute_result"
    }
   ],
   "source": [
    "#Checking if years are consistent (not a future or too old year)\n",
    "cmu_movies['release_date'].describe()"
   ]
  },
  {
   "cell_type": "markdown",
   "metadata": {},
   "source": [
    "The min (1888) and max (2016) values are reasonable. we may drop some of the years based on the number of movies that specific year."
   ]
  },
  {
   "cell_type": "code",
   "execution_count": 11,
   "metadata": {},
   "outputs": [
    {
     "data": {
      "image/png": "[encoded data removed]",
      "text/plain": [
       "<Figure size 800x400 with 1 Axes>"
      ]
     },
     "metadata": {},
     "output_type": "display_data"
    }
   ],
   "source": [
    "# Plotting the bar plot\n",
    "grouped_year = cmu_movies.groupby(cmu_movies.release_date.dt.year).agg(number_films=('movie_name','count')).reset_index()\n",
    "\n",
    "plt.figure(figsize=(8, 4))\n",
    "plt.bar(grouped_year['release_date'], grouped_year['number_films'], color='skyblue', edgecolor='black')\n",
    "plt.title('Number of Films per Year')\n",
    "plt.xlabel('Year')\n",
    "plt.ylabel('Number of Films')\n",
    "plt.grid(axis='y', linestyle='--', alpha=0.7)\n",
    "plt.show()"
   ]
  },
  {
   "cell_type": "markdown",
   "metadata": {},
   "source": [
    "It seems the number of movies per year increases with years. Let's see a bit more in details how many years have less than 100, 500, 1000 movies."
   ]
  },
  {
   "cell_type": "code",
   "execution_count": 12,
   "metadata": {},
   "outputs": [
    {
     "name": "stdout",
     "output_type": "stream",
     "text": [
      "Number of years with less than 100 films: 45\n",
      "Number of years with less than 500 films: 120\n",
      "Number of years with less than 1000 films: 130\n",
      "The year with the max number of films is: 2007 with 1284 films\n"
     ]
    }
   ],
   "source": [
    "# Print the years with less than 100, 500, and 1000 films\n",
    "years_less_than_100 = grouped_year[grouped_year['number_films'] < 100]['release_date']\n",
    "years_less_than_500 = grouped_year[grouped_year['number_films'] < 500]['release_date']\n",
    "years_less_than_1000 = grouped_year[grouped_year['number_films'] < 1000]['release_date']\n",
    "\n",
    "print(f'Number of years with less than 100 films: {len(years_less_than_100)}')\n",
    "print(f'Number of years with less than 500 films: {len(years_less_than_500)}')\n",
    "print(f'Number of years with less than 1000 films: {len(years_less_than_1000)}')\n",
    "\n",
    "# Print the number of films for year 2010\n",
    "max_films_year = grouped_year.loc[grouped_year['number_films'].idxmax(), 'release_date']\n",
    "max_films_count = grouped_year['number_films'].max()\n",
    "print(f'The year with the max number of films is: {max_films_year:.0f} with {max_films_count} films')"
   ]
  },
  {
   "cell_type": "markdown",
   "metadata": {},
   "source": [
    "There are not a lot of films with less than 100 movies per year. We will remove these years from the dataset without losing too much information.  TO BE CHECKEEEEEEEEEEEEEEEEEEEEEEEEED"
   ]
  },
  {
   "cell_type": "code",
   "execution_count": 13,
   "metadata": {},
   "outputs": [
    {
     "name": "stdout",
     "output_type": "stream",
     "text": [
      "The minimum number of film in a year is 102 in year 1919\n"
     ]
    }
   ],
   "source": [
    "#In the original CMU dataset remove the rows with release year with less than 100 films\n",
    "\n",
    "years_to_remove = grouped_year[grouped_year['number_films'] < 100]['release_date'].tolist()\n",
    "cmu_movies = cmu_movies[~cmu_movies.release_date.dt.year.isin(years_to_remove)]\n",
    "\n",
    "\n",
    "#test if the rows have been removed\n",
    "print(f'The minimum number of film in a year is {cmu_movies.release_date.dt.year.value_counts().min()} in year {cmu_movies.release_date.dt.year.value_counts().idxmin()}')\n"
   ]
  },
  {
   "cell_type": "markdown",
   "metadata": {},
   "source": [
    "### Dictionnaries"
   ]
  },
  {
   "cell_type": "markdown",
   "metadata": {},
   "source": [
    "We can notice 3 columns contains dictionnaries: langage, country and genre. We will now extract the information from these columns and create new columns for each of the values."
   ]
  },
  {
   "cell_type": "code",
   "execution_count": 14,
   "metadata": {},
   "outputs": [
    {
     "name": "stdout",
     "output_type": "stream",
     "text": [
      "The max number of values in a single list for language is 11\n",
      "The max number of values in a single list for country is 14\n",
      "The max number of values in a single list for genre is 17\n"
     ]
    }
   ],
   "source": [
    "#Split the dictionnary values into list:\n",
    "\n",
    "cmu_movies['language'] = cmu_movies['language'].apply(lambda x: list(ast.literal_eval(x).values())) #we use ast.literal_eval to convert the string into a dictionnary since if we directly use x.values() it return empty list\n",
    "cmu_movies['country'] = cmu_movies['country'].apply(lambda x: list(ast.literal_eval(x).values()))\n",
    "cmu_movies['genre'] = cmu_movies['genre'].apply(lambda x: list(ast.literal_eval(x).values()))\n",
    "\n",
    "#Check the max number of values in each list (i.e. the max number of languages, countries and genres for a movie)\n",
    "print(f'The max number of values in a single list for language is {cmu_movies[\"language\"].apply(len).max()}')\n",
    "print(f'The max number of values in a single list for country is {cmu_movies[\"country\"].apply(len).max()}')\n",
    "print(f'The max number of values in a single list for genre is {cmu_movies[\"genre\"].apply(len).max()}')"
   ]
  },
  {
   "cell_type": "markdown",
   "metadata": {},
   "source": [
    "Clearly we can't split each value in a new column. But we don't need to keep the keys from the dictionnaries so we will keep these lists of values "
   ]
  },
  {
   "cell_type": "markdown",
   "metadata": {},
   "source": [
    "# Cleaning the Character dataset"
   ]
  },
  {
   "cell_type": "code",
   "execution_count": 15,
   "metadata": {},
   "outputs": [],
   "source": [
    "cmu_character.dropna(subset=['wikiID','freebase_actorID'], inplace=True)\n",
    "\n",
    "actor_movie = cmu_character[['wikiID','freebase_actorID']].merge(cmu_movies[['wikiID','averageRating','numVotes','release_date']],on='wikiID',how='inner')\n",
    "actor_movie = actor_movie.drop_duplicates(subset=['wikiID','freebase_actorID']) # if same film same actor\n",
    "actor_movie = actor_movie.dropna(subset='averageRating')\n",
    "actor_movie = actor_movie.sort_values(by=['freebase_actorID','release_date'])\n",
    "actor_movie.reset_index(drop=True,inplace=True)\n",
    "actor_movie.reset_index(inplace=True)"
   ]
  },
  {
   "cell_type": "code",
   "execution_count": 16,
   "metadata": {},
   "outputs": [],
   "source": [
    "def fame_score(row,data):\n",
    "    n = row['index']\n",
    "    rowm1 = data.iloc[n-1]\n",
    "    rowm2 = data.iloc[n-2]\n",
    "\n",
    "    actor = row['freebase_actorID']\n",
    "    year = row['release_date'].year\n",
    "    rate = row['averageRating']\n",
    "    votes = row['numVotes']\n",
    "\n",
    "    fame_score = rate * np.log(votes) / (year-1700)\n",
    "\n",
    "    if rowm2['freebase_actorID'] == actor:\n",
    "        year = rowm2['release_date'].year\n",
    "        rate = rowm2['averageRating'] \n",
    "        votes = rowm2['numVotes']\n",
    "        fame_score += rate * np.log(votes) / (year-1700)\n",
    "\n",
    "    if rowm1['freebase_actorID'] == actor:\n",
    "        year = rowm1['release_date'].year\n",
    "        rate = rowm1['averageRating']\n",
    "        votes = rowm1['numVotes']\n",
    "        fame_score += rate * np.log(votes) / (year-1700)\n",
    "\n",
    "    return fame_score"
   ]
  },
  {
   "cell_type": "code",
   "execution_count": 17,
   "metadata": {},
   "outputs": [],
   "source": [
    "# Apply the function to each row\n",
    "actor_movie['fameScore'] = actor_movie.apply(lambda x: fame_score(x,actor_movie), axis=1)\n",
    "actor_movie.drop('index',inplace=True,axis=1)"
   ]
  },
  {
   "cell_type": "code",
   "execution_count": 18,
   "metadata": {},
   "outputs": [],
   "source": [
    "cmu_character = cmu_character.drop_duplicates(subset=['wikiID','freebase_actorID']).drop(columns='release_date', axis=1)\n",
    "cmu_character = cmu_character.merge(actor_movie[['freebase_actorID','wikiID', 'fameScore','release_date']], on=['freebase_actorID','wikiID'])"
   ]
  },
  {
   "cell_type": "code",
   "execution_count": 19,
   "metadata": {},
   "outputs": [],
   "source": [
    "# Include character persona in cmu_character\n",
    "acl_persona = acl_persona[acl_persona['entity_id'].apply(lambda x : not x.startswith('e'))].rename(columns={'entity_id':'freebase_char_actor_map'})\n",
    "cmu_character = cmu_character.merge(acl_persona[['freebase_char_actor_map','persona']], on='freebase_char_actor_map', how='left')"
   ]
  }
 ],
 "metadata": {
  "kernelspec": {
   "display_name": "ada",
   "language": "python",
   "name": "python3"
  },
  "language_info": {
   "codemirror_mode": {
    "name": "ipython",
    "version": 3
   },
   "file_extension": ".py",
   "mimetype": "text/x-python",
   "name": "python",
   "nbconvert_exporter": "python",
   "pygments_lexer": "ipython3",
   "version": "3.9.18"
  }
 },
 "nbformat": 4,
 "nbformat_minor": 2
}
