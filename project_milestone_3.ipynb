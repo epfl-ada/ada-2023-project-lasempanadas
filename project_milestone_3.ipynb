{
 "cells": [
  {
   "cell_type": "code",
   "execution_count": 1,
   "metadata": {},
   "outputs": [],
   "source": [
    "import pandas as pd\n",
    "%matplotlib inline\n",
    "import matplotlib.pyplot as plt\n",
    "import seaborn as sns\n",
    "import ast\n",
    "import numpy as np"
   ]
  },
  {
   "cell_type": "markdown",
   "metadata": {},
   "source": [
    "# Loading datasets "
   ]
  },
  {
   "cell_type": "code",
   "execution_count": 2,
   "metadata": {},
   "outputs": [],
   "source": [
    "cmu_movie_cols = ['wikiID',\n",
    "                  'freebase_movID',\n",
    "                  'movie_name',\n",
    "                  'release_date',\n",
    "                  'boxoffice',\n",
    "                  'runtime',\n",
    "                  'language',\n",
    "                  'country',\n",
    "                  'genre']\n",
    "\n",
    "cmu_character_cols = ['wikiID',\n",
    "                      'freebase_movID',\n",
    "                      'release_date',\n",
    "                      'character_name',\n",
    "                      'actor_birth',\n",
    "                      'actor_gender',\n",
    "                      'actor_height',\n",
    "                      'actor_ethnicity',\n",
    "                      'actor_name',\n",
    "                      'actor_age_at_release',\n",
    "                      'freebase_char_actor_map',\n",
    "                      'freebase_charID',\n",
    "                      'freebase_actorID']\n",
    "\n",
    "acl_persona_cols = ['entity_id',\n",
    "                    'wikiID',\n",
    "                    'movie_name',\n",
    "                    'entity_name',\n",
    "                    'full_entity_name',\n",
    "                    'entity_num_event',\n",
    "                    'persona',\n",
    "                    'final_posterior']\n",
    "\n",
    "data_path = './data/'\n",
    "acl_persona_path = data_path+'ACL_personas_dump/personas/'\n",
    "\n",
    "imdb_movies = pd.read_csv(data_path+'title_basics.tsv', sep='\\t',low_memory=False)\n",
    "imdb_ratings= pd.read_csv(data_path+'title_ratings.tsv', sep='\\t')\n",
    "imdb_principals = pd.read_csv(data_path+'name_principals.csv')\n",
    "cmu_movies = pd.read_csv(data_path+'movie.metadata.tsv', sep='\\t', names=cmu_movie_cols)\n",
    "cmu_character = pd.read_table(data_path+'character.metadata.tsv', names=cmu_character_cols)\n",
    "acl_persona = pd.read_table(acl_persona_path+'25.100.lda.log.txt', header=None, names=acl_persona_cols)"
   ]
  },
  {
   "cell_type": "code",
   "execution_count": 4,
   "metadata": {},
   "outputs": [],
   "source": [
    "#merge with their ratings\n",
    "imdb_movies = imdb_movies[['tconst','primaryTitle','startYear']].merge(imdb_ratings,how='inner',on='tconst')\n",
    "\n",
    "#lower(title)\n",
    "imdb_movies = imdb_movies[imdb_movies['primaryTitle'].apply(lambda x : type(x))==str]\n",
    "imdb_movies['primaryTitle'] = imdb_movies['primaryTitle'].apply(lambda x : x.lower())\n",
    "\n",
    "imdb_movies = imdb_movies.sort_values(by=['primaryTitle','numVotes'],ascending=[True,False])\n",
    "\n",
    "imdb_movies = imdb_movies.drop_duplicates(subset=['primaryTitle','startYear'])"
   ]
  },
  {
   "cell_type": "code",
   "execution_count": 5,
   "metadata": {},
   "outputs": [],
   "source": [
    "cmu_movies['movie_name'] = cmu_movies['movie_name'].apply(lambda x : x.lower())"
   ]
  },
  {
   "cell_type": "code",
   "execution_count": 6,
   "metadata": {},
   "outputs": [],
   "source": [
    "cmu_imdb_movies = cmu_movies.merge(imdb_movies,left_on='movie_name',right_on='primaryTitle')\n",
    "cmu_imdb_movies = cmu_imdb_movies[~cmu_imdb_movies.duplicated(subset=['wikiID'],keep=False)]"
   ]
  },
  {
   "cell_type": "code",
   "execution_count": 7,
   "metadata": {},
   "outputs": [],
   "source": [
    "# As IMDB has no missing values for the movie's year of release, for missing values in CMU we take the one from IMDB but keep information of months and days when available\n",
    "cmu_imdb_movies.loc[cmu_imdb_movies['release_date'].isna(), 'release_date']=cmu_imdb_movies.loc[cmu_imdb_movies['release_date'].isna(), 'startYear']"
   ]
  },
  {
   "cell_type": "code",
   "execution_count": 8,
   "metadata": {},
   "outputs": [],
   "source": [
    "cmu_movies = cmu_movies.drop('release_date',axis=1).merge(cmu_imdb_movies[['wikiID','averageRating','numVotes','release_date']],on='wikiID',how='inner')"
   ]
  },
  {
   "cell_type": "markdown",
   "metadata": {},
   "source": [
    "## Let's put data in a more convenient format"
   ]
  },
  {
   "cell_type": "markdown",
   "metadata": {},
   "source": [
    "### Release Dates"
   ]
  },
  {
   "cell_type": "code",
   "execution_count": 11,
   "metadata": {},
   "outputs": [],
   "source": [
    "### Release Dates"
   ]
  }
 ],
 "metadata": {
  "kernelspec": {
   "display_name": "ada",
   "language": "python",
   "name": "python3"
  },
  "language_info": {
   "codemirror_mode": {
    "name": "ipython",
    "version": 3
   },
   "file_extension": ".py",
   "mimetype": "text/x-python",
   "name": "python",
   "nbconvert_exporter": "python",
   "pygments_lexer": "ipython3",
   "version": "3.9.18"
  }
 },
 "nbformat": 4,
 "nbformat_minor": 2
}
