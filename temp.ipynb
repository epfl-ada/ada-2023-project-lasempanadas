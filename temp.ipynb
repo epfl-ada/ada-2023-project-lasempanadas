{
 "cells": [
  {
   "cell_type": "code",
   "execution_count": 1,
   "metadata": {},
   "outputs": [],
   "source": [
    "import pandas as pd\n",
    "%matplotlib inline\n",
    "import matplotlib.pyplot as plt\n",
    "import seaborn as sns\n",
    "import ast\n",
    "import numpy as np"
   ]
  },
  {
   "cell_type": "markdown",
   "metadata": {},
   "source": [
    "# Loading datasets "
   ]
  },
  {
   "cell_type": "code",
   "execution_count": 2,
   "metadata": {},
   "outputs": [
    {
     "name": "stderr",
     "output_type": "stream",
     "text": [
      "/tmp/ipykernel_3938/1405530613.py:37: DtypeWarning: Columns (4) have mixed types. Specify dtype option on import or set low_memory=False.\n",
      "  imdb_movies = pd.read_csv(data_path+'title_basics.tsv', sep='\\t')\n"
     ]
    }
   ],
   "source": [
    "cmu_movie_cols = ['wikiID',\n",
    "                  'freebase_movID',\n",
    "                  'movie_name',\n",
    "                  'release_date',\n",
    "                  'boxoffice',\n",
    "                  'runtime',\n",
    "                  'language',\n",
    "                  'country',\n",
    "                  'genre']\n",
    "\n",
    "cmu_character_cols = ['wikiID',\n",
    "                      'freebase_movID',\n",
    "                      'release_date',\n",
    "                      'character_name',\n",
    "                      'actor_birth',\n",
    "                      'actor_gender',\n",
    "                      'actor_height',\n",
    "                      'actor_ethnicity',\n",
    "                      'actor_name',\n",
    "                      'actor_age_at_release',\n",
    "                      'freebase_char_actor_map',\n",
    "                      'freebase_charID',\n",
    "                      'freebase_actorID']\n",
    "\n",
    "acl_persona_cols = ['entity_id',\n",
    "                    'wikiID',\n",
    "                    'movie_name',\n",
    "                    'entity_name',\n",
    "                    'full_entity_name',\n",
    "                    'entity_num_event',\n",
    "                    'persona',\n",
    "                    'final_posterior']\n",
    "\n",
    "data_path = './data/'\n",
    "acl_persona_path = data_path+'ACL_personas_dump/personas/'\n",
    "\n",
    "imdb_movies = pd.read_csv(data_path+'title_basics.tsv', sep='\\t')\n",
    "imdb_ratings= pd.read_csv(data_path+'title_ratings.tsv', sep='\\t')\n",
    "cmu_movies = pd.read_csv(data_path+'movie.metadata.tsv', sep='\\t', names=cmu_movie_cols)\n",
    "cmu_character = pd.read_table(data_path+'character.metadata.tsv', names=cmu_character_cols)\n",
    "acl_persona = pd.read_table(acl_persona_path+'25.100.lda.log.txt', header=None, names=acl_persona_cols)"
   ]
  },
  {
   "cell_type": "code",
   "execution_count": 3,
   "metadata": {},
   "outputs": [],
   "source": [
    "#merge with their ratings\n",
    "imdb_movies = imdb_movies[['tconst','primaryTitle','startYear']].merge(imdb_ratings,how='inner',on='tconst')\n",
    "\n",
    "#lower(title)\n",
    "imdb_movies = imdb_movies[imdb_movies['primaryTitle'].apply(lambda x : type(x))==str]\n",
    "imdb_movies['primaryTitle'] = imdb_movies['primaryTitle'].apply(lambda x : x.lower())\n",
    "\n",
    "imdb_movies = imdb_movies.sort_values(by=['primaryTitle','numVotes'],ascending=[True,False])\n",
    "\n",
    "imdb_movies = imdb_movies.drop_duplicates(subset=['primaryTitle','startYear'])"
   ]
  },
  {
   "cell_type": "code",
   "execution_count": 4,
   "metadata": {},
   "outputs": [],
   "source": [
    "cmu_movies['movie_name'] = cmu_movies['movie_name'].apply(lambda x : x.lower())"
   ]
  },
  {
   "cell_type": "code",
   "execution_count": 5,
   "metadata": {},
   "outputs": [],
   "source": [
    "cmu_imdb_movies = cmu_movies.merge(imdb_movies,left_on='movie_name',right_on='primaryTitle')\n",
    "cmu_imdb_movies = cmu_imdb_movies[~cmu_imdb_movies.duplicated(subset=['wikiID'],keep=False)]"
   ]
  },
  {
   "cell_type": "code",
   "execution_count": 6,
   "metadata": {},
   "outputs": [],
   "source": [
    "# As IMDB has no missing values for the movie's year of release, for missing values in CMU we take the one from IMDB but keep information of months and days when available\n",
    "cmu_imdb_movies.loc[cmu_imdb_movies['release_date'].isna(), 'release_date']=cmu_imdb_movies.loc[cmu_imdb_movies['release_date'].isna(), 'startYear']"
   ]
  },
  {
   "cell_type": "code",
   "execution_count": 7,
   "metadata": {},
   "outputs": [],
   "source": [
    "cmu_movies = cmu_movies.drop('release_date',axis=1).merge(cmu_imdb_movies[['wikiID','averageRating','numVotes','release_date']],on='wikiID',how='inner')"
   ]
  },
  {
   "cell_type": "markdown",
   "metadata": {},
   "source": [
    "## Let's put data in a more convenient format"
   ]
  },
  {
   "cell_type": "markdown",
   "metadata": {},
   "source": [
    "### Release Dates"
   ]
  },
  {
   "cell_type": "code",
   "execution_count": 8,
   "metadata": {},
   "outputs": [],
   "source": [
    "cmu_movies['release_date'] = cmu_movies['release_date'].apply(pd.to_datetime)"
   ]
  },
  {
   "cell_type": "markdown",
   "metadata": {},
   "source": [
    "We can see when only the year was present in the original dataset, the formated date added the first day of the year to make it a valid format. This is not an issue since we will only use the years for our analysis.\n",
    "We will now drop the original date column, only keep years and rename the new one to release_year.   TO BE CHECKEEEEEEEEEEEEEEEEEEEEEEEEED"
   ]
  },
  {
   "cell_type": "code",
   "execution_count": 9,
   "metadata": {},
   "outputs": [
    {
     "name": "stdout",
     "output_type": "stream",
     "text": [
      "The percentage of NaT values is:  0.0 %\n"
     ]
    }
   ],
   "source": [
    "#Check if too many NaT values appears (in that case, we will have to either drop the rows or try to fix the date manually)\n",
    "print('The percentage of NaT values is: ', cmu_movies['release_date'].isna().mean()*100, '%')"
   ]
  },
  {
   "cell_type": "markdown",
   "metadata": {},
   "source": [
    "We will accept this amount of NaT (we still have close to 70k movies with a release year).  TO BE CHECKEEEEEEEEEEEEEEEEEEEEEEEEED\n",
    "\n",
    "We still keep the movies NaT in case other variables are still useful."
   ]
  },
  {
   "cell_type": "code",
   "execution_count": 10,
   "metadata": {},
   "outputs": [
    {
     "data": {
      "text/plain": [
       "count                            37529\n",
       "mean     1979-07-03 14:27:05.558901056\n",
       "min                1878-01-01 00:00:00\n",
       "25%                1958-01-01 00:00:00\n",
       "50%                1987-01-01 00:00:00\n",
       "75%                2004-04-01 00:00:00\n",
       "max                2023-01-01 00:00:00\n",
       "Name: release_date, dtype: object"
      ]
     },
     "execution_count": 10,
     "metadata": {},
     "output_type": "execute_result"
    }
   ],
   "source": [
    "#Checking if years are consistent (not a future or too old year)\n",
    "cmu_movies['release_date'].describe()"
   ]
  },
  {
   "cell_type": "markdown",
   "metadata": {},
   "source": [
    "The min (1888) and max (2016) values are reasonable. we may drop some of the years based on the number of movies that specific year."
   ]
  },
  {
   "cell_type": "code",
   "execution_count": 11,
   "metadata": {},
   "outputs": [
    {
     "data": {
      "image/png": "[encoded data removed]",
      "text/plain": [
       "<Figure size 800x400 with 1 Axes>"
      ]
     },
     "metadata": {},
     "output_type": "display_data"
    }
   ],
   "source": [
    "# Plotting the bar plot\n",
    "grouped_year = cmu_movies.groupby(cmu_movies.release_date.dt.year).agg(number_films=('movie_name','count')).reset_index()\n",
    "\n",
    "plt.figure(figsize=(8, 4))\n",
    "plt.bar(grouped_year['release_date'], grouped_year['number_films'], color='skyblue', edgecolor='black')\n",
    "plt.title('Number of Films per Year')\n",
    "plt.xlabel('Year')\n",
    "plt.ylabel('Number of Films')\n",
    "plt.grid(axis='y', linestyle='--', alpha=0.7)\n",
    "plt.show()"
   ]
  },
  {
   "cell_type": "markdown",
   "metadata": {},
   "source": [
    "It seems the number of movies per year increases with years. Let's see a bit more in details how many years have less than 100, 500, 1000 movies."
   ]
  },
  {
   "cell_type": "code",
   "execution_count": 12,
   "metadata": {},
   "outputs": [
    {
     "name": "stdout",
     "output_type": "stream",
     "text": [
      "Number of years with less than 100 films: 45\n",
      "Number of years with less than 500 films: 120\n",
      "Number of years with less than 1000 films: 130\n",
      "The year with the max number of films is: 2007 with 1284 films\n"
     ]
    }
   ],
   "source": [
    "# Print the years with less than 100, 500, and 1000 films\n",
    "years_less_than_100 = grouped_year[grouped_year['number_films'] < 100]['release_date']\n",
    "years_less_than_500 = grouped_year[grouped_year['number_films'] < 500]['release_date']\n",
    "years_less_than_1000 = grouped_year[grouped_year['number_films'] < 1000]['release_date']\n",
    "\n",
    "print(f'Number of years with less than 100 films: {len(years_less_than_100)}')\n",
    "print(f'Number of years with less than 500 films: {len(years_less_than_500)}')\n",
    "print(f'Number of years with less than 1000 films: {len(years_less_than_1000)}')\n",
    "\n",
    "# Print the number of films for year 2010\n",
    "max_films_year = grouped_year.loc[grouped_year['number_films'].idxmax(), 'release_date']\n",
    "max_films_count = grouped_year['number_films'].max()\n",
    "print(f'The year with the max number of films is: {max_films_year:.0f} with {max_films_count} films')"
   ]
  },
  {
   "cell_type": "markdown",
   "metadata": {},
   "source": [
    "There are not a lot of films with less than 100 movies per year. We will remove these years from the dataset without losing too much information.  TO BE CHECKEEEEEEEEEEEEEEEEEEEEEEEEED"
   ]
  },
  {
   "cell_type": "code",
   "execution_count": 13,
   "metadata": {},
   "outputs": [
    {
     "name": "stdout",
     "output_type": "stream",
     "text": [
      "The minimum number of film in a year is 102 in year 1919\n"
     ]
    }
   ],
   "source": [
    "#In the original CMU dataset remove the rows with release year with less than 100 films\n",
    "\n",
    "years_to_remove = grouped_year[grouped_year['number_films'] < 100]['release_date'].tolist()\n",
    "cmu_movies = cmu_movies[~cmu_movies.release_date.dt.year.isin(years_to_remove)]\n",
    "\n",
    "\n",
    "#test if the rows have been removed\n",
    "print(f'The minimum number of film in a year is {cmu_movies.release_date.dt.year.value_counts().min()} in year {cmu_movies.release_date.dt.year.value_counts().idxmin()}')\n"
   ]
  },
  {
   "cell_type": "markdown",
   "metadata": {},
   "source": [
    "### Dictionnaries"
   ]
  },
  {
   "cell_type": "markdown",
   "metadata": {},
   "source": [
    "We can notice 3 columns contains dictionnaries: langage, country and genre. We will now extract the information from these columns and create new columns for each of the values."
   ]
  },
  {
   "cell_type": "code",
   "execution_count": 14,
   "metadata": {},
   "outputs": [
    {
     "name": "stdout",
     "output_type": "stream",
     "text": [
      "The max number of values in a single list for language is 11\n",
      "The max number of values in a single list for country is 14\n",
      "The max number of values in a single list for genre is 17\n"
     ]
    }
   ],
   "source": [
    "#Split the dictionnary values into list:\n",
    "\n",
    "cmu_movies['language'] = cmu_movies['language'].apply(lambda x: list(ast.literal_eval(x).values())) #we use ast.literal_eval to convert the string into a dictionnary since if we directly use x.values() it return empty list\n",
    "cmu_movies['country'] = cmu_movies['country'].apply(lambda x: list(ast.literal_eval(x).values()))\n",
    "cmu_movies['genre'] = cmu_movies['genre'].apply(lambda x: list(ast.literal_eval(x).values()))\n",
    "\n",
    "#Check the max number of values in each list (i.e. the max number of languages, countries and genres for a movie)\n",
    "print(f'The max number of values in a single list for language is {cmu_movies[\"language\"].apply(len).max()}')\n",
    "print(f'The max number of values in a single list for country is {cmu_movies[\"country\"].apply(len).max()}')\n",
    "print(f'The max number of values in a single list for genre is {cmu_movies[\"genre\"].apply(len).max()}')"
   ]
  },
  {
   "cell_type": "markdown",
   "metadata": {},
   "source": [
    "Clearly we can't split each value in a new column. But we don't need to keep the keys from the dictionnaries so we will keep these lists of values "
   ]
  },
  {
   "cell_type": "markdown",
   "metadata": {},
   "source": [
    "# Cleaning the Character dataset"
   ]
  },
  {
   "cell_type": "code",
   "execution_count": 15,
   "metadata": {},
   "outputs": [],
   "source": [
    "cmu_character.dropna(subset=['wikiID','freebase_actorID'], inplace=True)\n",
    "\n",
    "actor_movie = cmu_character[['wikiID','freebase_actorID']].merge(cmu_movies[['wikiID','averageRating','numVotes','release_date']],on='wikiID',how='inner')\n",
    "actor_movie = actor_movie.drop_duplicates(subset=['wikiID','freebase_actorID']) # if same film same actor\n",
    "actor_movie = actor_movie.dropna(subset='averageRating')\n",
    "actor_movie = actor_movie.sort_values(by=['freebase_actorID','release_date'])\n",
    "actor_movie.reset_index(drop=True,inplace=True)\n",
    "actor_movie.reset_index(inplace=True)"
   ]
  },
  {
   "cell_type": "code",
   "execution_count": 16,
   "metadata": {},
   "outputs": [],
   "source": [
    "def fame_score(row,data):\n",
    "    n = row['index']\n",
    "    rowm1 = data.iloc[n-1]\n",
    "    rowm2 = data.iloc[n-2]\n",
    "\n",
    "    actor = row['freebase_actorID']\n",
    "    year = row['release_date'].year\n",
    "    rate = row['averageRating']\n",
    "    votes = row['numVotes']\n",
    "\n",
    "    fame_score = rate * np.log(votes) / (year-1700)\n",
    "\n",
    "    if rowm2['freebase_actorID'] == actor:\n",
    "        year = rowm2['release_date'].year\n",
    "        rate = rowm2['averageRating'] \n",
    "        votes = rowm2['numVotes']\n",
    "        fame_score += rate * np.log(votes) / (year-1700)\n",
    "\n",
    "    if rowm1['freebase_actorID'] == actor:\n",
    "        year = rowm1['release_date'].year\n",
    "        rate = rowm1['averageRating']\n",
    "        votes = rowm1['numVotes']\n",
    "        fame_score += rate * np.log(votes) / (year-1700)\n",
    "\n",
    "    return fame_score"
   ]
  },
  {
   "cell_type": "code",
   "execution_count": 17,
   "metadata": {},
   "outputs": [],
   "source": [
    "# Apply the function to each row\n",
    "actor_movie['fameScore'] = actor_movie.apply(lambda x: fame_score(x,actor_movie), axis=1)\n",
    "actor_movie.drop('index',inplace=True,axis=1)"
   ]
  },
  {
   "cell_type": "code",
   "execution_count": 18,
   "metadata": {},
   "outputs": [],
   "source": [
    "cmu_character = cmu_character.drop_duplicates(subset=['wikiID','freebase_actorID']).drop(columns='release_date', axis=1)\n",
    "cmu_character = cmu_character.merge(actor_movie[['freebase_actorID','wikiID', 'fameScore','release_date']], on=['freebase_actorID','wikiID'])"
   ]
  },
  {
   "cell_type": "code",
   "execution_count": 19,
   "metadata": {},
   "outputs": [],
   "source": [
    "# Include character persona in cmu_character\n",
    "acl_persona = acl_persona[acl_persona['entity_id'].apply(lambda x : not x.startswith('e'))].rename(columns={'entity_id':'freebase_char_actor_map'})\n",
    "cmu_character = cmu_character.merge(acl_persona[['freebase_char_actor_map','persona']], on='freebase_char_actor_map', how='left')"
   ]
  },
  {
   "cell_type": "markdown",
   "metadata": {},
   "source": [
    "# Persona Analysis\n",
    "The goal in this part is to obtain the relation between actor characteristics and the kind of chararcters they play (persona) when they have a big fame score"
   ]
  },
  {
   "cell_type": "markdown",
   "metadata": {},
   "source": [
    "- First, we only select in the table the row with full usefull data for this analysis\n",
    "- Then we only want the actor with the best fame score. We decide to take the first half all actors"
   ]
  },
  {
   "cell_type": "code",
   "execution_count": 80,
   "metadata": {},
   "outputs": [
    {
     "data": {
      "image/png": "[encoded data removed]",
      "text/plain": [
       "<Figure size 640x480 with 1 Axes>"
      ]
     },
     "metadata": {},
     "output_type": "display_data"
    },
    {
     "data": {
      "text/html": [
       "<div>\n",
       "<style scoped>\n",
       "    .dataframe tbody tr th:only-of-type {\n",
       "        vertical-align: middle;\n",
       "    }\n",
       "\n",
       "    .dataframe tbody tr th {\n",
       "        vertical-align: top;\n",
       "    }\n",
       "\n",
       "    .dataframe thead th {\n",
       "        text-align: right;\n",
       "    }\n",
       "</style>\n",
       "<table border=\"1\" class=\"dataframe\">\n",
       "  <thead>\n",
       "    <tr style=\"text-align: right;\">\n",
       "      <th></th>\n",
       "      <th>actor_gender</th>\n",
       "      <th>actor_height</th>\n",
       "      <th>actor_ethnicity</th>\n",
       "      <th>actor_age_at_release</th>\n",
       "      <th>persona</th>\n",
       "      <th>fameScore</th>\n",
       "    </tr>\n",
       "  </thead>\n",
       "  <tbody>\n",
       "    <tr>\n",
       "      <th>1</th>\n",
       "      <td>F</td>\n",
       "      <td>1.780</td>\n",
       "      <td>/m/044038p</td>\n",
       "      <td>27.0</td>\n",
       "      <td>35</td>\n",
       "      <td>0.521356</td>\n",
       "    </tr>\n",
       "    <tr>\n",
       "      <th>58</th>\n",
       "      <td>M</td>\n",
       "      <td>1.720</td>\n",
       "      <td>/m/0dryh9k</td>\n",
       "      <td>28.0</td>\n",
       "      <td>36</td>\n",
       "      <td>0.508337</td>\n",
       "    </tr>\n",
       "    <tr>\n",
       "      <th>114</th>\n",
       "      <td>M</td>\n",
       "      <td>1.750</td>\n",
       "      <td>/m/09kr66</td>\n",
       "      <td>35.0</td>\n",
       "      <td>36</td>\n",
       "      <td>0.539630</td>\n",
       "    </tr>\n",
       "    <tr>\n",
       "      <th>150</th>\n",
       "      <td>M</td>\n",
       "      <td>1.700</td>\n",
       "      <td>/m/02w7gg</td>\n",
       "      <td>49.0</td>\n",
       "      <td>35</td>\n",
       "      <td>0.506381</td>\n",
       "    </tr>\n",
       "    <tr>\n",
       "      <th>201</th>\n",
       "      <td>M</td>\n",
       "      <td>1.700</td>\n",
       "      <td>/m/0xnvg</td>\n",
       "      <td>39.0</td>\n",
       "      <td>40</td>\n",
       "      <td>0.697887</td>\n",
       "    </tr>\n",
       "    <tr>\n",
       "      <th>...</th>\n",
       "      <td>...</td>\n",
       "      <td>...</td>\n",
       "      <td>...</td>\n",
       "      <td>...</td>\n",
       "      <td>...</td>\n",
       "      <td>...</td>\n",
       "    </tr>\n",
       "    <tr>\n",
       "      <th>199250</th>\n",
       "      <td>F</td>\n",
       "      <td>1.710</td>\n",
       "      <td>/m/065b6q</td>\n",
       "      <td>31.0</td>\n",
       "      <td>9</td>\n",
       "      <td>0.650857</td>\n",
       "    </tr>\n",
       "    <tr>\n",
       "      <th>199295</th>\n",
       "      <td>M</td>\n",
       "      <td>1.797</td>\n",
       "      <td>/m/02w7gg</td>\n",
       "      <td>37.0</td>\n",
       "      <td>11</td>\n",
       "      <td>0.532804</td>\n",
       "    </tr>\n",
       "    <tr>\n",
       "      <th>199470</th>\n",
       "      <td>F</td>\n",
       "      <td>1.750</td>\n",
       "      <td>/m/065b6q</td>\n",
       "      <td>49.0</td>\n",
       "      <td>49</td>\n",
       "      <td>0.625193</td>\n",
       "    </tr>\n",
       "    <tr>\n",
       "      <th>199472</th>\n",
       "      <td>F</td>\n",
       "      <td>1.600</td>\n",
       "      <td>/m/03ts0c</td>\n",
       "      <td>36.0</td>\n",
       "      <td>13</td>\n",
       "      <td>0.772679</td>\n",
       "    </tr>\n",
       "    <tr>\n",
       "      <th>199473</th>\n",
       "      <td>M</td>\n",
       "      <td>1.850</td>\n",
       "      <td>/m/02ctzb</td>\n",
       "      <td>37.0</td>\n",
       "      <td>40</td>\n",
       "      <td>0.841792</td>\n",
       "    </tr>\n",
       "  </tbody>\n",
       "</table>\n",
       "<p>2989 rows × 6 columns</p>\n",
       "</div>"
      ],
      "text/plain": [
       "       actor_gender  actor_height actor_ethnicity  actor_age_at_release  \\\n",
       "1                 F         1.780      /m/044038p                  27.0   \n",
       "58                M         1.720      /m/0dryh9k                  28.0   \n",
       "114               M         1.750       /m/09kr66                  35.0   \n",
       "150               M         1.700       /m/02w7gg                  49.0   \n",
       "201               M         1.700        /m/0xnvg                  39.0   \n",
       "...             ...           ...             ...                   ...   \n",
       "199250            F         1.710       /m/065b6q                  31.0   \n",
       "199295            M         1.797       /m/02w7gg                  37.0   \n",
       "199470            F         1.750       /m/065b6q                  49.0   \n",
       "199472            F         1.600       /m/03ts0c                  36.0   \n",
       "199473            M         1.850       /m/02ctzb                  37.0   \n",
       "\n",
       "       persona  fameScore  \n",
       "1           35   0.521356  \n",
       "58          36   0.508337  \n",
       "114         36   0.539630  \n",
       "150         35   0.506381  \n",
       "201         40   0.697887  \n",
       "...        ...        ...  \n",
       "199250       9   0.650857  \n",
       "199295      11   0.532804  \n",
       "199470      49   0.625193  \n",
       "199472      13   0.772679  \n",
       "199473      40   0.841792  \n",
       "\n",
       "[2989 rows x 6 columns]"
      ]
     },
     "execution_count": 80,
     "metadata": {},
     "output_type": "execute_result"
    }
   ],
   "source": [
    "cmu_chara_persona = cmu_character[['actor_gender','actor_height','actor_ethnicity','actor_age_at_release','persona','fameScore']].copy()\n",
    "cmu_chara_persona = cmu_chara_persona.dropna()\n",
    "cmu_chara_persona['persona'] = cmu_chara_persona['persona'].apply(lambda x : str(int(x)))\n",
    "\n",
    "plt.hist(cmu_chara_persona['fameScore'],density=True)\n",
    "plt.title('Fame score density')\n",
    "plt.xlabel('fame_score'), plt.ylabel('density')\n",
    "plt.show()\n",
    "\n",
    "cmu_chara_persona = cmu_chara_persona.query('fameScore>0.5')\n",
    "cmu_chara_persona"
   ]
  },
  {
   "cell_type": "markdown",
   "metadata": {},
   "source": [
    "- We observe that some personas and ethnicity are not assigned to enough actor. Then we remove them from this analysis."
   ]
  },
  {
   "cell_type": "code",
   "execution_count": 81,
   "metadata": {},
   "outputs": [
    {
     "data": {
      "image/png": "[encoded data removed]",
      "text/plain": [
       "<Figure size 1500x600 with 4 Axes>"
      ]
     },
     "metadata": {},
     "output_type": "display_data"
    }
   ],
   "source": [
    "persona_count = cmu_chara_persona[['persona','actor_ethnicity']].groupby('persona',as_index=False).count().rename(columns={'actor_ethnicity':'count'})\n",
    "persona_count.sort_values('count',inplace=True,ascending=False)\n",
    "ethnicity_count = cmu_chara_persona[['persona','actor_ethnicity']].groupby('actor_ethnicity',as_index=False).count().rename(columns={'persona':'count'})\n",
    "ethnicity_count.sort_values('count',inplace=True,ascending=False)\n",
    "\n",
    "fig, axes = plt.subplots(nrows=2, ncols=2, figsize=(15, 6))\n",
    "fig.suptitle('Main persona and ethnicity selection')\n",
    "\n",
    "axes[0,0].bar(persona_count['persona'],persona_count['count'])\n",
    "axes[0,1].bar(ethnicity_count['actor_ethnicity'],ethnicity_count['count'])\n",
    "\n",
    "for ax in axes[0,:]:\n",
    "    ax.set_xticks([])\n",
    "\n",
    "persona_count = persona_count.query('count >= 50')\n",
    "ethnicity_count = ethnicity_count.query('count >= 50')\n",
    "\n",
    "axes[1,0].bar(persona_count['persona'],persona_count['count'])\n",
    "axes[1,1].bar(ethnicity_count['actor_ethnicity'],ethnicity_count['count'])\n",
    "\n",
    "for ax in axes[1,:]:\n",
    "    ax.tick_params(axis='x', rotation=45)\n",
    "for ax in axes[:,0]:\n",
    "    ax.set_xlabel('persona')\n",
    "    ax.set_ylabel('number of entity')\n",
    "for ax in axes[:,1]:\n",
    "    ax.set_xlabel('ethnicity') \n",
    "\n",
    "cmu_chara_persona = cmu_chara_persona.merge(persona_count['persona'],on='persona',how='right')\n",
    "cmu_chara_persona = cmu_chara_persona.merge(ethnicity_count['actor_ethnicity'],on='actor_ethnicity',how='right')"
   ]
  },
  {
   "cell_type": "markdown",
   "metadata": {},
   "source": [
    "- For the further analysis, the '/' in the actor_ethnicity id will cause problem to the algorithm. We decide to change them to a code_number here\n",
    "- get_dummies is use to separate the categorical variables as 'persona' and the 'actor_ethnicity'"
   ]
  },
  {
   "cell_type": "code",
   "execution_count": 82,
   "metadata": {},
   "outputs": [],
   "source": [
    "ethnicity_code_nbr = ethnicity_count['actor_ethnicity'].reset_index(drop=True).reset_index().rename(columns={'index':'ethni_nbr'})\n",
    "\n",
    "cmu_chara_persona = cmu_chara_persona.merge(ethnicity_code_nbr,on='actor_ethnicity')\n",
    "cmu_chara_persona_analysis = pd.get_dummies(cmu_chara_persona,columns=['persona','actor_gender','ethni_nbr'])"
   ]
  },
  {
   "cell_type": "markdown",
   "metadata": {},
   "source": [
    "- Finally, a logistic regression is performed for each persona. Here is the example for persona_5. We first perform the regression with all the caracteristics and then remove the the ones without influence to play this persona."
   ]
  },
  {
   "cell_type": "code",
   "execution_count": 85,
   "metadata": {},
   "outputs": [
    {
     "name": "stdout",
     "output_type": "stream",
     "text": [
      "Optimization terminated successfully.\n",
      "         Current function value: 0.146567\n",
      "         Iterations 9\n",
      "Optimization terminated successfully.\n",
      "         Current function value: 0.151302\n",
      "         Iterations 9\n",
      "                           Logit Regression Results                           \n",
      "==============================================================================\n",
      "Dep. Variable:              persona_5   No. Observations:                 1553\n",
      "Model:                          Logit   Df Residuals:                     1550\n",
      "Method:                           MLE   Df Model:                            2\n",
      "Date:                Fri, 17 Nov 2023   Pseudo R-squ.:                  0.1294\n",
      "Time:                        09:50:46   Log-Likelihood:                -234.97\n",
      "converged:                       True   LL-Null:                       -269.90\n",
      "Covariance Type:            nonrobust   LLR p-value:                 6.764e-16\n",
      "=============================================================================================\n",
      "                                coef    std err          z      P>|z|      [0.025      0.975]\n",
      "---------------------------------------------------------------------------------------------\n",
      "Intercept                    -7.2494      0.648    -11.190      0.000      -8.519      -5.980\n",
      "C(actor_gender_M)[T.True]     1.3164      0.476      2.766      0.006       0.384       2.249\n",
      "actor_age_at_release          0.0665      0.010      6.872      0.000       0.048       0.085\n",
      "=============================================================================================\n"
     ]
    }
   ],
   "source": [
    "import statsmodels.formula.api as smf\n",
    "\n",
    "persona_count.sort_values('persona')\n",
    "\n",
    "p = 5 # logistic model done for persona_5\n",
    "persona = 'persona_'+str(p)\n",
    "cmu_chara_persona_analysis[persona] = cmu_chara_persona_analysis[persona].astype(int)\n",
    "\n",
    "mod = smf.logit(formula=persona+' ~  C(actor_gender_M) + actor_age_at_release + actor_height +' + \n",
    "            'C(ethni_nbr_0) + C(ethni_nbr_1) + C(ethni_nbr_2) + C(ethni_nbr_3) +'+\n",
    "            'C(ethni_nbr_4) + C(ethni_nbr_5) + C(ethni_nbr_6) + C(ethni_nbr_7) +'+ \n",
    "            'C(ethni_nbr_8) + C(ethni_nbr_9) + C(ethni_nbr_10) + C(ethni_nbr_11) +'+ \n",
    "            'C(ethni_nbr_12) + C(ethni_nbr_13)', \n",
    "            data=cmu_chara_persona_analysis)\n",
    "\n",
    "res = mod.fit()\n",
    "\n",
    "\n",
    "high_p_values = res.pvalues[res.pvalues > 0.05].index #we only keep relevant features\n",
    "high_p_values = high_p_values.drop('Intercept', errors='ignore')\n",
    "\n",
    "new_formula = persona + ' ~ ' + ' + '.join([col for col in mod.exog_names if col not in high_p_values][1:]) #new formula for regression\n",
    "new_formula = new_formula.replace('[T.True]', '')\n",
    "\n",
    "new_mod = smf.logit(formula=new_formula, data=cmu_chara_persona_analysis)\n",
    "new_res = new_mod.fit()\n",
    "\n",
    "print(new_res.summary())\n",
    "# res = [res, mod.fit()]\n",
    "\n",
    "    "
   ]
  },
  {
   "cell_type": "markdown",
   "metadata": {},
   "source": [
    "The $R²$ value is fairly high $0.13$ and the remain characteristics are all statically significant in this logistic model."
   ]
  },
  {
   "cell_type": "markdown",
   "metadata": {},
   "source": []
  }
 ],
 "metadata": {
  "kernelspec": {
   "display_name": "ada",
   "language": "python",
   "name": "python3"
  },
  "language_info": {
   "codemirror_mode": {
    "name": "ipython",
    "version": 3
   },
   "file_extension": ".py",
   "mimetype": "text/x-python",
   "name": "python",
   "nbconvert_exporter": "python",
   "pygments_lexer": "ipython3",
   "version": "3.9.18"
  }
 },
 "nbformat": 4,
 "nbformat_minor": 2
}
